{
 "cells": [
  {
   "cell_type": "markdown",
   "metadata": {},
   "source": [
    "# Abstract\n",
    "This research study is the final project for the INFO6105 \"Data Science Engineering Methods ad Tools\" class under the guidance of Professor Nicholas Brown. We have taken a dataset of a bike sharing app and implented models for predicting the count of shared bikes which can vary with with factors like time of the day, season, temperature, humidity, wind speed. The Aim of the study was to create a hyperparameter database of the different models that were developed by running H2O AutoML function. This function was ran with a runtime of 1000 and a leaderboard was generated whichw as arranged in the order of their efficiency in predicting the count. The metrics to understand the efficinecy used were MSE, RMSE, Residual Deviance and RMSLE"
   ]
  },
  {
   "cell_type": "code",
   "execution_count": 2,
   "metadata": {},
   "outputs": [],
   "source": [
    "# import h2o package and specific estimator \n",
    "import h2o\n",
    "from h2o.automl import H2OAutoML\n",
    "import random, os, sys\n",
    "from datetime import datetime\n",
    "import pandas as pd\n",
    "import logging\n",
    "import csv\n",
    "import optparse\n",
    "import time\n",
    "import json\n",
    "from distutils.util import strtobool\n",
    "import psutil\n",
    "\n",
    "import warnings\n",
    "warnings.filterwarnings('ignore')"
   ]
  },
  {
   "cell_type": "code",
   "execution_count": 3,
   "metadata": {},
   "outputs": [
    {
     "name": "stdout",
     "output_type": "stream",
     "text": [
      "Checking whether there is an H2O instance running at http://localhost:54321 . connected.\n"
     ]
    },
    {
     "data": {
      "text/html": [
       "<div style=\"overflow:auto\"><table style=\"width:50%\"><tr><td>H2O cluster uptime:</td>\n",
       "<td>14 hours 1 min</td></tr>\n",
       "<tr><td>H2O cluster timezone:</td>\n",
       "<td>America/New_York</td></tr>\n",
       "<tr><td>H2O data parsing timezone:</td>\n",
       "<td>UTC</td></tr>\n",
       "<tr><td>H2O cluster version:</td>\n",
       "<td>3.24.0.1</td></tr>\n",
       "<tr><td>H2O cluster version age:</td>\n",
       "<td>25 days </td></tr>\n",
       "<tr><td>H2O cluster name:</td>\n",
       "<td>H2O_from_python_newzysharma_g5g8o7</td></tr>\n",
       "<tr><td>H2O cluster total nodes:</td>\n",
       "<td>1</td></tr>\n",
       "<tr><td>H2O cluster free memory:</td>\n",
       "<td>1.968 Gb</td></tr>\n",
       "<tr><td>H2O cluster total cores:</td>\n",
       "<td>4</td></tr>\n",
       "<tr><td>H2O cluster allowed cores:</td>\n",
       "<td>4</td></tr>\n",
       "<tr><td>H2O cluster status:</td>\n",
       "<td>locked, healthy</td></tr>\n",
       "<tr><td>H2O connection url:</td>\n",
       "<td>http://localhost:54321</td></tr>\n",
       "<tr><td>H2O connection proxy:</td>\n",
       "<td>None</td></tr>\n",
       "<tr><td>H2O internal security:</td>\n",
       "<td>False</td></tr>\n",
       "<tr><td>H2O API Extensions:</td>\n",
       "<td>Amazon S3, XGBoost, Algos, AutoML, Core V3, Core V4</td></tr>\n",
       "<tr><td>Python version:</td>\n",
       "<td>3.7.1 final</td></tr></table></div>"
      ],
      "text/plain": [
       "--------------------------  ---------------------------------------------------\n",
       "H2O cluster uptime:         14 hours 1 min\n",
       "H2O cluster timezone:       America/New_York\n",
       "H2O data parsing timezone:  UTC\n",
       "H2O cluster version:        3.24.0.1\n",
       "H2O cluster version age:    25 days\n",
       "H2O cluster name:           H2O_from_python_newzysharma_g5g8o7\n",
       "H2O cluster total nodes:    1\n",
       "H2O cluster free memory:    1.968 Gb\n",
       "H2O cluster total cores:    4\n",
       "H2O cluster allowed cores:  4\n",
       "H2O cluster status:         locked, healthy\n",
       "H2O connection url:         http://localhost:54321\n",
       "H2O connection proxy:\n",
       "H2O internal security:      False\n",
       "H2O API Extensions:         Amazon S3, XGBoost, Algos, AutoML, Core V3, Core V4\n",
       "Python version:             3.7.1 final\n",
       "--------------------------  ---------------------------------------------------"
      ]
     },
     "metadata": {},
     "output_type": "display_data"
    }
   ],
   "source": [
    "h2o.init(strict_version_check=False) # start h2o"
   ]
  },
  {
   "cell_type": "code",
   "execution_count": 4,
   "metadata": {},
   "outputs": [
    {
     "name": "stdout",
     "output_type": "stream",
     "text": [
      "Parse progress: |█████████████████████████████████████████████████████████| 100%\n"
     ]
    }
   ],
   "source": [
    "#importing data to the server\n",
    "hp = h2o.import_file(path=\"hour.csv\")"
   ]
  },
  {
   "cell_type": "code",
   "execution_count": 5,
   "metadata": {},
   "outputs": [
    {
     "data": {
      "text/html": [
       "<table>\n",
       "<thead>\n",
       "<tr><th style=\"text-align: right;\">  instant</th><th>dteday             </th><th style=\"text-align: right;\">  season</th><th style=\"text-align: right;\">  yr</th><th style=\"text-align: right;\">  mnth</th><th style=\"text-align: right;\">  hr</th><th style=\"text-align: right;\">  holiday</th><th style=\"text-align: right;\">  weekday</th><th style=\"text-align: right;\">  workingday</th><th style=\"text-align: right;\">  weathersit</th><th style=\"text-align: right;\">  temp</th><th style=\"text-align: right;\">  atemp</th><th style=\"text-align: right;\">  hum</th><th style=\"text-align: right;\">  windspeed</th><th style=\"text-align: right;\">  casual</th><th style=\"text-align: right;\">  registered</th><th style=\"text-align: right;\">  cnt</th></tr>\n",
       "</thead>\n",
       "<tbody>\n",
       "<tr><td style=\"text-align: right;\">        1</td><td>2011-01-01 00:00:00</td><td style=\"text-align: right;\">       1</td><td style=\"text-align: right;\">   0</td><td style=\"text-align: right;\">     1</td><td style=\"text-align: right;\">   0</td><td style=\"text-align: right;\">        0</td><td style=\"text-align: right;\">        6</td><td style=\"text-align: right;\">           0</td><td style=\"text-align: right;\">           1</td><td style=\"text-align: right;\">  0.24</td><td style=\"text-align: right;\"> 0.2879</td><td style=\"text-align: right;\"> 0.81</td><td style=\"text-align: right;\">     0     </td><td style=\"text-align: right;\">       3</td><td style=\"text-align: right;\">          13</td><td style=\"text-align: right;\">   16</td></tr>\n",
       "<tr><td style=\"text-align: right;\">        2</td><td>2011-01-01 00:00:00</td><td style=\"text-align: right;\">       1</td><td style=\"text-align: right;\">   0</td><td style=\"text-align: right;\">     1</td><td style=\"text-align: right;\">   1</td><td style=\"text-align: right;\">        0</td><td style=\"text-align: right;\">        6</td><td style=\"text-align: right;\">           0</td><td style=\"text-align: right;\">           1</td><td style=\"text-align: right;\">  0.22</td><td style=\"text-align: right;\"> 0.2727</td><td style=\"text-align: right;\"> 0.8 </td><td style=\"text-align: right;\">     0     </td><td style=\"text-align: right;\">       8</td><td style=\"text-align: right;\">          32</td><td style=\"text-align: right;\">   40</td></tr>\n",
       "<tr><td style=\"text-align: right;\">        3</td><td>2011-01-01 00:00:00</td><td style=\"text-align: right;\">       1</td><td style=\"text-align: right;\">   0</td><td style=\"text-align: right;\">     1</td><td style=\"text-align: right;\">   2</td><td style=\"text-align: right;\">        0</td><td style=\"text-align: right;\">        6</td><td style=\"text-align: right;\">           0</td><td style=\"text-align: right;\">           1</td><td style=\"text-align: right;\">  0.22</td><td style=\"text-align: right;\"> 0.2727</td><td style=\"text-align: right;\"> 0.8 </td><td style=\"text-align: right;\">     0     </td><td style=\"text-align: right;\">       5</td><td style=\"text-align: right;\">          27</td><td style=\"text-align: right;\">   32</td></tr>\n",
       "<tr><td style=\"text-align: right;\">        4</td><td>2011-01-01 00:00:00</td><td style=\"text-align: right;\">       1</td><td style=\"text-align: right;\">   0</td><td style=\"text-align: right;\">     1</td><td style=\"text-align: right;\">   3</td><td style=\"text-align: right;\">        0</td><td style=\"text-align: right;\">        6</td><td style=\"text-align: right;\">           0</td><td style=\"text-align: right;\">           1</td><td style=\"text-align: right;\">  0.24</td><td style=\"text-align: right;\"> 0.2879</td><td style=\"text-align: right;\"> 0.75</td><td style=\"text-align: right;\">     0     </td><td style=\"text-align: right;\">       3</td><td style=\"text-align: right;\">          10</td><td style=\"text-align: right;\">   13</td></tr>\n",
       "<tr><td style=\"text-align: right;\">        5</td><td>2011-01-01 00:00:00</td><td style=\"text-align: right;\">       1</td><td style=\"text-align: right;\">   0</td><td style=\"text-align: right;\">     1</td><td style=\"text-align: right;\">   4</td><td style=\"text-align: right;\">        0</td><td style=\"text-align: right;\">        6</td><td style=\"text-align: right;\">           0</td><td style=\"text-align: right;\">           1</td><td style=\"text-align: right;\">  0.24</td><td style=\"text-align: right;\"> 0.2879</td><td style=\"text-align: right;\"> 0.75</td><td style=\"text-align: right;\">     0     </td><td style=\"text-align: right;\">       0</td><td style=\"text-align: right;\">           1</td><td style=\"text-align: right;\">    1</td></tr>\n",
       "<tr><td style=\"text-align: right;\">        6</td><td>2011-01-01 00:00:00</td><td style=\"text-align: right;\">       1</td><td style=\"text-align: right;\">   0</td><td style=\"text-align: right;\">     1</td><td style=\"text-align: right;\">   5</td><td style=\"text-align: right;\">        0</td><td style=\"text-align: right;\">        6</td><td style=\"text-align: right;\">           0</td><td style=\"text-align: right;\">           2</td><td style=\"text-align: right;\">  0.24</td><td style=\"text-align: right;\"> 0.2576</td><td style=\"text-align: right;\"> 0.75</td><td style=\"text-align: right;\">     0.0896</td><td style=\"text-align: right;\">       0</td><td style=\"text-align: right;\">           1</td><td style=\"text-align: right;\">    1</td></tr>\n",
       "<tr><td style=\"text-align: right;\">        7</td><td>2011-01-01 00:00:00</td><td style=\"text-align: right;\">       1</td><td style=\"text-align: right;\">   0</td><td style=\"text-align: right;\">     1</td><td style=\"text-align: right;\">   6</td><td style=\"text-align: right;\">        0</td><td style=\"text-align: right;\">        6</td><td style=\"text-align: right;\">           0</td><td style=\"text-align: right;\">           1</td><td style=\"text-align: right;\">  0.22</td><td style=\"text-align: right;\"> 0.2727</td><td style=\"text-align: right;\"> 0.8 </td><td style=\"text-align: right;\">     0     </td><td style=\"text-align: right;\">       2</td><td style=\"text-align: right;\">           0</td><td style=\"text-align: right;\">    2</td></tr>\n",
       "<tr><td style=\"text-align: right;\">        8</td><td>2011-01-01 00:00:00</td><td style=\"text-align: right;\">       1</td><td style=\"text-align: right;\">   0</td><td style=\"text-align: right;\">     1</td><td style=\"text-align: right;\">   7</td><td style=\"text-align: right;\">        0</td><td style=\"text-align: right;\">        6</td><td style=\"text-align: right;\">           0</td><td style=\"text-align: right;\">           1</td><td style=\"text-align: right;\">  0.2 </td><td style=\"text-align: right;\"> 0.2576</td><td style=\"text-align: right;\"> 0.86</td><td style=\"text-align: right;\">     0     </td><td style=\"text-align: right;\">       1</td><td style=\"text-align: right;\">           2</td><td style=\"text-align: right;\">    3</td></tr>\n",
       "<tr><td style=\"text-align: right;\">        9</td><td>2011-01-01 00:00:00</td><td style=\"text-align: right;\">       1</td><td style=\"text-align: right;\">   0</td><td style=\"text-align: right;\">     1</td><td style=\"text-align: right;\">   8</td><td style=\"text-align: right;\">        0</td><td style=\"text-align: right;\">        6</td><td style=\"text-align: right;\">           0</td><td style=\"text-align: right;\">           1</td><td style=\"text-align: right;\">  0.24</td><td style=\"text-align: right;\"> 0.2879</td><td style=\"text-align: right;\"> 0.75</td><td style=\"text-align: right;\">     0     </td><td style=\"text-align: right;\">       1</td><td style=\"text-align: right;\">           7</td><td style=\"text-align: right;\">    8</td></tr>\n",
       "<tr><td style=\"text-align: right;\">       10</td><td>2011-01-01 00:00:00</td><td style=\"text-align: right;\">       1</td><td style=\"text-align: right;\">   0</td><td style=\"text-align: right;\">     1</td><td style=\"text-align: right;\">   9</td><td style=\"text-align: right;\">        0</td><td style=\"text-align: right;\">        6</td><td style=\"text-align: right;\">           0</td><td style=\"text-align: right;\">           1</td><td style=\"text-align: right;\">  0.32</td><td style=\"text-align: right;\"> 0.3485</td><td style=\"text-align: right;\"> 0.76</td><td style=\"text-align: right;\">     0     </td><td style=\"text-align: right;\">       8</td><td style=\"text-align: right;\">           6</td><td style=\"text-align: right;\">   14</td></tr>\n",
       "</tbody>\n",
       "</table>"
      ]
     },
     "metadata": {},
     "output_type": "display_data"
    },
    {
     "data": {
      "text/plain": []
     },
     "execution_count": 5,
     "metadata": {},
     "output_type": "execute_result"
    }
   ],
   "source": [
    "#Displaying the head\n",
    "hp.head()"
   ]
  },
  {
   "cell_type": "code",
   "execution_count": 6,
   "metadata": {},
   "outputs": [
    {
     "name": "stdout",
     "output_type": "stream",
     "text": [
      "Rows:17379\n",
      "Cols:17\n",
      "\n",
      "\n"
     ]
    },
    {
     "data": {
      "text/html": [
       "<table>\n",
       "<thead>\n",
       "<tr><th>       </th><th>instant          </th><th>dteday             </th><th>season            </th><th>yr                </th><th>mnth              </th><th>hr                </th><th>holiday             </th><th>weekday          </th><th>workingday        </th><th>weathersit        </th><th>temp               </th><th>atemp              </th><th>hum                </th><th>windspeed         </th><th>casual           </th><th>registered        </th><th>cnt               </th></tr>\n",
       "</thead>\n",
       "<tbody>\n",
       "<tr><td>type   </td><td>int              </td><td>time               </td><td>int               </td><td>int               </td><td>int               </td><td>int               </td><td>int                 </td><td>int              </td><td>int               </td><td>int               </td><td>real               </td><td>real               </td><td>real               </td><td>real              </td><td>int              </td><td>int               </td><td>int               </td></tr>\n",
       "<tr><td>mins   </td><td>1.0              </td><td>1293840000000.0    </td><td>1.0               </td><td>0.0               </td><td>1.0               </td><td>0.0               </td><td>0.0                 </td><td>0.0              </td><td>0.0               </td><td>1.0               </td><td>0.02               </td><td>0.0                </td><td>0.0                </td><td>0.0               </td><td>0.0              </td><td>0.0               </td><td>1.0               </td></tr>\n",
       "<tr><td>mean   </td><td>8690.0           </td><td>1325477314552.0461 </td><td>2.501639910236492 </td><td>0.5025605615973301</td><td>6.5377754761493785</td><td>11.546751826917548</td><td>0.028770355026181024</td><td>3.003682605443351</td><td>0.6827205247712756</td><td>1.425283387997008 </td><td>0.4969871684216584 </td><td>0.47577510213476026</td><td>0.6272288394038784 </td><td>0.1900976063064618</td><td>35.67621842453536</td><td>153.78686920996606</td><td>189.4630876345014 </td></tr>\n",
       "<tr><td>maxs   </td><td>17379.0          </td><td>1356912000000.0    </td><td>4.0               </td><td>1.0               </td><td>12.0              </td><td>23.0              </td><td>1.0                 </td><td>6.0              </td><td>1.0               </td><td>4.0               </td><td>1.0                </td><td>1.0                </td><td>1.0                </td><td>0.8507            </td><td>367.0            </td><td>886.0             </td><td>977.0             </td></tr>\n",
       "<tr><td>sigma  </td><td>5017.029499614288</td><td>18150225217.779854 </td><td>1.1069181394480765</td><td>0.5000078290910197</td><td>3.438775713750168 </td><td>6.914405095264493 </td><td>0.16716527638437123 </td><td>2.005771456110988</td><td>0.4654306335238829</td><td>0.6393568777542534</td><td>0.19255612124972193</td><td>0.17185021563535932</td><td>0.19292983406291514</td><td>0.1223402285727905</td><td>49.30503038705309</td><td>151.35728591258314</td><td>181.38759909186476</td></tr>\n",
       "<tr><td>zeros  </td><td>0                </td><td>0                  </td><td>0                 </td><td>8645              </td><td>0                 </td><td>726               </td><td>16879               </td><td>2502             </td><td>5514              </td><td>0                 </td><td>0                  </td><td>2                  </td><td>22                 </td><td>2180              </td><td>1581             </td><td>24                </td><td>0                 </td></tr>\n",
       "<tr><td>missing</td><td>0                </td><td>0                  </td><td>0                 </td><td>0                 </td><td>0                 </td><td>0                 </td><td>0                   </td><td>0                </td><td>0                 </td><td>0                 </td><td>0                  </td><td>0                  </td><td>0                  </td><td>0                 </td><td>0                </td><td>0                 </td><td>0                 </td></tr>\n",
       "<tr><td>0      </td><td>1.0              </td><td>2011-01-01 00:00:00</td><td>1.0               </td><td>0.0               </td><td>1.0               </td><td>0.0               </td><td>0.0                 </td><td>6.0              </td><td>0.0               </td><td>1.0               </td><td>0.24               </td><td>0.2879             </td><td>0.81               </td><td>0.0               </td><td>3.0              </td><td>13.0              </td><td>16.0              </td></tr>\n",
       "<tr><td>1      </td><td>2.0              </td><td>2011-01-01 00:00:00</td><td>1.0               </td><td>0.0               </td><td>1.0               </td><td>1.0               </td><td>0.0                 </td><td>6.0              </td><td>0.0               </td><td>1.0               </td><td>0.22               </td><td>0.2727             </td><td>0.8                </td><td>0.0               </td><td>8.0              </td><td>32.0              </td><td>40.0              </td></tr>\n",
       "<tr><td>2      </td><td>3.0              </td><td>2011-01-01 00:00:00</td><td>1.0               </td><td>0.0               </td><td>1.0               </td><td>2.0               </td><td>0.0                 </td><td>6.0              </td><td>0.0               </td><td>1.0               </td><td>0.22               </td><td>0.2727             </td><td>0.8                </td><td>0.0               </td><td>5.0              </td><td>27.0              </td><td>32.0              </td></tr>\n",
       "<tr><td>3      </td><td>4.0              </td><td>2011-01-01 00:00:00</td><td>1.0               </td><td>0.0               </td><td>1.0               </td><td>3.0               </td><td>0.0                 </td><td>6.0              </td><td>0.0               </td><td>1.0               </td><td>0.24               </td><td>0.2879             </td><td>0.75               </td><td>0.0               </td><td>3.0              </td><td>10.0              </td><td>13.0              </td></tr>\n",
       "<tr><td>4      </td><td>5.0              </td><td>2011-01-01 00:00:00</td><td>1.0               </td><td>0.0               </td><td>1.0               </td><td>4.0               </td><td>0.0                 </td><td>6.0              </td><td>0.0               </td><td>1.0               </td><td>0.24               </td><td>0.2879             </td><td>0.75               </td><td>0.0               </td><td>0.0              </td><td>1.0               </td><td>1.0               </td></tr>\n",
       "<tr><td>5      </td><td>6.0              </td><td>2011-01-01 00:00:00</td><td>1.0               </td><td>0.0               </td><td>1.0               </td><td>5.0               </td><td>0.0                 </td><td>6.0              </td><td>0.0               </td><td>2.0               </td><td>0.24               </td><td>0.2576             </td><td>0.75               </td><td>0.0896            </td><td>0.0              </td><td>1.0               </td><td>1.0               </td></tr>\n",
       "<tr><td>6      </td><td>7.0              </td><td>2011-01-01 00:00:00</td><td>1.0               </td><td>0.0               </td><td>1.0               </td><td>6.0               </td><td>0.0                 </td><td>6.0              </td><td>0.0               </td><td>1.0               </td><td>0.22               </td><td>0.2727             </td><td>0.8                </td><td>0.0               </td><td>2.0              </td><td>0.0               </td><td>2.0               </td></tr>\n",
       "<tr><td>7      </td><td>8.0              </td><td>2011-01-01 00:00:00</td><td>1.0               </td><td>0.0               </td><td>1.0               </td><td>7.0               </td><td>0.0                 </td><td>6.0              </td><td>0.0               </td><td>1.0               </td><td>0.2                </td><td>0.2576             </td><td>0.86               </td><td>0.0               </td><td>1.0              </td><td>2.0               </td><td>3.0               </td></tr>\n",
       "<tr><td>8      </td><td>9.0              </td><td>2011-01-01 00:00:00</td><td>1.0               </td><td>0.0               </td><td>1.0               </td><td>8.0               </td><td>0.0                 </td><td>6.0              </td><td>0.0               </td><td>1.0               </td><td>0.24               </td><td>0.2879             </td><td>0.75               </td><td>0.0               </td><td>1.0              </td><td>7.0               </td><td>8.0               </td></tr>\n",
       "<tr><td>9      </td><td>10.0             </td><td>2011-01-01 00:00:00</td><td>1.0               </td><td>0.0               </td><td>1.0               </td><td>9.0               </td><td>0.0                 </td><td>6.0              </td><td>0.0               </td><td>1.0               </td><td>0.32               </td><td>0.3485             </td><td>0.76               </td><td>0.0               </td><td>8.0              </td><td>6.0               </td><td>14.0              </td></tr>\n",
       "</tbody>\n",
       "</table>"
      ]
     },
     "metadata": {},
     "output_type": "display_data"
    }
   ],
   "source": [
    "hp.describe()"
   ]
  },
  {
   "cell_type": "code",
   "execution_count": 7,
   "metadata": {},
   "outputs": [],
   "source": [
    "# Functions\n",
    "\n",
    "def alphabet(n):\n",
    "  alpha='0123456789abcdefghijklmnopqrstuvwxyzABCDEFGHIJKLMNOPQRSTUVWXYZ'    \n",
    "  str=''\n",
    "  r=len(alpha)-1   \n",
    "  while len(str)<n:\n",
    "    i=random.randint(0,r)\n",
    "    str+=alpha[i]   \n",
    "  return str\n",
    "  \n",
    "  \n",
    "def set_meta_data(analysis,run_id,server,data,test,model_path,target,run_time,classification,scale,model,balance,balance_threshold,name,path,nthreads,min_mem_size):\n",
    "  m_data={}\n",
    "  m_data['start_time'] = time.time()\n",
    "  m_data['target']=target\n",
    "  m_data['server_path']=server\n",
    "  m_data['data_path']=data \n",
    "  m_data['test_path']=test\n",
    "  m_data['max_models']=model\n",
    "  m_data['run_time']=run_time\n",
    "  m_data['run_id'] =run_id\n",
    "  m_data['scale']=scale\n",
    "  m_data['classification']=classification\n",
    "  m_data['scale']=False\n",
    "  m_data['model_path']=model_path\n",
    "  m_data['balance']=balance\n",
    "  m_data['balance_threshold']=balance_threshold\n",
    "  m_data['project'] =name\n",
    "  m_data['end_time'] = time.time()\n",
    "  m_data['execution_time'] = 0.0\n",
    "  m_data['run_path'] =path\n",
    "  m_data['nthreads'] = nthreads\n",
    "  m_data['min_mem_size'] = min_mem_size\n",
    "  m_data['analysis'] = analysis\n",
    "  return m_data\n",
    "\n",
    "\n",
    "def dict_to_json(dct,n):\n",
    "  j = json.dumps(dct, indent=4)\n",
    "  f = open(n, 'w')\n",
    "  print(j, file=f)\n",
    "  f.close()\n",
    "  \n",
    "  \n",
    "def stackedensemble(mod):\n",
    "    coef_norm=None\n",
    "    try:\n",
    "      metalearner = h2o.get_model(mod.metalearner()['name'])\n",
    "      coef_norm=metalearner.coef_norm()\n",
    "    except:\n",
    "      pass        \n",
    "    return coef_norm\n",
    "\n",
    "def stackedensemble_df(df):\n",
    "    bm_algo={ 'GBM': None,'GLM': None,'DRF': None,'XRT': None,'Dee': None}\n",
    "    for index, row in df.iterrows():\n",
    "      if len(row['model_id'])>3:\n",
    "        key=row['model_id'][0:3]\n",
    "        if key in bm_algo:\n",
    "          if bm_algo[key] is None:\n",
    "                bm_algo[key]=row['model_id']\n",
    "    bm=list(bm_algo.values()) \n",
    "    bm=list(filter(None.__ne__, bm))             \n",
    "    return bm\n",
    "\n",
    "def se_stats(modl):\n",
    "    d={}\n",
    "    d['algo']=modl.algo\n",
    "    d['model_id']=modl.model_id   \n",
    "    d['auc']=modl.auc()   \n",
    "    d['roc']=modl.roc()\n",
    "    d['mse']=modl.mse()   \n",
    "    d['null_degrees_of_freedom']=modl.null_degrees_of_freedom()\n",
    "    d['null_deviance']=modl.null_deviance()\n",
    "    d['residual_degrees_of_freedom']=modl.residual_degrees_of_freedom()   \n",
    "    d['residual_deviance']=modl.residual_deviance()\n",
    "    d['rmse']=modl.rmse()\n",
    "    return d\n",
    "\n",
    "def get_model_by_algo(algo,models_dict):\n",
    "    mod=None\n",
    "    mod_id=None    \n",
    "    for m in list(models_dict.keys()):\n",
    "        if m[0:3]==algo:\n",
    "            mod_id=m\n",
    "            mod=h2o.get_model(m)      \n",
    "    return mod,mod_id     \n",
    "    \n",
    "    \n",
    "def gbm_stats(modl):\n",
    "    d={}\n",
    "    d['algo']=modl.algo\n",
    "    d['model_id']=modl.model_id   \n",
    "    d['varimp']=modl.varimp()  \n",
    "    return d\n",
    "    \n",
    "    \n",
    "def dl_stats(modl):\n",
    "    d={}\n",
    "    d['algo']=modl.algo\n",
    "    d['model_id']=modl.model_id   \n",
    "    d['varimp']=modl.varimp()  \n",
    "    return d\n",
    "    \n",
    "    \n",
    "def drf_stats(modl):\n",
    "    d={}\n",
    "    d['algo']=modl.algo\n",
    "    d['model_id']=modl.model_id   \n",
    "    d['varimp']=modl.varimp()  \n",
    "    d['roc']=modl.roc()      \n",
    "    return d\n",
    "    \n",
    "def xrt_stats(modl):\n",
    "    d={}\n",
    "    d['algo']=modl.algo\n",
    "    d['model_id']=modl.model_id   \n",
    "    d['varimp']=modl.varimp()  \n",
    "    d['roc']=modl.roc()      \n",
    "    return d\n",
    "    \n",
    "    \n",
    "def glm_stats(modl):\n",
    "    d={}\n",
    "    d['algo']=modl.algo\n",
    "    d['model_id']=modl.model_id   \n",
    "    d['coef']=modl.coef()  \n",
    "    d['coef_norm']=modl.coef_norm()      \n",
    "    return d\n",
    "    \n",
    "def model_performance_stats(perf):\n",
    "    d={}\n",
    "    try:    \n",
    "      d['mse']=perf.mse()\n",
    "    except:\n",
    "      pass      \n",
    "    try:    \n",
    "      d['rmse']=perf.rmse() \n",
    "    except:\n",
    "      pass      \n",
    "    try:    \n",
    "      d['null_degrees_of_freedom']=perf.null_degrees_of_freedom()\n",
    "    except:\n",
    "      pass      \n",
    "    try:    \n",
    "      d['residual_degrees_of_freedom']=perf.residual_degrees_of_freedom()\n",
    "    except:\n",
    "      pass      \n",
    "    try:    \n",
    "      d['residual_deviance']=perf.residual_deviance() \n",
    "    except:\n",
    "      pass      \n",
    "    try:    \n",
    "      d['null_deviance']=perf.null_deviance() \n",
    "    except:\n",
    "      pass      \n",
    "    try:    \n",
    "      d['aic']=perf.aic() \n",
    "    except:\n",
    "      pass      \n",
    "    try:\n",
    "      d['logloss']=perf.logloss() \n",
    "    except:\n",
    "      pass    \n",
    "    try:\n",
    "      d['auc']=perf.auc()\n",
    "    except:\n",
    "      pass  \n",
    "    try:\n",
    "      d['gini']=perf.gini()\n",
    "    except:\n",
    "      pass    \n",
    "    return d\n",
    "    \n",
    "def impute_missing_values(df, x, scal=False):\n",
    "    # determine column types\n",
    "    ints, reals, enums = [], [], []\n",
    "    for key, val in df.types.items():\n",
    "        if key in x:\n",
    "            if val == 'enum':\n",
    "                enums.append(key)\n",
    "            elif val == 'int':\n",
    "                ints.append(key)            \n",
    "            else: \n",
    "                reals.append(key)    \n",
    "    _ = df[reals].impute(method='mean')\n",
    "    _ = df[ints].impute(method='median')\n",
    "    if scal:\n",
    "        df[reals] = df[reals].scale()\n",
    "        df[ints] = df[ints].scale()    \n",
    "    return\n",
    "\n",
    "\n",
    "def get_independent_variables(df, targ):\n",
    "    C = [name for name in df.columns if name != targ]\n",
    "    # determine column types\n",
    "    ints, reals, enums = [], [], []\n",
    "    for key, val in df.types.items():\n",
    "        if key in C:\n",
    "            if val == 'enum':\n",
    "                enums.append(key)\n",
    "            elif val == 'int':\n",
    "                ints.append(key)            \n",
    "            else: \n",
    "                reals.append(key)    \n",
    "    x=ints+enums+reals\n",
    "    return x\n",
    "    \n",
    "def get_all_variables_csv(i):\n",
    "    ivd={}\n",
    "    try:\n",
    "      iv = pd.read_csv(i,header=None)\n",
    "    except:\n",
    "      sys.exit(1)    \n",
    "    col=iv.values.tolist()[0]\n",
    "    dt=iv.values.tolist()[1]\n",
    "    i=0\n",
    "    for c in col:\n",
    "      ivd[c.strip()]=dt[i].strip()\n",
    "      i+=1        \n",
    "    return ivd\n",
    "    \n",
    "    \n",
    "\n",
    "def check_all_variables(df,dct,y=None):     \n",
    "    targ=list(dct.keys())     \n",
    "    for key, val in df.types.items():\n",
    "        if key in targ:\n",
    "          if dct[key] not in ['real','int','enum']:                      \n",
    "            targ.remove(key)  \n",
    "    for key, val in df.types.items():\n",
    "        if key in targ:            \n",
    "          if dct[key] != val:\n",
    "            print('convert ',key,' ',dct[key],' ',val)\n",
    "            if dct[key]=='enum':\n",
    "                try:\n",
    "                  df[key] = df[key].asfactor() \n",
    "                except:\n",
    "                  targ.remove(key)                 \n",
    "            if dct[key]=='int': \n",
    "                try:                \n",
    "                  df[key] = df[key].asnumeric() \n",
    "                except:\n",
    "                  targ.remove(key)                  \n",
    "            if dct[key]=='real':\n",
    "                try:                \n",
    "                  df[key] = df[key].asnumeric()  \n",
    "                except:\n",
    "                  targ.remove(key)                  \n",
    "    if y is None:\n",
    "      y=df.columns[-1] \n",
    "    if y in targ:\n",
    "      targ.remove(y)\n",
    "    else:\n",
    "      y=targ.pop()            \n",
    "    return targ    \n",
    "    \n",
    "def predictions(mod,data,run_id):\n",
    "    test = h2o.import_file(data)\n",
    "    mod_perf=mod_best.model_performance(test)\n",
    "              \n",
    "    stats_test={}\n",
    "    stats_test=model_performance_stats(mod_perf)\n",
    "\n",
    "    n=run_id+'_test_stats.json'\n",
    "    dict_to_json(stats_test,n) \n",
    "\n",
    "    try:    \n",
    "      cf=mod_perf.confusion_matrix(metrics=[\"f1\",\"f2\",\"f0point5\",\"accuracy\",\"precision\",\"recall\",\"specificity\",\"absolute_mcc\",\"min_per_class_accuracy\",\"mean_per_class_accuracy\"])\n",
    "      cf_df=cf[0].table.as_data_frame()\n",
    "      cf_df.to_csv(run_id+'_test_confusion_matrix.csv')\n",
    "    except:\n",
    "      pass\n",
    "\n",
    "    predictions = mod_best.predict(test)\n",
    "    predictions_df=test.cbind(predictions).as_data_frame() \n",
    "    predictions_df.to_csv(run_id+'_predictions.csv')\n",
    "    return\n",
    "\n",
    "def predictions_test(mod,test,run_id):\n",
    "    mod_perf=mod_best.model_performance(test)          \n",
    "    stats_test={}\n",
    "    stats_test=model_performance_stats(mod_perf)\n",
    "    n=run_id+'_test_stats.json'\n",
    "    dict_to_json(stats_test,n) \n",
    "    try:\n",
    "      cf=mod_perf.confusion_matrix()\n",
    "#      cf=mod_perf.confusion_matrix(metrics=[\"f1\",\"f2\",\"f0point5\",\"accuracy\",\"precision\",\"recall\",\"specificity\",\"absolute_mcc\",\"min_per_class_accuracy\",\"mean_per_class_accuracy\"])\n",
    "      cf_df=cf.table.as_data_frame()\n",
    "      cf_df.to_csv(run_id+'_test_confusion_matrix.csv')\n",
    "    except:\n",
    "      pass\n",
    "    predictions = mod_best.predict(test)    \n",
    "    predictions_df=test.cbind(predictions).as_data_frame() \n",
    "    predictions_df.to_csv(run_id+'_predictions.csv')\n",
    "    return predictions\n",
    "\n",
    "def check_X(x,df):\n",
    "    for name in x:\n",
    "        if name not in df.columns:\n",
    "          x.remove(name)  \n",
    "    return x    \n",
    "    \n",
    "    \n",
    "def get_stacked_ensemble(lst):\n",
    "    se=None\n",
    "    for model in model_set:\n",
    "      if 'BestOfFamily' in model:\n",
    "        se=model\n",
    "    if se is None:     \n",
    "      for model in model_set:\n",
    "        if 'AllModels'in model:\n",
    "          se=model           \n",
    "    return se       \n",
    "    \n",
    "def get_variables_types(df):\n",
    "    d={}\n",
    "    for key, val in df.types.items():\n",
    "        d[key]=val           \n",
    "    return d    \n",
    "    \n",
    "#  End Functions"
   ]
  },
  {
   "cell_type": "code",
   "execution_count": 8,
   "metadata": {},
   "outputs": [],
   "source": [
    "all_variables=None"
   ]
  },
  {
   "cell_type": "code",
   "execution_count": 9,
   "metadata": {},
   "outputs": [],
   "source": [
    "# Assume the following are passed by the user from the web interface\n",
    "\n",
    "'''\n",
    "Need a user id and project id?\n",
    "\n",
    "'''\n",
    "target='cnt' \n",
    "data_file='hour.csv'\n",
    "run_time=1000\n",
    "run_id='1000' # Just some arbitrary ID\n",
    "server_path='/Users/newzysharma/Desktop/Desktop/info6105/INFO6105-FinalProject/HyperparametersDB/1000'\n",
    "classification=False\n",
    "scale=False\n",
    "max_models=None\n",
    "balance_y=False # balance_classes=balance_y\n",
    "balance_threshold=0.2\n",
    "project =\"HyperparameterDB_Project\"  # project_name = project"
   ]
  },
  {
   "cell_type": "code",
   "execution_count": 10,
   "metadata": {},
   "outputs": [
    {
     "data": {
      "text/plain": [
       "'/Users/newzysharma/Desktop/Desktop/info6105/INFO6105-FinalProject/HyperparametersDB/1000/hour.csv'"
      ]
     },
     "execution_count": 10,
     "metadata": {},
     "output_type": "execute_result"
    }
   ],
   "source": [
    "# Use local data file or download from some type of bucket\n",
    "import os\n",
    "\n",
    "data_path=os.path.join(server_path,data_file)\n",
    "data_path"
   ]
  },
  {
   "cell_type": "code",
   "execution_count": 11,
   "metadata": {},
   "outputs": [
    {
     "name": "stdout",
     "output_type": "stream",
     "text": [
      "cnt\n",
      "['instant', 'dteday', 'season', 'yr', 'mnth', 'hr', 'holiday', 'weekday', 'workingday', 'weathersit', 'temp', 'atemp', 'hum', 'windspeed', 'casual', 'registered']\n"
     ]
    }
   ],
   "source": [
    "# assign target and inputs for logistic regression\n",
    "y = target\n",
    "X = [name for name in hp.columns if name != y]\n",
    "print(y)\n",
    "print(X)"
   ]
  },
  {
   "cell_type": "code",
   "execution_count": 12,
   "metadata": {},
   "outputs": [
    {
     "name": "stdout",
     "output_type": "stream",
     "text": [
      "['instant', 'season', 'yr', 'mnth', 'hr', 'holiday', 'weekday', 'workingday', 'weathersit', 'casual', 'registered']\n",
      "[]\n",
      "['dteday', 'temp', 'atemp', 'hum', 'windspeed']\n"
     ]
    }
   ],
   "source": [
    "# determine column types\n",
    "ints, reals, enums = [], [], []\n",
    "for key, val in hp.types.items():\n",
    "    if key in X:\n",
    "        if val == 'enum':\n",
    "            enums.append(key)\n",
    "        elif val == 'int':\n",
    "            ints.append(key)            \n",
    "        else: \n",
    "            reals.append(key)\n",
    "\n",
    "print(ints)\n",
    "print(enums)\n",
    "print(reals)"
   ]
  },
  {
   "cell_type": "code",
   "execution_count": 13,
   "metadata": {},
   "outputs": [],
   "source": [
    "# impute missing values\n",
    "_ = hp[reals].impute(method='mean')\n",
    "_ = hp[ints].impute(method='median')\n",
    "\n",
    "if scale:\n",
    "    hp[reals] = hp[reals].scale()\n",
    "    hp[ints] = hp[ints].scale()"
   ]
  },
  {
   "cell_type": "code",
   "execution_count": 14,
   "metadata": {},
   "outputs": [
    {
     "data": {
      "text/plain": [
       "[]"
      ]
     },
     "execution_count": 14,
     "metadata": {},
     "output_type": "execute_result"
    }
   ],
   "source": [
    "hp[y].levels()"
   ]
  },
  {
   "cell_type": "code",
   "execution_count": 15,
   "metadata": {},
   "outputs": [
    {
     "name": "stdout",
     "output_type": "stream",
     "text": [
      "1000\n"
     ]
    },
    {
     "data": {
      "text/plain": [
       "int"
      ]
     },
     "execution_count": 15,
     "metadata": {},
     "output_type": "execute_result"
    }
   ],
   "source": [
    "if classification:\n",
    "    class_percentage = y_balance=df[y].mean()[0]/(df[y].max()-df[y].min())\n",
    "    if class_percentage < balance_threshold:\n",
    "        balance_y=True\n",
    "        \n",
    "\n",
    "print(run_time)\n",
    "type(run_time)"
   ]
  },
  {
   "cell_type": "markdown",
   "metadata": {},
   "source": [
    "## Cross-validate rather than take a test training split with 1000 seconds"
   ]
  },
  {
   "cell_type": "code",
   "execution_count": 16,
   "metadata": {},
   "outputs": [
    {
     "name": "stdout",
     "output_type": "stream",
     "text": [
      "AutoML progress: |████████████████████████████████████████████████████████| 100%\n"
     ]
    }
   ],
   "source": [
    "# automl\n",
    "# runs for run_time seconds then builds a stacked ensemble\n",
    "\n",
    "aml = H2OAutoML(max_runtime_secs=run_time,project_name = project) # init automl, run for 1000 seconds\n",
    "aml.train(x=X,  \n",
    "           y=y,\n",
    "           training_frame=hp)"
   ]
  },
  {
   "cell_type": "code",
   "execution_count": 17,
   "metadata": {},
   "outputs": [
    {
     "data": {
      "text/html": [
       "<table>\n",
       "<thead>\n",
       "<tr><th>model_id                             </th><th style=\"text-align: right;\">  mean_residual_deviance</th><th style=\"text-align: right;\">   rmse</th><th style=\"text-align: right;\">    mse</th><th style=\"text-align: right;\">    mae</th><th style=\"text-align: right;\">      rmsle</th></tr>\n",
       "</thead>\n",
       "<tbody>\n",
       "<tr><td>XGBoost_1_AutoML_20190426_123514     </td><td style=\"text-align: right;\">                 17.9275</td><td style=\"text-align: right;\">4.23409</td><td style=\"text-align: right;\">17.9275</td><td style=\"text-align: right;\">2.48923</td><td style=\"text-align: right;\">  0.051761 </td></tr>\n",
       "<tr><td>XGBoost_3_AutoML_20190426_144511     </td><td style=\"text-align: right;\">                 21.3567</td><td style=\"text-align: right;\">4.62133</td><td style=\"text-align: right;\">21.3567</td><td style=\"text-align: right;\">3.04513</td><td style=\"text-align: right;\">nan        </td></tr>\n",
       "<tr><td>DeepLearning_1_AutoML_20190426_144511</td><td style=\"text-align: right;\">                 23.5305</td><td style=\"text-align: right;\">4.85082</td><td style=\"text-align: right;\">23.5305</td><td style=\"text-align: right;\">3.57524</td><td style=\"text-align: right;\">nan        </td></tr>\n",
       "<tr><td>XGBoost_2_AutoML_20190426_144511     </td><td style=\"text-align: right;\">                 24.2652</td><td style=\"text-align: right;\">4.92598</td><td style=\"text-align: right;\">24.2652</td><td style=\"text-align: right;\">2.89645</td><td style=\"text-align: right;\">  0.0637659</td></tr>\n",
       "<tr><td>GBM_4_AutoML_20190426_144511         </td><td style=\"text-align: right;\">                 25.4724</td><td style=\"text-align: right;\">5.04702</td><td style=\"text-align: right;\">25.4724</td><td style=\"text-align: right;\">3.14719</td><td style=\"text-align: right;\">  0.0670015</td></tr>\n",
       "<tr><td>GBM_1_AutoML_20190426_144511         </td><td style=\"text-align: right;\">                 28.1753</td><td style=\"text-align: right;\">5.30804</td><td style=\"text-align: right;\">28.1753</td><td style=\"text-align: right;\">3.29879</td><td style=\"text-align: right;\">nan        </td></tr>\n",
       "<tr><td>XGBoost_2_AutoML_20190426_123514     </td><td style=\"text-align: right;\">                 30.2733</td><td style=\"text-align: right;\">5.50212</td><td style=\"text-align: right;\">30.2733</td><td style=\"text-align: right;\">3.10906</td><td style=\"text-align: right;\">  0.06022  </td></tr>\n",
       "<tr><td>XGBoost_1_AutoML_20190426_144511     </td><td style=\"text-align: right;\">                 32.6351</td><td style=\"text-align: right;\">5.71272</td><td style=\"text-align: right;\">32.6351</td><td style=\"text-align: right;\">3.69198</td><td style=\"text-align: right;\">nan        </td></tr>\n",
       "<tr><td>GBM_3_AutoML_20190426_144511         </td><td style=\"text-align: right;\">                 32.8209</td><td style=\"text-align: right;\">5.72896</td><td style=\"text-align: right;\">32.8209</td><td style=\"text-align: right;\">3.43401</td><td style=\"text-align: right;\">nan        </td></tr>\n",
       "<tr><td>XGBoost_3_AutoML_20190426_123514     </td><td style=\"text-align: right;\">                 33.4611</td><td style=\"text-align: right;\">5.78455</td><td style=\"text-align: right;\">33.4611</td><td style=\"text-align: right;\">3.82409</td><td style=\"text-align: right;\">  0.109715 </td></tr>\n",
       "</tbody>\n",
       "</table>"
      ]
     },
     "metadata": {},
     "output_type": "display_data"
    },
    {
     "data": {
      "text/plain": []
     },
     "execution_count": 17,
     "metadata": {},
     "output_type": "execute_result"
    }
   ],
   "source": [
    "# view leaderboard\n",
    "lb = aml.leaderboard\n",
    "lb"
   ]
  },
  {
   "cell_type": "code",
   "execution_count": 18,
   "metadata": {},
   "outputs": [
    {
     "name": "stdout",
     "output_type": "stream",
     "text": [
      "Model Details\n",
      "=============\n",
      "H2OXGBoostEstimator :  XGBoost\n",
      "Model Key:  XGBoost_1_AutoML_20190426_123514\n",
      "\n",
      "\n",
      "ModelMetricsRegression: xgboost\n",
      "** Reported on train data. **\n",
      "\n",
      "MSE: 2.3311976605560263\n",
      "RMSE: 1.5268260086060972\n",
      "MAE: 1.1264397348603896\n",
      "RMSLE: NaN\n",
      "Mean Residual Deviance: 2.3311976605560263\n",
      "\n",
      "ModelMetricsRegression: xgboost\n",
      "** Reported on cross-validation data. **\n",
      "\n",
      "MSE: 17.927493323148283\n",
      "RMSE: 4.234087070803845\n",
      "MAE: 2.4892300761015576\n",
      "RMSLE: 0.051760963821947045\n",
      "Mean Residual Deviance: 17.927493323148283\n",
      "Cross-Validation Metrics Summary: \n"
     ]
    },
    {
     "data": {
      "text/html": [
       "<div style=\"overflow:auto\"><table style=\"width:50%\"><tr><td><b></b></td>\n",
       "<td><b>mean</b></td>\n",
       "<td><b>sd</b></td>\n",
       "<td><b>cv_1_valid</b></td>\n",
       "<td><b>cv_2_valid</b></td>\n",
       "<td><b>cv_3_valid</b></td>\n",
       "<td><b>cv_4_valid</b></td>\n",
       "<td><b>cv_5_valid</b></td></tr>\n",
       "<tr><td>mae</td>\n",
       "<td>2.4892728</td>\n",
       "<td>0.2642054</td>\n",
       "<td>2.272543</td>\n",
       "<td>2.2685363</td>\n",
       "<td>2.3630378</td>\n",
       "<td>2.3087745</td>\n",
       "<td>3.2334728</td></tr>\n",
       "<tr><td>mean_residual_deviance</td>\n",
       "<td>17.928217</td>\n",
       "<td>4.5184965</td>\n",
       "<td>13.175345</td>\n",
       "<td>13.903452</td>\n",
       "<td>16.388021</td>\n",
       "<td>15.6784</td>\n",
       "<td>30.495863</td></tr>\n",
       "<tr><td>mse</td>\n",
       "<td>17.928217</td>\n",
       "<td>4.5184965</td>\n",
       "<td>13.175345</td>\n",
       "<td>13.903452</td>\n",
       "<td>16.388021</td>\n",
       "<td>15.6784</td>\n",
       "<td>30.495863</td></tr>\n",
       "<tr><td>r2</td>\n",
       "<td>0.9994544</td>\n",
       "<td>0.0001390</td>\n",
       "<td>0.9996000</td>\n",
       "<td>0.9995806</td>\n",
       "<td>0.9994991</td>\n",
       "<td>0.9995243</td>\n",
       "<td>0.999068</td></tr>\n",
       "<tr><td>residual_deviance</td>\n",
       "<td>17.928217</td>\n",
       "<td>4.5184965</td>\n",
       "<td>13.175345</td>\n",
       "<td>13.903452</td>\n",
       "<td>16.388021</td>\n",
       "<td>15.6784</td>\n",
       "<td>30.495863</td></tr>\n",
       "<tr><td>rmse</td>\n",
       "<td>4.1777267</td>\n",
       "<td>0.4872456</td>\n",
       "<td>3.629786</td>\n",
       "<td>3.7287333</td>\n",
       "<td>4.048212</td>\n",
       "<td>3.959596</td>\n",
       "<td>5.522306</td></tr>\n",
       "<tr><td>rmsle</td>\n",
       "<td>0.0515602</td>\n",
       "<td>0.0032237</td>\n",
       "<td>0.0498979</td>\n",
       "<td>0.0547677</td>\n",
       "<td>0.0462717</td>\n",
       "<td>0.0481455</td>\n",
       "<td>0.0587184</td></tr></table></div>"
      ],
      "text/plain": [
       "                        mean       sd           cv_1_valid    cv_2_valid    cv_3_valid    cv_4_valid    cv_5_valid\n",
       "----------------------  ---------  -----------  ------------  ------------  ------------  ------------  ------------\n",
       "mae                     2.48927    0.264205     2.27254       2.26854       2.36304       2.30877       3.23347\n",
       "mean_residual_deviance  17.9282    4.5185       13.1753       13.9035       16.388        15.6784       30.4959\n",
       "mse                     17.9282    4.5185       13.1753       13.9035       16.388        15.6784       30.4959\n",
       "r2                      0.999454   0.000139039  0.9996        0.999581      0.999499      0.999524      0.999068\n",
       "residual_deviance       17.9282    4.5185       13.1753       13.9035       16.388        15.6784       30.4959\n",
       "rmse                    4.17773    0.487246     3.62979       3.72873       4.04821       3.9596        5.52231\n",
       "rmsle                   0.0515602  0.00322367   0.0498979     0.0547677     0.0462717     0.0481455     0.0587184"
      ]
     },
     "metadata": {},
     "output_type": "display_data"
    },
    {
     "name": "stdout",
     "output_type": "stream",
     "text": [
      "Scoring History: \n"
     ]
    },
    {
     "data": {
      "text/html": [
       "<div style=\"overflow:auto\"><table style=\"width:50%\"><tr><td><b></b></td>\n",
       "<td><b>timestamp</b></td>\n",
       "<td><b>duration</b></td>\n",
       "<td><b>number_of_trees</b></td>\n",
       "<td><b>training_rmse</b></td>\n",
       "<td><b>training_mae</b></td>\n",
       "<td><b>training_deviance</b></td></tr>\n",
       "<tr><td></td>\n",
       "<td>2019-04-26 12:39:53</td>\n",
       "<td> 4 min 39.303 sec</td>\n",
       "<td>0.0</td>\n",
       "<td>261.9286476</td>\n",
       "<td>188.9630876</td>\n",
       "<td>68606.6164192</td></tr>\n",
       "<tr><td></td>\n",
       "<td>2019-04-26 12:39:53</td>\n",
       "<td> 4 min 39.410 sec</td>\n",
       "<td>5.0</td>\n",
       "<td>204.0742245</td>\n",
       "<td>146.5194116</td>\n",
       "<td>41646.2890946</td></tr>\n",
       "<tr><td></td>\n",
       "<td>2019-04-26 12:39:53</td>\n",
       "<td> 4 min 39.513 sec</td>\n",
       "<td>10.0</td>\n",
       "<td>160.9129461</td>\n",
       "<td>113.9933905</td>\n",
       "<td>25892.9762306</td></tr>\n",
       "<tr><td></td>\n",
       "<td>2019-04-26 12:39:53</td>\n",
       "<td> 4 min 39.625 sec</td>\n",
       "<td>15.0</td>\n",
       "<td>125.7043313</td>\n",
       "<td>88.4980068</td>\n",
       "<td>15801.5789181</td></tr>\n",
       "<tr><td></td>\n",
       "<td>2019-04-26 12:39:53</td>\n",
       "<td> 4 min 39.743 sec</td>\n",
       "<td>20.0</td>\n",
       "<td>98.8392505</td>\n",
       "<td>68.8326343</td>\n",
       "<td>9769.1974405</td></tr>\n",
       "<tr><td>---</td>\n",
       "<td>---</td>\n",
       "<td>---</td>\n",
       "<td>---</td>\n",
       "<td>---</td>\n",
       "<td>---</td>\n",
       "<td>---</td></tr>\n",
       "<tr><td></td>\n",
       "<td>2019-04-26 12:40:38</td>\n",
       "<td> 5 min 23.986 sec</td>\n",
       "<td>400.0</td>\n",
       "<td>1.5823116</td>\n",
       "<td>1.1657351</td>\n",
       "<td>2.5037101</td></tr>\n",
       "<tr><td></td>\n",
       "<td>2019-04-26 12:40:39</td>\n",
       "<td> 5 min 24.939 sec</td>\n",
       "<td>405.0</td>\n",
       "<td>1.5676095</td>\n",
       "<td>1.1553785</td>\n",
       "<td>2.4573995</td></tr>\n",
       "<tr><td></td>\n",
       "<td>2019-04-26 12:40:40</td>\n",
       "<td> 5 min 25.900 sec</td>\n",
       "<td>410.0</td>\n",
       "<td>1.5527340</td>\n",
       "<td>1.1451441</td>\n",
       "<td>2.4109830</td></tr>\n",
       "<tr><td></td>\n",
       "<td>2019-04-26 12:40:41</td>\n",
       "<td> 5 min 26.978 sec</td>\n",
       "<td>415.0</td>\n",
       "<td>1.5382306</td>\n",
       "<td>1.1344893</td>\n",
       "<td>2.3661533</td></tr>\n",
       "<tr><td></td>\n",
       "<td>2019-04-26 12:40:42</td>\n",
       "<td> 5 min 28.047 sec</td>\n",
       "<td>419.0</td>\n",
       "<td>1.5268260</td>\n",
       "<td>1.1264397</td>\n",
       "<td>2.3311977</td></tr></table></div>"
      ],
      "text/plain": [
       "     timestamp            duration          number_of_trees    training_rmse       training_mae        training_deviance\n",
       "---  -------------------  ----------------  -----------------  ------------------  ------------------  -------------------\n",
       "     2019-04-26 12:39:53  4 min 39.303 sec  0.0                261.9286475726579   188.96308763450142  68606.61641924162\n",
       "     2019-04-26 12:39:53  4 min 39.410 sec  5.0                204.07422447375117  146.51941162856417  41646.289094562984\n",
       "     2019-04-26 12:39:53  4 min 39.513 sec  10.0               160.9129461249948   113.99339050649945  25892.976230625478\n",
       "     2019-04-26 12:39:53  4 min 39.625 sec  15.0               125.70433134173983  88.49800680546802   15801.578918073914\n",
       "     2019-04-26 12:39:53  4 min 39.743 sec  20.0               98.83925050530898   68.83263431329387   9769.197440451222\n",
       "---  ---                  ---               ---                ---                 ---                 ---\n",
       "     2019-04-26 12:40:38  5 min 23.986 sec  400.0              1.5823116421246828  1.1657350683189645  2.5037101328033105\n",
       "     2019-04-26 12:40:39  5 min 24.939 sec  405.0              1.5676095001681667  1.1553784917273286  2.4573995450174895\n",
       "     2019-04-26 12:40:40  5 min 25.900 sec  410.0              1.5527340262518619  1.145144137803756   2.410982956280318\n",
       "     2019-04-26 12:40:41  5 min 26.978 sec  415.0              1.5382305645732668  1.1344893229687487  2.3661532697873913\n",
       "     2019-04-26 12:40:42  5 min 28.047 sec  419.0              1.5268260086060972  1.1264397348603896  2.3311976605560263"
      ]
     },
     "metadata": {},
     "output_type": "display_data"
    },
    {
     "name": "stdout",
     "output_type": "stream",
     "text": [
      "\n",
      "See the whole table with table.as_data_frame()\n",
      "Variable Importances: \n"
     ]
    },
    {
     "data": {
      "text/html": [
       "<div style=\"overflow:auto\"><table style=\"width:50%\"><tr><td><b>variable</b></td>\n",
       "<td><b>relative_importance</b></td>\n",
       "<td><b>scaled_importance</b></td>\n",
       "<td><b>percentage</b></td></tr>\n",
       "<tr><td>registered</td>\n",
       "<td>2491783424.0000000</td>\n",
       "<td>1.0</td>\n",
       "<td>0.7151880</td></tr>\n",
       "<tr><td>hr</td>\n",
       "<td>375320192.0000000</td>\n",
       "<td>0.1506231</td>\n",
       "<td>0.1077238</td></tr>\n",
       "<tr><td>casual</td>\n",
       "<td>300915392.0000000</td>\n",
       "<td>0.1207631</td>\n",
       "<td>0.0863683</td></tr>\n",
       "<tr><td>instant</td>\n",
       "<td>97092480.0000000</td>\n",
       "<td>0.0389651</td>\n",
       "<td>0.0278673</td></tr>\n",
       "<tr><td>atemp</td>\n",
       "<td>89090200.0000000</td>\n",
       "<td>0.0357536</td>\n",
       "<td>0.0255705</td></tr>\n",
       "<tr><td>temp</td>\n",
       "<td>42659012.0000000</td>\n",
       "<td>0.0171199</td>\n",
       "<td>0.0122439</td></tr>\n",
       "<tr><td>workingday</td>\n",
       "<td>31720598.0000000</td>\n",
       "<td>0.0127301</td>\n",
       "<td>0.0091044</td></tr>\n",
       "<tr><td>weekday</td>\n",
       "<td>22565672.0000000</td>\n",
       "<td>0.0090560</td>\n",
       "<td>0.0064768</td></tr>\n",
       "<tr><td>dteday</td>\n",
       "<td>11745990.0000000</td>\n",
       "<td>0.0047139</td>\n",
       "<td>0.0033713</td></tr>\n",
       "<tr><td>hum</td>\n",
       "<td>8734792.0</td>\n",
       "<td>0.0035054</td>\n",
       "<td>0.0025070</td></tr>\n",
       "<tr><td>windspeed</td>\n",
       "<td>4502453.5</td>\n",
       "<td>0.0018069</td>\n",
       "<td>0.0012923</td></tr>\n",
       "<tr><td>weathersit</td>\n",
       "<td>4231619.0</td>\n",
       "<td>0.0016982</td>\n",
       "<td>0.0012146</td></tr>\n",
       "<tr><td>season</td>\n",
       "<td>1986077.5</td>\n",
       "<td>0.0007971</td>\n",
       "<td>0.0005700</td></tr>\n",
       "<tr><td>holiday</td>\n",
       "<td>906020.1250000</td>\n",
       "<td>0.0003636</td>\n",
       "<td>0.0002600</td></tr>\n",
       "<tr><td>yr</td>\n",
       "<td>437505.3437500</td>\n",
       "<td>0.0001756</td>\n",
       "<td>0.0001256</td></tr>\n",
       "<tr><td>mnth</td>\n",
       "<td>404227.6250000</td>\n",
       "<td>0.0001622</td>\n",
       "<td>0.0001160</td></tr></table></div>"
      ],
      "text/plain": [
       "variable    relative_importance    scaled_importance    percentage\n",
       "----------  ---------------------  -------------------  ------------\n",
       "registered  2.49178e+09            1                    0.715188\n",
       "hr          3.7532e+08             0.150623             0.107724\n",
       "casual      3.00915e+08            0.120763             0.0863683\n",
       "instant     9.70925e+07            0.0389651            0.0278673\n",
       "atemp       8.90902e+07            0.0357536            0.0255705\n",
       "temp        4.2659e+07             0.0171199            0.0122439\n",
       "workingday  3.17206e+07            0.0127301            0.0091044\n",
       "weekday     2.25657e+07            0.00905603           0.00647677\n",
       "dteday      1.1746e+07             0.00471389           0.00337132\n",
       "hum         8.73479e+06            0.00350544           0.00250705\n",
       "windspeed   4.50245e+06            0.00180692           0.00129229\n",
       "weathersit  4.23162e+06            0.00169823           0.00121455\n",
       "season      1.98608e+06            0.000797051          0.000570041\n",
       "holiday     906020                 0.000363603          0.000260045\n",
       "yr          437505                 0.000175579          0.000125572\n",
       "mnth        404228                 0.000162224          0.000116021"
      ]
     },
     "metadata": {},
     "output_type": "display_data"
    },
    {
     "data": {
      "text/plain": []
     },
     "execution_count": 18,
     "metadata": {},
     "output_type": "execute_result"
    }
   ],
   "source": [
    "aml.leader"
   ]
  },
  {
   "cell_type": "code",
   "execution_count": 19,
   "metadata": {},
   "outputs": [
    {
     "data": {
      "text/plain": [
       "'xgboost'"
      ]
     },
     "execution_count": 19,
     "metadata": {},
     "output_type": "execute_result"
    }
   ],
   "source": [
    "aml.leader.algo"
   ]
  },
  {
   "cell_type": "markdown",
   "metadata": {},
   "source": [
    "## Ensemble Exploration"
   ]
  },
  {
   "cell_type": "code",
   "execution_count": 20,
   "metadata": {},
   "outputs": [
    {
     "data": {
      "text/html": [
       "<div>\n",
       "<style scoped>\n",
       "    .dataframe tbody tr th:only-of-type {\n",
       "        vertical-align: middle;\n",
       "    }\n",
       "\n",
       "    .dataframe tbody tr th {\n",
       "        vertical-align: top;\n",
       "    }\n",
       "\n",
       "    .dataframe thead th {\n",
       "        text-align: right;\n",
       "    }\n",
       "</style>\n",
       "<table border=\"1\" class=\"dataframe\">\n",
       "  <thead>\n",
       "    <tr style=\"text-align: right;\">\n",
       "      <th></th>\n",
       "      <th>model_id</th>\n",
       "      <th>mean_residual_deviance</th>\n",
       "      <th>rmse</th>\n",
       "      <th>mse</th>\n",
       "      <th>mae</th>\n",
       "      <th>rmsle</th>\n",
       "    </tr>\n",
       "  </thead>\n",
       "  <tbody>\n",
       "    <tr>\n",
       "      <th>0</th>\n",
       "      <td>XGBoost_1_AutoML_20190426_123514</td>\n",
       "      <td>17.927493</td>\n",
       "      <td>4.234087</td>\n",
       "      <td>17.927493</td>\n",
       "      <td>2.489230</td>\n",
       "      <td>0.051761</td>\n",
       "    </tr>\n",
       "    <tr>\n",
       "      <th>1</th>\n",
       "      <td>XGBoost_3_AutoML_20190426_144511</td>\n",
       "      <td>21.356716</td>\n",
       "      <td>4.621333</td>\n",
       "      <td>21.356716</td>\n",
       "      <td>3.045135</td>\n",
       "      <td>NaN</td>\n",
       "    </tr>\n",
       "    <tr>\n",
       "      <th>2</th>\n",
       "      <td>DeepLearning_1_AutoML_20190426_144511</td>\n",
       "      <td>23.530476</td>\n",
       "      <td>4.850822</td>\n",
       "      <td>23.530476</td>\n",
       "      <td>3.575236</td>\n",
       "      <td>NaN</td>\n",
       "    </tr>\n",
       "    <tr>\n",
       "      <th>3</th>\n",
       "      <td>XGBoost_2_AutoML_20190426_144511</td>\n",
       "      <td>24.265233</td>\n",
       "      <td>4.925975</td>\n",
       "      <td>24.265233</td>\n",
       "      <td>2.896450</td>\n",
       "      <td>0.063766</td>\n",
       "    </tr>\n",
       "    <tr>\n",
       "      <th>4</th>\n",
       "      <td>GBM_4_AutoML_20190426_144511</td>\n",
       "      <td>25.472441</td>\n",
       "      <td>5.047023</td>\n",
       "      <td>25.472441</td>\n",
       "      <td>3.147188</td>\n",
       "      <td>0.067001</td>\n",
       "    </tr>\n",
       "    <tr>\n",
       "      <th>5</th>\n",
       "      <td>GBM_1_AutoML_20190426_144511</td>\n",
       "      <td>28.175282</td>\n",
       "      <td>5.308039</td>\n",
       "      <td>28.175282</td>\n",
       "      <td>3.298791</td>\n",
       "      <td>NaN</td>\n",
       "    </tr>\n",
       "    <tr>\n",
       "      <th>6</th>\n",
       "      <td>XGBoost_2_AutoML_20190426_123514</td>\n",
       "      <td>30.273290</td>\n",
       "      <td>5.502117</td>\n",
       "      <td>30.273290</td>\n",
       "      <td>3.109063</td>\n",
       "      <td>0.060220</td>\n",
       "    </tr>\n",
       "    <tr>\n",
       "      <th>7</th>\n",
       "      <td>XGBoost_1_AutoML_20190426_144511</td>\n",
       "      <td>32.635141</td>\n",
       "      <td>5.712717</td>\n",
       "      <td>32.635141</td>\n",
       "      <td>3.691980</td>\n",
       "      <td>NaN</td>\n",
       "    </tr>\n",
       "    <tr>\n",
       "      <th>8</th>\n",
       "      <td>GBM_3_AutoML_20190426_144511</td>\n",
       "      <td>32.820940</td>\n",
       "      <td>5.728956</td>\n",
       "      <td>32.820940</td>\n",
       "      <td>3.434008</td>\n",
       "      <td>NaN</td>\n",
       "    </tr>\n",
       "    <tr>\n",
       "      <th>9</th>\n",
       "      <td>XGBoost_3_AutoML_20190426_123514</td>\n",
       "      <td>33.461070</td>\n",
       "      <td>5.784554</td>\n",
       "      <td>33.461070</td>\n",
       "      <td>3.824091</td>\n",
       "      <td>0.109715</td>\n",
       "    </tr>\n",
       "    <tr>\n",
       "      <th>10</th>\n",
       "      <td>GBM_5_AutoML_20190426_144511</td>\n",
       "      <td>34.161627</td>\n",
       "      <td>5.844795</td>\n",
       "      <td>34.161627</td>\n",
       "      <td>3.095808</td>\n",
       "      <td>0.063811</td>\n",
       "    </tr>\n",
       "    <tr>\n",
       "      <th>11</th>\n",
       "      <td>GLM_grid_1_AutoML_20190426_144511_model_1</td>\n",
       "      <td>38.387049</td>\n",
       "      <td>6.195728</td>\n",
       "      <td>38.387049</td>\n",
       "      <td>4.451969</td>\n",
       "      <td>NaN</td>\n",
       "    </tr>\n",
       "    <tr>\n",
       "      <th>12</th>\n",
       "      <td>XRT_1_AutoML_20190426_144511</td>\n",
       "      <td>45.995390</td>\n",
       "      <td>6.781990</td>\n",
       "      <td>45.995390</td>\n",
       "      <td>3.718533</td>\n",
       "      <td>0.082115</td>\n",
       "    </tr>\n",
       "    <tr>\n",
       "      <th>13</th>\n",
       "      <td>DRF_1_AutoML_20190426_144511</td>\n",
       "      <td>49.623154</td>\n",
       "      <td>7.044370</td>\n",
       "      <td>49.623154</td>\n",
       "      <td>3.795271</td>\n",
       "      <td>0.079409</td>\n",
       "    </tr>\n",
       "    <tr>\n",
       "      <th>14</th>\n",
       "      <td>GBM_2_AutoML_20190426_144511</td>\n",
       "      <td>60.992698</td>\n",
       "      <td>7.809782</td>\n",
       "      <td>60.992698</td>\n",
       "      <td>4.690645</td>\n",
       "      <td>NaN</td>\n",
       "    </tr>\n",
       "    <tr>\n",
       "      <th>15</th>\n",
       "      <td>StackedEnsemble_AllModels_AutoML_20190426_123514</td>\n",
       "      <td>154.251941</td>\n",
       "      <td>12.419820</td>\n",
       "      <td>154.251941</td>\n",
       "      <td>9.149797</td>\n",
       "      <td>0.382846</td>\n",
       "    </tr>\n",
       "    <tr>\n",
       "      <th>16</th>\n",
       "      <td>DRF_1_AutoML_20190426_123514</td>\n",
       "      <td>435.832512</td>\n",
       "      <td>20.876602</td>\n",
       "      <td>435.832512</td>\n",
       "      <td>11.574190</td>\n",
       "      <td>0.189786</td>\n",
       "    </tr>\n",
       "    <tr>\n",
       "      <th>17</th>\n",
       "      <td>StackedEnsemble_BestOfFamily_AutoML_20190426_1...</td>\n",
       "      <td>506.632105</td>\n",
       "      <td>22.508490</td>\n",
       "      <td>506.632105</td>\n",
       "      <td>16.854016</td>\n",
       "      <td>0.550865</td>\n",
       "    </tr>\n",
       "    <tr>\n",
       "      <th>18</th>\n",
       "      <td>XGBoost_grid_1_AutoML_20190426_144511_model_1</td>\n",
       "      <td>2932.931180</td>\n",
       "      <td>54.156543</td>\n",
       "      <td>2932.931180</td>\n",
       "      <td>35.083279</td>\n",
       "      <td>0.205679</td>\n",
       "    </tr>\n",
       "    <tr>\n",
       "      <th>19</th>\n",
       "      <td>GBM_grid_1_AutoML_20190426_144511_model_1</td>\n",
       "      <td>8796.073523</td>\n",
       "      <td>93.787385</td>\n",
       "      <td>8796.073523</td>\n",
       "      <td>66.090540</td>\n",
       "      <td>NaN</td>\n",
       "    </tr>\n",
       "    <tr>\n",
       "      <th>20</th>\n",
       "      <td>GBM_grid_1_AutoML_20190426_144511_model_2</td>\n",
       "      <td>32145.966497</td>\n",
       "      <td>179.292963</td>\n",
       "      <td>32145.966497</td>\n",
       "      <td>140.760753</td>\n",
       "      <td>1.561999</td>\n",
       "    </tr>\n",
       "    <tr>\n",
       "      <th>21</th>\n",
       "      <td>GLM_grid_1_AutoML_20190426_123514_model_1</td>\n",
       "      <td>32870.983124</td>\n",
       "      <td>181.303566</td>\n",
       "      <td>32870.983124</td>\n",
       "      <td>142.334167</td>\n",
       "      <td>1.569853</td>\n",
       "    </tr>\n",
       "    <tr>\n",
       "      <th>22</th>\n",
       "      <td>XGBoost_grid_1_AutoML_20190426_144511_model_2</td>\n",
       "      <td>65273.173895</td>\n",
       "      <td>255.486152</td>\n",
       "      <td>65273.173895</td>\n",
       "      <td>183.738126</td>\n",
       "      <td>3.501334</td>\n",
       "    </tr>\n",
       "  </tbody>\n",
       "</table>\n",
       "</div>"
      ],
      "text/plain": [
       "                                             model_id  mean_residual_deviance  \\\n",
       "0                    XGBoost_1_AutoML_20190426_123514               17.927493   \n",
       "1                    XGBoost_3_AutoML_20190426_144511               21.356716   \n",
       "2               DeepLearning_1_AutoML_20190426_144511               23.530476   \n",
       "3                    XGBoost_2_AutoML_20190426_144511               24.265233   \n",
       "4                        GBM_4_AutoML_20190426_144511               25.472441   \n",
       "5                        GBM_1_AutoML_20190426_144511               28.175282   \n",
       "6                    XGBoost_2_AutoML_20190426_123514               30.273290   \n",
       "7                    XGBoost_1_AutoML_20190426_144511               32.635141   \n",
       "8                        GBM_3_AutoML_20190426_144511               32.820940   \n",
       "9                    XGBoost_3_AutoML_20190426_123514               33.461070   \n",
       "10                       GBM_5_AutoML_20190426_144511               34.161627   \n",
       "11          GLM_grid_1_AutoML_20190426_144511_model_1               38.387049   \n",
       "12                       XRT_1_AutoML_20190426_144511               45.995390   \n",
       "13                       DRF_1_AutoML_20190426_144511               49.623154   \n",
       "14                       GBM_2_AutoML_20190426_144511               60.992698   \n",
       "15   StackedEnsemble_AllModels_AutoML_20190426_123514              154.251941   \n",
       "16                       DRF_1_AutoML_20190426_123514              435.832512   \n",
       "17  StackedEnsemble_BestOfFamily_AutoML_20190426_1...              506.632105   \n",
       "18      XGBoost_grid_1_AutoML_20190426_144511_model_1             2932.931180   \n",
       "19          GBM_grid_1_AutoML_20190426_144511_model_1             8796.073523   \n",
       "20          GBM_grid_1_AutoML_20190426_144511_model_2            32145.966497   \n",
       "21          GLM_grid_1_AutoML_20190426_123514_model_1            32870.983124   \n",
       "22      XGBoost_grid_1_AutoML_20190426_144511_model_2            65273.173895   \n",
       "\n",
       "          rmse           mse         mae     rmsle  \n",
       "0     4.234087     17.927493    2.489230  0.051761  \n",
       "1     4.621333     21.356716    3.045135       NaN  \n",
       "2     4.850822     23.530476    3.575236       NaN  \n",
       "3     4.925975     24.265233    2.896450  0.063766  \n",
       "4     5.047023     25.472441    3.147188  0.067001  \n",
       "5     5.308039     28.175282    3.298791       NaN  \n",
       "6     5.502117     30.273290    3.109063  0.060220  \n",
       "7     5.712717     32.635141    3.691980       NaN  \n",
       "8     5.728956     32.820940    3.434008       NaN  \n",
       "9     5.784554     33.461070    3.824091  0.109715  \n",
       "10    5.844795     34.161627    3.095808  0.063811  \n",
       "11    6.195728     38.387049    4.451969       NaN  \n",
       "12    6.781990     45.995390    3.718533  0.082115  \n",
       "13    7.044370     49.623154    3.795271  0.079409  \n",
       "14    7.809782     60.992698    4.690645       NaN  \n",
       "15   12.419820    154.251941    9.149797  0.382846  \n",
       "16   20.876602    435.832512   11.574190  0.189786  \n",
       "17   22.508490    506.632105   16.854016  0.550865  \n",
       "18   54.156543   2932.931180   35.083279  0.205679  \n",
       "19   93.787385   8796.073523   66.090540       NaN  \n",
       "20  179.292963  32145.966497  140.760753  1.561999  \n",
       "21  181.303566  32870.983124  142.334167  1.569853  \n",
       "22  255.486152  65273.173895  183.738126  3.501334  "
      ]
     },
     "execution_count": 20,
     "metadata": {},
     "output_type": "execute_result"
    }
   ],
   "source": [
    "aml_leaderboard_df=aml.leaderboard.as_data_frame()\n",
    "aml_leaderboard_df"
   ]
  },
  {
   "cell_type": "code",
   "execution_count": 21,
   "metadata": {},
   "outputs": [],
   "source": [
    "aml_leaderboard_df['model_id'] = aml_leaderboard_df['model_id'].astype('str')\n",
    "drf = pd.DataFrame(columns= aml_leaderboard_df.columns)\n",
    "for i in range(aml_leaderboard_df.shape[0]):\n",
    "    x = aml_leaderboard_df.iloc[i,:1].str.split('_')[0][0]\n",
    "    if x == 'DRF':\n",
    "        drf = drf.append(aml_leaderboard_df.iloc[i], ignore_index = True)  "
   ]
  },
  {
   "cell_type": "code",
   "execution_count": 26,
   "metadata": {},
   "outputs": [],
   "source": [
    "with open('DRF.csv', 'a') as f:\n",
    "    drf.to_csv(f, header=False)"
   ]
  },
  {
   "cell_type": "code",
   "execution_count": 27,
   "metadata": {},
   "outputs": [],
   "source": [
    "aml_leaderboard_df['model_id'] = aml_leaderboard_df['model_id'].astype('str')\n",
    "xgboost = pd.DataFrame(columns= aml_leaderboard_df.columns)\n",
    "for i in range(aml_leaderboard_df.shape[0]):\n",
    "    x = aml_leaderboard_df.iloc[i,:1].str.split('_')[0][0]\n",
    "    if x == 'XGBoost':\n",
    "        xgboost = xgboost.append(aml_leaderboard_df.iloc[i], ignore_index = True)  "
   ]
  },
  {
   "cell_type": "code",
   "execution_count": 28,
   "metadata": {},
   "outputs": [],
   "source": [
    "with open('XGBoost.csv', 'a') as f:\n",
    "    xgboost.to_csv(f, header=False)"
   ]
  },
  {
   "cell_type": "code",
   "execution_count": 29,
   "metadata": {},
   "outputs": [],
   "source": [
    "aml_leaderboard_df['model_id'] = aml_leaderboard_df['model_id'].astype('str')\n",
    "glm = pd.DataFrame(columns= aml_leaderboard_df.columns)\n",
    "for i in range(aml_leaderboard_df.shape[0]):\n",
    "    x = aml_leaderboard_df.iloc[i,:1].str.split('_')[0][0]\n",
    "    if x == 'GLM':\n",
    "        glm = glm.append(aml_leaderboard_df.iloc[i], ignore_index = True)"
   ]
  },
  {
   "cell_type": "code",
   "execution_count": 30,
   "metadata": {},
   "outputs": [],
   "source": [
    "with open('GLM.csv', 'a') as f:\n",
    "    glm.to_csv(f, header=False)"
   ]
  },
  {
   "cell_type": "code",
   "execution_count": 31,
   "metadata": {},
   "outputs": [],
   "source": [
    "aml_leaderboard_df['model_id'] = aml_leaderboard_df['model_id'].astype('str')\n",
    "gbm = pd.DataFrame(columns= aml_leaderboard_df.columns)\n",
    "for i in range(aml_leaderboard_df.shape[0]):\n",
    "    x = aml_leaderboard_df.iloc[i,:1].str.split('_')[0][0]\n",
    "    if x == 'GBM':\n",
    "        gbm = gbm.append(aml_leaderboard_df.iloc[i], ignore_index = True) "
   ]
  },
  {
   "cell_type": "code",
   "execution_count": 32,
   "metadata": {},
   "outputs": [],
   "source": [
    "with open('GBM.csv', 'a') as f:\n",
    "    gbm.to_csv(f, header=False)"
   ]
  },
  {
   "cell_type": "code",
   "execution_count": 33,
   "metadata": {},
   "outputs": [],
   "source": [
    "aml_leaderboard_df['model_id'] = aml_leaderboard_df['model_id'].astype('str')\n",
    "xrt = pd.DataFrame(columns= aml_leaderboard_df.columns)\n",
    "for i in range(aml_leaderboard_df.shape[0]):\n",
    "    x = aml_leaderboard_df.iloc[i,:1].str.split('_')[0][0]\n",
    "    if x == 'XRT':\n",
    "        xrt = xrt.append(aml_leaderboard_df.iloc[i], ignore_index = True) "
   ]
  },
  {
   "cell_type": "code",
   "execution_count": 34,
   "metadata": {},
   "outputs": [],
   "source": [
    "with open('XRT.csv', 'a') as f:\n",
    "    xrt.to_csv(f, header=False)"
   ]
  },
  {
   "cell_type": "code",
   "execution_count": 35,
   "metadata": {},
   "outputs": [],
   "source": [
    "aml_leaderboard_df['model_id'] = aml_leaderboard_df['model_id'].astype('str')\n",
    "dl = pd.DataFrame(columns= aml_leaderboard_df.columns)\n",
    "for i in range(aml_leaderboard_df.shape[0]):\n",
    "    x = aml_leaderboard_df.iloc[i,:1].str.split('_')[0][0]\n",
    "    if x == 'DeepLearning':\n",
    "        dl = dl.append(aml_leaderboard_df.iloc[i], ignore_index = True) "
   ]
  },
  {
   "cell_type": "code",
   "execution_count": 36,
   "metadata": {},
   "outputs": [],
   "source": [
    "with open('DeepLearning.csv', 'a') as f:\n",
    "    dl.to_csv(f, header=False)"
   ]
  },
  {
   "cell_type": "markdown",
   "metadata": {},
   "source": [
    "## Generating JSON file for all the models through FOR loop"
   ]
  },
  {
   "cell_type": "code",
   "execution_count": 22,
   "metadata": {},
   "outputs": [],
   "source": [
    "aml_leaderboard_df=aml.leaderboard.as_data_frame()\n",
    "model_set=aml_leaderboard_df['model_id']\n",
    "mod_best=h2o.get_model(model_set[0])"
   ]
  },
  {
   "cell_type": "code",
   "execution_count": 23,
   "metadata": {},
   "outputs": [
    {
     "data": {
      "text/plain": [
       "(23, 6)"
      ]
     },
     "execution_count": 23,
     "metadata": {},
     "output_type": "execute_result"
    }
   ],
   "source": [
    "aml_leaderboard_df.shape"
   ]
  },
  {
   "cell_type": "code",
   "execution_count": 24,
   "metadata": {},
   "outputs": [],
   "source": [
    "import os.path\n",
    "from pathlib import Path"
   ]
  },
  {
   "cell_type": "code",
   "execution_count": 25,
   "metadata": {},
   "outputs": [],
   "source": [
    "##iterating over number of rows(all model_id), and generates the 'JSON' file with unique name each time, \n",
    "#if the particular file already exists then it will not overwrite it.\n",
    "\n",
    "for i in range(model_set.shape[0]):\n",
    "    mod_best = h2o.get_model(model_set[i])\n",
    "    hy_parameter = mod_best.params\n",
    "    n = run_id + str(i) +'_' + model_set[i] + '.json'\n",
    "    file_name = Path(n)\n",
    "    if not file_name.is_file():\n",
    "        dict_to_json(hy_parameter, n)"
   ]
  },
  {
   "cell_type": "markdown",
   "metadata": {},
   "source": [
    "# Conclusion\n",
    "The Aim of the study was to create a hyperparameter database of the different models that were developed by running H2O AutoML function. This function was ran with a runtime of 1000 and a leaderboard was generated whichw as arranged in the order of their efficiency in predicting the count. The metrics to understand the efficinecy used were MSE, RMSE, Residual Deviance and RMSLE. With this runtime we generated 30 models and their parameters were obtained. Out of these we analyzed the hyperparameters"
   ]
  },
  {
   "cell_type": "markdown",
   "metadata": {},
   "source": [
    "# Contribution:\n",
    "\n",
    "Code by Self: 30%\n",
    "\n",
    "Code from other sources: 70%"
   ]
  },
  {
   "cell_type": "markdown",
   "metadata": {},
   "source": [
    "# Citation\n",
    "http://docs.h2o.ai/h2o/latest-stable/h2o-docs/automl.html\n",
    "\n",
    "https://stats.stackexchange.com/questions/95495/guideline-to-select-the-hyperparameters-in-deep-learning\n",
    "\n",
    "https://github.com/nikbearbrown/CSYE_7245/tree/master/H2O\n",
    "\n",
    "https://github.com/nikbearbrown/CSYE_7245/tree/master/H2O\n",
    "\n",
    "https://medium.com/@elutins/grid-searching-in-machine-learning-quick-explanation-and-python-implementation-550552200596\n",
    "\n",
    "http://docs.h2o.ai/"
   ]
  },
  {
   "cell_type": "markdown",
   "metadata": {},
   "source": [
    "# Licence\n",
    "Copyright 2019 |Ashu Kapil| |Newzy Sharma| |Bhaghirathi Kundu|\n",
    "\n",
    "Permission is hereby granted, free of charge, to any person obtaining a copy of this software and associated documentation files (the \"Software\"), to deal in the Software without restriction, including without limitation the rights to use, copy, modify, merge, publish, distribute, sublicense, and/or sell copies of the Software, and to permit persons to whom the Software is furnished to do so, subject to the following conditions:\n",
    "\n",
    "The above copyright notice and this permission notice shall be included in all copies or substantial portions of the Software.\n",
    "\n",
    "THE SOFTWARE IS PROVIDED \"AS IS\", WITHOUT WARRANTY OF ANY KIND, EXPRESS OR IMPLIED, INCLUDING BUT NOT LIMITED TO THE WARRANTIES OF MERCHANTABILITY, FITNESS FOR A PARTICULAR PURPOSE AND NONINFRINGEMENT. IN NO EVENT SHALL THE AUTHORS OR COPYRIGHT HOLDERS BE LIABLE FOR ANY CLAIM, DAMAGES OR OTHER LIABILITY, WHETHER IN AN ACTION OF CONTRACT, TORT OR OTHERWISE, ARISING FROM, OUT OF OR IN CONNECTION WITH THE SOFTWARE OR THE USE OR OTHER DEALINGS IN THE SOFTWARE."
   ]
  },
  {
   "cell_type": "code",
   "execution_count": null,
   "metadata": {},
   "outputs": [],
   "source": []
  }
 ],
 "metadata": {
  "kernelspec": {
   "display_name": "Python 3",
   "language": "python",
   "name": "python3"
  },
  "language_info": {
   "codemirror_mode": {
    "name": "ipython",
    "version": 3
   },
   "file_extension": ".py",
   "mimetype": "text/x-python",
   "name": "python",
   "nbconvert_exporter": "python",
   "pygments_lexer": "ipython3",
   "version": "3.7.0"
  }
 },
 "nbformat": 4,
 "nbformat_minor": 2
}
