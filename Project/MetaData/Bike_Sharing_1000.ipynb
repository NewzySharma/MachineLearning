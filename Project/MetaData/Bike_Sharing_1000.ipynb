{
 "cells": [
  {
   "cell_type": "code",
   "execution_count": 1,
   "metadata": {},
   "outputs": [],
   "source": [
    "import h2o\n",
    "from h2o.automl import H2OAutoML\n",
    "import random, os, sys\n",
    "from datetime import datetime\n",
    "import pandas as pd\n",
    "import logging\n",
    "import csv\n",
    "import optparse\n",
    "import time\n",
    "import json\n",
    "from distutils.util import strtobool\n",
    "import psutil"
   ]
  },
  {
   "cell_type": "code",
   "execution_count": 18,
   "metadata": {},
   "outputs": [],
   "source": [
    "data_path=None\n",
    "all_variables=None\n",
    "test_path=None\n",
    "# target='search_term'\n",
    "target='cnt'\n",
    "nthreads=1 \n",
    "min_mem_size=6 \n",
    "run_time=1000\n",
    "classification=False\n",
    "scale=False\n",
    "max_models=9    \n",
    "model_path=None\n",
    "balance_y=False \n",
    "balance_threshold=0.2\n",
    "name=None \n",
    "server_path=None  \n",
    "analysis=0"
   ]
  },
  {
   "cell_type": "code",
   "execution_count": 3,
   "metadata": {},
   "outputs": [
    {
     "name": "stdout",
     "output_type": "stream",
     "text": [
      "1\n"
     ]
    }
   ],
   "source": [
    "pct_memory=0.5\n",
    "virtual_memory=psutil.virtual_memory()\n",
    "min_mem_size=int(round(int(pct_memory*virtual_memory.available)/1073741824,0))\n",
    "print(min_mem_size)"
   ]
  },
  {
   "cell_type": "code",
   "execution_count": 4,
   "metadata": {},
   "outputs": [],
   "source": [
    "# Functions\n",
    "\n",
    "def alphabet(n):\n",
    "  alpha='0123456789abcdefghijklmnopqrstuvwxyzABCDEFGHIJKLMNOPQRSTUVWXYZ'    \n",
    "  str=''\n",
    "  r=len(alpha)-1   \n",
    "  while len(str)<n:\n",
    "    i=random.randint(0,r)\n",
    "    str+=alpha[i]   \n",
    "  return str\n",
    "  \n",
    "  \n",
    "def set_meta_data(analysis,run_id,server,data,test,model_path,target,run_time,classification,scale,model,balance,balance_threshold,name,path,nthreads,min_mem_size):\n",
    "  m_data={}\n",
    "  m_data['start_time'] = time.time()\n",
    "  m_data['target']=target\n",
    "  m_data['server_path']=server\n",
    "  m_data['data_path']=data \n",
    "  m_data['test_path']=test\n",
    "  m_data['max_models']=model\n",
    "  m_data['run_time']=run_time\n",
    "  m_data['run_id'] =run_id\n",
    "  m_data['scale']=scale\n",
    "  m_data['classification']=classification\n",
    "  m_data['scale']=False\n",
    "  m_data['model_path']=model_path\n",
    "  m_data['balance']=balance\n",
    "  m_data['balance_threshold']=balance_threshold\n",
    "  m_data['project'] =name\n",
    "  m_data['end_time'] = time.time()\n",
    "  m_data['execution_time'] = 0.0\n",
    "  m_data['run_path'] =path\n",
    "  m_data['nthreads'] = nthreads\n",
    "  m_data['min_mem_size'] = min_mem_size\n",
    "  m_data['analysis'] = analysis\n",
    "  return m_data\n",
    "\n",
    "\n",
    "def dict_to_json(dct,n):\n",
    "  j = json.dumps(dct, indent=4)\n",
    "  f = open(n, 'w')\n",
    "  print(j, file=f)\n",
    "  f.close()\n",
    "  \n",
    "  \n",
    "def stackedensemble(mod):\n",
    "    coef_norm=None\n",
    "    try:\n",
    "      metalearner = h2o.get_model(mod.metalearner()['name'])\n",
    "      coef_norm=metalearner.coef_norm()\n",
    "    except:\n",
    "      pass        \n",
    "    return coef_norm\n",
    "\n",
    "def stackedensemble_df(df):\n",
    "    bm_algo={ 'GBM': None,'GLM': None,'DRF': None,'XRT': None,'Dee': None}\n",
    "    for index, row in df.iterrows():\n",
    "      if len(row['model_id'])>3:\n",
    "        key=row['model_id'][0:3]\n",
    "        if key in bm_algo:\n",
    "          if bm_algo[key] is None:\n",
    "                bm_algo[key]=row['model_id']\n",
    "    bm=list(bm_algo.values()) \n",
    "    bm=list(filter(None.__ne__, bm))             \n",
    "    return bm\n",
    "\n",
    "def se_stats(modl):\n",
    "    d={}\n",
    "    d['algo']=modl.algo\n",
    "    d['model_id']=modl.model_id   \n",
    "    d['auc']=modl.auc()   \n",
    "    d['roc']=modl.roc()\n",
    "    d['mse']=modl.mse()   \n",
    "    d['null_degrees_of_freedom']=modl.null_degrees_of_freedom()\n",
    "    d['null_deviance']=modl.null_deviance()\n",
    "    d['residual_degrees_of_freedom']=modl.residual_degrees_of_freedom()   \n",
    "    d['residual_deviance']=modl.residual_deviance()\n",
    "    d['rmse']=modl.rmse()\n",
    "    return d\n",
    "\n",
    "def get_model_by_algo(algo,models_dict):\n",
    "    mod=None\n",
    "    mod_id=None    \n",
    "    for m in list(models_dict.keys()):\n",
    "        if m[0:3]==algo:\n",
    "            mod_id=m\n",
    "            mod=h2o.get_model(m)      \n",
    "    return mod,mod_id     \n",
    "    \n",
    "    \n",
    "def gbm_stats(modl):\n",
    "    d={}\n",
    "    d['algo']=modl.algo\n",
    "    d['model_id']=modl.model_id   \n",
    "    d['varimp']=modl.varimp()  \n",
    "    return d\n",
    "    \n",
    "    \n",
    "def dl_stats(modl):\n",
    "    d={}\n",
    "    d['algo']=modl.algo\n",
    "    d['model_id']=modl.model_id   \n",
    "    d['varimp']=modl.varimp()  \n",
    "    return d\n",
    "    \n",
    "    \n",
    "def drf_stats(modl):\n",
    "    d={}\n",
    "    d['algo']=modl.algo\n",
    "    d['model_id']=modl.model_id   \n",
    "    d['varimp']=modl.varimp()  \n",
    "    d['roc']=modl.roc()      \n",
    "    return d\n",
    "    \n",
    "def xrt_stats(modl):\n",
    "    d={}\n",
    "    d['algo']=modl.algo\n",
    "    d['model_id']=modl.model_id   \n",
    "    d['varimp']=modl.varimp()  \n",
    "    d['roc']=modl.roc()      \n",
    "    return d\n",
    "    \n",
    "    \n",
    "def glm_stats(modl):\n",
    "    d={}\n",
    "    d['algo']=modl.algo\n",
    "    d['model_id']=modl.model_id   \n",
    "    d['coef']=modl.coef()  \n",
    "    d['coef_norm']=modl.coef_norm()      \n",
    "    return d\n",
    "    \n",
    "def model_performance_stats(perf):\n",
    "    d={}\n",
    "    try:    \n",
    "      d['mse']=perf.mse()\n",
    "    except:\n",
    "      pass      \n",
    "    try:    \n",
    "      d['rmse']=perf.rmse() \n",
    "    except:\n",
    "      pass      \n",
    "    try:    \n",
    "      d['null_degrees_of_freedom']=perf.null_degrees_of_freedom()\n",
    "    except:\n",
    "      pass      \n",
    "    try:    \n",
    "      d['residual_degrees_of_freedom']=perf.residual_degrees_of_freedom()\n",
    "    except:\n",
    "      pass      \n",
    "    try:    \n",
    "      d['residual_deviance']=perf.residual_deviance() \n",
    "    except:\n",
    "      pass      \n",
    "    try:    \n",
    "      d['null_deviance']=perf.null_deviance() \n",
    "    except:\n",
    "      pass      \n",
    "    try:    \n",
    "      d['aic']=perf.aic() \n",
    "    except:\n",
    "      pass      \n",
    "    try:\n",
    "      d['logloss']=perf.logloss() \n",
    "    except:\n",
    "      pass    \n",
    "    try:\n",
    "      d['auc']=perf.auc()\n",
    "    except:\n",
    "      pass  \n",
    "    try:\n",
    "      d['gini']=perf.gini()\n",
    "    except:\n",
    "      pass    \n",
    "    return d\n",
    "    \n",
    "def impute_missing_values(df, x, scal=False):\n",
    "    # determine column types\n",
    "    ints, reals, enums = [], [], []\n",
    "    for key, val in df.types.items():\n",
    "        if key in x:\n",
    "            if val == 'enum':\n",
    "                enums.append(key)\n",
    "            elif val == 'int':\n",
    "                ints.append(key)            \n",
    "            else: \n",
    "                reals.append(key)    \n",
    "    _ = df[reals].impute(method='mean')\n",
    "    _ = df[ints].impute(method='median')\n",
    "    if scal:\n",
    "        df[reals] = df[reals].scale()\n",
    "        df[ints] = df[ints].scale()    \n",
    "    return\n",
    "\n",
    "\n",
    "def get_independent_variables(df, targ):\n",
    "    C = [name for name in df.columns if name != targ]\n",
    "    # determine column types\n",
    "    ints, reals, enums = [], [], []\n",
    "    for key, val in df.types.items():\n",
    "        if key in C:\n",
    "            if val == 'enum':\n",
    "                enums.append(key)\n",
    "            elif val == 'int':\n",
    "                ints.append(key)            \n",
    "            else: \n",
    "                reals.append(key)    \n",
    "    x=ints+enums+reals\n",
    "    return x\n",
    "    \n",
    "def get_all_variables_csv(i):\n",
    "    ivd={}\n",
    "    try:\n",
    "      iv = pd.read_csv(i,header=None)\n",
    "    except:\n",
    "      sys.exit(1)    \n",
    "    col=iv.values.tolist()[0]\n",
    "    dt=iv.values.tolist()[1]\n",
    "    i=0\n",
    "    for c in col:\n",
    "      ivd[c.strip()]=dt[i].strip()\n",
    "      i+=1        \n",
    "    return ivd\n",
    "    \n",
    "    \n",
    "\n",
    "def check_all_variables(df,dct,y=None):     \n",
    "    targ=list(dct.keys())     \n",
    "    for key, val in df.types.items():\n",
    "        if key in targ:\n",
    "          if dct[key] not in ['real','int','enum']:                      \n",
    "            targ.remove(key)  \n",
    "    for key, val in df.types.items():\n",
    "        if key in targ:            \n",
    "          if dct[key] != val:\n",
    "            print('convert ',key,' ',dct[key],' ',val)\n",
    "            if dct[key]=='enum':\n",
    "                try:\n",
    "                  df[key] = df[key].asfactor() \n",
    "                except:\n",
    "                  targ.remove(key)                 \n",
    "            if dct[key]=='int': \n",
    "                try:                \n",
    "                  df[key] = df[key].asnumeric() \n",
    "                except:\n",
    "                  targ.remove(key)                  \n",
    "            if dct[key]=='real':\n",
    "                try:                \n",
    "                  df[key] = df[key].asnumeric()  \n",
    "                except:\n",
    "                  targ.remove(key)                  \n",
    "    if y is None:\n",
    "      y=df.columns[-1] \n",
    "    if y in targ:\n",
    "      targ.remove(y)\n",
    "    else:\n",
    "      y=targ.pop()            \n",
    "    return targ    \n",
    "    \n",
    "def predictions(mod,data,run_id):\n",
    "    test = h2o.import_file(data)\n",
    "    mod_perf=mod_best.model_performance(test)\n",
    "              \n",
    "    stats_test={}\n",
    "    stats_test=model_performance_stats(mod_perf)\n",
    "\n",
    "    n=run_id+'_test_stats.json'\n",
    "    dict_to_json(stats_test,n) \n",
    "\n",
    "    try:    \n",
    "      cf=mod_perf.confusion_matrix(metrics=[\"f1\",\"f2\",\"f0point5\",\"accuracy\",\"precision\",\"recall\",\"specificity\",\"absolute_mcc\",\"min_per_class_accuracy\",\"mean_per_class_accuracy\"])\n",
    "      cf_df=cf[0].table.as_data_frame()\n",
    "      cf_df.to_csv(run_id+'_test_confusion_matrix.csv')\n",
    "    except:\n",
    "      pass\n",
    "\n",
    "    predictions = mod_best.predict(test)\n",
    "    predictions_df=test.cbind(predictions).as_data_frame() \n",
    "    predictions_df.to_csv(run_id+'_predictions.csv')\n",
    "    return\n",
    "\n",
    "def predictions_test(mod,test,run_id):\n",
    "    mod_perf=mod_best.model_performance(test)          \n",
    "    stats_test={}\n",
    "    stats_test=model_performance_stats(mod_perf)\n",
    "    n=run_id+'_test_stats.json'\n",
    "    dict_to_json(stats_test,n) \n",
    "    try:\n",
    "      cf=mod_perf.confusion_matrix()\n",
    "#      cf=mod_perf.confusion_matrix(metrics=[\"f1\",\"f2\",\"f0point5\",\"accuracy\",\"precision\",\"recall\",\"specificity\",\"absolute_mcc\",\"min_per_class_accuracy\",\"mean_per_class_accuracy\"])\n",
    "      cf_df=cf.table.as_data_frame()\n",
    "      cf_df.to_csv(run_id+'_test_confusion_matrix.csv')\n",
    "    except:\n",
    "      pass\n",
    "    predictions = mod_best.predict(test)    \n",
    "    predictions_df=test.cbind(predictions).as_data_frame() \n",
    "    predictions_df.to_csv(run_id+'_predictions.csv')\n",
    "    return predictions\n",
    "\n",
    "def check_X(x,df):\n",
    "    for name in x:\n",
    "        if name not in df.columns:\n",
    "          x.remove(name)  \n",
    "    return x    \n",
    "    \n",
    "    \n",
    "def get_stacked_ensemble(lst):\n",
    "    se=None\n",
    "    for model in model_set:\n",
    "      if 'BestOfFamily' in model:\n",
    "        se=model\n",
    "    if se is None:     \n",
    "      for model in model_set:\n",
    "        if 'AllModels'in model:\n",
    "          se=model           \n",
    "    return se       \n",
    "    \n",
    "def get_variables_types(df):\n",
    "    d={}\n",
    "    for key, val in df.types.items():\n",
    "        d[key]=val           \n",
    "    return d    \n",
    "    \n",
    "#  End Functions\n"
   ]
  },
  {
   "cell_type": "code",
   "execution_count": 5,
   "metadata": {},
   "outputs": [],
   "source": [
    "all_variables=None"
   ]
  },
  {
   "cell_type": "code",
   "execution_count": 6,
   "metadata": {},
   "outputs": [],
   "source": [
    "data_path='/Users/newzysharma/Desktop/Desktop/info6105/INFO6105-FinalProject/INFO6105-FinalProject/MetaData/hour.csv'"
   ]
  },
  {
   "cell_type": "code",
   "execution_count": 7,
   "metadata": {},
   "outputs": [
    {
     "name": "stdout",
     "output_type": "stream",
     "text": [
      "am1d1\n"
     ]
    }
   ],
   "source": [
    "run_id=alphabet(5)\n",
    "if server_path==None:\n",
    "  server_path=os.path.abspath(os.curdir)\n",
    "os.chdir(server_path) \n",
    "run_dir = os.path.join(server_path,run_id)\n",
    "os.mkdir(run_dir)\n",
    "os.chdir(run_dir)    \n",
    "\n",
    "# run_id to std out\n",
    "print (run_id)"
   ]
  },
  {
   "cell_type": "code",
   "execution_count": 8,
   "metadata": {},
   "outputs": [
    {
     "name": "stdout",
     "output_type": "stream",
     "text": [
      "/Users/newzysharma/Desktop/Desktop/info6105/INFO6105-FinalProject/INFO6105-FinalProject/MetaData/am1d1/logs   am1d1_autoh2o_log.zip\n"
     ]
    }
   ],
   "source": [
    "logfile=run_id+'_autoh2o_log.zip'\n",
    "logs_path=os.path.join(run_dir,'logs')\n",
    "print(logs_path,' ',logfile)"
   ]
  },
  {
   "cell_type": "code",
   "execution_count": 9,
   "metadata": {},
   "outputs": [
    {
     "name": "stdout",
     "output_type": "stream",
     "text": [
      "Checking whether there is an H2O instance running at http://localhost:42630 ..... not found.\n",
      "Attempting to start a local H2O server...\n",
      "  Java Version: java version \"11.0.2\" 2019-01-15 LTS; Java(TM) SE Runtime Environment 18.9 (build 11.0.2+9-LTS); Java HotSpot(TM) 64-Bit Server VM 18.9 (build 11.0.2+9-LTS, mixed mode)\n",
      "  Starting server from /anaconda3/lib/python3.7/site-packages/h2o/backend/bin/h2o.jar\n",
      "  Ice root: /var/folders/8c/swkczny90t36p2798_2khxfh0000gn/T/tmpka1tkgud\n",
      "  JVM stdout: /var/folders/8c/swkczny90t36p2798_2khxfh0000gn/T/tmpka1tkgud/h2o_newzysharma_started_from_python.out\n",
      "  JVM stderr: /var/folders/8c/swkczny90t36p2798_2khxfh0000gn/T/tmpka1tkgud/h2o_newzysharma_started_from_python.err\n",
      "  Server is running at http://127.0.0.1:42630\n",
      "Connecting to H2O server at http://127.0.0.1:42630 ... successful.\n"
     ]
    },
    {
     "data": {
      "text/html": [
       "<div style=\"overflow:auto\"><table style=\"width:50%\"><tr><td>H2O cluster uptime:</td>\n",
       "<td>01 secs</td></tr>\n",
       "<tr><td>H2O cluster timezone:</td>\n",
       "<td>America/New_York</td></tr>\n",
       "<tr><td>H2O data parsing timezone:</td>\n",
       "<td>UTC</td></tr>\n",
       "<tr><td>H2O cluster version:</td>\n",
       "<td>3.24.0.1</td></tr>\n",
       "<tr><td>H2O cluster version age:</td>\n",
       "<td>17 days </td></tr>\n",
       "<tr><td>H2O cluster name:</td>\n",
       "<td>H2O_from_python_newzysharma_1pbdzd</td></tr>\n",
       "<tr><td>H2O cluster total nodes:</td>\n",
       "<td>1</td></tr>\n",
       "<tr><td>H2O cluster free memory:</td>\n",
       "<td>2 Gb</td></tr>\n",
       "<tr><td>H2O cluster total cores:</td>\n",
       "<td>4</td></tr>\n",
       "<tr><td>H2O cluster allowed cores:</td>\n",
       "<td>4</td></tr>\n",
       "<tr><td>H2O cluster status:</td>\n",
       "<td>accepting new members, healthy</td></tr>\n",
       "<tr><td>H2O connection url:</td>\n",
       "<td>http://127.0.0.1:42630</td></tr>\n",
       "<tr><td>H2O connection proxy:</td>\n",
       "<td>None</td></tr>\n",
       "<tr><td>H2O internal security:</td>\n",
       "<td>False</td></tr>\n",
       "<tr><td>H2O API Extensions:</td>\n",
       "<td>Amazon S3, XGBoost, Algos, AutoML, Core V3, Core V4</td></tr>\n",
       "<tr><td>Python version:</td>\n",
       "<td>3.7.1 final</td></tr></table></div>"
      ],
      "text/plain": [
       "--------------------------  ---------------------------------------------------\n",
       "H2O cluster uptime:         01 secs\n",
       "H2O cluster timezone:       America/New_York\n",
       "H2O data parsing timezone:  UTC\n",
       "H2O cluster version:        3.24.0.1\n",
       "H2O cluster version age:    17 days\n",
       "H2O cluster name:           H2O_from_python_newzysharma_1pbdzd\n",
       "H2O cluster total nodes:    1\n",
       "H2O cluster free memory:    2 Gb\n",
       "H2O cluster total cores:    4\n",
       "H2O cluster allowed cores:  4\n",
       "H2O cluster status:         accepting new members, healthy\n",
       "H2O connection url:         http://127.0.0.1:42630\n",
       "H2O connection proxy:\n",
       "H2O internal security:      False\n",
       "H2O API Extensions:         Amazon S3, XGBoost, Algos, AutoML, Core V3, Core V4\n",
       "Python version:             3.7.1 final\n",
       "--------------------------  ---------------------------------------------------"
      ]
     },
     "metadata": {},
     "output_type": "display_data"
    }
   ],
   "source": [
    "# 65535 Highest port no\n",
    "port_no=random.randint(5555,55555)\n",
    "h2o.init(strict_version_check=False,min_mem_size_GB=min_mem_size,port=port_no)"
   ]
  },
  {
   "cell_type": "code",
   "execution_count": 10,
   "metadata": {},
   "outputs": [
    {
     "name": "stdout",
     "output_type": "stream",
     "text": [
      "{'start_time': 1555638484.295697, 'target': None, 'server_path': '/Users/newzysharma/Desktop/Desktop/info6105/INFO6105-FinalProject/INFO6105-FinalProject/MetaData', 'data_path': '/Users/newzysharma/Desktop/Desktop/info6105/INFO6105-FinalProject/INFO6105-FinalProject/MetaData/hour.csv', 'test_path': None, 'max_models': 9, 'run_time': 1000, 'run_id': 'am1d1', 'scale': False, 'classification': False, 'model_path': None, 'balance': False, 'balance_threshold': 0.2, 'project': None, 'end_time': 1555638484.295706, 'execution_time': 0.0, 'run_path': '/Users/newzysharma/Desktop/Desktop/info6105/INFO6105-FinalProject/INFO6105-FinalProject/MetaData/am1d1', 'nthreads': 1, 'min_mem_size': 1, 'analysis': 0}\n"
     ]
    }
   ],
   "source": [
    "# meta data\n",
    "meta_data = set_meta_data(analysis, run_id,server_path,data_path,test_path,model_path,target,run_time,classification,scale,max_models,balance_y,balance_threshold,name,run_dir,nthreads,min_mem_size)\n",
    "print(meta_data)\n"
   ]
  },
  {
   "cell_type": "code",
   "execution_count": 11,
   "metadata": {},
   "outputs": [
    {
     "name": "stdout",
     "output_type": "stream",
     "text": [
      "/Users/newzysharma/Desktop/Desktop/info6105/INFO6105-FinalProject/INFO6105-FinalProject/MetaData/hour.csv\n"
     ]
    }
   ],
   "source": [
    "print(data_path)"
   ]
  },
  {
   "cell_type": "code",
   "execution_count": 12,
   "metadata": {},
   "outputs": [
    {
     "name": "stdout",
     "output_type": "stream",
     "text": [
      "Parse progress: |█████████████████████████████████████████████████████████| 100%\n"
     ]
    }
   ],
   "source": [
    "df = h2o.import_file(data_path)"
   ]
  },
  {
   "cell_type": "code",
   "execution_count": 13,
   "metadata": {},
   "outputs": [
    {
     "data": {
      "text/html": [
       "<table>\n",
       "<thead>\n",
       "<tr><th style=\"text-align: right;\">  instant</th><th>dteday             </th><th style=\"text-align: right;\">  season</th><th style=\"text-align: right;\">  yr</th><th style=\"text-align: right;\">  mnth</th><th style=\"text-align: right;\">  hr</th><th style=\"text-align: right;\">  holiday</th><th style=\"text-align: right;\">  weekday</th><th style=\"text-align: right;\">  workingday</th><th style=\"text-align: right;\">  weathersit</th><th style=\"text-align: right;\">  temp</th><th style=\"text-align: right;\">  atemp</th><th style=\"text-align: right;\">  hum</th><th style=\"text-align: right;\">  windspeed</th><th style=\"text-align: right;\">  casual</th><th style=\"text-align: right;\">  registered</th><th style=\"text-align: right;\">  cnt</th></tr>\n",
       "</thead>\n",
       "<tbody>\n",
       "<tr><td style=\"text-align: right;\">        1</td><td>2011-01-01 00:00:00</td><td style=\"text-align: right;\">       1</td><td style=\"text-align: right;\">   0</td><td style=\"text-align: right;\">     1</td><td style=\"text-align: right;\">   0</td><td style=\"text-align: right;\">        0</td><td style=\"text-align: right;\">        6</td><td style=\"text-align: right;\">           0</td><td style=\"text-align: right;\">           1</td><td style=\"text-align: right;\">  0.24</td><td style=\"text-align: right;\"> 0.2879</td><td style=\"text-align: right;\"> 0.81</td><td style=\"text-align: right;\">     0     </td><td style=\"text-align: right;\">       3</td><td style=\"text-align: right;\">          13</td><td style=\"text-align: right;\">   16</td></tr>\n",
       "<tr><td style=\"text-align: right;\">        2</td><td>2011-01-01 00:00:00</td><td style=\"text-align: right;\">       1</td><td style=\"text-align: right;\">   0</td><td style=\"text-align: right;\">     1</td><td style=\"text-align: right;\">   1</td><td style=\"text-align: right;\">        0</td><td style=\"text-align: right;\">        6</td><td style=\"text-align: right;\">           0</td><td style=\"text-align: right;\">           1</td><td style=\"text-align: right;\">  0.22</td><td style=\"text-align: right;\"> 0.2727</td><td style=\"text-align: right;\"> 0.8 </td><td style=\"text-align: right;\">     0     </td><td style=\"text-align: right;\">       8</td><td style=\"text-align: right;\">          32</td><td style=\"text-align: right;\">   40</td></tr>\n",
       "<tr><td style=\"text-align: right;\">        3</td><td>2011-01-01 00:00:00</td><td style=\"text-align: right;\">       1</td><td style=\"text-align: right;\">   0</td><td style=\"text-align: right;\">     1</td><td style=\"text-align: right;\">   2</td><td style=\"text-align: right;\">        0</td><td style=\"text-align: right;\">        6</td><td style=\"text-align: right;\">           0</td><td style=\"text-align: right;\">           1</td><td style=\"text-align: right;\">  0.22</td><td style=\"text-align: right;\"> 0.2727</td><td style=\"text-align: right;\"> 0.8 </td><td style=\"text-align: right;\">     0     </td><td style=\"text-align: right;\">       5</td><td style=\"text-align: right;\">          27</td><td style=\"text-align: right;\">   32</td></tr>\n",
       "<tr><td style=\"text-align: right;\">        4</td><td>2011-01-01 00:00:00</td><td style=\"text-align: right;\">       1</td><td style=\"text-align: right;\">   0</td><td style=\"text-align: right;\">     1</td><td style=\"text-align: right;\">   3</td><td style=\"text-align: right;\">        0</td><td style=\"text-align: right;\">        6</td><td style=\"text-align: right;\">           0</td><td style=\"text-align: right;\">           1</td><td style=\"text-align: right;\">  0.24</td><td style=\"text-align: right;\"> 0.2879</td><td style=\"text-align: right;\"> 0.75</td><td style=\"text-align: right;\">     0     </td><td style=\"text-align: right;\">       3</td><td style=\"text-align: right;\">          10</td><td style=\"text-align: right;\">   13</td></tr>\n",
       "<tr><td style=\"text-align: right;\">        5</td><td>2011-01-01 00:00:00</td><td style=\"text-align: right;\">       1</td><td style=\"text-align: right;\">   0</td><td style=\"text-align: right;\">     1</td><td style=\"text-align: right;\">   4</td><td style=\"text-align: right;\">        0</td><td style=\"text-align: right;\">        6</td><td style=\"text-align: right;\">           0</td><td style=\"text-align: right;\">           1</td><td style=\"text-align: right;\">  0.24</td><td style=\"text-align: right;\"> 0.2879</td><td style=\"text-align: right;\"> 0.75</td><td style=\"text-align: right;\">     0     </td><td style=\"text-align: right;\">       0</td><td style=\"text-align: right;\">           1</td><td style=\"text-align: right;\">    1</td></tr>\n",
       "<tr><td style=\"text-align: right;\">        6</td><td>2011-01-01 00:00:00</td><td style=\"text-align: right;\">       1</td><td style=\"text-align: right;\">   0</td><td style=\"text-align: right;\">     1</td><td style=\"text-align: right;\">   5</td><td style=\"text-align: right;\">        0</td><td style=\"text-align: right;\">        6</td><td style=\"text-align: right;\">           0</td><td style=\"text-align: right;\">           2</td><td style=\"text-align: right;\">  0.24</td><td style=\"text-align: right;\"> 0.2576</td><td style=\"text-align: right;\"> 0.75</td><td style=\"text-align: right;\">     0.0896</td><td style=\"text-align: right;\">       0</td><td style=\"text-align: right;\">           1</td><td style=\"text-align: right;\">    1</td></tr>\n",
       "<tr><td style=\"text-align: right;\">        7</td><td>2011-01-01 00:00:00</td><td style=\"text-align: right;\">       1</td><td style=\"text-align: right;\">   0</td><td style=\"text-align: right;\">     1</td><td style=\"text-align: right;\">   6</td><td style=\"text-align: right;\">        0</td><td style=\"text-align: right;\">        6</td><td style=\"text-align: right;\">           0</td><td style=\"text-align: right;\">           1</td><td style=\"text-align: right;\">  0.22</td><td style=\"text-align: right;\"> 0.2727</td><td style=\"text-align: right;\"> 0.8 </td><td style=\"text-align: right;\">     0     </td><td style=\"text-align: right;\">       2</td><td style=\"text-align: right;\">           0</td><td style=\"text-align: right;\">    2</td></tr>\n",
       "<tr><td style=\"text-align: right;\">        8</td><td>2011-01-01 00:00:00</td><td style=\"text-align: right;\">       1</td><td style=\"text-align: right;\">   0</td><td style=\"text-align: right;\">     1</td><td style=\"text-align: right;\">   7</td><td style=\"text-align: right;\">        0</td><td style=\"text-align: right;\">        6</td><td style=\"text-align: right;\">           0</td><td style=\"text-align: right;\">           1</td><td style=\"text-align: right;\">  0.2 </td><td style=\"text-align: right;\"> 0.2576</td><td style=\"text-align: right;\"> 0.86</td><td style=\"text-align: right;\">     0     </td><td style=\"text-align: right;\">       1</td><td style=\"text-align: right;\">           2</td><td style=\"text-align: right;\">    3</td></tr>\n",
       "<tr><td style=\"text-align: right;\">        9</td><td>2011-01-01 00:00:00</td><td style=\"text-align: right;\">       1</td><td style=\"text-align: right;\">   0</td><td style=\"text-align: right;\">     1</td><td style=\"text-align: right;\">   8</td><td style=\"text-align: right;\">        0</td><td style=\"text-align: right;\">        6</td><td style=\"text-align: right;\">           0</td><td style=\"text-align: right;\">           1</td><td style=\"text-align: right;\">  0.24</td><td style=\"text-align: right;\"> 0.2879</td><td style=\"text-align: right;\"> 0.75</td><td style=\"text-align: right;\">     0     </td><td style=\"text-align: right;\">       1</td><td style=\"text-align: right;\">           7</td><td style=\"text-align: right;\">    8</td></tr>\n",
       "<tr><td style=\"text-align: right;\">       10</td><td>2011-01-01 00:00:00</td><td style=\"text-align: right;\">       1</td><td style=\"text-align: right;\">   0</td><td style=\"text-align: right;\">     1</td><td style=\"text-align: right;\">   9</td><td style=\"text-align: right;\">        0</td><td style=\"text-align: right;\">        6</td><td style=\"text-align: right;\">           0</td><td style=\"text-align: right;\">           1</td><td style=\"text-align: right;\">  0.32</td><td style=\"text-align: right;\"> 0.3485</td><td style=\"text-align: right;\"> 0.76</td><td style=\"text-align: right;\">     0     </td><td style=\"text-align: right;\">       8</td><td style=\"text-align: right;\">           6</td><td style=\"text-align: right;\">   14</td></tr>\n",
       "</tbody>\n",
       "</table>"
      ]
     },
     "metadata": {},
     "output_type": "display_data"
    },
    {
     "data": {
      "text/plain": []
     },
     "execution_count": 13,
     "metadata": {},
     "output_type": "execute_result"
    }
   ],
   "source": [
    "df.head()"
   ]
  },
  {
   "cell_type": "code",
   "execution_count": 14,
   "metadata": {},
   "outputs": [
    {
     "name": "stdout",
     "output_type": "stream",
     "text": [
      "Rows:17379\n",
      "Cols:17\n",
      "\n",
      "\n"
     ]
    },
    {
     "data": {
      "text/html": [
       "<table>\n",
       "<thead>\n",
       "<tr><th>       </th><th>instant          </th><th>dteday             </th><th>season            </th><th>yr                </th><th>mnth              </th><th>hr                </th><th>holiday             </th><th>weekday          </th><th>workingday        </th><th>weathersit        </th><th>temp               </th><th>atemp              </th><th>hum                </th><th>windspeed         </th><th>casual           </th><th>registered        </th><th>cnt               </th></tr>\n",
       "</thead>\n",
       "<tbody>\n",
       "<tr><td>type   </td><td>int              </td><td>time               </td><td>int               </td><td>int               </td><td>int               </td><td>int               </td><td>int                 </td><td>int              </td><td>int               </td><td>int               </td><td>real               </td><td>real               </td><td>real               </td><td>real              </td><td>int              </td><td>int               </td><td>int               </td></tr>\n",
       "<tr><td>mins   </td><td>1.0              </td><td>1293840000000.0    </td><td>1.0               </td><td>0.0               </td><td>1.0               </td><td>0.0               </td><td>0.0                 </td><td>0.0              </td><td>0.0               </td><td>1.0               </td><td>0.02               </td><td>0.0                </td><td>0.0                </td><td>0.0               </td><td>0.0              </td><td>0.0               </td><td>1.0               </td></tr>\n",
       "<tr><td>mean   </td><td>8690.0           </td><td>1325477314552.0461 </td><td>2.501639910236492 </td><td>0.5025605615973301</td><td>6.5377754761493785</td><td>11.546751826917548</td><td>0.028770355026181024</td><td>3.003682605443351</td><td>0.6827205247712756</td><td>1.425283387997008 </td><td>0.4969871684216584 </td><td>0.47577510213476026</td><td>0.6272288394038784 </td><td>0.1900976063064618</td><td>35.67621842453536</td><td>153.78686920996606</td><td>189.4630876345014 </td></tr>\n",
       "<tr><td>maxs   </td><td>17379.0          </td><td>1356912000000.0    </td><td>4.0               </td><td>1.0               </td><td>12.0              </td><td>23.0              </td><td>1.0                 </td><td>6.0              </td><td>1.0               </td><td>4.0               </td><td>1.0                </td><td>1.0                </td><td>1.0                </td><td>0.8507            </td><td>367.0            </td><td>886.0             </td><td>977.0             </td></tr>\n",
       "<tr><td>sigma  </td><td>5017.029499614288</td><td>18150225217.779854 </td><td>1.1069181394480765</td><td>0.5000078290910197</td><td>3.438775713750168 </td><td>6.914405095264493 </td><td>0.16716527638437123 </td><td>2.005771456110988</td><td>0.4654306335238829</td><td>0.6393568777542534</td><td>0.19255612124972193</td><td>0.17185021563535932</td><td>0.19292983406291514</td><td>0.1223402285727905</td><td>49.30503038705309</td><td>151.35728591258314</td><td>181.38759909186476</td></tr>\n",
       "<tr><td>zeros  </td><td>0                </td><td>0                  </td><td>0                 </td><td>8645              </td><td>0                 </td><td>726               </td><td>16879               </td><td>2502             </td><td>5514              </td><td>0                 </td><td>0                  </td><td>2                  </td><td>22                 </td><td>2180              </td><td>1581             </td><td>24                </td><td>0                 </td></tr>\n",
       "<tr><td>missing</td><td>0                </td><td>0                  </td><td>0                 </td><td>0                 </td><td>0                 </td><td>0                 </td><td>0                   </td><td>0                </td><td>0                 </td><td>0                 </td><td>0                  </td><td>0                  </td><td>0                  </td><td>0                 </td><td>0                </td><td>0                 </td><td>0                 </td></tr>\n",
       "<tr><td>0      </td><td>1.0              </td><td>2011-01-01 00:00:00</td><td>1.0               </td><td>0.0               </td><td>1.0               </td><td>0.0               </td><td>0.0                 </td><td>6.0              </td><td>0.0               </td><td>1.0               </td><td>0.24               </td><td>0.2879             </td><td>0.81               </td><td>0.0               </td><td>3.0              </td><td>13.0              </td><td>16.0              </td></tr>\n",
       "<tr><td>1      </td><td>2.0              </td><td>2011-01-01 00:00:00</td><td>1.0               </td><td>0.0               </td><td>1.0               </td><td>1.0               </td><td>0.0                 </td><td>6.0              </td><td>0.0               </td><td>1.0               </td><td>0.22               </td><td>0.2727             </td><td>0.8                </td><td>0.0               </td><td>8.0              </td><td>32.0              </td><td>40.0              </td></tr>\n",
       "<tr><td>2      </td><td>3.0              </td><td>2011-01-01 00:00:00</td><td>1.0               </td><td>0.0               </td><td>1.0               </td><td>2.0               </td><td>0.0                 </td><td>6.0              </td><td>0.0               </td><td>1.0               </td><td>0.22               </td><td>0.2727             </td><td>0.8                </td><td>0.0               </td><td>5.0              </td><td>27.0              </td><td>32.0              </td></tr>\n",
       "<tr><td>3      </td><td>4.0              </td><td>2011-01-01 00:00:00</td><td>1.0               </td><td>0.0               </td><td>1.0               </td><td>3.0               </td><td>0.0                 </td><td>6.0              </td><td>0.0               </td><td>1.0               </td><td>0.24               </td><td>0.2879             </td><td>0.75               </td><td>0.0               </td><td>3.0              </td><td>10.0              </td><td>13.0              </td></tr>\n",
       "<tr><td>4      </td><td>5.0              </td><td>2011-01-01 00:00:00</td><td>1.0               </td><td>0.0               </td><td>1.0               </td><td>4.0               </td><td>0.0                 </td><td>6.0              </td><td>0.0               </td><td>1.0               </td><td>0.24               </td><td>0.2879             </td><td>0.75               </td><td>0.0               </td><td>0.0              </td><td>1.0               </td><td>1.0               </td></tr>\n",
       "<tr><td>5      </td><td>6.0              </td><td>2011-01-01 00:00:00</td><td>1.0               </td><td>0.0               </td><td>1.0               </td><td>5.0               </td><td>0.0                 </td><td>6.0              </td><td>0.0               </td><td>2.0               </td><td>0.24               </td><td>0.2576             </td><td>0.75               </td><td>0.0896            </td><td>0.0              </td><td>1.0               </td><td>1.0               </td></tr>\n",
       "<tr><td>6      </td><td>7.0              </td><td>2011-01-01 00:00:00</td><td>1.0               </td><td>0.0               </td><td>1.0               </td><td>6.0               </td><td>0.0                 </td><td>6.0              </td><td>0.0               </td><td>1.0               </td><td>0.22               </td><td>0.2727             </td><td>0.8                </td><td>0.0               </td><td>2.0              </td><td>0.0               </td><td>2.0               </td></tr>\n",
       "<tr><td>7      </td><td>8.0              </td><td>2011-01-01 00:00:00</td><td>1.0               </td><td>0.0               </td><td>1.0               </td><td>7.0               </td><td>0.0                 </td><td>6.0              </td><td>0.0               </td><td>1.0               </td><td>0.2                </td><td>0.2576             </td><td>0.86               </td><td>0.0               </td><td>1.0              </td><td>2.0               </td><td>3.0               </td></tr>\n",
       "<tr><td>8      </td><td>9.0              </td><td>2011-01-01 00:00:00</td><td>1.0               </td><td>0.0               </td><td>1.0               </td><td>8.0               </td><td>0.0                 </td><td>6.0              </td><td>0.0               </td><td>1.0               </td><td>0.24               </td><td>0.2879             </td><td>0.75               </td><td>0.0               </td><td>1.0              </td><td>7.0               </td><td>8.0               </td></tr>\n",
       "<tr><td>9      </td><td>10.0             </td><td>2011-01-01 00:00:00</td><td>1.0               </td><td>0.0               </td><td>1.0               </td><td>9.0               </td><td>0.0                 </td><td>6.0              </td><td>0.0               </td><td>1.0               </td><td>0.32               </td><td>0.3485             </td><td>0.76               </td><td>0.0               </td><td>8.0              </td><td>6.0               </td><td>14.0              </td></tr>\n",
       "</tbody>\n",
       "</table>"
      ]
     },
     "metadata": {},
     "output_type": "display_data"
    }
   ],
   "source": [
    "df.describe()"
   ]
  },
  {
   "cell_type": "code",
   "execution_count": 15,
   "metadata": {},
   "outputs": [
    {
     "data": {
      "text/plain": [
       "\"\\nimport sys\\nsys.stdout = open('describe.txt', 'w')\\nprint ('test')\\n\""
      ]
     },
     "execution_count": 15,
     "metadata": {},
     "output_type": "execute_result"
    }
   ],
   "source": [
    "'''\n",
    "import sys\n",
    "sys.stdout = open('describe.txt', 'w')\n",
    "print ('test')\n",
    "'''"
   ]
  },
  {
   "cell_type": "code",
   "execution_count": 19,
   "metadata": {},
   "outputs": [],
   "source": [
    "# dependent variable\n",
    "# assign target and inputs for classification or regression\n",
    "if target==None:\n",
    "  target=df.columns[5]   \n",
    "y = target"
   ]
  },
  {
   "cell_type": "code",
   "execution_count": 20,
   "metadata": {},
   "outputs": [
    {
     "name": "stdout",
     "output_type": "stream",
     "text": [
      "cnt\n"
     ]
    }
   ],
   "source": [
    "print(y)"
   ]
  },
  {
   "cell_type": "code",
   "execution_count": 21,
   "metadata": {},
   "outputs": [
    {
     "name": "stdout",
     "output_type": "stream",
     "text": [
      "None\n"
     ]
    }
   ],
   "source": [
    "print(all_variables)"
   ]
  },
  {
   "cell_type": "code",
   "execution_count": 22,
   "metadata": {},
   "outputs": [],
   "source": [
    "if all_variables is not None:\n",
    "  ivd=get_all_variables_csv(all_variables)\n",
    "  print(ivd)    \n",
    "  X=check_all_variables(df,ivd,y)\n",
    "  print(X)"
   ]
  },
  {
   "cell_type": "code",
   "execution_count": 23,
   "metadata": {},
   "outputs": [],
   "source": [
    "# independent variables\n",
    "\n",
    "X = []  \n",
    "if all_variables is None:\n",
    "  X=get_independent_variables(df, target)  \n",
    "else: \n",
    "  ivd=get_all_variables_csv(all_variables)    \n",
    "  X=check_all_variables(df, ivd)\n",
    "\n",
    "\n",
    "X=check_X(X,df)\n",
    "\n",
    "\n",
    "# Add independent variables\n",
    "\n",
    "meta_data['X']=X  \n",
    "\n",
    "\n",
    "# impute missing values\n",
    "\n",
    "_=impute_missing_values(df,X, scale)"
   ]
  },
  {
   "cell_type": "code",
   "execution_count": 24,
   "metadata": {},
   "outputs": [],
   "source": [
    "if analysis == 3:\n",
    "  classification=False\n",
    "elif analysis == 2:\n",
    "  classification=True\n",
    "elif analysis == 1:\n",
    "  classification=True"
   ]
  },
  {
   "cell_type": "code",
   "execution_count": 25,
   "metadata": {},
   "outputs": [],
   "source": [
    "# Force target to be factors\n",
    "# Only 'int' or 'string' are allowed for asfactor(), got Target (Total orders):real \n",
    "\n",
    "if classification:\n",
    "    df[y] = df[y].asfactor()"
   ]
  },
  {
   "cell_type": "code",
   "execution_count": 26,
   "metadata": {},
   "outputs": [],
   "source": [
    "def check_y(y,df):\n",
    "  ok=False\n",
    "  C = [name for name in df.columns if name == y]\n",
    "  for key, val in df.types.items():\n",
    "    if key in C:\n",
    "      if val in ['real','int','enum']:        \n",
    "        ok=True         \n",
    "  return ok"
   ]
  },
  {
   "cell_type": "code",
   "execution_count": 27,
   "metadata": {},
   "outputs": [],
   "source": [
    "ok=check_y(y,df)\n",
    "if not ok:\n",
    "    print(ok)"
   ]
  },
  {
   "cell_type": "code",
   "execution_count": 28,
   "metadata": {},
   "outputs": [
    {
     "name": "stdout",
     "output_type": "stream",
     "text": [
      "True\n"
     ]
    }
   ],
   "source": [
    "print(ok)"
   ]
  },
  {
   "cell_type": "code",
   "execution_count": 29,
   "metadata": {},
   "outputs": [
    {
     "name": "stdout",
     "output_type": "stream",
     "text": [
      "[]\n"
     ]
    }
   ],
   "source": [
    "classification=True\n",
    "if classification:\n",
    "    print(df[y].levels())"
   ]
  },
  {
   "cell_type": "code",
   "execution_count": 30,
   "metadata": {},
   "outputs": [
    {
     "name": "stdout",
     "output_type": "stream",
     "text": [
      "[]\n"
     ]
    }
   ],
   "source": [
    "print(df[y].levels())"
   ]
  },
  {
   "cell_type": "code",
   "execution_count": 31,
   "metadata": {},
   "outputs": [
    {
     "data": {
      "text/plain": [
       "{'instant': 'int',\n",
       " 'dteday': 'time',\n",
       " 'season': 'int',\n",
       " 'yr': 'int',\n",
       " 'mnth': 'int',\n",
       " 'hr': 'int',\n",
       " 'holiday': 'int',\n",
       " 'weekday': 'int',\n",
       " 'workingday': 'int',\n",
       " 'weathersit': 'int',\n",
       " 'temp': 'real',\n",
       " 'atemp': 'real',\n",
       " 'hum': 'real',\n",
       " 'windspeed': 'real',\n",
       " 'casual': 'int',\n",
       " 'registered': 'int',\n",
       " 'cnt': 'int'}"
      ]
     },
     "execution_count": 31,
     "metadata": {},
     "output_type": "execute_result"
    }
   ],
   "source": [
    "allV=get_variables_types(df)\n",
    "allV"
   ]
  },
  {
   "cell_type": "code",
   "execution_count": 32,
   "metadata": {},
   "outputs": [],
   "source": [
    "meta_data['variables']=allV"
   ]
  },
  {
   "cell_type": "code",
   "execution_count": 33,
   "metadata": {},
   "outputs": [],
   "source": [
    "# Set up AutoML\n",
    "\n",
    "aml = H2OAutoML(max_runtime_secs=run_time,project_name = name)"
   ]
  },
  {
   "cell_type": "code",
   "execution_count": 34,
   "metadata": {},
   "outputs": [],
   "source": [
    "model_start_time = time.time()"
   ]
  },
  {
   "cell_type": "code",
   "execution_count": 35,
   "metadata": {},
   "outputs": [
    {
     "name": "stdout",
     "output_type": "stream",
     "text": [
      "AutoML progress: |████████████████████████████████████████████████████████| 100%\n"
     ]
    }
   ],
   "source": [
    "aml.train(x=X,y=y,training_frame=df)"
   ]
  },
  {
   "cell_type": "code",
   "execution_count": 36,
   "metadata": {},
   "outputs": [],
   "source": [
    "meta_data['model_execution_time'] = time.time() - model_start_time"
   ]
  },
  {
   "cell_type": "code",
   "execution_count": 37,
   "metadata": {},
   "outputs": [
    {
     "name": "stdout",
     "output_type": "stream",
     "text": [
      "Execution time for  1000 sec =   1140.7439978122711\n"
     ]
    }
   ],
   "source": [
    "execution_time =  time.time() - model_start_time\n",
    "meta_data['model_execution_time_sec'] = execution_time\n",
    "print(\"Execution time for \", run_time,\"sec =  \",meta_data['model_execution_time_sec'])"
   ]
  },
  {
   "cell_type": "code",
   "execution_count": 38,
   "metadata": {},
   "outputs": [],
   "source": [
    "# get leaderboard\n",
    "aml_leaderboard_df=aml.leaderboard.as_data_frame()"
   ]
  },
  {
   "cell_type": "code",
   "execution_count": 39,
   "metadata": {},
   "outputs": [
    {
     "data": {
      "text/html": [
       "<div>\n",
       "<style scoped>\n",
       "    .dataframe tbody tr th:only-of-type {\n",
       "        vertical-align: middle;\n",
       "    }\n",
       "\n",
       "    .dataframe tbody tr th {\n",
       "        vertical-align: top;\n",
       "    }\n",
       "\n",
       "    .dataframe thead th {\n",
       "        text-align: right;\n",
       "    }\n",
       "</style>\n",
       "<table border=\"1\" class=\"dataframe\">\n",
       "  <thead>\n",
       "    <tr style=\"text-align: right;\">\n",
       "      <th></th>\n",
       "      <th>model_id</th>\n",
       "      <th>mean_residual_deviance</th>\n",
       "      <th>rmse</th>\n",
       "      <th>mse</th>\n",
       "      <th>mae</th>\n",
       "      <th>rmsle</th>\n",
       "    </tr>\n",
       "  </thead>\n",
       "  <tbody>\n",
       "    <tr>\n",
       "      <th>0</th>\n",
       "      <td>XGBoost_1_AutoML_20190418_214850</td>\n",
       "      <td>19.214101</td>\n",
       "      <td>4.383389</td>\n",
       "      <td>19.214101</td>\n",
       "      <td>2.634751</td>\n",
       "      <td>0.054888</td>\n",
       "    </tr>\n",
       "    <tr>\n",
       "      <th>1</th>\n",
       "      <td>GBM_1_AutoML_20190418_214850</td>\n",
       "      <td>25.332040</td>\n",
       "      <td>5.033095</td>\n",
       "      <td>25.332040</td>\n",
       "      <td>3.227131</td>\n",
       "      <td>NaN</td>\n",
       "    </tr>\n",
       "    <tr>\n",
       "      <th>2</th>\n",
       "      <td>XGBoost_2_AutoML_20190418_214850</td>\n",
       "      <td>27.239170</td>\n",
       "      <td>5.219116</td>\n",
       "      <td>27.239170</td>\n",
       "      <td>3.262814</td>\n",
       "      <td>NaN</td>\n",
       "    </tr>\n",
       "    <tr>\n",
       "      <th>3</th>\n",
       "      <td>XGBoost_3_AutoML_20190418_214850</td>\n",
       "      <td>27.944545</td>\n",
       "      <td>5.286260</td>\n",
       "      <td>27.944545</td>\n",
       "      <td>3.475809</td>\n",
       "      <td>0.099999</td>\n",
       "    </tr>\n",
       "    <tr>\n",
       "      <th>4</th>\n",
       "      <td>GBM_3_AutoML_20190418_214850</td>\n",
       "      <td>31.736674</td>\n",
       "      <td>5.633531</td>\n",
       "      <td>31.736674</td>\n",
       "      <td>3.454525</td>\n",
       "      <td>0.073510</td>\n",
       "    </tr>\n",
       "    <tr>\n",
       "      <th>5</th>\n",
       "      <td>GLM_grid_1_AutoML_20190418_214850_model_1</td>\n",
       "      <td>38.387049</td>\n",
       "      <td>6.195728</td>\n",
       "      <td>38.387049</td>\n",
       "      <td>4.451969</td>\n",
       "      <td>NaN</td>\n",
       "    </tr>\n",
       "    <tr>\n",
       "      <th>6</th>\n",
       "      <td>GBM_2_AutoML_20190418_214850</td>\n",
       "      <td>38.628741</td>\n",
       "      <td>6.215202</td>\n",
       "      <td>38.628741</td>\n",
       "      <td>4.064625</td>\n",
       "      <td>NaN</td>\n",
       "    </tr>\n",
       "    <tr>\n",
       "      <th>7</th>\n",
       "      <td>StackedEnsemble_AllModels_AutoML_20190418_214850</td>\n",
       "      <td>41.682334</td>\n",
       "      <td>6.456186</td>\n",
       "      <td>41.682334</td>\n",
       "      <td>4.399957</td>\n",
       "      <td>0.234378</td>\n",
       "    </tr>\n",
       "    <tr>\n",
       "      <th>8</th>\n",
       "      <td>DRF_1_AutoML_20190418_214850</td>\n",
       "      <td>46.675148</td>\n",
       "      <td>6.831921</td>\n",
       "      <td>46.675148</td>\n",
       "      <td>3.714254</td>\n",
       "      <td>0.080411</td>\n",
       "    </tr>\n",
       "    <tr>\n",
       "      <th>9</th>\n",
       "      <td>StackedEnsemble_BestOfFamily_AutoML_20190418_2...</td>\n",
       "      <td>110.001774</td>\n",
       "      <td>10.488173</td>\n",
       "      <td>110.001774</td>\n",
       "      <td>7.815701</td>\n",
       "      <td>0.380275</td>\n",
       "    </tr>\n",
       "    <tr>\n",
       "      <th>10</th>\n",
       "      <td>GBM_4_AutoML_20190418_214850</td>\n",
       "      <td>1703.451018</td>\n",
       "      <td>41.272885</td>\n",
       "      <td>1703.451018</td>\n",
       "      <td>29.300822</td>\n",
       "      <td>0.780390</td>\n",
       "    </tr>\n",
       "  </tbody>\n",
       "</table>\n",
       "</div>"
      ],
      "text/plain": [
       "                                             model_id  mean_residual_deviance  \\\n",
       "0                    XGBoost_1_AutoML_20190418_214850               19.214101   \n",
       "1                        GBM_1_AutoML_20190418_214850               25.332040   \n",
       "2                    XGBoost_2_AutoML_20190418_214850               27.239170   \n",
       "3                    XGBoost_3_AutoML_20190418_214850               27.944545   \n",
       "4                        GBM_3_AutoML_20190418_214850               31.736674   \n",
       "5           GLM_grid_1_AutoML_20190418_214850_model_1               38.387049   \n",
       "6                        GBM_2_AutoML_20190418_214850               38.628741   \n",
       "7    StackedEnsemble_AllModels_AutoML_20190418_214850               41.682334   \n",
       "8                        DRF_1_AutoML_20190418_214850               46.675148   \n",
       "9   StackedEnsemble_BestOfFamily_AutoML_20190418_2...              110.001774   \n",
       "10                       GBM_4_AutoML_20190418_214850             1703.451018   \n",
       "\n",
       "         rmse          mse        mae     rmsle  \n",
       "0    4.383389    19.214101   2.634751  0.054888  \n",
       "1    5.033095    25.332040   3.227131       NaN  \n",
       "2    5.219116    27.239170   3.262814       NaN  \n",
       "3    5.286260    27.944545   3.475809  0.099999  \n",
       "4    5.633531    31.736674   3.454525  0.073510  \n",
       "5    6.195728    38.387049   4.451969       NaN  \n",
       "6    6.215202    38.628741   4.064625       NaN  \n",
       "7    6.456186    41.682334   4.399957  0.234378  \n",
       "8    6.831921    46.675148   3.714254  0.080411  \n",
       "9   10.488173   110.001774   7.815701  0.380275  \n",
       "10  41.272885  1703.451018  29.300822  0.780390  "
      ]
     },
     "execution_count": 39,
     "metadata": {},
     "output_type": "execute_result"
    }
   ],
   "source": [
    "aml_leaderboard_df"
   ]
  },
  {
   "cell_type": "code",
   "execution_count": 40,
   "metadata": {},
   "outputs": [],
   "source": [
    "# STart best model as first model\n",
    "\n",
    "model_set=aml_leaderboard_df['model_id']\n",
    "mod_best=h2o.get_model(model_set[0])"
   ]
  },
  {
   "cell_type": "code",
   "execution_count": 41,
   "metadata": {},
   "outputs": [
    {
     "data": {
      "text/plain": [
       "'XGBoost_1_AutoML_20190418_214850'"
      ]
     },
     "execution_count": 41,
     "metadata": {},
     "output_type": "execute_result"
    }
   ],
   "source": [
    "mod_best._id"
   ]
  },
  {
   "cell_type": "code",
   "execution_count": 42,
   "metadata": {},
   "outputs": [],
   "source": [
    "# Get stacked ensemble  \n",
    "se=get_stacked_ensemble(model_set)"
   ]
  },
  {
   "cell_type": "code",
   "execution_count": 43,
   "metadata": {},
   "outputs": [
    {
     "name": "stdout",
     "output_type": "stream",
     "text": [
      "StackedEnsemble_BestOfFamily_AutoML_20190418_214850\n"
     ]
    }
   ],
   "source": [
    "print(se)"
   ]
  },
  {
   "cell_type": "code",
   "execution_count": 44,
   "metadata": {},
   "outputs": [
    {
     "data": {
      "text/plain": [
       "['__class__',\n",
       " '__delattr__',\n",
       " '__dict__',\n",
       " '__dir__',\n",
       " '__doc__',\n",
       " '__eq__',\n",
       " '__format__',\n",
       " '__ge__',\n",
       " '__getattr__',\n",
       " '__getattribute__',\n",
       " '__gt__',\n",
       " '__hash__',\n",
       " '__init__',\n",
       " '__init_subclass__',\n",
       " '__le__',\n",
       " '__lt__',\n",
       " '__module__',\n",
       " '__ne__',\n",
       " '__new__',\n",
       " '__reduce__',\n",
       " '__reduce_ex__',\n",
       " '__repr__',\n",
       " '__setattr__',\n",
       " '__sizeof__',\n",
       " '__str__',\n",
       " '__subclasshook__',\n",
       " '__weakref__',\n",
       " '_bc',\n",
       " '_bcin',\n",
       " '_check_and_save_parm',\n",
       " '_check_targets',\n",
       " '_compute_algo',\n",
       " '_end_time',\n",
       " '_estimator_type',\n",
       " '_future',\n",
       " '_get_metrics',\n",
       " '_have_mojo',\n",
       " '_have_pojo',\n",
       " '_id',\n",
       " '_is_xvalidated',\n",
       " '_job',\n",
       " '_keyify_if_h2oframe',\n",
       " '_make_model',\n",
       " '_metrics_class',\n",
       " '_model_json',\n",
       " '_parms',\n",
       " '_plot',\n",
       " '_requires_training_frame',\n",
       " '_resolve_model',\n",
       " '_run_time',\n",
       " '_start_time',\n",
       " '_train',\n",
       " '_verify_training_frame_params',\n",
       " '_xval_keys',\n",
       " 'actual_params',\n",
       " 'aic',\n",
       " 'algo',\n",
       " 'auc',\n",
       " 'available',\n",
       " 'backend',\n",
       " 'biases',\n",
       " 'booster',\n",
       " 'categorical_encoding',\n",
       " 'catoffsets',\n",
       " 'coef',\n",
       " 'coef_norm',\n",
       " 'col_sample_rate',\n",
       " 'col_sample_rate_per_tree',\n",
       " 'colsample_bylevel',\n",
       " 'colsample_bytree',\n",
       " 'convert_H2OXGBoostParams_2_XGBoostParams',\n",
       " 'cross_validation_fold_assignment',\n",
       " 'cross_validation_holdout_predictions',\n",
       " 'cross_validation_metrics_summary',\n",
       " 'cross_validation_models',\n",
       " 'cross_validation_predictions',\n",
       " 'deepfeatures',\n",
       " 'default_params',\n",
       " 'distribution',\n",
       " 'dmatrix_type',\n",
       " 'download_mojo',\n",
       " 'download_pojo',\n",
       " 'end_time',\n",
       " 'eta',\n",
       " 'export_checkpoints_dir',\n",
       " 'fit',\n",
       " 'fold_assignment',\n",
       " 'fold_column',\n",
       " 'full_parameters',\n",
       " 'gamma',\n",
       " 'get_params',\n",
       " 'get_xval_models',\n",
       " 'gini',\n",
       " 'gpu_id',\n",
       " 'grow_policy',\n",
       " 'have_mojo',\n",
       " 'have_pojo',\n",
       " 'ignore_const_cols',\n",
       " 'ignored_columns',\n",
       " 'is_cross_validated',\n",
       " 'join',\n",
       " 'keep_cross_validation_fold_assignment',\n",
       " 'keep_cross_validation_models',\n",
       " 'keep_cross_validation_predictions',\n",
       " 'learn_rate',\n",
       " 'logloss',\n",
       " 'mae',\n",
       " 'max_abs_leafnode_pred',\n",
       " 'max_bins',\n",
       " 'max_delta_step',\n",
       " 'max_depth',\n",
       " 'max_leaves',\n",
       " 'max_runtime_secs',\n",
       " 'mean_residual_deviance',\n",
       " 'min_child_weight',\n",
       " 'min_data_in_leaf',\n",
       " 'min_rows',\n",
       " 'min_split_improvement',\n",
       " 'min_sum_hessian_in_leaf',\n",
       " 'mixin',\n",
       " 'model_id',\n",
       " 'model_performance',\n",
       " 'monotone_constraints',\n",
       " 'mse',\n",
       " 'nfolds',\n",
       " 'normalize_type',\n",
       " 'normmul',\n",
       " 'normsub',\n",
       " 'nthread',\n",
       " 'ntrees',\n",
       " 'null_degrees_of_freedom',\n",
       " 'null_deviance',\n",
       " 'offset_column',\n",
       " 'one_drop',\n",
       " 'params',\n",
       " 'parms',\n",
       " 'partial_plot',\n",
       " 'plot',\n",
       " 'pprint_coef',\n",
       " 'predict',\n",
       " 'predict_contributions',\n",
       " 'predict_leaf_node_assignment',\n",
       " 'quiet_mode',\n",
       " 'r2',\n",
       " 'rate_drop',\n",
       " 'reg_alpha',\n",
       " 'reg_lambda',\n",
       " 'residual_degrees_of_freedom',\n",
       " 'residual_deviance',\n",
       " 'respmul',\n",
       " 'response_column',\n",
       " 'respsub',\n",
       " 'rmse',\n",
       " 'rmsle',\n",
       " 'rotation',\n",
       " 'run_time',\n",
       " 'sample_rate',\n",
       " 'sample_type',\n",
       " 'save_model_details',\n",
       " 'save_mojo',\n",
       " 'score_each_iteration',\n",
       " 'score_history',\n",
       " 'score_tree_interval',\n",
       " 'scoring_history',\n",
       " 'seed',\n",
       " 'set_params',\n",
       " 'show',\n",
       " 'skip_drop',\n",
       " 'staged_predict_proba',\n",
       " 'start',\n",
       " 'start_time',\n",
       " 'std_coef_plot',\n",
       " 'stopping_metric',\n",
       " 'stopping_rounds',\n",
       " 'stopping_tolerance',\n",
       " 'subsample',\n",
       " 'summary',\n",
       " 'train',\n",
       " 'training_frame',\n",
       " 'tree_method',\n",
       " 'tweedie_power',\n",
       " 'type',\n",
       " 'validation_frame',\n",
       " 'varimp',\n",
       " 'varimp_plot',\n",
       " 'weights',\n",
       " 'weights_column',\n",
       " 'xval_keys',\n",
       " 'xvals']"
      ]
     },
     "execution_count": 44,
     "metadata": {},
     "output_type": "execute_result"
    }
   ],
   "source": [
    "dir(mod_best)"
   ]
  },
  {
   "cell_type": "code",
   "execution_count": 45,
   "metadata": {},
   "outputs": [
    {
     "data": {
      "text/plain": [
       "'XGBoost_1_AutoML_20190418_214850'"
      ]
     },
     "execution_count": 45,
     "metadata": {},
     "output_type": "execute_result"
    }
   ],
   "source": [
    "mod_best._id"
   ]
  },
  {
   "cell_type": "code",
   "execution_count": 46,
   "metadata": {},
   "outputs": [
    {
     "data": {
      "text/plain": [
       "<function h2o.model.model_base.ModelBase._get_metrics(o, train, valid, xval)>"
      ]
     },
     "execution_count": 46,
     "metadata": {},
     "output_type": "execute_result"
    }
   ],
   "source": [
    "mod_best._get_metrics"
   ]
  },
  {
   "cell_type": "code",
   "execution_count": 47,
   "metadata": {},
   "outputs": [
    {
     "data": {
      "text/plain": [
       "h2o.estimators.xgboost.H2OXGBoostEstimator"
      ]
     },
     "execution_count": 47,
     "metadata": {},
     "output_type": "execute_result"
    }
   ],
   "source": [
    "type(mod_best)"
   ]
  },
  {
   "cell_type": "code",
   "execution_count": 48,
   "metadata": {},
   "outputs": [
    {
     "name": "stdout",
     "output_type": "stream",
     "text": [
      "Model Details\n",
      "=============\n",
      "H2OXGBoostEstimator :  XGBoost\n",
      "Model Key:  XGBoost_1_AutoML_20190418_214850\n",
      "\n",
      "\n",
      "ModelMetricsRegression: xgboost\n",
      "** Reported on train data. **\n",
      "\n",
      "MSE: 1.0863112926632854\n",
      "RMSE: 1.0422625833556942\n",
      "MAE: 0.7524023069080258\n",
      "RMSLE: 0.026106630621527304\n",
      "Mean Residual Deviance: 1.0863112926632854\n",
      "\n",
      "ModelMetricsRegression: xgboost\n",
      "** Reported on cross-validation data. **\n",
      "\n",
      "MSE: 19.21410106621536\n",
      "RMSE: 4.383389221391977\n",
      "MAE: 2.6347511218427426\n",
      "RMSLE: 0.054887779739166816\n",
      "Mean Residual Deviance: 19.21410106621536\n",
      "Cross-Validation Metrics Summary: \n"
     ]
    },
    {
     "data": {
      "text/html": [
       "<div style=\"overflow:auto\"><table style=\"width:50%\"><tr><td><b></b></td>\n",
       "<td><b>mean</b></td>\n",
       "<td><b>sd</b></td>\n",
       "<td><b>cv_1_valid</b></td>\n",
       "<td><b>cv_2_valid</b></td>\n",
       "<td><b>cv_3_valid</b></td>\n",
       "<td><b>cv_4_valid</b></td>\n",
       "<td><b>cv_5_valid</b></td></tr>\n",
       "<tr><td>mae</td>\n",
       "<td>2.6347408</td>\n",
       "<td>0.0680855</td>\n",
       "<td>2.6200283</td>\n",
       "<td>2.6675117</td>\n",
       "<td>2.7307901</td>\n",
       "<td>2.6987867</td>\n",
       "<td>2.4565876</td></tr>\n",
       "<tr><td>mean_residual_deviance</td>\n",
       "<td>19.21389</td>\n",
       "<td>1.6949317</td>\n",
       "<td>17.639582</td>\n",
       "<td>19.431736</td>\n",
       "<td>21.773092</td>\n",
       "<td>21.68898</td>\n",
       "<td>15.536058</td></tr>\n",
       "<tr><td>mse</td>\n",
       "<td>19.21389</td>\n",
       "<td>1.6949317</td>\n",
       "<td>17.639582</td>\n",
       "<td>19.431736</td>\n",
       "<td>21.773092</td>\n",
       "<td>21.68898</td>\n",
       "<td>15.536058</td></tr>\n",
       "<tr><td>r2</td>\n",
       "<td>0.9994161</td>\n",
       "<td>0.0000514</td>\n",
       "<td>0.9994645</td>\n",
       "<td>0.9994139</td>\n",
       "<td>0.9993344</td>\n",
       "<td>0.999342</td>\n",
       "<td>0.9995252</td></tr>\n",
       "<tr><td>residual_deviance</td>\n",
       "<td>19.21389</td>\n",
       "<td>1.6949317</td>\n",
       "<td>17.639582</td>\n",
       "<td>19.431736</td>\n",
       "<td>21.773092</td>\n",
       "<td>21.68898</td>\n",
       "<td>15.536058</td></tr>\n",
       "<tr><td>rmse</td>\n",
       "<td>4.3745966</td>\n",
       "<td>0.1959525</td>\n",
       "<td>4.19995</td>\n",
       "<td>4.408144</td>\n",
       "<td>4.666165</td>\n",
       "<td>4.6571426</td>\n",
       "<td>3.9415808</td></tr>\n",
       "<tr><td>rmsle</td>\n",
       "<td>0.0547402</td>\n",
       "<td>0.0028432</td>\n",
       "<td>0.0570302</td>\n",
       "<td>0.0558823</td>\n",
       "<td>0.0478816</td>\n",
       "<td>0.0597229</td>\n",
       "<td>0.0531840</td></tr></table></div>"
      ],
      "text/plain": [
       "                        mean       sd           cv_1_valid    cv_2_valid    cv_3_valid    cv_4_valid    cv_5_valid\n",
       "----------------------  ---------  -----------  ------------  ------------  ------------  ------------  ------------\n",
       "mae                     2.63474    0.0680855    2.62003       2.66751       2.73079       2.69879       2.45659\n",
       "mean_residual_deviance  19.2139    1.69493      17.6396       19.4317       21.7731       21.689        15.5361\n",
       "mse                     19.2139    1.69493      17.6396       19.4317       21.7731       21.689        15.5361\n",
       "r2                      0.999416   5.13913e-05  0.999464      0.999414      0.999334      0.999342      0.999525\n",
       "residual_deviance       19.2139    1.69493      17.6396       19.4317       21.7731       21.689        15.5361\n",
       "rmse                    4.3746     0.195953     4.19995       4.40814       4.66617       4.65714       3.94158\n",
       "rmsle                   0.0547402  0.00284322   0.0570302     0.0558823     0.0478816     0.0597229     0.053184"
      ]
     },
     "metadata": {},
     "output_type": "display_data"
    },
    {
     "name": "stdout",
     "output_type": "stream",
     "text": [
      "Scoring History: \n"
     ]
    },
    {
     "data": {
      "text/html": [
       "<div style=\"overflow:auto\"><table style=\"width:50%\"><tr><td><b></b></td>\n",
       "<td><b>timestamp</b></td>\n",
       "<td><b>duration</b></td>\n",
       "<td><b>number_of_trees</b></td>\n",
       "<td><b>training_rmse</b></td>\n",
       "<td><b>training_mae</b></td>\n",
       "<td><b>training_deviance</b></td></tr>\n",
       "<tr><td></td>\n",
       "<td>2019-04-18 21:56:31</td>\n",
       "<td> 7 min 41.505 sec</td>\n",
       "<td>0.0</td>\n",
       "<td>261.9286476</td>\n",
       "<td>188.9630876</td>\n",
       "<td>68606.6164192</td></tr>\n",
       "<tr><td></td>\n",
       "<td>2019-04-18 21:56:31</td>\n",
       "<td> 7 min 41.631 sec</td>\n",
       "<td>5.0</td>\n",
       "<td>204.9477789</td>\n",
       "<td>146.5903879</td>\n",
       "<td>42003.5920672</td></tr>\n",
       "<tr><td></td>\n",
       "<td>2019-04-18 21:56:31</td>\n",
       "<td> 7 min 41.744 sec</td>\n",
       "<td>10.0</td>\n",
       "<td>159.3670700</td>\n",
       "<td>113.6586630</td>\n",
       "<td>25397.8630023</td></tr>\n",
       "<tr><td></td>\n",
       "<td>2019-04-18 21:56:32</td>\n",
       "<td> 7 min 41.856 sec</td>\n",
       "<td>15.0</td>\n",
       "<td>123.9921689</td>\n",
       "<td>88.1119079</td>\n",
       "<td>15374.0579585</td></tr>\n",
       "<tr><td></td>\n",
       "<td>2019-04-18 21:56:32</td>\n",
       "<td> 7 min 41.994 sec</td>\n",
       "<td>20.0</td>\n",
       "<td>97.0797121</td>\n",
       "<td>68.4530253</td>\n",
       "<td>9424.4705084</td></tr>\n",
       "<tr><td>---</td>\n",
       "<td>---</td>\n",
       "<td>---</td>\n",
       "<td>---</td>\n",
       "<td>---</td>\n",
       "<td>---</td>\n",
       "<td>---</td></tr>\n",
       "<tr><td></td>\n",
       "<td>2019-04-18 21:57:45</td>\n",
       "<td> 8 min 55.188 sec</td>\n",
       "<td>485.0</td>\n",
       "<td>1.0715175</td>\n",
       "<td>0.7717919</td>\n",
       "<td>1.1481498</td></tr>\n",
       "<tr><td></td>\n",
       "<td>2019-04-18 21:57:46</td>\n",
       "<td> 8 min 56.578 sec</td>\n",
       "<td>490.0</td>\n",
       "<td>1.0617651</td>\n",
       "<td>0.7656627</td>\n",
       "<td>1.1273452</td></tr>\n",
       "<tr><td></td>\n",
       "<td>2019-04-18 21:57:48</td>\n",
       "<td> 8 min 58.112 sec</td>\n",
       "<td>495.0</td>\n",
       "<td>1.0521693</td>\n",
       "<td>0.7589569</td>\n",
       "<td>1.1070603</td></tr>\n",
       "<tr><td></td>\n",
       "<td>2019-04-18 21:57:49</td>\n",
       "<td> 8 min 59.607 sec</td>\n",
       "<td>500.0</td>\n",
       "<td>1.0436282</td>\n",
       "<td>0.7533147</td>\n",
       "<td>1.0891598</td></tr>\n",
       "<tr><td></td>\n",
       "<td>2019-04-18 21:57:51</td>\n",
       "<td> 9 min  1.049 sec</td>\n",
       "<td>501.0</td>\n",
       "<td>1.0422626</td>\n",
       "<td>0.7524023</td>\n",
       "<td>1.0863113</td></tr></table></div>"
      ],
      "text/plain": [
       "     timestamp            duration          number_of_trees    training_rmse       training_mae        training_deviance\n",
       "---  -------------------  ----------------  -----------------  ------------------  ------------------  -------------------\n",
       "     2019-04-18 21:56:31  7 min 41.505 sec  0.0                261.9286475726579   188.96308763450142  68606.61641924162\n",
       "     2019-04-18 21:56:31  7 min 41.631 sec  5.0                204.9477788784444   146.5903879432603   42003.59206720774\n",
       "     2019-04-18 21:56:31  7 min 41.744 sec  10.0               159.3670700059233   113.65866299846161  25397.863002272858\n",
       "     2019-04-18 21:56:32  7 min 41.856 sec  15.0               123.99216894010218  88.11190791667225   15374.057958470838\n",
       "     2019-04-18 21:56:32  7 min 41.994 sec  20.0               97.07971213602173   68.45302530267968   9424.470508412844\n",
       "---  ---                  ---               ---                ---                 ---                 ---\n",
       "     2019-04-18 21:57:45  8 min 55.188 sec  485.0              1.0715175096600769  0.771791883737708   1.1481497735081327\n",
       "     2019-04-18 21:57:46  8 min 56.578 sec  490.0              1.0617651352133284  0.765662724388106   1.1273452023545776\n",
       "     2019-04-18 21:57:48  8 min 58.112 sec  495.0              1.0521693202192035  0.7589569482061708  1.107060278410541\n",
       "     2019-04-18 21:57:49  8 min 59.607 sec  500.0              1.0436282142247542  0.7533146955608341  1.0891598495259491\n",
       "     2019-04-18 21:57:51  9 min  1.049 sec  501.0              1.0422625833556942  0.7524023069080258  1.0863112926632854"
      ]
     },
     "metadata": {},
     "output_type": "display_data"
    },
    {
     "name": "stdout",
     "output_type": "stream",
     "text": [
      "\n",
      "See the whole table with table.as_data_frame()\n",
      "Variable Importances: \n"
     ]
    },
    {
     "data": {
      "text/html": [
       "<div style=\"overflow:auto\"><table style=\"width:50%\"><tr><td><b>variable</b></td>\n",
       "<td><b>relative_importance</b></td>\n",
       "<td><b>scaled_importance</b></td>\n",
       "<td><b>percentage</b></td></tr>\n",
       "<tr><td>registered</td>\n",
       "<td>2660129024.0000000</td>\n",
       "<td>1.0</td>\n",
       "<td>0.7615605</td></tr>\n",
       "<tr><td>casual</td>\n",
       "<td>597958656.0000000</td>\n",
       "<td>0.2247856</td>\n",
       "<td>0.1711878</td></tr>\n",
       "<tr><td>hr</td>\n",
       "<td>130871832.0000000</td>\n",
       "<td>0.0491976</td>\n",
       "<td>0.0374669</td></tr>\n",
       "<tr><td>instant</td>\n",
       "<td>30420522.0000000</td>\n",
       "<td>0.0114357</td>\n",
       "<td>0.0087090</td></tr>\n",
       "<tr><td>workingday</td>\n",
       "<td>24261744.0000000</td>\n",
       "<td>0.0091205</td>\n",
       "<td>0.0069458</td></tr>\n",
       "<tr><td>weekday</td>\n",
       "<td>19920988.0000000</td>\n",
       "<td>0.0074887</td>\n",
       "<td>0.0057031</td></tr>\n",
       "<tr><td>dteday</td>\n",
       "<td>10809360.0000000</td>\n",
       "<td>0.0040635</td>\n",
       "<td>0.0030946</td></tr>\n",
       "<tr><td>temp</td>\n",
       "<td>7532853.0</td>\n",
       "<td>0.0028318</td>\n",
       "<td>0.0021566</td></tr>\n",
       "<tr><td>atemp</td>\n",
       "<td>6647484.5</td>\n",
       "<td>0.0024989</td>\n",
       "<td>0.0019031</td></tr>\n",
       "<tr><td>hum</td>\n",
       "<td>995252.9375000</td>\n",
       "<td>0.0003741</td>\n",
       "<td>0.0002849</td></tr>\n",
       "<tr><td>season</td>\n",
       "<td>919059.8750000</td>\n",
       "<td>0.0003455</td>\n",
       "<td>0.0002631</td></tr>\n",
       "<tr><td>windspeed</td>\n",
       "<td>718241.1250000</td>\n",
       "<td>0.0002700</td>\n",
       "<td>0.0002056</td></tr>\n",
       "<tr><td>weathersit</td>\n",
       "<td>680174.5</td>\n",
       "<td>0.0002557</td>\n",
       "<td>0.0001947</td></tr>\n",
       "<tr><td>mnth</td>\n",
       "<td>607889.3750000</td>\n",
       "<td>0.0002285</td>\n",
       "<td>0.0001740</td></tr>\n",
       "<tr><td>yr</td>\n",
       "<td>417237.5625000</td>\n",
       "<td>0.0001568</td>\n",
       "<td>0.0001194</td></tr>\n",
       "<tr><td>holiday</td>\n",
       "<td>107206.1328125</td>\n",
       "<td>0.0000403</td>\n",
       "<td>0.0000307</td></tr></table></div>"
      ],
      "text/plain": [
       "variable    relative_importance    scaled_importance    percentage\n",
       "----------  ---------------------  -------------------  ------------\n",
       "registered  2.66013e+09            1                    0.761561\n",
       "casual      5.97959e+08            0.224786             0.171188\n",
       "hr          1.30872e+08            0.0491976            0.0374669\n",
       "instant     3.04205e+07            0.0114357            0.008709\n",
       "workingday  2.42617e+07            0.00912051           0.00694582\n",
       "weekday     1.9921e+07             0.00748873           0.00570312\n",
       "dteday      1.08094e+07            0.00406347           0.00309458\n",
       "temp        7.53285e+06            0.00283176           0.00215656\n",
       "atemp       6.64748e+06            0.00249893           0.00190309\n",
       "hum         995253                 0.000374137          0.000284928\n",
       "season      919060                 0.000345494          0.000263115\n",
       "windspeed   718241                 0.000270002          0.000205623\n",
       "weathersit  680174                 0.000255692          0.000194725\n",
       "mnth        607889                 0.000228519          0.000174031\n",
       "yr          417238                 0.000156849          0.00011945\n",
       "holiday     107206                 4.03011e-05          3.06917e-05"
      ]
     },
     "metadata": {},
     "output_type": "display_data"
    },
    {
     "name": "stdout",
     "output_type": "stream",
     "text": [
      "<bound method ModelBase.coef_norm of >\n"
     ]
    }
   ],
   "source": [
    "mods=mod_best.coef_norm\n",
    "print(mods)"
   ]
  },
  {
   "cell_type": "code",
   "execution_count": 49,
   "metadata": {},
   "outputs": [
    {
     "data": {
      "text/plain": [
       "'\\nmod_best.aic()\\n mod_best.algo\\n mod_best.coef()\\n mod_best.coef_norm()\\n mod_best.confusion_matrix()\\n mod_best.cross_validation_fold_assignment()\\n mod_best.cross_validation_holdout_predictions()\\n mod_best.cross_validation_metrics_summary()\\n mod_best.cross_validation_models()\\n mod_best.cross_validation_predictions()\\n mod_best.deepfeatures()\\n mod_best.default_params()\\n mod_best.download_mojo()\\n mod_best.download_pojo()\\n mod_best.fit()\\n mod_best.full_parameters()\\n mod_best.get_params()\\n mod_best.get_xval_models()\\n mod_best.gini()\\n mod_best.have_mojo()\\n mod_best.have_pojo()\\n mod_best.hit_ratio_table()\\n mod_best.is_cross_validated()\\n mod_best.join()\\n mod_best.keep_levelone_frame()\\n mod_best.levelone_frame_id()\\n mod_best.logloss()\\n mod_best.mae()\\n mod_best.mean_per_class_error()\\n mod_best.mean_residual_deviance()\\n mod_best.metalearner()\\n mod_best.metalearner_algorithm()\\n mod_best.metalearner_fold_assignment()\\n mod_best.metalearner_fold_column()\\n mod_best.metalearner_nfolds()\\n mod_best.metalearner_params()\\n mod_best.mixin()\\n mod_best.model_id()\\n mod_best.model_performance()\\n mod_best.mse()\\n mod_best.normmul()\\n mod_best.normsub()\\n mod_best.null_degrees_of_freedom()\\n mod_best.null_deviance()\\n mod_best.params()\\n mod_best.parms()\\n mod_best.partial_plot()\\n mod_best.plot()\\n mod_best.pprint_coef()\\n mod_best.predict()\\n mod_best.predict_leaf_node_assignment()\\n mod_best.r2()\\n mod_best.residual_degrees_of_freedom()\\n mod_best.residual_deviance()\\n mod_best.respmul()\\n mod_best.response_column()\\n mod_best.respsub()\\n mod_best.rmse()\\n mod_best.rmsle()\\n mod_best.rotation()\\n mod_best.save_model_details()\\n mod_best.save_mojo()\\n mod_best.score_history()\\n mod_best.scoring_history()\\n mod_best.seed()\\n mod_best.set_params()\\n mod_best.show()\\n mod_best.start()\\n mod_best.std_coef_plot()\\n mod_best.summary()\\n mod_best.train()\\n mod_best.training_frame()\\n mod_best.type()\\n mod_best.validation_frame()\\n mod_best.varimp()\\n mod_best.varimp_plot()\\n mod_best.weights()\\n mod_best.xval_keys()\\n mod_best.xvalsmod_best()\\n '"
      ]
     },
     "execution_count": 49,
     "metadata": {},
     "output_type": "execute_result"
    }
   ],
   "source": [
    "'''\n",
    "mod_best.aic()\n",
    " mod_best.algo\n",
    " mod_best.coef()\n",
    " mod_best.coef_norm()\n",
    " mod_best.confusion_matrix()\n",
    " mod_best.cross_validation_fold_assignment()\n",
    " mod_best.cross_validation_holdout_predictions()\n",
    " mod_best.cross_validation_metrics_summary()\n",
    " mod_best.cross_validation_models()\n",
    " mod_best.cross_validation_predictions()\n",
    " mod_best.deepfeatures()\n",
    " mod_best.default_params()\n",
    " mod_best.download_mojo()\n",
    " mod_best.download_pojo()\n",
    " mod_best.fit()\n",
    " mod_best.full_parameters()\n",
    " mod_best.get_params()\n",
    " mod_best.get_xval_models()\n",
    " mod_best.gini()\n",
    " mod_best.have_mojo()\n",
    " mod_best.have_pojo()\n",
    " mod_best.hit_ratio_table()\n",
    " mod_best.is_cross_validated()\n",
    " mod_best.join()\n",
    " mod_best.keep_levelone_frame()\n",
    " mod_best.levelone_frame_id()\n",
    " mod_best.logloss()\n",
    " mod_best.mae()\n",
    " mod_best.mean_per_class_error()\n",
    " mod_best.mean_residual_deviance()\n",
    " mod_best.metalearner()\n",
    " mod_best.metalearner_algorithm()\n",
    " mod_best.metalearner_fold_assignment()\n",
    " mod_best.metalearner_fold_column()\n",
    " mod_best.metalearner_nfolds()\n",
    " mod_best.metalearner_params()\n",
    " mod_best.mixin()\n",
    " mod_best.model_id()\n",
    " mod_best.model_performance()\n",
    " mod_best.mse()\n",
    " mod_best.normmul()\n",
    " mod_best.normsub()\n",
    " mod_best.null_degrees_of_freedom()\n",
    " mod_best.null_deviance()\n",
    " mod_best.params()\n",
    " mod_best.parms()\n",
    " mod_best.partial_plot()\n",
    " mod_best.plot()\n",
    " mod_best.pprint_coef()\n",
    " mod_best.predict()\n",
    " mod_best.predict_leaf_node_assignment()\n",
    " mod_best.r2()\n",
    " mod_best.residual_degrees_of_freedom()\n",
    " mod_best.residual_deviance()\n",
    " mod_best.respmul()\n",
    " mod_best.response_column()\n",
    " mod_best.respsub()\n",
    " mod_best.rmse()\n",
    " mod_best.rmsle()\n",
    " mod_best.rotation()\n",
    " mod_best.save_model_details()\n",
    " mod_best.save_mojo()\n",
    " mod_best.score_history()\n",
    " mod_best.scoring_history()\n",
    " mod_best.seed()\n",
    " mod_best.set_params()\n",
    " mod_best.show()\n",
    " mod_best.start()\n",
    " mod_best.std_coef_plot()\n",
    " mod_best.summary()\n",
    " mod_best.train()\n",
    " mod_best.training_frame()\n",
    " mod_best.type()\n",
    " mod_best.validation_frame()\n",
    " mod_best.varimp()\n",
    " mod_best.varimp_plot()\n",
    " mod_best.weights()\n",
    " mod_best.xval_keys()\n",
    " mod_best.xvalsmod_best()\n",
    " '''\n"
   ]
  },
  {
   "cell_type": "code",
   "execution_count": 50,
   "metadata": {},
   "outputs": [],
   "source": [
    "    bm=stackedensemble_df(aml_leaderboard_df)"
   ]
  },
  {
   "cell_type": "code",
   "execution_count": 51,
   "metadata": {},
   "outputs": [
    {
     "data": {
      "text/plain": [
       "['GBM_1_AutoML_20190418_214850',\n",
       " 'GLM_grid_1_AutoML_20190418_214850_model_1',\n",
       " 'DRF_1_AutoML_20190418_214850']"
      ]
     },
     "execution_count": 51,
     "metadata": {},
     "output_type": "execute_result"
    }
   ],
   "source": [
    "bm"
   ]
  },
  {
   "cell_type": "code",
   "execution_count": 52,
   "metadata": {},
   "outputs": [
    {
     "data": {
      "text/html": [
       "<div>\n",
       "<style scoped>\n",
       "    .dataframe tbody tr th:only-of-type {\n",
       "        vertical-align: middle;\n",
       "    }\n",
       "\n",
       "    .dataframe tbody tr th {\n",
       "        vertical-align: top;\n",
       "    }\n",
       "\n",
       "    .dataframe thead th {\n",
       "        text-align: right;\n",
       "    }\n",
       "</style>\n",
       "<table border=\"1\" class=\"dataframe\">\n",
       "  <thead>\n",
       "    <tr style=\"text-align: right;\">\n",
       "      <th></th>\n",
       "      <th>model_id</th>\n",
       "      <th>mean_residual_deviance</th>\n",
       "      <th>rmse</th>\n",
       "      <th>mse</th>\n",
       "      <th>mae</th>\n",
       "      <th>rmsle</th>\n",
       "    </tr>\n",
       "  </thead>\n",
       "  <tbody>\n",
       "    <tr>\n",
       "      <th>0</th>\n",
       "      <td>XGBoost_1_AutoML_20190418_214850</td>\n",
       "      <td>19.214101</td>\n",
       "      <td>4.383389</td>\n",
       "      <td>19.214101</td>\n",
       "      <td>2.634751</td>\n",
       "      <td>0.054888</td>\n",
       "    </tr>\n",
       "    <tr>\n",
       "      <th>1</th>\n",
       "      <td>GBM_1_AutoML_20190418_214850</td>\n",
       "      <td>25.332040</td>\n",
       "      <td>5.033095</td>\n",
       "      <td>25.332040</td>\n",
       "      <td>3.227131</td>\n",
       "      <td>NaN</td>\n",
       "    </tr>\n",
       "    <tr>\n",
       "      <th>2</th>\n",
       "      <td>XGBoost_2_AutoML_20190418_214850</td>\n",
       "      <td>27.239170</td>\n",
       "      <td>5.219116</td>\n",
       "      <td>27.239170</td>\n",
       "      <td>3.262814</td>\n",
       "      <td>NaN</td>\n",
       "    </tr>\n",
       "    <tr>\n",
       "      <th>3</th>\n",
       "      <td>XGBoost_3_AutoML_20190418_214850</td>\n",
       "      <td>27.944545</td>\n",
       "      <td>5.286260</td>\n",
       "      <td>27.944545</td>\n",
       "      <td>3.475809</td>\n",
       "      <td>0.099999</td>\n",
       "    </tr>\n",
       "    <tr>\n",
       "      <th>4</th>\n",
       "      <td>GBM_3_AutoML_20190418_214850</td>\n",
       "      <td>31.736674</td>\n",
       "      <td>5.633531</td>\n",
       "      <td>31.736674</td>\n",
       "      <td>3.454525</td>\n",
       "      <td>0.073510</td>\n",
       "    </tr>\n",
       "    <tr>\n",
       "      <th>5</th>\n",
       "      <td>GLM_grid_1_AutoML_20190418_214850_model_1</td>\n",
       "      <td>38.387049</td>\n",
       "      <td>6.195728</td>\n",
       "      <td>38.387049</td>\n",
       "      <td>4.451969</td>\n",
       "      <td>NaN</td>\n",
       "    </tr>\n",
       "    <tr>\n",
       "      <th>6</th>\n",
       "      <td>GBM_2_AutoML_20190418_214850</td>\n",
       "      <td>38.628741</td>\n",
       "      <td>6.215202</td>\n",
       "      <td>38.628741</td>\n",
       "      <td>4.064625</td>\n",
       "      <td>NaN</td>\n",
       "    </tr>\n",
       "    <tr>\n",
       "      <th>7</th>\n",
       "      <td>StackedEnsemble_AllModels_AutoML_20190418_214850</td>\n",
       "      <td>41.682334</td>\n",
       "      <td>6.456186</td>\n",
       "      <td>41.682334</td>\n",
       "      <td>4.399957</td>\n",
       "      <td>0.234378</td>\n",
       "    </tr>\n",
       "    <tr>\n",
       "      <th>8</th>\n",
       "      <td>DRF_1_AutoML_20190418_214850</td>\n",
       "      <td>46.675148</td>\n",
       "      <td>6.831921</td>\n",
       "      <td>46.675148</td>\n",
       "      <td>3.714254</td>\n",
       "      <td>0.080411</td>\n",
       "    </tr>\n",
       "    <tr>\n",
       "      <th>9</th>\n",
       "      <td>StackedEnsemble_BestOfFamily_AutoML_20190418_2...</td>\n",
       "      <td>110.001774</td>\n",
       "      <td>10.488173</td>\n",
       "      <td>110.001774</td>\n",
       "      <td>7.815701</td>\n",
       "      <td>0.380275</td>\n",
       "    </tr>\n",
       "    <tr>\n",
       "      <th>10</th>\n",
       "      <td>GBM_4_AutoML_20190418_214850</td>\n",
       "      <td>1703.451018</td>\n",
       "      <td>41.272885</td>\n",
       "      <td>1703.451018</td>\n",
       "      <td>29.300822</td>\n",
       "      <td>0.780390</td>\n",
       "    </tr>\n",
       "  </tbody>\n",
       "</table>\n",
       "</div>"
      ],
      "text/plain": [
       "                                             model_id  mean_residual_deviance  \\\n",
       "0                    XGBoost_1_AutoML_20190418_214850               19.214101   \n",
       "1                        GBM_1_AutoML_20190418_214850               25.332040   \n",
       "2                    XGBoost_2_AutoML_20190418_214850               27.239170   \n",
       "3                    XGBoost_3_AutoML_20190418_214850               27.944545   \n",
       "4                        GBM_3_AutoML_20190418_214850               31.736674   \n",
       "5           GLM_grid_1_AutoML_20190418_214850_model_1               38.387049   \n",
       "6                        GBM_2_AutoML_20190418_214850               38.628741   \n",
       "7    StackedEnsemble_AllModels_AutoML_20190418_214850               41.682334   \n",
       "8                        DRF_1_AutoML_20190418_214850               46.675148   \n",
       "9   StackedEnsemble_BestOfFamily_AutoML_20190418_2...              110.001774   \n",
       "10                       GBM_4_AutoML_20190418_214850             1703.451018   \n",
       "\n",
       "         rmse          mse        mae     rmsle  \n",
       "0    4.383389    19.214101   2.634751  0.054888  \n",
       "1    5.033095    25.332040   3.227131       NaN  \n",
       "2    5.219116    27.239170   3.262814       NaN  \n",
       "3    5.286260    27.944545   3.475809  0.099999  \n",
       "4    5.633531    31.736674   3.454525  0.073510  \n",
       "5    6.195728    38.387049   4.451969       NaN  \n",
       "6    6.215202    38.628741   4.064625       NaN  \n",
       "7    6.456186    41.682334   4.399957  0.234378  \n",
       "8    6.831921    46.675148   3.714254  0.080411  \n",
       "9   10.488173   110.001774   7.815701  0.380275  \n",
       "10  41.272885  1703.451018  29.300822  0.780390  "
      ]
     },
     "execution_count": 52,
     "metadata": {},
     "output_type": "execute_result"
    }
   ],
   "source": [
    "aml_leaderboard_df"
   ]
  },
  {
   "cell_type": "code",
   "execution_count": 53,
   "metadata": {},
   "outputs": [],
   "source": [
    "#  Get best_models and coef_norm()\n",
    "best_models={}\n",
    "best_models=stackedensemble(mod_best)\n",
    "bm=[]\n",
    "if best_models is not None: \n",
    "  if 'Intercept' in best_models.keys():\n",
    "    del best_models['Intercept']\n",
    "  bm=list(best_models.keys())\n",
    "else:\n",
    "  best_models={}\n",
    "  bm=stackedensemble_df(aml_leaderboard_df)   \n",
    "  for b in bm:   \n",
    "    best_models[b]=None\n",
    "\n",
    "if mod_best.model_id not in bm:\n",
    "    bm.append(mod_best.model_id)"
   ]
  },
  {
   "cell_type": "code",
   "execution_count": 54,
   "metadata": {},
   "outputs": [
    {
     "data": {
      "text/plain": [
       "['GBM_1_AutoML_20190418_214850',\n",
       " 'GLM_grid_1_AutoML_20190418_214850_model_1',\n",
       " 'DRF_1_AutoML_20190418_214850',\n",
       " 'XGBoost_1_AutoML_20190418_214850']"
      ]
     },
     "execution_count": 54,
     "metadata": {},
     "output_type": "execute_result"
    }
   ],
   "source": [
    "bm"
   ]
  },
  {
   "cell_type": "code",
   "execution_count": 55,
   "metadata": {},
   "outputs": [],
   "source": [
    "# Best of Family leaderboard\n",
    "\n",
    "aml_leaderboard_df=aml_leaderboard_df.loc[aml_leaderboard_df['model_id'].isin(bm)]"
   ]
  },
  {
   "cell_type": "code",
   "execution_count": 56,
   "metadata": {},
   "outputs": [
    {
     "data": {
      "text/html": [
       "<div>\n",
       "<style scoped>\n",
       "    .dataframe tbody tr th:only-of-type {\n",
       "        vertical-align: middle;\n",
       "    }\n",
       "\n",
       "    .dataframe tbody tr th {\n",
       "        vertical-align: top;\n",
       "    }\n",
       "\n",
       "    .dataframe thead th {\n",
       "        text-align: right;\n",
       "    }\n",
       "</style>\n",
       "<table border=\"1\" class=\"dataframe\">\n",
       "  <thead>\n",
       "    <tr style=\"text-align: right;\">\n",
       "      <th></th>\n",
       "      <th>model_id</th>\n",
       "      <th>mean_residual_deviance</th>\n",
       "      <th>rmse</th>\n",
       "      <th>mse</th>\n",
       "      <th>mae</th>\n",
       "      <th>rmsle</th>\n",
       "    </tr>\n",
       "  </thead>\n",
       "  <tbody>\n",
       "    <tr>\n",
       "      <th>0</th>\n",
       "      <td>XGBoost_1_AutoML_20190418_214850</td>\n",
       "      <td>19.214101</td>\n",
       "      <td>4.383389</td>\n",
       "      <td>19.214101</td>\n",
       "      <td>2.634751</td>\n",
       "      <td>0.054888</td>\n",
       "    </tr>\n",
       "    <tr>\n",
       "      <th>1</th>\n",
       "      <td>GBM_1_AutoML_20190418_214850</td>\n",
       "      <td>25.332040</td>\n",
       "      <td>5.033095</td>\n",
       "      <td>25.332040</td>\n",
       "      <td>3.227131</td>\n",
       "      <td>NaN</td>\n",
       "    </tr>\n",
       "    <tr>\n",
       "      <th>5</th>\n",
       "      <td>GLM_grid_1_AutoML_20190418_214850_model_1</td>\n",
       "      <td>38.387049</td>\n",
       "      <td>6.195728</td>\n",
       "      <td>38.387049</td>\n",
       "      <td>4.451969</td>\n",
       "      <td>NaN</td>\n",
       "    </tr>\n",
       "    <tr>\n",
       "      <th>8</th>\n",
       "      <td>DRF_1_AutoML_20190418_214850</td>\n",
       "      <td>46.675148</td>\n",
       "      <td>6.831921</td>\n",
       "      <td>46.675148</td>\n",
       "      <td>3.714254</td>\n",
       "      <td>0.080411</td>\n",
       "    </tr>\n",
       "  </tbody>\n",
       "</table>\n",
       "</div>"
      ],
      "text/plain": [
       "                                    model_id  mean_residual_deviance  \\\n",
       "0           XGBoost_1_AutoML_20190418_214850               19.214101   \n",
       "1               GBM_1_AutoML_20190418_214850               25.332040   \n",
       "5  GLM_grid_1_AutoML_20190418_214850_model_1               38.387049   \n",
       "8               DRF_1_AutoML_20190418_214850               46.675148   \n",
       "\n",
       "       rmse        mse       mae     rmsle  \n",
       "0  4.383389  19.214101  2.634751  0.054888  \n",
       "1  5.033095  25.332040  3.227131       NaN  \n",
       "5  6.195728  38.387049  4.451969       NaN  \n",
       "8  6.831921  46.675148  3.714254  0.080411  "
      ]
     },
     "execution_count": 56,
     "metadata": {},
     "output_type": "execute_result"
    }
   ],
   "source": [
    "aml_leaderboard_df"
   ]
  },
  {
   "cell_type": "code",
   "execution_count": 57,
   "metadata": {},
   "outputs": [],
   "source": [
    "# save leaderboard\n",
    "leaderboard_stats=run_id+'_leaderboard.csv'\n",
    "aml_leaderboard_df.to_csv(leaderboard_stats)"
   ]
  },
  {
   "cell_type": "code",
   "execution_count": 58,
   "metadata": {},
   "outputs": [
    {
     "name": "stdout",
     "output_type": "stream",
     "text": [
      "XGBoost_1_AutoML_20190418_214850\n"
     ]
    }
   ],
   "source": [
    "top=aml_leaderboard_df.iloc[0]['model_id']\n",
    "print(top)"
   ]
  },
  {
   "cell_type": "code",
   "execution_count": 59,
   "metadata": {},
   "outputs": [
    {
     "name": "stdout",
     "output_type": "stream",
     "text": [
      "XGBoost_1_AutoML_20190418_214850\n",
      "xgboost\n"
     ]
    }
   ],
   "source": [
    "mod_best=h2o.get_model(top)\n",
    "print(mod_best._id)\n",
    "print(mod_best.algo)"
   ]
  },
  {
   "cell_type": "code",
   "execution_count": 60,
   "metadata": {},
   "outputs": [],
   "source": [
    "meta_data['mod_best']=mod_best._id\n",
    "meta_data['mod_best_algo']=mod_best.algo"
   ]
  },
  {
   "cell_type": "code",
   "execution_count": 61,
   "metadata": {},
   "outputs": [],
   "source": [
    "meta_data['models']=bm"
   ]
  },
  {
   "cell_type": "code",
   "execution_count": 62,
   "metadata": {},
   "outputs": [],
   "source": [
    "models_path=os.path.join(run_dir,'models')\n",
    "for mod in bm:\n",
    "  try:   \n",
    "    m=h2o.get_model(mod) \n",
    "    h2o.save_model(m, path = models_path)\n",
    "  except:    \n",
    "    pass"
   ]
  },
  {
   "cell_type": "code",
   "execution_count": 63,
   "metadata": {},
   "outputs": [
    {
     "name": "stdout",
     "output_type": "stream",
     "text": [
      "/Users/newzysharma/Desktop/Desktop/info6105/INFO6105-FinalProject/INFO6105-FinalProject/MetaData/am1d1/models\n"
     ]
    }
   ],
   "source": [
    "print(models_path)"
   ]
  },
  {
   "cell_type": "code",
   "execution_count": 64,
   "metadata": {},
   "outputs": [
    {
     "name": "stdout",
     "output_type": "stream",
     "text": [
      "{'algo': 'gbm', 'model_id': 'GBM_1_AutoML_20190418_214850', 'varimp': [('registered', 1191396480.0, 1.0, 0.4421670515252589), ('casual', 981601856.0, 0.823908642066829, 0.3643052549888697), ('hr', 307487392.0, 0.2580898946419583, 0.11411884774229943), ('workingday', 86338992.0, 0.07246873181965419, 0.03204328547647121), ('dteday', 36148732.0, 0.03034147960551302, 0.013416002576083467), ('instant', 30986518.0, 0.026008569372305012, 0.01150013243374226), ('atemp', 26250434.0, 0.0220333318426457, 0.00974241337614025), ('temp', 24253822.0, 0.02035747327371657, 0.009001403933943516), ('yr', 2992835.75, 0.002512040114471381, 0.0011107413707289843), ('season', 1974824.625, 0.0016575713107696943, 0.0007329234191758944), ('hum', 1771373.375, 0.0014868042710685196, 0.0006574158607335291), ('mnth', 1641412.75, 0.0013777216716302535, 0.0006091831293672002), ('weekday', 862785.1875, 0.000724179735280064, 0.0003202084183231284), ('weathersit', 477448.0, 0.00040074652562344316, 0.00017719690964390947), ('windspeed', 140997.15625, 0.00011834612458314464, 5.232875696637003e-05), ('holiday', 122894.03125, 0.00010315124588080031, 4.5610082252270484e-05)]}\n"
     ]
    }
   ],
   "source": [
    "# GBM\n",
    " \n",
    "mod,mod_id=get_model_by_algo(\"GBM\",best_models)\n",
    "if mod is not None:\n",
    "    try:     \n",
    "        sh_df=mod.scoring_history()\n",
    "        sh_df.to_csv(run_id+'_gbm_scoring_history.csv') \n",
    "    except:\n",
    "        pass   \n",
    "    try:     \n",
    "        stats_gbm={}\n",
    "        stats_gbm=gbm_stats(mod)\n",
    "        n=run_id+'_gbm_stats.json'\n",
    "        dict_to_json(stats_gbm,n)\n",
    "        print(stats_gbm)\n",
    "    except:\n",
    "        pass"
   ]
  },
  {
   "cell_type": "code",
   "execution_count": 65,
   "metadata": {},
   "outputs": [
    {
     "name": "stdout",
     "output_type": "stream",
     "text": [
      "{'algo': 'gbm', 'model_id': 'GBM_1_AutoML_20190418_214850', 'varimp': [('registered', 1191396480.0, 1.0, 0.4421670515252589), ('casual', 981601856.0, 0.823908642066829, 0.3643052549888697), ('hr', 307487392.0, 0.2580898946419583, 0.11411884774229943), ('workingday', 86338992.0, 0.07246873181965419, 0.03204328547647121), ('dteday', 36148732.0, 0.03034147960551302, 0.013416002576083467), ('instant', 30986518.0, 0.026008569372305012, 0.01150013243374226), ('atemp', 26250434.0, 0.0220333318426457, 0.00974241337614025), ('temp', 24253822.0, 0.02035747327371657, 0.009001403933943516), ('yr', 2992835.75, 0.002512040114471381, 0.0011107413707289843), ('season', 1974824.625, 0.0016575713107696943, 0.0007329234191758944), ('hum', 1771373.375, 0.0014868042710685196, 0.0006574158607335291), ('mnth', 1641412.75, 0.0013777216716302535, 0.0006091831293672002), ('weekday', 862785.1875, 0.000724179735280064, 0.0003202084183231284), ('weathersit', 477448.0, 0.00040074652562344316, 0.00017719690964390947), ('windspeed', 140997.15625, 0.00011834612458314464, 5.232875696637003e-05), ('holiday', 122894.03125, 0.00010315124588080031, 4.5610082252270484e-05)]}\n"
     ]
    }
   ],
   "source": [
    "if mod is not None:\n",
    "    try:    \n",
    "        sh_df=mod.scoring_history()\n",
    "        sh_df.to_csv(run_id+'_dl_scoring_history.csv') \n",
    "    except:\n",
    "        pass \n",
    "    try:\n",
    "        stats_dl={}\n",
    "        stats_dl=dl_stats(mod)\n",
    "        n=run_id+'_dl_stats.json'\n",
    "        dict_to_json(stats_dl,n)\n",
    "        print(stats_dl)\n",
    "    except:\n",
    "        pass    \n",
    "    try:\n",
    "        cf=mod.confusion_matrix()    \n",
    "        cf_df.to_csv(run_id+'_dl_confusion_matrix.csv')\n",
    "    except:\n",
    "        pass"
   ]
  },
  {
   "cell_type": "code",
   "execution_count": 66,
   "metadata": {},
   "outputs": [],
   "source": [
    "# DRF\n",
    "\n",
    "mod,mod_id=get_model_by_algo(\"DRF\",best_models)\n",
    "if mod is not None:\n",
    "    try:     \n",
    "         sh_df=mod.scoring_history()\n",
    "         sh_df.to_csv(run_id+'_drf_scoring_history.csv') \n",
    "    except:\n",
    "         pass  \n",
    "    try: \n",
    "         stats_drf={}\n",
    "         stats_drf=drf_stats(mod)\n",
    "         n=run_id+'_drf_stats.json'\n",
    "         dict_to_json(stats_drf,n)\n",
    "         print(stats_drf)\n",
    "    except:\n",
    "         pass"
   ]
  },
  {
   "cell_type": "code",
   "execution_count": 67,
   "metadata": {},
   "outputs": [],
   "source": [
    "# XRT\n",
    "\n",
    "mod,mod_id=get_model_by_algo(\"XRT\",best_models)\n",
    "if mod is not None:\n",
    "    try:     \n",
    "         sh_df=mod.scoring_history()\n",
    "         sh_df.to_csv(run_id+'_xrt_scoring_history.csv')\n",
    "    except:\n",
    "         pass     \n",
    "    try:        \n",
    "         stats_xrt={}\n",
    "         stats_xrt=xrt_stats(mod)\n",
    "         n=run_id+'_xrt_stats.json'\n",
    "         dict_to_json(stats_xrt,n)\n",
    "         print(stats_xrt)\n",
    "    except:\n",
    "         pass"
   ]
  },
  {
   "cell_type": "code",
   "execution_count": 68,
   "metadata": {},
   "outputs": [
    {
     "name": "stdout",
     "output_type": "stream",
     "text": [
      "{'algo': 'glm', 'model_id': 'GLM_grid_1_AutoML_20190418_214850_model_1', 'coef': {'Intercept': -28.9024709383948, 'instant': 7.893290280699375e-05, 'dteday': 2.1090705458180994e-11, 'season': 0.6622390083830808, 'yr': 1.4720625025624565, 'mnth': -0.08848850614264787, 'hr': 0.25445121769334494, 'holiday': -0.42204010084117155, 'weekday': 0.03745819439023113, 'workingday': 1.6880335477332526, 'weathersit': -0.239489670411643, 'temp': 2.7092038106611542, 'atemp': 4.69252713516861, 'hum': -4.916196250005459, 'windspeed': 1.4855252234572285, 'casual': 1.003627490697193, 'registered': 0.9589464264146543}, 'coef_norm': {'Intercept': 189.46308763450153, 'instant': 0.3960087018728751, 'dteday': 0.3828010540678439, 'season': 0.733044371029339, 'yr': 0.7360427761925474, 'mnth': -0.3042921258693701, 'hr': 1.7593787961151188, 'holiday': -0.07055045010240235, 'weekday': 0.07513257710538233, 'workingday': 0.7856625235310555, 'weathersit': -0.15311936792878328, 'temp': 0.521673777455878, 'atemp': 0.8064118000535004, 'hum': -0.9484809267342789, 'windspeed': 0.18173949538840303, 'casual': 49.48388392610694, 'registered': 145.1435284376927}}\n"
     ]
    }
   ],
   "source": [
    "# GLM\n",
    "\n",
    "mod,mod_id=get_model_by_algo(\"GLM\",best_models)\n",
    "if mod is not None:\n",
    "    try:     \n",
    "         stats_glm={}\n",
    "         stats_glm=glm_stats(mod)\n",
    "         n=run_id+'_glm_stats.json'\n",
    "         dict_to_json(stats_glm,n)\n",
    "         print(stats_glm)\n",
    "    except:\n",
    "         pass"
   ]
  },
  {
   "cell_type": "code",
   "execution_count": 69,
   "metadata": {},
   "outputs": [],
   "source": [
    "# split into training and test for showing how to predict\n",
    "train, test = df.split_frame([0.8])"
   ]
  },
  {
   "cell_type": "code",
   "execution_count": 70,
   "metadata": {},
   "outputs": [
    {
     "name": "stdout",
     "output_type": "stream",
     "text": [
      "xgboost prediction progress: |████████████████████████████████████████████| 100%\n"
     ]
    }
   ],
   "source": [
    "predictions_df=predictions_test(mod_best,test,run_id)"
   ]
  },
  {
   "cell_type": "code",
   "execution_count": 71,
   "metadata": {},
   "outputs": [
    {
     "data": {
      "text/html": [
       "<table>\n",
       "<thead>\n",
       "<tr><th style=\"text-align: right;\">  predict</th></tr>\n",
       "</thead>\n",
       "<tbody>\n",
       "<tr><td style=\"text-align: right;\"> 16.0361 </td></tr>\n",
       "<tr><td style=\"text-align: right;\"> 12.3063 </td></tr>\n",
       "<tr><td style=\"text-align: right;\"> 17.0025 </td></tr>\n",
       "<tr><td style=\"text-align: right;\">  9.14764</td></tr>\n",
       "<tr><td style=\"text-align: right;\">  8.1211 </td></tr>\n",
       "<tr><td style=\"text-align: right;\"> 53.502  </td></tr>\n",
       "<tr><td style=\"text-align: right;\"> 69.7953 </td></tr>\n",
       "<tr><td style=\"text-align: right;\"> 58.7203 </td></tr>\n",
       "<tr><td style=\"text-align: right;\"> 22.7269 </td></tr>\n",
       "<tr><td style=\"text-align: right;\"> 31.1814 </td></tr>\n",
       "</tbody>\n",
       "</table>"
      ]
     },
     "metadata": {},
     "output_type": "display_data"
    },
    {
     "data": {
      "text/plain": []
     },
     "execution_count": 71,
     "metadata": {},
     "output_type": "execute_result"
    }
   ],
   "source": [
    "predictions_df.head()"
   ]
  },
  {
   "cell_type": "code",
   "execution_count": 72,
   "metadata": {},
   "outputs": [
    {
     "name": "stdout",
     "output_type": "stream",
     "text": [
      "Rows:3437\n",
      "Cols:1\n",
      "\n",
      "\n"
     ]
    },
    {
     "data": {
      "text/html": [
       "<table>\n",
       "<thead>\n",
       "<tr><th>       </th><th>predict           </th></tr>\n",
       "</thead>\n",
       "<tbody>\n",
       "<tr><td>type   </td><td>real              </td></tr>\n",
       "<tr><td>mins   </td><td>0.6442035436630249</td></tr>\n",
       "<tr><td>mean   </td><td>189.31918917282883</td></tr>\n",
       "<tr><td>maxs   </td><td>970.2227172851562 </td></tr>\n",
       "<tr><td>sigma  </td><td>182.7975498260944 </td></tr>\n",
       "<tr><td>zeros  </td><td>0                 </td></tr>\n",
       "<tr><td>missing</td><td>0                 </td></tr>\n",
       "<tr><td>0      </td><td>16.036054611206055</td></tr>\n",
       "<tr><td>1      </td><td>12.306280136108398</td></tr>\n",
       "<tr><td>2      </td><td>17.002532958984375</td></tr>\n",
       "<tr><td>3      </td><td>9.14764404296875  </td></tr>\n",
       "<tr><td>4      </td><td>8.121103286743164 </td></tr>\n",
       "<tr><td>5      </td><td>53.50204849243164 </td></tr>\n",
       "<tr><td>6      </td><td>69.79532623291016 </td></tr>\n",
       "<tr><td>7      </td><td>58.720272064208984</td></tr>\n",
       "<tr><td>8      </td><td>22.726940155029297</td></tr>\n",
       "<tr><td>9      </td><td>31.181432723999023</td></tr>\n",
       "</tbody>\n",
       "</table>"
      ]
     },
     "metadata": {},
     "output_type": "display_data"
    }
   ],
   "source": [
    "predictions_df.describe()"
   ]
  },
  {
   "cell_type": "code",
   "execution_count": 73,
   "metadata": {},
   "outputs": [],
   "source": [
    "# Update and save meta data\n",
    "\n",
    "meta_data['end_time'] = time.time()\n",
    "meta_data['execution_time'] = meta_data['end_time'] - meta_data['start_time']\n",
    "  \n",
    "n=run_id+'_meta_data.json'\n",
    "dict_to_json(meta_data,n)"
   ]
  },
  {
   "cell_type": "code",
   "execution_count": 74,
   "metadata": {},
   "outputs": [
    {
     "data": {
      "text/plain": [
       "{'start_time': 1555638484.295697,\n",
       " 'target': None,\n",
       " 'server_path': '/Users/newzysharma/Desktop/Desktop/info6105/INFO6105-FinalProject/INFO6105-FinalProject/MetaData',\n",
       " 'data_path': '/Users/newzysharma/Desktop/Desktop/info6105/INFO6105-FinalProject/INFO6105-FinalProject/MetaData/hour.csv',\n",
       " 'test_path': None,\n",
       " 'max_models': 9,\n",
       " 'run_time': 1000,\n",
       " 'run_id': 'am1d1',\n",
       " 'scale': False,\n",
       " 'classification': False,\n",
       " 'model_path': None,\n",
       " 'balance': False,\n",
       " 'balance_threshold': 0.2,\n",
       " 'project': None,\n",
       " 'end_time': 1555639702.935195,\n",
       " 'execution_time': 1218.6394979953766,\n",
       " 'run_path': '/Users/newzysharma/Desktop/Desktop/info6105/INFO6105-FinalProject/INFO6105-FinalProject/MetaData/am1d1',\n",
       " 'nthreads': 1,\n",
       " 'min_mem_size': 1,\n",
       " 'analysis': 0,\n",
       " 'X': ['instant',\n",
       "  'season',\n",
       "  'yr',\n",
       "  'mnth',\n",
       "  'hr',\n",
       "  'holiday',\n",
       "  'weekday',\n",
       "  'workingday',\n",
       "  'weathersit',\n",
       "  'casual',\n",
       "  'registered',\n",
       "  'dteday',\n",
       "  'temp',\n",
       "  'atemp',\n",
       "  'hum',\n",
       "  'windspeed'],\n",
       " 'variables': {'instant': 'int',\n",
       "  'dteday': 'time',\n",
       "  'season': 'int',\n",
       "  'yr': 'int',\n",
       "  'mnth': 'int',\n",
       "  'hr': 'int',\n",
       "  'holiday': 'int',\n",
       "  'weekday': 'int',\n",
       "  'workingday': 'int',\n",
       "  'weathersit': 'int',\n",
       "  'temp': 'real',\n",
       "  'atemp': 'real',\n",
       "  'hum': 'real',\n",
       "  'windspeed': 'real',\n",
       "  'casual': 'int',\n",
       "  'registered': 'int',\n",
       "  'cnt': 'int'},\n",
       " 'model_execution_time': 1137.7661759853363,\n",
       " 'model_execution_time_sec': 1140.7439978122711,\n",
       " 'mod_best': 'XGBoost_1_AutoML_20190418_214850',\n",
       " 'mod_best_algo': 'xgboost',\n",
       " 'models': ['GBM_1_AutoML_20190418_214850',\n",
       "  'GLM_grid_1_AutoML_20190418_214850_model_1',\n",
       "  'DRF_1_AutoML_20190418_214850',\n",
       "  'XGBoost_1_AutoML_20190418_214850']}"
      ]
     },
     "execution_count": 74,
     "metadata": {},
     "output_type": "execute_result"
    }
   ],
   "source": [
    "meta_data"
   ]
  },
  {
   "cell_type": "code",
   "execution_count": 75,
   "metadata": {},
   "outputs": [
    {
     "name": "stdout",
     "output_type": "stream",
     "text": [
      "Writing H2O logs to /Users/newzysharma/Desktop/Desktop/info6105/INFO6105-FinalProject/INFO6105-FinalProject/MetaData/am1d1/logs/am1d1_autoh2o_log.zip\n"
     ]
    },
    {
     "data": {
      "text/plain": [
       "'/Users/newzysharma/Desktop/Desktop/info6105/INFO6105-FinalProject/INFO6105-FinalProject/MetaData/am1d1/logs/am1d1_autoh2o_log.zip'"
      ]
     },
     "execution_count": 75,
     "metadata": {},
     "output_type": "execute_result"
    }
   ],
   "source": [
    "# Save logs\n",
    "h2o.download_all_logs(dirname=logs_path, filename=logfile)"
   ]
  },
  {
   "cell_type": "code",
   "execution_count": 73,
   "metadata": {},
   "outputs": [],
   "source": [
    "def predictions_test(mod,test,run_id):\n",
    "    mod_perf=mod_best.model_performance(test)          \n",
    "    stats_test={}\n",
    "    stats_test=model_performance_stats(mod_perf)\n",
    "    print(stats_test)   \n",
    "    n=run_id+'_test_stats.json'\n",
    "    dict_to_json(stats_test,n) \n",
    "    try:\n",
    "      cf=mod_perf.confusion_matrix()\n",
    "      print(cf)   \n",
    "#      cf=mod_perf.confusion_matrix(metrics=[\"f1\",\"f2\",\"f0point5\",\"accuracy\",\"precision\",\"recall\",\"specificity\",\"absolute_mcc\",\"min_per_class_accuracy\",\"mean_per_class_accuracy\"])\n",
    "      cf_df=cf.table.as_data_frame()\n",
    "      print(cf_df)    \n",
    "      cf_df.to_csv(run_id+'_test_confusion_matrix.csv')\n",
    "    except:\n",
    "      pass\n",
    "    predictions = mod_best.predict(test)    \n",
    "    predictions_df=test.cbind(predictions).as_data_frame() \n",
    "    predictions_df.to_csv(run_id+'_predictions.csv')\n",
    "    return predictions"
   ]
  },
  {
   "cell_type": "code",
   "execution_count": 74,
   "metadata": {},
   "outputs": [
    {
     "name": "stdout",
     "output_type": "stream",
     "text": [
      "H2O session _sid_b4e1 closed.\n"
     ]
    }
   ],
   "source": [
    "h2o.cluster().shutdown()"
   ]
  }
 ],
 "metadata": {
  "kernelspec": {
   "display_name": "Python 3",
   "language": "python",
   "name": "python3"
  },
  "language_info": {
   "codemirror_mode": {
    "name": "ipython",
    "version": 3
   },
   "file_extension": ".py",
   "mimetype": "text/x-python",
   "name": "python",
   "nbconvert_exporter": "python",
   "pygments_lexer": "ipython3",
   "version": "3.7.1"
  }
 },
 "nbformat": 4,
 "nbformat_minor": 2
}
