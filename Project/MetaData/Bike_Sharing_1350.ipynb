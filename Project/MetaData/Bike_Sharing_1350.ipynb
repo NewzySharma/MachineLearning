{
 "cells": [
  {
   "cell_type": "code",
   "execution_count": 25,
   "metadata": {},
   "outputs": [],
   "source": [
    "import h2o\n",
    "from h2o.automl import H2OAutoML\n",
    "import random, os, sys\n",
    "from datetime import datetime\n",
    "import pandas as pd\n",
    "import logging\n",
    "import csv\n",
    "import optparse\n",
    "import time\n",
    "import json\n",
    "from distutils.util import strtobool\n",
    "import psutil"
   ]
  },
  {
   "cell_type": "code",
   "execution_count": 26,
   "metadata": {},
   "outputs": [],
   "source": [
    "data_path=None\n",
    "all_variables=None\n",
    "test_path=None\n",
    "# target='search_term'\n",
    "target='cnt'\n",
    "nthreads=1 \n",
    "min_mem_size=6 \n",
    "run_time=1350\n",
    "classification=False\n",
    "scale=False\n",
    "max_models=9    \n",
    "model_path=None\n",
    "balance_y=False \n",
    "balance_threshold=0.2\n",
    "name=None \n",
    "server_path=None  \n",
    "analysis=0"
   ]
  },
  {
   "cell_type": "code",
   "execution_count": 27,
   "metadata": {},
   "outputs": [
    {
     "name": "stdout",
     "output_type": "stream",
     "text": [
      "1\n"
     ]
    }
   ],
   "source": [
    "pct_memory=0.5\n",
    "virtual_memory=psutil.virtual_memory()\n",
    "min_mem_size=int(round(int(pct_memory*virtual_memory.available)/1073741824,0))\n",
    "print(min_mem_size)"
   ]
  },
  {
   "cell_type": "code",
   "execution_count": 28,
   "metadata": {},
   "outputs": [],
   "source": [
    "# Functions\n",
    "\n",
    "def alphabet(n):\n",
    "  alpha='0123456789abcdefghijklmnopqrstuvwxyzABCDEFGHIJKLMNOPQRSTUVWXYZ'    \n",
    "  str=''\n",
    "  r=len(alpha)-1   \n",
    "  while len(str)<n:\n",
    "    i=random.randint(0,r)\n",
    "    str+=alpha[i]   \n",
    "  return str\n",
    "  \n",
    "  \n",
    "def set_meta_data(analysis,run_id,server,data,test,model_path,target,run_time,classification,scale,model,balance,balance_threshold,name,path,nthreads,min_mem_size):\n",
    "  m_data={}\n",
    "  m_data['start_time'] = time.time()\n",
    "  m_data['target']=target\n",
    "  m_data['server_path']=server\n",
    "  m_data['data_path']=data \n",
    "  m_data['test_path']=test\n",
    "  m_data['max_models']=model\n",
    "  m_data['run_time']=run_time\n",
    "  m_data['run_id'] =run_id\n",
    "  m_data['scale']=scale\n",
    "  m_data['classification']=classification\n",
    "  m_data['scale']=False\n",
    "  m_data['model_path']=model_path\n",
    "  m_data['balance']=balance\n",
    "  m_data['balance_threshold']=balance_threshold\n",
    "  m_data['project'] =name\n",
    "  m_data['end_time'] = time.time()\n",
    "  m_data['execution_time'] = 0.0\n",
    "  m_data['run_path'] =path\n",
    "  m_data['nthreads'] = nthreads\n",
    "  m_data['min_mem_size'] = min_mem_size\n",
    "  m_data['analysis'] = analysis\n",
    "  return m_data\n",
    "\n",
    "\n",
    "def dict_to_json(dct,n):\n",
    "  j = json.dumps(dct, indent=4)\n",
    "  f = open(n, 'w')\n",
    "  print(j, file=f)\n",
    "  f.close()\n",
    "  \n",
    "  \n",
    "def stackedensemble(mod):\n",
    "    coef_norm=None\n",
    "    try:\n",
    "      metalearner = h2o.get_model(mod.metalearner()['name'])\n",
    "      coef_norm=metalearner.coef_norm()\n",
    "    except:\n",
    "      pass        \n",
    "    return coef_norm\n",
    "\n",
    "def stackedensemble_df(df):\n",
    "    bm_algo={ 'GBM': None,'GLM': None,'DRF': None,'XRT': None,'Dee': None}\n",
    "    for index, row in df.iterrows():\n",
    "      if len(row['model_id'])>3:\n",
    "        key=row['model_id'][0:3]\n",
    "        if key in bm_algo:\n",
    "          if bm_algo[key] is None:\n",
    "                bm_algo[key]=row['model_id']\n",
    "    bm=list(bm_algo.values()) \n",
    "    bm=list(filter(None.__ne__, bm))             \n",
    "    return bm\n",
    "\n",
    "def se_stats(modl):\n",
    "    d={}\n",
    "    d['algo']=modl.algo\n",
    "    d['model_id']=modl.model_id   \n",
    "    d['auc']=modl.auc()   \n",
    "    d['roc']=modl.roc()\n",
    "    d['mse']=modl.mse()   \n",
    "    d['null_degrees_of_freedom']=modl.null_degrees_of_freedom()\n",
    "    d['null_deviance']=modl.null_deviance()\n",
    "    d['residual_degrees_of_freedom']=modl.residual_degrees_of_freedom()   \n",
    "    d['residual_deviance']=modl.residual_deviance()\n",
    "    d['rmse']=modl.rmse()\n",
    "    return d\n",
    "\n",
    "def get_model_by_algo(algo,models_dict):\n",
    "    mod=None\n",
    "    mod_id=None    \n",
    "    for m in list(models_dict.keys()):\n",
    "        if m[0:3]==algo:\n",
    "            mod_id=m\n",
    "            mod=h2o.get_model(m)      \n",
    "    return mod,mod_id     \n",
    "    \n",
    "    \n",
    "def gbm_stats(modl):\n",
    "    d={}\n",
    "    d['algo']=modl.algo\n",
    "    d['model_id']=modl.model_id   \n",
    "    d['varimp']=modl.varimp()  \n",
    "    return d\n",
    "    \n",
    "    \n",
    "def dl_stats(modl):\n",
    "    d={}\n",
    "    d['algo']=modl.algo\n",
    "    d['model_id']=modl.model_id   \n",
    "    d['varimp']=modl.varimp()  \n",
    "    return d\n",
    "    \n",
    "    \n",
    "def drf_stats(modl):\n",
    "    d={}\n",
    "    d['algo']=modl.algo\n",
    "    d['model_id']=modl.model_id   \n",
    "    d['varimp']=modl.varimp()  \n",
    "    d['roc']=modl.roc()      \n",
    "    return d\n",
    "    \n",
    "def xrt_stats(modl):\n",
    "    d={}\n",
    "    d['algo']=modl.algo\n",
    "    d['model_id']=modl.model_id   \n",
    "    d['varimp']=modl.varimp()  \n",
    "    d['roc']=modl.roc()      \n",
    "    return d\n",
    "    \n",
    "    \n",
    "def glm_stats(modl):\n",
    "    d={}\n",
    "    d['algo']=modl.algo\n",
    "    d['model_id']=modl.model_id   \n",
    "    d['coef']=modl.coef()  \n",
    "    d['coef_norm']=modl.coef_norm()      \n",
    "    return d\n",
    "    \n",
    "def model_performance_stats(perf):\n",
    "    d={}\n",
    "    try:    \n",
    "      d['mse']=perf.mse()\n",
    "    except:\n",
    "      pass      \n",
    "    try:    \n",
    "      d['rmse']=perf.rmse() \n",
    "    except:\n",
    "      pass      \n",
    "    try:    \n",
    "      d['null_degrees_of_freedom']=perf.null_degrees_of_freedom()\n",
    "    except:\n",
    "      pass      \n",
    "    try:    \n",
    "      d['residual_degrees_of_freedom']=perf.residual_degrees_of_freedom()\n",
    "    except:\n",
    "      pass      \n",
    "    try:    \n",
    "      d['residual_deviance']=perf.residual_deviance() \n",
    "    except:\n",
    "      pass      \n",
    "    try:    \n",
    "      d['null_deviance']=perf.null_deviance() \n",
    "    except:\n",
    "      pass      \n",
    "    try:    \n",
    "      d['aic']=perf.aic() \n",
    "    except:\n",
    "      pass      \n",
    "    try:\n",
    "      d['logloss']=perf.logloss() \n",
    "    except:\n",
    "      pass    \n",
    "    try:\n",
    "      d['auc']=perf.auc()\n",
    "    except:\n",
    "      pass  \n",
    "    try:\n",
    "      d['gini']=perf.gini()\n",
    "    except:\n",
    "      pass    \n",
    "    return d\n",
    "    \n",
    "def impute_missing_values(df, x, scal=False):\n",
    "    # determine column types\n",
    "    ints, reals, enums = [], [], []\n",
    "    for key, val in df.types.items():\n",
    "        if key in x:\n",
    "            if val == 'enum':\n",
    "                enums.append(key)\n",
    "            elif val == 'int':\n",
    "                ints.append(key)            \n",
    "            else: \n",
    "                reals.append(key)    \n",
    "    _ = df[reals].impute(method='mean')\n",
    "    _ = df[ints].impute(method='median')\n",
    "    if scal:\n",
    "        df[reals] = df[reals].scale()\n",
    "        df[ints] = df[ints].scale()    \n",
    "    return\n",
    "\n",
    "\n",
    "def get_independent_variables(df, targ):\n",
    "    C = [name for name in df.columns if name != targ]\n",
    "    # determine column types\n",
    "    ints, reals, enums = [], [], []\n",
    "    for key, val in df.types.items():\n",
    "        if key in C:\n",
    "            if val == 'enum':\n",
    "                enums.append(key)\n",
    "            elif val == 'int':\n",
    "                ints.append(key)            \n",
    "            else: \n",
    "                reals.append(key)    \n",
    "    x=ints+enums+reals\n",
    "    return x\n",
    "    \n",
    "def get_all_variables_csv(i):\n",
    "    ivd={}\n",
    "    try:\n",
    "      iv = pd.read_csv(i,header=None)\n",
    "    except:\n",
    "      sys.exit(1)    \n",
    "    col=iv.values.tolist()[0]\n",
    "    dt=iv.values.tolist()[1]\n",
    "    i=0\n",
    "    for c in col:\n",
    "      ivd[c.strip()]=dt[i].strip()\n",
    "      i+=1        \n",
    "    return ivd\n",
    "    \n",
    "    \n",
    "\n",
    "def check_all_variables(df,dct,y=None):     \n",
    "    targ=list(dct.keys())     \n",
    "    for key, val in df.types.items():\n",
    "        if key in targ:\n",
    "          if dct[key] not in ['real','int','enum']:                      \n",
    "            targ.remove(key)  \n",
    "    for key, val in df.types.items():\n",
    "        if key in targ:            \n",
    "          if dct[key] != val:\n",
    "            print('convert ',key,' ',dct[key],' ',val)\n",
    "            if dct[key]=='enum':\n",
    "                try:\n",
    "                  df[key] = df[key].asfactor() \n",
    "                except:\n",
    "                  targ.remove(key)                 \n",
    "            if dct[key]=='int': \n",
    "                try:                \n",
    "                  df[key] = df[key].asnumeric() \n",
    "                except:\n",
    "                  targ.remove(key)                  \n",
    "            if dct[key]=='real':\n",
    "                try:                \n",
    "                  df[key] = df[key].asnumeric()  \n",
    "                except:\n",
    "                  targ.remove(key)                  \n",
    "    if y is None:\n",
    "      y=df.columns[-1] \n",
    "    if y in targ:\n",
    "      targ.remove(y)\n",
    "    else:\n",
    "      y=targ.pop()            \n",
    "    return targ    \n",
    "    \n",
    "def predictions(mod,data,run_id):\n",
    "    test = h2o.import_file(data)\n",
    "    mod_perf=mod_best.model_performance(test)\n",
    "              \n",
    "    stats_test={}\n",
    "    stats_test=model_performance_stats(mod_perf)\n",
    "\n",
    "    n=run_id+'_test_stats.json'\n",
    "    dict_to_json(stats_test,n) \n",
    "\n",
    "    try:    \n",
    "      cf=mod_perf.confusion_matrix(metrics=[\"f1\",\"f2\",\"f0point5\",\"accuracy\",\"precision\",\"recall\",\"specificity\",\"absolute_mcc\",\"min_per_class_accuracy\",\"mean_per_class_accuracy\"])\n",
    "      cf_df=cf[0].table.as_data_frame()\n",
    "      cf_df.to_csv(run_id+'_test_confusion_matrix.csv')\n",
    "    except:\n",
    "      pass\n",
    "\n",
    "    predictions = mod_best.predict(test)\n",
    "    predictions_df=test.cbind(predictions).as_data_frame() \n",
    "    predictions_df.to_csv(run_id+'_predictions.csv')\n",
    "    return\n",
    "\n",
    "def predictions_test(mod,test,run_id):\n",
    "    mod_perf=mod_best.model_performance(test)          \n",
    "    stats_test={}\n",
    "    stats_test=model_performance_stats(mod_perf)\n",
    "    n=run_id+'_test_stats.json'\n",
    "    dict_to_json(stats_test,n) \n",
    "    try:\n",
    "      cf=mod_perf.confusion_matrix()\n",
    "#      cf=mod_perf.confusion_matrix(metrics=[\"f1\",\"f2\",\"f0point5\",\"accuracy\",\"precision\",\"recall\",\"specificity\",\"absolute_mcc\",\"min_per_class_accuracy\",\"mean_per_class_accuracy\"])\n",
    "      cf_df=cf.table.as_data_frame()\n",
    "      cf_df.to_csv(run_id+'_test_confusion_matrix.csv')\n",
    "    except:\n",
    "      pass\n",
    "    predictions = mod_best.predict(test)    \n",
    "    predictions_df=test.cbind(predictions).as_data_frame() \n",
    "    predictions_df.to_csv(run_id+'_predictions.csv')\n",
    "    return predictions\n",
    "\n",
    "def check_X(x,df):\n",
    "    for name in x:\n",
    "        if name not in df.columns:\n",
    "          x.remove(name)  \n",
    "    return x    \n",
    "    \n",
    "    \n",
    "def get_stacked_ensemble(lst):\n",
    "    se=None\n",
    "    for model in model_set:\n",
    "      if 'BestOfFamily' in model:\n",
    "        se=model\n",
    "    if se is None:     \n",
    "      for model in model_set:\n",
    "        if 'AllModels'in model:\n",
    "          se=model           \n",
    "    return se       \n",
    "    \n",
    "def get_variables_types(df):\n",
    "    d={}\n",
    "    for key, val in df.types.items():\n",
    "        d[key]=val           \n",
    "    return d    \n",
    "    \n",
    "#  End Functions\n"
   ]
  },
  {
   "cell_type": "code",
   "execution_count": 29,
   "metadata": {},
   "outputs": [],
   "source": [
    "all_variables=None"
   ]
  },
  {
   "cell_type": "code",
   "execution_count": 30,
   "metadata": {},
   "outputs": [],
   "source": [
    "data_path='/Users/newzysharma/Desktop/Desktop/info6105/INFO6105-FinalProject/INFO6105-FinalProject/MetaData/hour.csv'\n"
   ]
  },
  {
   "cell_type": "code",
   "execution_count": 31,
   "metadata": {},
   "outputs": [
    {
     "name": "stdout",
     "output_type": "stream",
     "text": [
      "HQcSK\n"
     ]
    }
   ],
   "source": [
    "run_id=alphabet(5)\n",
    "if server_path==None:\n",
    "  server_path=os.path.abspath(os.curdir)\n",
    "os.chdir(server_path) \n",
    "run_dir = os.path.join(server_path,run_id)\n",
    "os.mkdir(run_dir)\n",
    "os.chdir(run_dir)    \n",
    "\n",
    "# run_id to std out\n",
    "print (run_id)"
   ]
  },
  {
   "cell_type": "code",
   "execution_count": 32,
   "metadata": {},
   "outputs": [
    {
     "name": "stdout",
     "output_type": "stream",
     "text": [
      "/Users/newzysharma/Desktop/Desktop/info6105/INFO6105-FinalProject/INFO6105-FinalProject/MetaData/pSv9v/pUInc/HQcSK/logs   HQcSK_autoh2o_log.zip\n"
     ]
    }
   ],
   "source": [
    "logfile=run_id+'_autoh2o_log.zip'\n",
    "logs_path=os.path.join(run_dir,'logs')\n",
    "print(logs_path,' ',logfile)"
   ]
  },
  {
   "cell_type": "code",
   "execution_count": 33,
   "metadata": {},
   "outputs": [
    {
     "name": "stdout",
     "output_type": "stream",
     "text": [
      "Checking whether there is an H2O instance running at http://localhost:19604 ..... not found.\n",
      "Attempting to start a local H2O server...\n",
      "  Java Version: java version \"11.0.2\" 2019-01-15 LTS; Java(TM) SE Runtime Environment 18.9 (build 11.0.2+9-LTS); Java HotSpot(TM) 64-Bit Server VM 18.9 (build 11.0.2+9-LTS, mixed mode)\n",
      "  Starting server from /anaconda3/lib/python3.7/site-packages/h2o/backend/bin/h2o.jar\n",
      "  Ice root: /var/folders/8c/swkczny90t36p2798_2khxfh0000gn/T/tmpyjxwl956\n",
      "  JVM stdout: /var/folders/8c/swkczny90t36p2798_2khxfh0000gn/T/tmpyjxwl956/h2o_newzysharma_started_from_python.out\n",
      "  JVM stderr: /var/folders/8c/swkczny90t36p2798_2khxfh0000gn/T/tmpyjxwl956/h2o_newzysharma_started_from_python.err\n",
      "  Server is running at http://127.0.0.1:19604\n",
      "Connecting to H2O server at http://127.0.0.1:19604 ... successful.\n"
     ]
    },
    {
     "data": {
      "text/html": [
       "<div style=\"overflow:auto\"><table style=\"width:50%\"><tr><td>H2O cluster uptime:</td>\n",
       "<td>01 secs</td></tr>\n",
       "<tr><td>H2O cluster timezone:</td>\n",
       "<td>America/New_York</td></tr>\n",
       "<tr><td>H2O data parsing timezone:</td>\n",
       "<td>UTC</td></tr>\n",
       "<tr><td>H2O cluster version:</td>\n",
       "<td>3.24.0.1</td></tr>\n",
       "<tr><td>H2O cluster version age:</td>\n",
       "<td>18 days </td></tr>\n",
       "<tr><td>H2O cluster name:</td>\n",
       "<td>H2O_from_python_newzysharma_zeif8l</td></tr>\n",
       "<tr><td>H2O cluster total nodes:</td>\n",
       "<td>1</td></tr>\n",
       "<tr><td>H2O cluster free memory:</td>\n",
       "<td>2 Gb</td></tr>\n",
       "<tr><td>H2O cluster total cores:</td>\n",
       "<td>4</td></tr>\n",
       "<tr><td>H2O cluster allowed cores:</td>\n",
       "<td>4</td></tr>\n",
       "<tr><td>H2O cluster status:</td>\n",
       "<td>accepting new members, healthy</td></tr>\n",
       "<tr><td>H2O connection url:</td>\n",
       "<td>http://127.0.0.1:19604</td></tr>\n",
       "<tr><td>H2O connection proxy:</td>\n",
       "<td>None</td></tr>\n",
       "<tr><td>H2O internal security:</td>\n",
       "<td>False</td></tr>\n",
       "<tr><td>H2O API Extensions:</td>\n",
       "<td>Amazon S3, XGBoost, Algos, AutoML, Core V3, Core V4</td></tr>\n",
       "<tr><td>Python version:</td>\n",
       "<td>3.7.1 final</td></tr></table></div>"
      ],
      "text/plain": [
       "--------------------------  ---------------------------------------------------\n",
       "H2O cluster uptime:         01 secs\n",
       "H2O cluster timezone:       America/New_York\n",
       "H2O data parsing timezone:  UTC\n",
       "H2O cluster version:        3.24.0.1\n",
       "H2O cluster version age:    18 days\n",
       "H2O cluster name:           H2O_from_python_newzysharma_zeif8l\n",
       "H2O cluster total nodes:    1\n",
       "H2O cluster free memory:    2 Gb\n",
       "H2O cluster total cores:    4\n",
       "H2O cluster allowed cores:  4\n",
       "H2O cluster status:         accepting new members, healthy\n",
       "H2O connection url:         http://127.0.0.1:19604\n",
       "H2O connection proxy:\n",
       "H2O internal security:      False\n",
       "H2O API Extensions:         Amazon S3, XGBoost, Algos, AutoML, Core V3, Core V4\n",
       "Python version:             3.7.1 final\n",
       "--------------------------  ---------------------------------------------------"
      ]
     },
     "metadata": {},
     "output_type": "display_data"
    }
   ],
   "source": [
    "# 65535 Highest port no\n",
    "port_no=random.randint(5555,55555)\n",
    "h2o.init(strict_version_check=False,min_mem_size_GB=min_mem_size,port=port_no)"
   ]
  },
  {
   "cell_type": "code",
   "execution_count": 34,
   "metadata": {},
   "outputs": [
    {
     "name": "stdout",
     "output_type": "stream",
     "text": [
      "{'start_time': 1555649277.983341, 'target': 'cnt', 'server_path': '/Users/newzysharma/Desktop/Desktop/info6105/INFO6105-FinalProject/INFO6105-FinalProject/MetaData/pSv9v/pUInc', 'data_path': '/Users/newzysharma/Desktop/Desktop/info6105/INFO6105-FinalProject/INFO6105-FinalProject/MetaData/hour.csv', 'test_path': None, 'max_models': 9, 'run_time': 1350, 'run_id': 'HQcSK', 'scale': False, 'classification': False, 'model_path': None, 'balance': False, 'balance_threshold': 0.2, 'project': None, 'end_time': 1555649277.983348, 'execution_time': 0.0, 'run_path': '/Users/newzysharma/Desktop/Desktop/info6105/INFO6105-FinalProject/INFO6105-FinalProject/MetaData/pSv9v/pUInc/HQcSK', 'nthreads': 1, 'min_mem_size': 1, 'analysis': 0}\n"
     ]
    }
   ],
   "source": [
    "# meta data\n",
    "meta_data = set_meta_data(analysis, run_id,server_path,data_path,test_path,model_path,target,run_time,classification,scale,max_models,balance_y,balance_threshold,name,run_dir,nthreads,min_mem_size)\n",
    "print(meta_data)\n"
   ]
  },
  {
   "cell_type": "code",
   "execution_count": 35,
   "metadata": {},
   "outputs": [
    {
     "name": "stdout",
     "output_type": "stream",
     "text": [
      "/Users/newzysharma/Desktop/Desktop/info6105/INFO6105-FinalProject/INFO6105-FinalProject/MetaData/hour.csv\n"
     ]
    }
   ],
   "source": [
    "print(data_path)"
   ]
  },
  {
   "cell_type": "code",
   "execution_count": 36,
   "metadata": {},
   "outputs": [
    {
     "name": "stdout",
     "output_type": "stream",
     "text": [
      "Parse progress: |█████████████████████████████████████████████████████████| 100%\n"
     ]
    }
   ],
   "source": [
    "df = h2o.import_file(data_path)"
   ]
  },
  {
   "cell_type": "code",
   "execution_count": 37,
   "metadata": {},
   "outputs": [
    {
     "data": {
      "text/html": [
       "<table>\n",
       "<thead>\n",
       "<tr><th style=\"text-align: right;\">  instant</th><th>dteday             </th><th style=\"text-align: right;\">  season</th><th style=\"text-align: right;\">  yr</th><th style=\"text-align: right;\">  mnth</th><th style=\"text-align: right;\">  hr</th><th style=\"text-align: right;\">  holiday</th><th style=\"text-align: right;\">  weekday</th><th style=\"text-align: right;\">  workingday</th><th style=\"text-align: right;\">  weathersit</th><th style=\"text-align: right;\">  temp</th><th style=\"text-align: right;\">  atemp</th><th style=\"text-align: right;\">  hum</th><th style=\"text-align: right;\">  windspeed</th><th style=\"text-align: right;\">  casual</th><th style=\"text-align: right;\">  registered</th><th style=\"text-align: right;\">  cnt</th></tr>\n",
       "</thead>\n",
       "<tbody>\n",
       "<tr><td style=\"text-align: right;\">        1</td><td>2011-01-01 00:00:00</td><td style=\"text-align: right;\">       1</td><td style=\"text-align: right;\">   0</td><td style=\"text-align: right;\">     1</td><td style=\"text-align: right;\">   0</td><td style=\"text-align: right;\">        0</td><td style=\"text-align: right;\">        6</td><td style=\"text-align: right;\">           0</td><td style=\"text-align: right;\">           1</td><td style=\"text-align: right;\">  0.24</td><td style=\"text-align: right;\"> 0.2879</td><td style=\"text-align: right;\"> 0.81</td><td style=\"text-align: right;\">     0     </td><td style=\"text-align: right;\">       3</td><td style=\"text-align: right;\">          13</td><td style=\"text-align: right;\">   16</td></tr>\n",
       "<tr><td style=\"text-align: right;\">        2</td><td>2011-01-01 00:00:00</td><td style=\"text-align: right;\">       1</td><td style=\"text-align: right;\">   0</td><td style=\"text-align: right;\">     1</td><td style=\"text-align: right;\">   1</td><td style=\"text-align: right;\">        0</td><td style=\"text-align: right;\">        6</td><td style=\"text-align: right;\">           0</td><td style=\"text-align: right;\">           1</td><td style=\"text-align: right;\">  0.22</td><td style=\"text-align: right;\"> 0.2727</td><td style=\"text-align: right;\"> 0.8 </td><td style=\"text-align: right;\">     0     </td><td style=\"text-align: right;\">       8</td><td style=\"text-align: right;\">          32</td><td style=\"text-align: right;\">   40</td></tr>\n",
       "<tr><td style=\"text-align: right;\">        3</td><td>2011-01-01 00:00:00</td><td style=\"text-align: right;\">       1</td><td style=\"text-align: right;\">   0</td><td style=\"text-align: right;\">     1</td><td style=\"text-align: right;\">   2</td><td style=\"text-align: right;\">        0</td><td style=\"text-align: right;\">        6</td><td style=\"text-align: right;\">           0</td><td style=\"text-align: right;\">           1</td><td style=\"text-align: right;\">  0.22</td><td style=\"text-align: right;\"> 0.2727</td><td style=\"text-align: right;\"> 0.8 </td><td style=\"text-align: right;\">     0     </td><td style=\"text-align: right;\">       5</td><td style=\"text-align: right;\">          27</td><td style=\"text-align: right;\">   32</td></tr>\n",
       "<tr><td style=\"text-align: right;\">        4</td><td>2011-01-01 00:00:00</td><td style=\"text-align: right;\">       1</td><td style=\"text-align: right;\">   0</td><td style=\"text-align: right;\">     1</td><td style=\"text-align: right;\">   3</td><td style=\"text-align: right;\">        0</td><td style=\"text-align: right;\">        6</td><td style=\"text-align: right;\">           0</td><td style=\"text-align: right;\">           1</td><td style=\"text-align: right;\">  0.24</td><td style=\"text-align: right;\"> 0.2879</td><td style=\"text-align: right;\"> 0.75</td><td style=\"text-align: right;\">     0     </td><td style=\"text-align: right;\">       3</td><td style=\"text-align: right;\">          10</td><td style=\"text-align: right;\">   13</td></tr>\n",
       "<tr><td style=\"text-align: right;\">        5</td><td>2011-01-01 00:00:00</td><td style=\"text-align: right;\">       1</td><td style=\"text-align: right;\">   0</td><td style=\"text-align: right;\">     1</td><td style=\"text-align: right;\">   4</td><td style=\"text-align: right;\">        0</td><td style=\"text-align: right;\">        6</td><td style=\"text-align: right;\">           0</td><td style=\"text-align: right;\">           1</td><td style=\"text-align: right;\">  0.24</td><td style=\"text-align: right;\"> 0.2879</td><td style=\"text-align: right;\"> 0.75</td><td style=\"text-align: right;\">     0     </td><td style=\"text-align: right;\">       0</td><td style=\"text-align: right;\">           1</td><td style=\"text-align: right;\">    1</td></tr>\n",
       "<tr><td style=\"text-align: right;\">        6</td><td>2011-01-01 00:00:00</td><td style=\"text-align: right;\">       1</td><td style=\"text-align: right;\">   0</td><td style=\"text-align: right;\">     1</td><td style=\"text-align: right;\">   5</td><td style=\"text-align: right;\">        0</td><td style=\"text-align: right;\">        6</td><td style=\"text-align: right;\">           0</td><td style=\"text-align: right;\">           2</td><td style=\"text-align: right;\">  0.24</td><td style=\"text-align: right;\"> 0.2576</td><td style=\"text-align: right;\"> 0.75</td><td style=\"text-align: right;\">     0.0896</td><td style=\"text-align: right;\">       0</td><td style=\"text-align: right;\">           1</td><td style=\"text-align: right;\">    1</td></tr>\n",
       "<tr><td style=\"text-align: right;\">        7</td><td>2011-01-01 00:00:00</td><td style=\"text-align: right;\">       1</td><td style=\"text-align: right;\">   0</td><td style=\"text-align: right;\">     1</td><td style=\"text-align: right;\">   6</td><td style=\"text-align: right;\">        0</td><td style=\"text-align: right;\">        6</td><td style=\"text-align: right;\">           0</td><td style=\"text-align: right;\">           1</td><td style=\"text-align: right;\">  0.22</td><td style=\"text-align: right;\"> 0.2727</td><td style=\"text-align: right;\"> 0.8 </td><td style=\"text-align: right;\">     0     </td><td style=\"text-align: right;\">       2</td><td style=\"text-align: right;\">           0</td><td style=\"text-align: right;\">    2</td></tr>\n",
       "<tr><td style=\"text-align: right;\">        8</td><td>2011-01-01 00:00:00</td><td style=\"text-align: right;\">       1</td><td style=\"text-align: right;\">   0</td><td style=\"text-align: right;\">     1</td><td style=\"text-align: right;\">   7</td><td style=\"text-align: right;\">        0</td><td style=\"text-align: right;\">        6</td><td style=\"text-align: right;\">           0</td><td style=\"text-align: right;\">           1</td><td style=\"text-align: right;\">  0.2 </td><td style=\"text-align: right;\"> 0.2576</td><td style=\"text-align: right;\"> 0.86</td><td style=\"text-align: right;\">     0     </td><td style=\"text-align: right;\">       1</td><td style=\"text-align: right;\">           2</td><td style=\"text-align: right;\">    3</td></tr>\n",
       "<tr><td style=\"text-align: right;\">        9</td><td>2011-01-01 00:00:00</td><td style=\"text-align: right;\">       1</td><td style=\"text-align: right;\">   0</td><td style=\"text-align: right;\">     1</td><td style=\"text-align: right;\">   8</td><td style=\"text-align: right;\">        0</td><td style=\"text-align: right;\">        6</td><td style=\"text-align: right;\">           0</td><td style=\"text-align: right;\">           1</td><td style=\"text-align: right;\">  0.24</td><td style=\"text-align: right;\"> 0.2879</td><td style=\"text-align: right;\"> 0.75</td><td style=\"text-align: right;\">     0     </td><td style=\"text-align: right;\">       1</td><td style=\"text-align: right;\">           7</td><td style=\"text-align: right;\">    8</td></tr>\n",
       "<tr><td style=\"text-align: right;\">       10</td><td>2011-01-01 00:00:00</td><td style=\"text-align: right;\">       1</td><td style=\"text-align: right;\">   0</td><td style=\"text-align: right;\">     1</td><td style=\"text-align: right;\">   9</td><td style=\"text-align: right;\">        0</td><td style=\"text-align: right;\">        6</td><td style=\"text-align: right;\">           0</td><td style=\"text-align: right;\">           1</td><td style=\"text-align: right;\">  0.32</td><td style=\"text-align: right;\"> 0.3485</td><td style=\"text-align: right;\"> 0.76</td><td style=\"text-align: right;\">     0     </td><td style=\"text-align: right;\">       8</td><td style=\"text-align: right;\">           6</td><td style=\"text-align: right;\">   14</td></tr>\n",
       "</tbody>\n",
       "</table>"
      ]
     },
     "metadata": {},
     "output_type": "display_data"
    },
    {
     "data": {
      "text/plain": []
     },
     "execution_count": 37,
     "metadata": {},
     "output_type": "execute_result"
    }
   ],
   "source": [
    "df.head()"
   ]
  },
  {
   "cell_type": "code",
   "execution_count": 38,
   "metadata": {},
   "outputs": [
    {
     "name": "stdout",
     "output_type": "stream",
     "text": [
      "Rows:17379\n",
      "Cols:17\n",
      "\n",
      "\n"
     ]
    },
    {
     "data": {
      "text/html": [
       "<table>\n",
       "<thead>\n",
       "<tr><th>       </th><th>instant          </th><th>dteday             </th><th>season            </th><th>yr                </th><th>mnth              </th><th>hr                </th><th>holiday             </th><th>weekday          </th><th>workingday        </th><th>weathersit        </th><th>temp               </th><th>atemp              </th><th>hum                </th><th>windspeed         </th><th>casual           </th><th>registered        </th><th>cnt               </th></tr>\n",
       "</thead>\n",
       "<tbody>\n",
       "<tr><td>type   </td><td>int              </td><td>time               </td><td>int               </td><td>int               </td><td>int               </td><td>int               </td><td>int                 </td><td>int              </td><td>int               </td><td>int               </td><td>real               </td><td>real               </td><td>real               </td><td>real              </td><td>int              </td><td>int               </td><td>int               </td></tr>\n",
       "<tr><td>mins   </td><td>1.0              </td><td>1293840000000.0    </td><td>1.0               </td><td>0.0               </td><td>1.0               </td><td>0.0               </td><td>0.0                 </td><td>0.0              </td><td>0.0               </td><td>1.0               </td><td>0.02               </td><td>0.0                </td><td>0.0                </td><td>0.0               </td><td>0.0              </td><td>0.0               </td><td>1.0               </td></tr>\n",
       "<tr><td>mean   </td><td>8690.0           </td><td>1325477314552.0461 </td><td>2.501639910236492 </td><td>0.5025605615973301</td><td>6.5377754761493785</td><td>11.546751826917548</td><td>0.028770355026181024</td><td>3.003682605443351</td><td>0.6827205247712756</td><td>1.425283387997008 </td><td>0.4969871684216584 </td><td>0.47577510213476026</td><td>0.6272288394038784 </td><td>0.1900976063064618</td><td>35.67621842453536</td><td>153.78686920996606</td><td>189.4630876345014 </td></tr>\n",
       "<tr><td>maxs   </td><td>17379.0          </td><td>1356912000000.0    </td><td>4.0               </td><td>1.0               </td><td>12.0              </td><td>23.0              </td><td>1.0                 </td><td>6.0              </td><td>1.0               </td><td>4.0               </td><td>1.0                </td><td>1.0                </td><td>1.0                </td><td>0.8507            </td><td>367.0            </td><td>886.0             </td><td>977.0             </td></tr>\n",
       "<tr><td>sigma  </td><td>5017.029499614288</td><td>18150225217.779854 </td><td>1.1069181394480765</td><td>0.5000078290910197</td><td>3.438775713750168 </td><td>6.914405095264493 </td><td>0.16716527638437123 </td><td>2.005771456110988</td><td>0.4654306335238829</td><td>0.6393568777542534</td><td>0.19255612124972193</td><td>0.17185021563535932</td><td>0.19292983406291514</td><td>0.1223402285727905</td><td>49.30503038705309</td><td>151.35728591258314</td><td>181.38759909186476</td></tr>\n",
       "<tr><td>zeros  </td><td>0                </td><td>0                  </td><td>0                 </td><td>8645              </td><td>0                 </td><td>726               </td><td>16879               </td><td>2502             </td><td>5514              </td><td>0                 </td><td>0                  </td><td>2                  </td><td>22                 </td><td>2180              </td><td>1581             </td><td>24                </td><td>0                 </td></tr>\n",
       "<tr><td>missing</td><td>0                </td><td>0                  </td><td>0                 </td><td>0                 </td><td>0                 </td><td>0                 </td><td>0                   </td><td>0                </td><td>0                 </td><td>0                 </td><td>0                  </td><td>0                  </td><td>0                  </td><td>0                 </td><td>0                </td><td>0                 </td><td>0                 </td></tr>\n",
       "<tr><td>0      </td><td>1.0              </td><td>2011-01-01 00:00:00</td><td>1.0               </td><td>0.0               </td><td>1.0               </td><td>0.0               </td><td>0.0                 </td><td>6.0              </td><td>0.0               </td><td>1.0               </td><td>0.24               </td><td>0.2879             </td><td>0.81               </td><td>0.0               </td><td>3.0              </td><td>13.0              </td><td>16.0              </td></tr>\n",
       "<tr><td>1      </td><td>2.0              </td><td>2011-01-01 00:00:00</td><td>1.0               </td><td>0.0               </td><td>1.0               </td><td>1.0               </td><td>0.0                 </td><td>6.0              </td><td>0.0               </td><td>1.0               </td><td>0.22               </td><td>0.2727             </td><td>0.8                </td><td>0.0               </td><td>8.0              </td><td>32.0              </td><td>40.0              </td></tr>\n",
       "<tr><td>2      </td><td>3.0              </td><td>2011-01-01 00:00:00</td><td>1.0               </td><td>0.0               </td><td>1.0               </td><td>2.0               </td><td>0.0                 </td><td>6.0              </td><td>0.0               </td><td>1.0               </td><td>0.22               </td><td>0.2727             </td><td>0.8                </td><td>0.0               </td><td>5.0              </td><td>27.0              </td><td>32.0              </td></tr>\n",
       "<tr><td>3      </td><td>4.0              </td><td>2011-01-01 00:00:00</td><td>1.0               </td><td>0.0               </td><td>1.0               </td><td>3.0               </td><td>0.0                 </td><td>6.0              </td><td>0.0               </td><td>1.0               </td><td>0.24               </td><td>0.2879             </td><td>0.75               </td><td>0.0               </td><td>3.0              </td><td>10.0              </td><td>13.0              </td></tr>\n",
       "<tr><td>4      </td><td>5.0              </td><td>2011-01-01 00:00:00</td><td>1.0               </td><td>0.0               </td><td>1.0               </td><td>4.0               </td><td>0.0                 </td><td>6.0              </td><td>0.0               </td><td>1.0               </td><td>0.24               </td><td>0.2879             </td><td>0.75               </td><td>0.0               </td><td>0.0              </td><td>1.0               </td><td>1.0               </td></tr>\n",
       "<tr><td>5      </td><td>6.0              </td><td>2011-01-01 00:00:00</td><td>1.0               </td><td>0.0               </td><td>1.0               </td><td>5.0               </td><td>0.0                 </td><td>6.0              </td><td>0.0               </td><td>2.0               </td><td>0.24               </td><td>0.2576             </td><td>0.75               </td><td>0.0896            </td><td>0.0              </td><td>1.0               </td><td>1.0               </td></tr>\n",
       "<tr><td>6      </td><td>7.0              </td><td>2011-01-01 00:00:00</td><td>1.0               </td><td>0.0               </td><td>1.0               </td><td>6.0               </td><td>0.0                 </td><td>6.0              </td><td>0.0               </td><td>1.0               </td><td>0.22               </td><td>0.2727             </td><td>0.8                </td><td>0.0               </td><td>2.0              </td><td>0.0               </td><td>2.0               </td></tr>\n",
       "<tr><td>7      </td><td>8.0              </td><td>2011-01-01 00:00:00</td><td>1.0               </td><td>0.0               </td><td>1.0               </td><td>7.0               </td><td>0.0                 </td><td>6.0              </td><td>0.0               </td><td>1.0               </td><td>0.2                </td><td>0.2576             </td><td>0.86               </td><td>0.0               </td><td>1.0              </td><td>2.0               </td><td>3.0               </td></tr>\n",
       "<tr><td>8      </td><td>9.0              </td><td>2011-01-01 00:00:00</td><td>1.0               </td><td>0.0               </td><td>1.0               </td><td>8.0               </td><td>0.0                 </td><td>6.0              </td><td>0.0               </td><td>1.0               </td><td>0.24               </td><td>0.2879             </td><td>0.75               </td><td>0.0               </td><td>1.0              </td><td>7.0               </td><td>8.0               </td></tr>\n",
       "<tr><td>9      </td><td>10.0             </td><td>2011-01-01 00:00:00</td><td>1.0               </td><td>0.0               </td><td>1.0               </td><td>9.0               </td><td>0.0                 </td><td>6.0              </td><td>0.0               </td><td>1.0               </td><td>0.32               </td><td>0.3485             </td><td>0.76               </td><td>0.0               </td><td>8.0              </td><td>6.0               </td><td>14.0              </td></tr>\n",
       "</tbody>\n",
       "</table>"
      ]
     },
     "metadata": {},
     "output_type": "display_data"
    }
   ],
   "source": [
    "df.describe()"
   ]
  },
  {
   "cell_type": "code",
   "execution_count": 39,
   "metadata": {},
   "outputs": [
    {
     "data": {
      "text/plain": [
       "\"\\nimport sys\\nsys.stdout = open('describe.txt', 'w')\\nprint ('test')\\n\""
      ]
     },
     "execution_count": 39,
     "metadata": {},
     "output_type": "execute_result"
    }
   ],
   "source": [
    "'''\n",
    "import sys\n",
    "sys.stdout = open('describe.txt', 'w')\n",
    "print ('test')\n",
    "'''"
   ]
  },
  {
   "cell_type": "code",
   "execution_count": 40,
   "metadata": {},
   "outputs": [],
   "source": [
    "# dependent variable\n",
    "# assign target and inputs for classification or regression\n",
    "if target==None:\n",
    "  target=df.columns[5]   \n",
    "y = target"
   ]
  },
  {
   "cell_type": "code",
   "execution_count": 41,
   "metadata": {},
   "outputs": [
    {
     "name": "stdout",
     "output_type": "stream",
     "text": [
      "cnt\n"
     ]
    }
   ],
   "source": [
    "print(y)"
   ]
  },
  {
   "cell_type": "code",
   "execution_count": 42,
   "metadata": {},
   "outputs": [
    {
     "name": "stdout",
     "output_type": "stream",
     "text": [
      "None\n"
     ]
    }
   ],
   "source": [
    "print(all_variables)"
   ]
  },
  {
   "cell_type": "code",
   "execution_count": 43,
   "metadata": {},
   "outputs": [],
   "source": [
    "if all_variables is not None:\n",
    "  ivd=get_all_variables_csv(all_variables)\n",
    "  print(ivd)    \n",
    "  X=check_all_variables(df,ivd,y)\n",
    "  print(X)"
   ]
  },
  {
   "cell_type": "code",
   "execution_count": 44,
   "metadata": {},
   "outputs": [],
   "source": [
    "# independent variables\n",
    "\n",
    "X = []  \n",
    "if all_variables is None:\n",
    "  X=get_independent_variables(df, target)  \n",
    "else: \n",
    "  ivd=get_all_variables_csv(all_variables)    \n",
    "  X=check_all_variables(df, ivd)\n",
    "\n",
    "\n",
    "X=check_X(X,df)\n",
    "\n",
    "\n",
    "# Add independent variables\n",
    "\n",
    "meta_data['X']=X  \n",
    "\n",
    "\n",
    "# impute missing values\n",
    "\n",
    "_=impute_missing_values(df,X, scale)"
   ]
  },
  {
   "cell_type": "code",
   "execution_count": 45,
   "metadata": {},
   "outputs": [],
   "source": [
    "if analysis == 3:\n",
    "  classification=False\n",
    "elif analysis == 2:\n",
    "  classification=True\n",
    "elif analysis == 1:\n",
    "  classification=True"
   ]
  },
  {
   "cell_type": "code",
   "execution_count": 46,
   "metadata": {},
   "outputs": [],
   "source": [
    "# Force target to be factors\n",
    "# Only 'int' or 'string' are allowed for asfactor(), got Target (Total orders):real \n",
    "\n",
    "if classification:\n",
    "    df[y] = df[y].asfactor()"
   ]
  },
  {
   "cell_type": "code",
   "execution_count": 47,
   "metadata": {},
   "outputs": [],
   "source": [
    "def check_y(y,df):\n",
    "  ok=False\n",
    "  C = [name for name in df.columns if name == y]\n",
    "  for key, val in df.types.items():\n",
    "    if key in C:\n",
    "      if val in ['real','int','enum']:        \n",
    "        ok=True         \n",
    "  return ok"
   ]
  },
  {
   "cell_type": "code",
   "execution_count": 48,
   "metadata": {},
   "outputs": [],
   "source": [
    "ok=check_y(y,df)\n",
    "if not ok:\n",
    "    print(ok)"
   ]
  },
  {
   "cell_type": "code",
   "execution_count": 49,
   "metadata": {},
   "outputs": [
    {
     "name": "stdout",
     "output_type": "stream",
     "text": [
      "True\n"
     ]
    }
   ],
   "source": [
    "print(ok)"
   ]
  },
  {
   "cell_type": "code",
   "execution_count": 50,
   "metadata": {},
   "outputs": [
    {
     "name": "stdout",
     "output_type": "stream",
     "text": [
      "[]\n"
     ]
    }
   ],
   "source": [
    "classification=True\n",
    "if classification:\n",
    "    print(df[y].levels())"
   ]
  },
  {
   "cell_type": "code",
   "execution_count": 51,
   "metadata": {},
   "outputs": [
    {
     "name": "stdout",
     "output_type": "stream",
     "text": [
      "[]\n"
     ]
    }
   ],
   "source": [
    "print(df[y].levels())"
   ]
  },
  {
   "cell_type": "code",
   "execution_count": 52,
   "metadata": {},
   "outputs": [
    {
     "data": {
      "text/plain": [
       "{'instant': 'int',\n",
       " 'dteday': 'time',\n",
       " 'season': 'int',\n",
       " 'yr': 'int',\n",
       " 'mnth': 'int',\n",
       " 'hr': 'int',\n",
       " 'holiday': 'int',\n",
       " 'weekday': 'int',\n",
       " 'workingday': 'int',\n",
       " 'weathersit': 'int',\n",
       " 'temp': 'real',\n",
       " 'atemp': 'real',\n",
       " 'hum': 'real',\n",
       " 'windspeed': 'real',\n",
       " 'casual': 'int',\n",
       " 'registered': 'int',\n",
       " 'cnt': 'int'}"
      ]
     },
     "execution_count": 52,
     "metadata": {},
     "output_type": "execute_result"
    }
   ],
   "source": [
    "allV=get_variables_types(df)\n",
    "allV"
   ]
  },
  {
   "cell_type": "code",
   "execution_count": 53,
   "metadata": {},
   "outputs": [],
   "source": [
    "meta_data['variables']=allV"
   ]
  },
  {
   "cell_type": "code",
   "execution_count": 54,
   "metadata": {},
   "outputs": [],
   "source": [
    "# Set up AutoML\n",
    "\n",
    "aml = H2OAutoML(max_runtime_secs=run_time,project_name = name)"
   ]
  },
  {
   "cell_type": "code",
   "execution_count": 55,
   "metadata": {},
   "outputs": [],
   "source": [
    "model_start_time = time.time()"
   ]
  },
  {
   "cell_type": "code",
   "execution_count": 56,
   "metadata": {},
   "outputs": [
    {
     "name": "stdout",
     "output_type": "stream",
     "text": [
      "AutoML progress: |████████████████████████████████████████████████████████| 100%\n"
     ]
    }
   ],
   "source": [
    "aml.train(x=X,y=y,training_frame=df)"
   ]
  },
  {
   "cell_type": "code",
   "execution_count": 57,
   "metadata": {},
   "outputs": [
    {
     "name": "stdout",
     "output_type": "stream",
     "text": [
      "Execution time for  1350 sec =   1427.1874721050262\n"
     ]
    }
   ],
   "source": [
    "execution_time =  time.time() - model_start_time\n",
    "meta_data['model_execution_time_sec'] = execution_time\n",
    "print(\"Execution time for \", run_time,\"sec =  \",meta_data['model_execution_time_sec'])"
   ]
  },
  {
   "cell_type": "code",
   "execution_count": 58,
   "metadata": {},
   "outputs": [],
   "source": [
    "meta_data['model_execution_time'] = time.time() - model_start_time"
   ]
  },
  {
   "cell_type": "code",
   "execution_count": 59,
   "metadata": {},
   "outputs": [],
   "source": [
    "# get leaderboard\n",
    "aml_leaderboard_df=aml.leaderboard.as_data_frame()"
   ]
  },
  {
   "cell_type": "code",
   "execution_count": 60,
   "metadata": {},
   "outputs": [
    {
     "data": {
      "text/html": [
       "<div>\n",
       "<style scoped>\n",
       "    .dataframe tbody tr th:only-of-type {\n",
       "        vertical-align: middle;\n",
       "    }\n",
       "\n",
       "    .dataframe tbody tr th {\n",
       "        vertical-align: top;\n",
       "    }\n",
       "\n",
       "    .dataframe thead th {\n",
       "        text-align: right;\n",
       "    }\n",
       "</style>\n",
       "<table border=\"1\" class=\"dataframe\">\n",
       "  <thead>\n",
       "    <tr style=\"text-align: right;\">\n",
       "      <th></th>\n",
       "      <th>model_id</th>\n",
       "      <th>mean_residual_deviance</th>\n",
       "      <th>rmse</th>\n",
       "      <th>mse</th>\n",
       "      <th>mae</th>\n",
       "      <th>rmsle</th>\n",
       "    </tr>\n",
       "  </thead>\n",
       "  <tbody>\n",
       "    <tr>\n",
       "      <th>0</th>\n",
       "      <td>DeepLearning_1_AutoML_20190419_004813</td>\n",
       "      <td>7.951520</td>\n",
       "      <td>2.819844</td>\n",
       "      <td>7.951520</td>\n",
       "      <td>2.230612</td>\n",
       "      <td>NaN</td>\n",
       "    </tr>\n",
       "    <tr>\n",
       "      <th>1</th>\n",
       "      <td>XGBoost_3_AutoML_20190419_004813</td>\n",
       "      <td>13.326677</td>\n",
       "      <td>3.650572</td>\n",
       "      <td>13.326677</td>\n",
       "      <td>2.338232</td>\n",
       "      <td>0.057583</td>\n",
       "    </tr>\n",
       "    <tr>\n",
       "      <th>2</th>\n",
       "      <td>GBM_grid_1_AutoML_20190419_004813_model_2</td>\n",
       "      <td>14.940027</td>\n",
       "      <td>3.865233</td>\n",
       "      <td>14.940027</td>\n",
       "      <td>2.114444</td>\n",
       "      <td>0.021939</td>\n",
       "    </tr>\n",
       "    <tr>\n",
       "      <th>3</th>\n",
       "      <td>GBM_grid_1_AutoML_20190419_004813_model_1</td>\n",
       "      <td>15.318099</td>\n",
       "      <td>3.913834</td>\n",
       "      <td>15.318099</td>\n",
       "      <td>1.952129</td>\n",
       "      <td>0.018674</td>\n",
       "    </tr>\n",
       "    <tr>\n",
       "      <th>4</th>\n",
       "      <td>XGBoost_2_AutoML_20190419_004813</td>\n",
       "      <td>16.207368</td>\n",
       "      <td>4.025838</td>\n",
       "      <td>16.207368</td>\n",
       "      <td>2.333759</td>\n",
       "      <td>0.048013</td>\n",
       "    </tr>\n",
       "    <tr>\n",
       "      <th>5</th>\n",
       "      <td>GBM_1_AutoML_20190419_004813</td>\n",
       "      <td>18.514011</td>\n",
       "      <td>4.302791</td>\n",
       "      <td>18.514011</td>\n",
       "      <td>2.697539</td>\n",
       "      <td>NaN</td>\n",
       "    </tr>\n",
       "    <tr>\n",
       "      <th>6</th>\n",
       "      <td>GBM_4_AutoML_20190419_004813</td>\n",
       "      <td>19.382606</td>\n",
       "      <td>4.402568</td>\n",
       "      <td>19.382606</td>\n",
       "      <td>2.535160</td>\n",
       "      <td>0.045587</td>\n",
       "    </tr>\n",
       "    <tr>\n",
       "      <th>7</th>\n",
       "      <td>GBM_2_AutoML_20190419_004813</td>\n",
       "      <td>21.572762</td>\n",
       "      <td>4.644649</td>\n",
       "      <td>21.572762</td>\n",
       "      <td>2.957955</td>\n",
       "      <td>NaN</td>\n",
       "    </tr>\n",
       "    <tr>\n",
       "      <th>8</th>\n",
       "      <td>XGBoost_1_AutoML_20190419_004813</td>\n",
       "      <td>32.079197</td>\n",
       "      <td>5.663850</td>\n",
       "      <td>32.079197</td>\n",
       "      <td>3.304831</td>\n",
       "      <td>0.065219</td>\n",
       "    </tr>\n",
       "    <tr>\n",
       "      <th>9</th>\n",
       "      <td>StackedEnsemble_AllModels_AutoML_20190419_004813</td>\n",
       "      <td>33.059812</td>\n",
       "      <td>5.749766</td>\n",
       "      <td>33.059812</td>\n",
       "      <td>3.581311</td>\n",
       "      <td>0.152829</td>\n",
       "    </tr>\n",
       "    <tr>\n",
       "      <th>10</th>\n",
       "      <td>GLM_grid_1_AutoML_20190419_004813_model_1</td>\n",
       "      <td>38.387049</td>\n",
       "      <td>6.195728</td>\n",
       "      <td>38.387049</td>\n",
       "      <td>4.451969</td>\n",
       "      <td>NaN</td>\n",
       "    </tr>\n",
       "    <tr>\n",
       "      <th>11</th>\n",
       "      <td>GBM_3_AutoML_20190419_004813</td>\n",
       "      <td>38.930796</td>\n",
       "      <td>6.239455</td>\n",
       "      <td>38.930796</td>\n",
       "      <td>3.835560</td>\n",
       "      <td>NaN</td>\n",
       "    </tr>\n",
       "    <tr>\n",
       "      <th>12</th>\n",
       "      <td>GBM_5_AutoML_20190419_004813</td>\n",
       "      <td>44.168345</td>\n",
       "      <td>6.645927</td>\n",
       "      <td>44.168345</td>\n",
       "      <td>3.844301</td>\n",
       "      <td>NaN</td>\n",
       "    </tr>\n",
       "    <tr>\n",
       "      <th>13</th>\n",
       "      <td>XRT_1_AutoML_20190419_004813</td>\n",
       "      <td>45.778574</td>\n",
       "      <td>6.765987</td>\n",
       "      <td>45.778574</td>\n",
       "      <td>3.693848</td>\n",
       "      <td>0.081094</td>\n",
       "    </tr>\n",
       "    <tr>\n",
       "      <th>14</th>\n",
       "      <td>DRF_1_AutoML_20190419_004813</td>\n",
       "      <td>46.095488</td>\n",
       "      <td>6.789366</td>\n",
       "      <td>46.095488</td>\n",
       "      <td>3.715292</td>\n",
       "      <td>0.081631</td>\n",
       "    </tr>\n",
       "    <tr>\n",
       "      <th>15</th>\n",
       "      <td>StackedEnsemble_BestOfFamily_AutoML_20190419_0...</td>\n",
       "      <td>53.887842</td>\n",
       "      <td>7.340834</td>\n",
       "      <td>53.887842</td>\n",
       "      <td>5.305090</td>\n",
       "      <td>0.295867</td>\n",
       "    </tr>\n",
       "    <tr>\n",
       "      <th>16</th>\n",
       "      <td>XGBoost_grid_1_AutoML_20190419_004813_model_2</td>\n",
       "      <td>353.540417</td>\n",
       "      <td>18.802670</td>\n",
       "      <td>353.540417</td>\n",
       "      <td>11.834715</td>\n",
       "      <td>0.126887</td>\n",
       "    </tr>\n",
       "    <tr>\n",
       "      <th>17</th>\n",
       "      <td>XGBoost_grid_1_AutoML_20190419_004813_model_1</td>\n",
       "      <td>4292.880206</td>\n",
       "      <td>65.520075</td>\n",
       "      <td>4292.880206</td>\n",
       "      <td>20.233152</td>\n",
       "      <td>1.018003</td>\n",
       "    </tr>\n",
       "    <tr>\n",
       "      <th>18</th>\n",
       "      <td>XGBoost_grid_1_AutoML_20190419_004813_model_3</td>\n",
       "      <td>24818.830521</td>\n",
       "      <td>157.539933</td>\n",
       "      <td>24818.830521</td>\n",
       "      <td>111.638796</td>\n",
       "      <td>0.881265</td>\n",
       "    </tr>\n",
       "    <tr>\n",
       "      <th>19</th>\n",
       "      <td>GBM_grid_1_AutoML_20190419_004813_model_4</td>\n",
       "      <td>30819.089332</td>\n",
       "      <td>175.553665</td>\n",
       "      <td>30819.089332</td>\n",
       "      <td>137.748383</td>\n",
       "      <td>1.547107</td>\n",
       "    </tr>\n",
       "    <tr>\n",
       "      <th>20</th>\n",
       "      <td>GBM_grid_1_AutoML_20190419_004813_model_3</td>\n",
       "      <td>32276.819577</td>\n",
       "      <td>179.657506</td>\n",
       "      <td>32276.819577</td>\n",
       "      <td>141.003493</td>\n",
       "      <td>1.563257</td>\n",
       "    </tr>\n",
       "  </tbody>\n",
       "</table>\n",
       "</div>"
      ],
      "text/plain": [
       "                                             model_id  mean_residual_deviance  \\\n",
       "0               DeepLearning_1_AutoML_20190419_004813                7.951520   \n",
       "1                    XGBoost_3_AutoML_20190419_004813               13.326677   \n",
       "2           GBM_grid_1_AutoML_20190419_004813_model_2               14.940027   \n",
       "3           GBM_grid_1_AutoML_20190419_004813_model_1               15.318099   \n",
       "4                    XGBoost_2_AutoML_20190419_004813               16.207368   \n",
       "5                        GBM_1_AutoML_20190419_004813               18.514011   \n",
       "6                        GBM_4_AutoML_20190419_004813               19.382606   \n",
       "7                        GBM_2_AutoML_20190419_004813               21.572762   \n",
       "8                    XGBoost_1_AutoML_20190419_004813               32.079197   \n",
       "9    StackedEnsemble_AllModels_AutoML_20190419_004813               33.059812   \n",
       "10          GLM_grid_1_AutoML_20190419_004813_model_1               38.387049   \n",
       "11                       GBM_3_AutoML_20190419_004813               38.930796   \n",
       "12                       GBM_5_AutoML_20190419_004813               44.168345   \n",
       "13                       XRT_1_AutoML_20190419_004813               45.778574   \n",
       "14                       DRF_1_AutoML_20190419_004813               46.095488   \n",
       "15  StackedEnsemble_BestOfFamily_AutoML_20190419_0...               53.887842   \n",
       "16      XGBoost_grid_1_AutoML_20190419_004813_model_2              353.540417   \n",
       "17      XGBoost_grid_1_AutoML_20190419_004813_model_1             4292.880206   \n",
       "18      XGBoost_grid_1_AutoML_20190419_004813_model_3            24818.830521   \n",
       "19          GBM_grid_1_AutoML_20190419_004813_model_4            30819.089332   \n",
       "20          GBM_grid_1_AutoML_20190419_004813_model_3            32276.819577   \n",
       "\n",
       "          rmse           mse         mae     rmsle  \n",
       "0     2.819844      7.951520    2.230612       NaN  \n",
       "1     3.650572     13.326677    2.338232  0.057583  \n",
       "2     3.865233     14.940027    2.114444  0.021939  \n",
       "3     3.913834     15.318099    1.952129  0.018674  \n",
       "4     4.025838     16.207368    2.333759  0.048013  \n",
       "5     4.302791     18.514011    2.697539       NaN  \n",
       "6     4.402568     19.382606    2.535160  0.045587  \n",
       "7     4.644649     21.572762    2.957955       NaN  \n",
       "8     5.663850     32.079197    3.304831  0.065219  \n",
       "9     5.749766     33.059812    3.581311  0.152829  \n",
       "10    6.195728     38.387049    4.451969       NaN  \n",
       "11    6.239455     38.930796    3.835560       NaN  \n",
       "12    6.645927     44.168345    3.844301       NaN  \n",
       "13    6.765987     45.778574    3.693848  0.081094  \n",
       "14    6.789366     46.095488    3.715292  0.081631  \n",
       "15    7.340834     53.887842    5.305090  0.295867  \n",
       "16   18.802670    353.540417   11.834715  0.126887  \n",
       "17   65.520075   4292.880206   20.233152  1.018003  \n",
       "18  157.539933  24818.830521  111.638796  0.881265  \n",
       "19  175.553665  30819.089332  137.748383  1.547107  \n",
       "20  179.657506  32276.819577  141.003493  1.563257  "
      ]
     },
     "execution_count": 60,
     "metadata": {},
     "output_type": "execute_result"
    }
   ],
   "source": [
    "aml_leaderboard_df"
   ]
  },
  {
   "cell_type": "code",
   "execution_count": 61,
   "metadata": {},
   "outputs": [],
   "source": [
    "# STart best model as first model\n",
    "\n",
    "model_set=aml_leaderboard_df['model_id']\n",
    "mod_best=h2o.get_model(model_set[0])"
   ]
  },
  {
   "cell_type": "code",
   "execution_count": 62,
   "metadata": {},
   "outputs": [
    {
     "data": {
      "text/plain": [
       "'DeepLearning_1_AutoML_20190419_004813'"
      ]
     },
     "execution_count": 62,
     "metadata": {},
     "output_type": "execute_result"
    }
   ],
   "source": [
    "mod_best._id"
   ]
  },
  {
   "cell_type": "code",
   "execution_count": 63,
   "metadata": {},
   "outputs": [],
   "source": [
    "# Get stacked ensemble  \n",
    "se=get_stacked_ensemble(model_set)"
   ]
  },
  {
   "cell_type": "code",
   "execution_count": 64,
   "metadata": {},
   "outputs": [
    {
     "name": "stdout",
     "output_type": "stream",
     "text": [
      "StackedEnsemble_BestOfFamily_AutoML_20190419_004813\n"
     ]
    }
   ],
   "source": [
    "print(se)"
   ]
  },
  {
   "cell_type": "code",
   "execution_count": 65,
   "metadata": {},
   "outputs": [],
   "source": [
    "if se is not None:\n",
    "  mod_best=h2o.get_model(se)"
   ]
  },
  {
   "cell_type": "code",
   "execution_count": 66,
   "metadata": {},
   "outputs": [
    {
     "data": {
      "text/plain": [
       "['__class__',\n",
       " '__delattr__',\n",
       " '__dict__',\n",
       " '__dir__',\n",
       " '__doc__',\n",
       " '__eq__',\n",
       " '__format__',\n",
       " '__ge__',\n",
       " '__getattr__',\n",
       " '__getattribute__',\n",
       " '__gt__',\n",
       " '__hash__',\n",
       " '__init__',\n",
       " '__init_subclass__',\n",
       " '__le__',\n",
       " '__lt__',\n",
       " '__module__',\n",
       " '__ne__',\n",
       " '__new__',\n",
       " '__reduce__',\n",
       " '__reduce_ex__',\n",
       " '__repr__',\n",
       " '__setattr__',\n",
       " '__sizeof__',\n",
       " '__str__',\n",
       " '__subclasshook__',\n",
       " '__weakref__',\n",
       " '_bc',\n",
       " '_bcin',\n",
       " '_check_and_save_parm',\n",
       " '_check_targets',\n",
       " '_compute_algo',\n",
       " '_end_time',\n",
       " '_estimator_type',\n",
       " '_future',\n",
       " '_get_metrics',\n",
       " '_have_mojo',\n",
       " '_have_pojo',\n",
       " '_id',\n",
       " '_is_xvalidated',\n",
       " '_job',\n",
       " '_keyify_if_h2oframe',\n",
       " '_make_model',\n",
       " '_metrics_class',\n",
       " '_model_json',\n",
       " '_parms',\n",
       " '_plot',\n",
       " '_requires_training_frame',\n",
       " '_resolve_model',\n",
       " '_run_time',\n",
       " '_start_time',\n",
       " '_train',\n",
       " '_verify_training_frame_params',\n",
       " '_xval_keys',\n",
       " 'actual_params',\n",
       " 'aic',\n",
       " 'algo',\n",
       " 'auc',\n",
       " 'base_models',\n",
       " 'biases',\n",
       " 'blending_frame',\n",
       " 'catoffsets',\n",
       " 'coef',\n",
       " 'coef_norm',\n",
       " 'convert_H2OXGBoostParams_2_XGBoostParams',\n",
       " 'cross_validation_fold_assignment',\n",
       " 'cross_validation_holdout_predictions',\n",
       " 'cross_validation_metrics_summary',\n",
       " 'cross_validation_models',\n",
       " 'cross_validation_predictions',\n",
       " 'deepfeatures',\n",
       " 'default_params',\n",
       " 'download_mojo',\n",
       " 'download_pojo',\n",
       " 'end_time',\n",
       " 'export_checkpoints_dir',\n",
       " 'fit',\n",
       " 'full_parameters',\n",
       " 'get_params',\n",
       " 'get_xval_models',\n",
       " 'gini',\n",
       " 'have_mojo',\n",
       " 'have_pojo',\n",
       " 'is_cross_validated',\n",
       " 'join',\n",
       " 'keep_levelone_frame',\n",
       " 'levelone_frame_id',\n",
       " 'logloss',\n",
       " 'mae',\n",
       " 'mean_residual_deviance',\n",
       " 'metalearner',\n",
       " 'metalearner_algorithm',\n",
       " 'metalearner_fold_assignment',\n",
       " 'metalearner_fold_column',\n",
       " 'metalearner_nfolds',\n",
       " 'metalearner_params',\n",
       " 'mixin',\n",
       " 'model_id',\n",
       " 'model_performance',\n",
       " 'mse',\n",
       " 'normmul',\n",
       " 'normsub',\n",
       " 'null_degrees_of_freedom',\n",
       " 'null_deviance',\n",
       " 'params',\n",
       " 'parms',\n",
       " 'partial_plot',\n",
       " 'plot',\n",
       " 'pprint_coef',\n",
       " 'predict',\n",
       " 'predict_contributions',\n",
       " 'predict_leaf_node_assignment',\n",
       " 'r2',\n",
       " 'residual_degrees_of_freedom',\n",
       " 'residual_deviance',\n",
       " 'respmul',\n",
       " 'response_column',\n",
       " 'respsub',\n",
       " 'rmse',\n",
       " 'rmsle',\n",
       " 'rotation',\n",
       " 'run_time',\n",
       " 'save_model_details',\n",
       " 'save_mojo',\n",
       " 'score_history',\n",
       " 'scoring_history',\n",
       " 'seed',\n",
       " 'set_params',\n",
       " 'show',\n",
       " 'stacking_strategy',\n",
       " 'staged_predict_proba',\n",
       " 'start',\n",
       " 'start_time',\n",
       " 'std_coef_plot',\n",
       " 'summary',\n",
       " 'train',\n",
       " 'training_frame',\n",
       " 'type',\n",
       " 'validation_frame',\n",
       " 'varimp',\n",
       " 'varimp_plot',\n",
       " 'weights',\n",
       " 'xval_keys',\n",
       " 'xvals']"
      ]
     },
     "execution_count": 66,
     "metadata": {},
     "output_type": "execute_result"
    }
   ],
   "source": [
    "dir(mod_best)"
   ]
  },
  {
   "cell_type": "code",
   "execution_count": 67,
   "metadata": {},
   "outputs": [
    {
     "data": {
      "text/plain": [
       "'StackedEnsemble_BestOfFamily_AutoML_20190419_004813'"
      ]
     },
     "execution_count": 67,
     "metadata": {},
     "output_type": "execute_result"
    }
   ],
   "source": [
    "mod_best._id"
   ]
  },
  {
   "cell_type": "code",
   "execution_count": 68,
   "metadata": {},
   "outputs": [
    {
     "data": {
      "text/plain": [
       "<function h2o.model.model_base.ModelBase._get_metrics(o, train, valid, xval)>"
      ]
     },
     "execution_count": 68,
     "metadata": {},
     "output_type": "execute_result"
    }
   ],
   "source": [
    "mod_best._get_metrics"
   ]
  },
  {
   "cell_type": "code",
   "execution_count": 69,
   "metadata": {},
   "outputs": [
    {
     "data": {
      "text/plain": [
       "h2o.estimators.stackedensemble.H2OStackedEnsembleEstimator"
      ]
     },
     "execution_count": 69,
     "metadata": {},
     "output_type": "execute_result"
    }
   ],
   "source": [
    "type(mod_best)"
   ]
  },
  {
   "cell_type": "code",
   "execution_count": 70,
   "metadata": {},
   "outputs": [
    {
     "name": "stdout",
     "output_type": "stream",
     "text": [
      "Model Details\n",
      "=============\n",
      "H2OStackedEnsembleEstimator :  Stacked Ensemble\n",
      "Model Key:  StackedEnsemble_BestOfFamily_AutoML_20190419_004813\n",
      "No model summary for this model\n",
      "\n",
      "\n",
      "ModelMetricsRegressionGLM: stackedensemble\n",
      "** Reported on train data. **\n",
      "\n",
      "MSE: 24.236491506513904\n",
      "RMSE: 4.923057130128992\n",
      "MAE: 3.711600253073742\n",
      "RMSLE: 0.23778862321038766\n",
      "R^2: 0.9992633188509517\n",
      "Mean Residual Deviance: 24.236491506513904\n",
      "Null degrees of freedom: 17378\n",
      "Residual degrees of freedom: 17372\n",
      "Null deviance: 571761591.0707175\n",
      "Residual deviance: 421205.98589170515\n",
      "AIC: 104737.27423907237\n",
      "\n",
      "ModelMetricsRegressionGLM: stackedensemble\n",
      "** Reported on cross-validation data. **\n",
      "\n",
      "MSE: 53.887842372881195\n",
      "RMSE: 7.340833901736314\n",
      "MAE: 5.305090014136609\n",
      "RMSLE: 0.2958669822305609\n",
      "R^2: 0.9983620501495308\n",
      "Mean Residual Deviance: 53.887842372881195\n",
      "Null degrees of freedom: 17378\n",
      "Residual degrees of freedom: 17372\n",
      "Null deviance: 571800073.8579907\n",
      "Residual deviance: 936516.8125983023\n",
      "AIC: 118623.88568175142\n",
      "<bound method ModelBase.coef_norm of >\n"
     ]
    }
   ],
   "source": [
    "mods=mod_best.coef_norm\n",
    "print(mods)"
   ]
  },
  {
   "cell_type": "code",
   "execution_count": 71,
   "metadata": {},
   "outputs": [
    {
     "data": {
      "text/plain": [
       "'\\nmod_best.aic()\\n mod_best.algo\\n mod_best.coef()\\n mod_best.coef_norm()\\n mod_best.confusion_matrix()\\n mod_best.cross_validation_fold_assignment()\\n mod_best.cross_validation_holdout_predictions()\\n mod_best.cross_validation_metrics_summary()\\n mod_best.cross_validation_models()\\n mod_best.cross_validation_predictions()\\n mod_best.deepfeatures()\\n mod_best.default_params()\\n mod_best.download_mojo()\\n mod_best.download_pojo()\\n mod_best.fit()\\n mod_best.full_parameters()\\n mod_best.get_params()\\n mod_best.get_xval_models()\\n mod_best.gini()\\n mod_best.have_mojo()\\n mod_best.have_pojo()\\n mod_best.hit_ratio_table()\\n mod_best.is_cross_validated()\\n mod_best.join()\\n mod_best.keep_levelone_frame()\\n mod_best.levelone_frame_id()\\n mod_best.logloss()\\n mod_best.mae()\\n mod_best.mean_per_class_error()\\n mod_best.mean_residual_deviance()\\n mod_best.metalearner()\\n mod_best.metalearner_algorithm()\\n mod_best.metalearner_fold_assignment()\\n mod_best.metalearner_fold_column()\\n mod_best.metalearner_nfolds()\\n mod_best.metalearner_params()\\n mod_best.mixin()\\n mod_best.model_id()\\n mod_best.model_performance()\\n mod_best.mse()\\n mod_best.normmul()\\n mod_best.normsub()\\n mod_best.null_degrees_of_freedom()\\n mod_best.null_deviance()\\n mod_best.params()\\n mod_best.parms()\\n mod_best.partial_plot()\\n mod_best.plot()\\n mod_best.pprint_coef()\\n mod_best.predict()\\n mod_best.predict_leaf_node_assignment()\\n mod_best.r2()\\n mod_best.residual_degrees_of_freedom()\\n mod_best.residual_deviance()\\n mod_best.respmul()\\n mod_best.response_column()\\n mod_best.respsub()\\n mod_best.rmse()\\n mod_best.rmsle()\\n mod_best.rotation()\\n mod_best.save_model_details()\\n mod_best.save_mojo()\\n mod_best.score_history()\\n mod_best.scoring_history()\\n mod_best.seed()\\n mod_best.set_params()\\n mod_best.show()\\n mod_best.start()\\n mod_best.std_coef_plot()\\n mod_best.summary()\\n mod_best.train()\\n mod_best.training_frame()\\n mod_best.type()\\n mod_best.validation_frame()\\n mod_best.varimp()\\n mod_best.varimp_plot()\\n mod_best.weights()\\n mod_best.xval_keys()\\n mod_best.xvalsmod_best()\\n '"
      ]
     },
     "execution_count": 71,
     "metadata": {},
     "output_type": "execute_result"
    }
   ],
   "source": [
    "'''\n",
    "mod_best.aic()\n",
    " mod_best.algo\n",
    " mod_best.coef()\n",
    " mod_best.coef_norm()\n",
    " mod_best.confusion_matrix()\n",
    " mod_best.cross_validation_fold_assignment()\n",
    " mod_best.cross_validation_holdout_predictions()\n",
    " mod_best.cross_validation_metrics_summary()\n",
    " mod_best.cross_validation_models()\n",
    " mod_best.cross_validation_predictions()\n",
    " mod_best.deepfeatures()\n",
    " mod_best.default_params()\n",
    " mod_best.download_mojo()\n",
    " mod_best.download_pojo()\n",
    " mod_best.fit()\n",
    " mod_best.full_parameters()\n",
    " mod_best.get_params()\n",
    " mod_best.get_xval_models()\n",
    " mod_best.gini()\n",
    " mod_best.have_mojo()\n",
    " mod_best.have_pojo()\n",
    " mod_best.hit_ratio_table()\n",
    " mod_best.is_cross_validated()\n",
    " mod_best.join()\n",
    " mod_best.keep_levelone_frame()\n",
    " mod_best.levelone_frame_id()\n",
    " mod_best.logloss()\n",
    " mod_best.mae()\n",
    " mod_best.mean_per_class_error()\n",
    " mod_best.mean_residual_deviance()\n",
    " mod_best.metalearner()\n",
    " mod_best.metalearner_algorithm()\n",
    " mod_best.metalearner_fold_assignment()\n",
    " mod_best.metalearner_fold_column()\n",
    " mod_best.metalearner_nfolds()\n",
    " mod_best.metalearner_params()\n",
    " mod_best.mixin()\n",
    " mod_best.model_id()\n",
    " mod_best.model_performance()\n",
    " mod_best.mse()\n",
    " mod_best.normmul()\n",
    " mod_best.normsub()\n",
    " mod_best.null_degrees_of_freedom()\n",
    " mod_best.null_deviance()\n",
    " mod_best.params()\n",
    " mod_best.parms()\n",
    " mod_best.partial_plot()\n",
    " mod_best.plot()\n",
    " mod_best.pprint_coef()\n",
    " mod_best.predict()\n",
    " mod_best.predict_leaf_node_assignment()\n",
    " mod_best.r2()\n",
    " mod_best.residual_degrees_of_freedom()\n",
    " mod_best.residual_deviance()\n",
    " mod_best.respmul()\n",
    " mod_best.response_column()\n",
    " mod_best.respsub()\n",
    " mod_best.rmse()\n",
    " mod_best.rmsle()\n",
    " mod_best.rotation()\n",
    " mod_best.save_model_details()\n",
    " mod_best.save_mojo()\n",
    " mod_best.score_history()\n",
    " mod_best.scoring_history()\n",
    " mod_best.seed()\n",
    " mod_best.set_params()\n",
    " mod_best.show()\n",
    " mod_best.start()\n",
    " mod_best.std_coef_plot()\n",
    " mod_best.summary()\n",
    " mod_best.train()\n",
    " mod_best.training_frame()\n",
    " mod_best.type()\n",
    " mod_best.validation_frame()\n",
    " mod_best.varimp()\n",
    " mod_best.varimp_plot()\n",
    " mod_best.weights()\n",
    " mod_best.xval_keys()\n",
    " mod_best.xvalsmod_best()\n",
    " '''\n"
   ]
  },
  {
   "cell_type": "code",
   "execution_count": 72,
   "metadata": {},
   "outputs": [],
   "source": [
    "bm=stackedensemble_df(aml_leaderboard_df)"
   ]
  },
  {
   "cell_type": "code",
   "execution_count": 73,
   "metadata": {},
   "outputs": [
    {
     "data": {
      "text/plain": [
       "['GBM_grid_1_AutoML_20190419_004813_model_2',\n",
       " 'GLM_grid_1_AutoML_20190419_004813_model_1',\n",
       " 'DRF_1_AutoML_20190419_004813',\n",
       " 'XRT_1_AutoML_20190419_004813',\n",
       " 'DeepLearning_1_AutoML_20190419_004813']"
      ]
     },
     "execution_count": 73,
     "metadata": {},
     "output_type": "execute_result"
    }
   ],
   "source": [
    "bm"
   ]
  },
  {
   "cell_type": "code",
   "execution_count": 74,
   "metadata": {},
   "outputs": [
    {
     "data": {
      "text/html": [
       "<div>\n",
       "<style scoped>\n",
       "    .dataframe tbody tr th:only-of-type {\n",
       "        vertical-align: middle;\n",
       "    }\n",
       "\n",
       "    .dataframe tbody tr th {\n",
       "        vertical-align: top;\n",
       "    }\n",
       "\n",
       "    .dataframe thead th {\n",
       "        text-align: right;\n",
       "    }\n",
       "</style>\n",
       "<table border=\"1\" class=\"dataframe\">\n",
       "  <thead>\n",
       "    <tr style=\"text-align: right;\">\n",
       "      <th></th>\n",
       "      <th>model_id</th>\n",
       "      <th>mean_residual_deviance</th>\n",
       "      <th>rmse</th>\n",
       "      <th>mse</th>\n",
       "      <th>mae</th>\n",
       "      <th>rmsle</th>\n",
       "    </tr>\n",
       "  </thead>\n",
       "  <tbody>\n",
       "    <tr>\n",
       "      <th>0</th>\n",
       "      <td>DeepLearning_1_AutoML_20190419_004813</td>\n",
       "      <td>7.951520</td>\n",
       "      <td>2.819844</td>\n",
       "      <td>7.951520</td>\n",
       "      <td>2.230612</td>\n",
       "      <td>NaN</td>\n",
       "    </tr>\n",
       "    <tr>\n",
       "      <th>1</th>\n",
       "      <td>XGBoost_3_AutoML_20190419_004813</td>\n",
       "      <td>13.326677</td>\n",
       "      <td>3.650572</td>\n",
       "      <td>13.326677</td>\n",
       "      <td>2.338232</td>\n",
       "      <td>0.057583</td>\n",
       "    </tr>\n",
       "    <tr>\n",
       "      <th>2</th>\n",
       "      <td>GBM_grid_1_AutoML_20190419_004813_model_2</td>\n",
       "      <td>14.940027</td>\n",
       "      <td>3.865233</td>\n",
       "      <td>14.940027</td>\n",
       "      <td>2.114444</td>\n",
       "      <td>0.021939</td>\n",
       "    </tr>\n",
       "    <tr>\n",
       "      <th>3</th>\n",
       "      <td>GBM_grid_1_AutoML_20190419_004813_model_1</td>\n",
       "      <td>15.318099</td>\n",
       "      <td>3.913834</td>\n",
       "      <td>15.318099</td>\n",
       "      <td>1.952129</td>\n",
       "      <td>0.018674</td>\n",
       "    </tr>\n",
       "    <tr>\n",
       "      <th>4</th>\n",
       "      <td>XGBoost_2_AutoML_20190419_004813</td>\n",
       "      <td>16.207368</td>\n",
       "      <td>4.025838</td>\n",
       "      <td>16.207368</td>\n",
       "      <td>2.333759</td>\n",
       "      <td>0.048013</td>\n",
       "    </tr>\n",
       "    <tr>\n",
       "      <th>5</th>\n",
       "      <td>GBM_1_AutoML_20190419_004813</td>\n",
       "      <td>18.514011</td>\n",
       "      <td>4.302791</td>\n",
       "      <td>18.514011</td>\n",
       "      <td>2.697539</td>\n",
       "      <td>NaN</td>\n",
       "    </tr>\n",
       "    <tr>\n",
       "      <th>6</th>\n",
       "      <td>GBM_4_AutoML_20190419_004813</td>\n",
       "      <td>19.382606</td>\n",
       "      <td>4.402568</td>\n",
       "      <td>19.382606</td>\n",
       "      <td>2.535160</td>\n",
       "      <td>0.045587</td>\n",
       "    </tr>\n",
       "    <tr>\n",
       "      <th>7</th>\n",
       "      <td>GBM_2_AutoML_20190419_004813</td>\n",
       "      <td>21.572762</td>\n",
       "      <td>4.644649</td>\n",
       "      <td>21.572762</td>\n",
       "      <td>2.957955</td>\n",
       "      <td>NaN</td>\n",
       "    </tr>\n",
       "    <tr>\n",
       "      <th>8</th>\n",
       "      <td>XGBoost_1_AutoML_20190419_004813</td>\n",
       "      <td>32.079197</td>\n",
       "      <td>5.663850</td>\n",
       "      <td>32.079197</td>\n",
       "      <td>3.304831</td>\n",
       "      <td>0.065219</td>\n",
       "    </tr>\n",
       "    <tr>\n",
       "      <th>9</th>\n",
       "      <td>StackedEnsemble_AllModels_AutoML_20190419_004813</td>\n",
       "      <td>33.059812</td>\n",
       "      <td>5.749766</td>\n",
       "      <td>33.059812</td>\n",
       "      <td>3.581311</td>\n",
       "      <td>0.152829</td>\n",
       "    </tr>\n",
       "    <tr>\n",
       "      <th>10</th>\n",
       "      <td>GLM_grid_1_AutoML_20190419_004813_model_1</td>\n",
       "      <td>38.387049</td>\n",
       "      <td>6.195728</td>\n",
       "      <td>38.387049</td>\n",
       "      <td>4.451969</td>\n",
       "      <td>NaN</td>\n",
       "    </tr>\n",
       "    <tr>\n",
       "      <th>11</th>\n",
       "      <td>GBM_3_AutoML_20190419_004813</td>\n",
       "      <td>38.930796</td>\n",
       "      <td>6.239455</td>\n",
       "      <td>38.930796</td>\n",
       "      <td>3.835560</td>\n",
       "      <td>NaN</td>\n",
       "    </tr>\n",
       "    <tr>\n",
       "      <th>12</th>\n",
       "      <td>GBM_5_AutoML_20190419_004813</td>\n",
       "      <td>44.168345</td>\n",
       "      <td>6.645927</td>\n",
       "      <td>44.168345</td>\n",
       "      <td>3.844301</td>\n",
       "      <td>NaN</td>\n",
       "    </tr>\n",
       "    <tr>\n",
       "      <th>13</th>\n",
       "      <td>XRT_1_AutoML_20190419_004813</td>\n",
       "      <td>45.778574</td>\n",
       "      <td>6.765987</td>\n",
       "      <td>45.778574</td>\n",
       "      <td>3.693848</td>\n",
       "      <td>0.081094</td>\n",
       "    </tr>\n",
       "    <tr>\n",
       "      <th>14</th>\n",
       "      <td>DRF_1_AutoML_20190419_004813</td>\n",
       "      <td>46.095488</td>\n",
       "      <td>6.789366</td>\n",
       "      <td>46.095488</td>\n",
       "      <td>3.715292</td>\n",
       "      <td>0.081631</td>\n",
       "    </tr>\n",
       "    <tr>\n",
       "      <th>15</th>\n",
       "      <td>StackedEnsemble_BestOfFamily_AutoML_20190419_0...</td>\n",
       "      <td>53.887842</td>\n",
       "      <td>7.340834</td>\n",
       "      <td>53.887842</td>\n",
       "      <td>5.305090</td>\n",
       "      <td>0.295867</td>\n",
       "    </tr>\n",
       "    <tr>\n",
       "      <th>16</th>\n",
       "      <td>XGBoost_grid_1_AutoML_20190419_004813_model_2</td>\n",
       "      <td>353.540417</td>\n",
       "      <td>18.802670</td>\n",
       "      <td>353.540417</td>\n",
       "      <td>11.834715</td>\n",
       "      <td>0.126887</td>\n",
       "    </tr>\n",
       "    <tr>\n",
       "      <th>17</th>\n",
       "      <td>XGBoost_grid_1_AutoML_20190419_004813_model_1</td>\n",
       "      <td>4292.880206</td>\n",
       "      <td>65.520075</td>\n",
       "      <td>4292.880206</td>\n",
       "      <td>20.233152</td>\n",
       "      <td>1.018003</td>\n",
       "    </tr>\n",
       "    <tr>\n",
       "      <th>18</th>\n",
       "      <td>XGBoost_grid_1_AutoML_20190419_004813_model_3</td>\n",
       "      <td>24818.830521</td>\n",
       "      <td>157.539933</td>\n",
       "      <td>24818.830521</td>\n",
       "      <td>111.638796</td>\n",
       "      <td>0.881265</td>\n",
       "    </tr>\n",
       "    <tr>\n",
       "      <th>19</th>\n",
       "      <td>GBM_grid_1_AutoML_20190419_004813_model_4</td>\n",
       "      <td>30819.089332</td>\n",
       "      <td>175.553665</td>\n",
       "      <td>30819.089332</td>\n",
       "      <td>137.748383</td>\n",
       "      <td>1.547107</td>\n",
       "    </tr>\n",
       "    <tr>\n",
       "      <th>20</th>\n",
       "      <td>GBM_grid_1_AutoML_20190419_004813_model_3</td>\n",
       "      <td>32276.819577</td>\n",
       "      <td>179.657506</td>\n",
       "      <td>32276.819577</td>\n",
       "      <td>141.003493</td>\n",
       "      <td>1.563257</td>\n",
       "    </tr>\n",
       "  </tbody>\n",
       "</table>\n",
       "</div>"
      ],
      "text/plain": [
       "                                             model_id  mean_residual_deviance  \\\n",
       "0               DeepLearning_1_AutoML_20190419_004813                7.951520   \n",
       "1                    XGBoost_3_AutoML_20190419_004813               13.326677   \n",
       "2           GBM_grid_1_AutoML_20190419_004813_model_2               14.940027   \n",
       "3           GBM_grid_1_AutoML_20190419_004813_model_1               15.318099   \n",
       "4                    XGBoost_2_AutoML_20190419_004813               16.207368   \n",
       "5                        GBM_1_AutoML_20190419_004813               18.514011   \n",
       "6                        GBM_4_AutoML_20190419_004813               19.382606   \n",
       "7                        GBM_2_AutoML_20190419_004813               21.572762   \n",
       "8                    XGBoost_1_AutoML_20190419_004813               32.079197   \n",
       "9    StackedEnsemble_AllModels_AutoML_20190419_004813               33.059812   \n",
       "10          GLM_grid_1_AutoML_20190419_004813_model_1               38.387049   \n",
       "11                       GBM_3_AutoML_20190419_004813               38.930796   \n",
       "12                       GBM_5_AutoML_20190419_004813               44.168345   \n",
       "13                       XRT_1_AutoML_20190419_004813               45.778574   \n",
       "14                       DRF_1_AutoML_20190419_004813               46.095488   \n",
       "15  StackedEnsemble_BestOfFamily_AutoML_20190419_0...               53.887842   \n",
       "16      XGBoost_grid_1_AutoML_20190419_004813_model_2              353.540417   \n",
       "17      XGBoost_grid_1_AutoML_20190419_004813_model_1             4292.880206   \n",
       "18      XGBoost_grid_1_AutoML_20190419_004813_model_3            24818.830521   \n",
       "19          GBM_grid_1_AutoML_20190419_004813_model_4            30819.089332   \n",
       "20          GBM_grid_1_AutoML_20190419_004813_model_3            32276.819577   \n",
       "\n",
       "          rmse           mse         mae     rmsle  \n",
       "0     2.819844      7.951520    2.230612       NaN  \n",
       "1     3.650572     13.326677    2.338232  0.057583  \n",
       "2     3.865233     14.940027    2.114444  0.021939  \n",
       "3     3.913834     15.318099    1.952129  0.018674  \n",
       "4     4.025838     16.207368    2.333759  0.048013  \n",
       "5     4.302791     18.514011    2.697539       NaN  \n",
       "6     4.402568     19.382606    2.535160  0.045587  \n",
       "7     4.644649     21.572762    2.957955       NaN  \n",
       "8     5.663850     32.079197    3.304831  0.065219  \n",
       "9     5.749766     33.059812    3.581311  0.152829  \n",
       "10    6.195728     38.387049    4.451969       NaN  \n",
       "11    6.239455     38.930796    3.835560       NaN  \n",
       "12    6.645927     44.168345    3.844301       NaN  \n",
       "13    6.765987     45.778574    3.693848  0.081094  \n",
       "14    6.789366     46.095488    3.715292  0.081631  \n",
       "15    7.340834     53.887842    5.305090  0.295867  \n",
       "16   18.802670    353.540417   11.834715  0.126887  \n",
       "17   65.520075   4292.880206   20.233152  1.018003  \n",
       "18  157.539933  24818.830521  111.638796  0.881265  \n",
       "19  175.553665  30819.089332  137.748383  1.547107  \n",
       "20  179.657506  32276.819577  141.003493  1.563257  "
      ]
     },
     "execution_count": 74,
     "metadata": {},
     "output_type": "execute_result"
    }
   ],
   "source": [
    "aml_leaderboard_df"
   ]
  },
  {
   "cell_type": "code",
   "execution_count": 75,
   "metadata": {},
   "outputs": [],
   "source": [
    "#  Get best_models and coef_norm()\n",
    "best_models={}\n",
    "best_models=stackedensemble(mod_best)\n",
    "bm=[]\n",
    "if best_models is not None: \n",
    "  if 'Intercept' in best_models.keys():\n",
    "    del best_models['Intercept']\n",
    "  bm=list(best_models.keys())\n",
    "else:\n",
    "  best_models={}\n",
    "  bm=stackedensemble_df(aml_leaderboard_df)   \n",
    "  for b in bm:   \n",
    "    best_models[b]=None\n",
    "\n",
    "if mod_best.model_id not in bm:\n",
    "    bm.append(mod_best.model_id)"
   ]
  },
  {
   "cell_type": "code",
   "execution_count": 76,
   "metadata": {},
   "outputs": [
    {
     "data": {
      "text/plain": [
       "['DeepLearning_1_AutoML_20190419_004813',\n",
       " 'XGBoost_3_AutoML_20190419_004813',\n",
       " 'GBM_grid_1_AutoML_20190419_004813_model_2',\n",
       " 'GLM_grid_1_AutoML_20190419_004813_model_1',\n",
       " 'XRT_1_AutoML_20190419_004813',\n",
       " 'DRF_1_AutoML_20190419_004813',\n",
       " 'StackedEnsemble_BestOfFamily_AutoML_20190419_004813']"
      ]
     },
     "execution_count": 76,
     "metadata": {},
     "output_type": "execute_result"
    }
   ],
   "source": [
    "bm\n"
   ]
  },
  {
   "cell_type": "code",
   "execution_count": 77,
   "metadata": {},
   "outputs": [],
   "source": [
    "# Best of Family leaderboard\n",
    "\n",
    "aml_leaderboard_df=aml_leaderboard_df.loc[aml_leaderboard_df['model_id'].isin(bm)]"
   ]
  },
  {
   "cell_type": "code",
   "execution_count": 78,
   "metadata": {},
   "outputs": [
    {
     "data": {
      "text/html": [
       "<div>\n",
       "<style scoped>\n",
       "    .dataframe tbody tr th:only-of-type {\n",
       "        vertical-align: middle;\n",
       "    }\n",
       "\n",
       "    .dataframe tbody tr th {\n",
       "        vertical-align: top;\n",
       "    }\n",
       "\n",
       "    .dataframe thead th {\n",
       "        text-align: right;\n",
       "    }\n",
       "</style>\n",
       "<table border=\"1\" class=\"dataframe\">\n",
       "  <thead>\n",
       "    <tr style=\"text-align: right;\">\n",
       "      <th></th>\n",
       "      <th>model_id</th>\n",
       "      <th>mean_residual_deviance</th>\n",
       "      <th>rmse</th>\n",
       "      <th>mse</th>\n",
       "      <th>mae</th>\n",
       "      <th>rmsle</th>\n",
       "    </tr>\n",
       "  </thead>\n",
       "  <tbody>\n",
       "    <tr>\n",
       "      <th>0</th>\n",
       "      <td>DeepLearning_1_AutoML_20190419_004813</td>\n",
       "      <td>7.951520</td>\n",
       "      <td>2.819844</td>\n",
       "      <td>7.951520</td>\n",
       "      <td>2.230612</td>\n",
       "      <td>NaN</td>\n",
       "    </tr>\n",
       "    <tr>\n",
       "      <th>1</th>\n",
       "      <td>XGBoost_3_AutoML_20190419_004813</td>\n",
       "      <td>13.326677</td>\n",
       "      <td>3.650572</td>\n",
       "      <td>13.326677</td>\n",
       "      <td>2.338232</td>\n",
       "      <td>0.057583</td>\n",
       "    </tr>\n",
       "    <tr>\n",
       "      <th>2</th>\n",
       "      <td>GBM_grid_1_AutoML_20190419_004813_model_2</td>\n",
       "      <td>14.940027</td>\n",
       "      <td>3.865233</td>\n",
       "      <td>14.940027</td>\n",
       "      <td>2.114444</td>\n",
       "      <td>0.021939</td>\n",
       "    </tr>\n",
       "    <tr>\n",
       "      <th>10</th>\n",
       "      <td>GLM_grid_1_AutoML_20190419_004813_model_1</td>\n",
       "      <td>38.387049</td>\n",
       "      <td>6.195728</td>\n",
       "      <td>38.387049</td>\n",
       "      <td>4.451969</td>\n",
       "      <td>NaN</td>\n",
       "    </tr>\n",
       "    <tr>\n",
       "      <th>13</th>\n",
       "      <td>XRT_1_AutoML_20190419_004813</td>\n",
       "      <td>45.778574</td>\n",
       "      <td>6.765987</td>\n",
       "      <td>45.778574</td>\n",
       "      <td>3.693848</td>\n",
       "      <td>0.081094</td>\n",
       "    </tr>\n",
       "    <tr>\n",
       "      <th>14</th>\n",
       "      <td>DRF_1_AutoML_20190419_004813</td>\n",
       "      <td>46.095488</td>\n",
       "      <td>6.789366</td>\n",
       "      <td>46.095488</td>\n",
       "      <td>3.715292</td>\n",
       "      <td>0.081631</td>\n",
       "    </tr>\n",
       "    <tr>\n",
       "      <th>15</th>\n",
       "      <td>StackedEnsemble_BestOfFamily_AutoML_20190419_0...</td>\n",
       "      <td>53.887842</td>\n",
       "      <td>7.340834</td>\n",
       "      <td>53.887842</td>\n",
       "      <td>5.305090</td>\n",
       "      <td>0.295867</td>\n",
       "    </tr>\n",
       "  </tbody>\n",
       "</table>\n",
       "</div>"
      ],
      "text/plain": [
       "                                             model_id  mean_residual_deviance  \\\n",
       "0               DeepLearning_1_AutoML_20190419_004813                7.951520   \n",
       "1                    XGBoost_3_AutoML_20190419_004813               13.326677   \n",
       "2           GBM_grid_1_AutoML_20190419_004813_model_2               14.940027   \n",
       "10          GLM_grid_1_AutoML_20190419_004813_model_1               38.387049   \n",
       "13                       XRT_1_AutoML_20190419_004813               45.778574   \n",
       "14                       DRF_1_AutoML_20190419_004813               46.095488   \n",
       "15  StackedEnsemble_BestOfFamily_AutoML_20190419_0...               53.887842   \n",
       "\n",
       "        rmse        mse       mae     rmsle  \n",
       "0   2.819844   7.951520  2.230612       NaN  \n",
       "1   3.650572  13.326677  2.338232  0.057583  \n",
       "2   3.865233  14.940027  2.114444  0.021939  \n",
       "10  6.195728  38.387049  4.451969       NaN  \n",
       "13  6.765987  45.778574  3.693848  0.081094  \n",
       "14  6.789366  46.095488  3.715292  0.081631  \n",
       "15  7.340834  53.887842  5.305090  0.295867  "
      ]
     },
     "execution_count": 78,
     "metadata": {},
     "output_type": "execute_result"
    }
   ],
   "source": [
    "aml_leaderboard_df"
   ]
  },
  {
   "cell_type": "code",
   "execution_count": 79,
   "metadata": {},
   "outputs": [],
   "source": [
    "# save leaderboard\n",
    "leaderboard_stats=run_id+'_leaderboard.csv'\n",
    "aml_leaderboard_df.to_csv(leaderboard_stats)"
   ]
  },
  {
   "cell_type": "code",
   "execution_count": 80,
   "metadata": {},
   "outputs": [
    {
     "name": "stdout",
     "output_type": "stream",
     "text": [
      "DeepLearning_1_AutoML_20190419_004813\n"
     ]
    }
   ],
   "source": [
    "top=aml_leaderboard_df.iloc[0]['model_id']\n",
    "print(top)\n"
   ]
  },
  {
   "cell_type": "code",
   "execution_count": 81,
   "metadata": {},
   "outputs": [
    {
     "name": "stdout",
     "output_type": "stream",
     "text": [
      "DeepLearning_1_AutoML_20190419_004813\n",
      "deeplearning\n"
     ]
    }
   ],
   "source": [
    "mod_best=h2o.get_model(top)\n",
    "print(mod_best._id)\n",
    "print(mod_best.algo)"
   ]
  },
  {
   "cell_type": "code",
   "execution_count": 82,
   "metadata": {},
   "outputs": [],
   "source": [
    "meta_data['mod_best']=mod_best._id\n",
    "meta_data['mod_best_algo']=mod_best.algo"
   ]
  },
  {
   "cell_type": "code",
   "execution_count": 83,
   "metadata": {},
   "outputs": [],
   "source": [
    "meta_data['models']=bm"
   ]
  },
  {
   "cell_type": "code",
   "execution_count": 84,
   "metadata": {},
   "outputs": [],
   "source": [
    "models_path=os.path.join(run_dir,'models')\n",
    "for mod in bm:\n",
    "  try:   \n",
    "    m=h2o.get_model(mod) \n",
    "    h2o.save_model(m, path = models_path)\n",
    "  except:    \n",
    "    pass"
   ]
  },
  {
   "cell_type": "code",
   "execution_count": 85,
   "metadata": {},
   "outputs": [
    {
     "name": "stdout",
     "output_type": "stream",
     "text": [
      "/Users/newzysharma/Desktop/Desktop/info6105/INFO6105-FinalProject/INFO6105-FinalProject/MetaData/pSv9v/pUInc/HQcSK/models\n"
     ]
    }
   ],
   "source": [
    "print(models_path)"
   ]
  },
  {
   "cell_type": "code",
   "execution_count": 86,
   "metadata": {},
   "outputs": [
    {
     "name": "stdout",
     "output_type": "stream",
     "text": [
      "{'algo': 'gbm', 'model_id': 'GBM_grid_1_AutoML_20190419_004813_model_2', 'varimp': [('registered', 678269568.0, 1.0, 0.9543403011231695), ('casual', 32358656.0, 0.047707663039365494, 0.04552934551087077), ('hum', 20196.494140625, 2.977650051465231e-05, 2.8416914467547497e-05), ('hr', 13816.9111328125, 2.0370825678578138e-05, 1.9440699912221852e-05), ('windspeed', 12464.333984375, 1.8376666995584562e-05, 1.7537593914206384e-05), ('instant', 11009.4853515625, 1.6231725365515e-05, 1.5490589673074173e-05), ('temp', 9785.625, 1.4427339013387669e-05, 1.3768591058442438e-05), ('weekday', 5785.75390625, 8.530168798978167e-06, 8.14068386024829e-06), ('dteday', 5766.01025390625, 8.50105994126844e-06, 8.112904104216236e-06), ('atemp', 5713.9638671875, 8.42432586801167e-06, 8.039673685637963e-06), ('mnth', 3607.502685546875, 5.318685749361049e-06, 5.0758361596247335e-06), ('weathersit', 1763.8193359375, 2.600469517065964e-06, 2.4817328619783552e-06), ('season', 1067.4595947265625, 1.5737984498908884e-06, 1.5019392865760478e-06), ('workingday', 697.4269409179688, 1.0282444824621244e-06, 9.812951490211414e-07), ('holiday', 573.4053344726562, 8.453944589662856e-07, 8.06794002537744e-07), ('yr', 396.6659851074219, 5.848205548673855e-07, 5.581178244351598e-07)]}\n"
     ]
    }
   ],
   "source": [
    "# GBM\n",
    " \n",
    "mod,mod_id=get_model_by_algo(\"GBM\",best_models)\n",
    "if mod is not None:\n",
    "    try:     \n",
    "        sh_df=mod.scoring_history()\n",
    "        sh_df.to_csv(run_id+'_gbm_scoring_history.csv') \n",
    "    except:\n",
    "        pass   \n",
    "    try:     \n",
    "        stats_gbm={}\n",
    "        stats_gbm=gbm_stats(mod)\n",
    "        n=run_id+'_gbm_stats.json'\n",
    "        dict_to_json(stats_gbm,n)\n",
    "        print(stats_gbm)\n",
    "    except:\n",
    "        pass"
   ]
  },
  {
   "cell_type": "code",
   "execution_count": 87,
   "metadata": {},
   "outputs": [
    {
     "name": "stdout",
     "output_type": "stream",
     "text": [
      "{'algo': 'gbm', 'model_id': 'GBM_grid_1_AutoML_20190419_004813_model_2', 'varimp': [('registered', 678269568.0, 1.0, 0.9543403011231695), ('casual', 32358656.0, 0.047707663039365494, 0.04552934551087077), ('hum', 20196.494140625, 2.977650051465231e-05, 2.8416914467547497e-05), ('hr', 13816.9111328125, 2.0370825678578138e-05, 1.9440699912221852e-05), ('windspeed', 12464.333984375, 1.8376666995584562e-05, 1.7537593914206384e-05), ('instant', 11009.4853515625, 1.6231725365515e-05, 1.5490589673074173e-05), ('temp', 9785.625, 1.4427339013387669e-05, 1.3768591058442438e-05), ('weekday', 5785.75390625, 8.530168798978167e-06, 8.14068386024829e-06), ('dteday', 5766.01025390625, 8.50105994126844e-06, 8.112904104216236e-06), ('atemp', 5713.9638671875, 8.42432586801167e-06, 8.039673685637963e-06), ('mnth', 3607.502685546875, 5.318685749361049e-06, 5.0758361596247335e-06), ('weathersit', 1763.8193359375, 2.600469517065964e-06, 2.4817328619783552e-06), ('season', 1067.4595947265625, 1.5737984498908884e-06, 1.5019392865760478e-06), ('workingday', 697.4269409179688, 1.0282444824621244e-06, 9.812951490211414e-07), ('holiday', 573.4053344726562, 8.453944589662856e-07, 8.06794002537744e-07), ('yr', 396.6659851074219, 5.848205548673855e-07, 5.581178244351598e-07)]}\n"
     ]
    }
   ],
   "source": [
    "if mod is not None:\n",
    "    try:    \n",
    "        sh_df=mod.scoring_history()\n",
    "        sh_df.to_csv(run_id+'_dl_scoring_history.csv') \n",
    "    except:\n",
    "        pass \n",
    "    try:\n",
    "        stats_dl={}\n",
    "        stats_dl=dl_stats(mod)\n",
    "        n=run_id+'_dl_stats.json'\n",
    "        dict_to_json(stats_dl,n)\n",
    "        print(stats_dl)\n",
    "    except:\n",
    "        pass    \n",
    "    try:\n",
    "        cf=mod.confusion_matrix()    \n",
    "        cf_df.to_csv(run_id+'_dl_confusion_matrix.csv')\n",
    "    except:\n",
    "        pass"
   ]
  },
  {
   "cell_type": "code",
   "execution_count": 88,
   "metadata": {},
   "outputs": [],
   "source": [
    "# DRF\n",
    "\n",
    "mod,mod_id=get_model_by_algo(\"DRF\",best_models)\n",
    "if mod is not None:\n",
    "    try:     \n",
    "         sh_df=mod.scoring_history()\n",
    "         sh_df.to_csv(run_id+'_drf_scoring_history.csv') \n",
    "    except:\n",
    "         pass  \n",
    "    try: \n",
    "         stats_drf={}\n",
    "         stats_drf=drf_stats(mod)\n",
    "         n=run_id+'_drf_stats.json'\n",
    "         dict_to_json(stats_drf,n)\n",
    "         print(stats_drf)\n",
    "    except:\n",
    "         pass"
   ]
  },
  {
   "cell_type": "code",
   "execution_count": 89,
   "metadata": {},
   "outputs": [],
   "source": [
    "# XRT\n",
    "\n",
    "mod,mod_id=get_model_by_algo(\"XRT\",best_models)\n",
    "if mod is not None:\n",
    "    try:     \n",
    "         sh_df=mod.scoring_history()\n",
    "         sh_df.to_csv(run_id+'_xrt_scoring_history.csv')\n",
    "    except:\n",
    "         pass     \n",
    "    try:        \n",
    "         stats_xrt={}\n",
    "         stats_xrt=xrt_stats(mod)\n",
    "         n=run_id+'_xrt_stats.json'\n",
    "         dict_to_json(stats_xrt,n)\n",
    "         print(stats_xrt)\n",
    "    except:\n",
    "         pass"
   ]
  },
  {
   "cell_type": "code",
   "execution_count": 90,
   "metadata": {},
   "outputs": [
    {
     "name": "stdout",
     "output_type": "stream",
     "text": [
      "{'algo': 'glm', 'model_id': 'GLM_grid_1_AutoML_20190419_004813_model_1', 'coef': {'Intercept': -28.9024709383948, 'instant': 7.893290280699375e-05, 'dteday': 2.1090705458180994e-11, 'season': 0.6622390083830808, 'yr': 1.4720625025624565, 'mnth': -0.08848850614264787, 'hr': 0.25445121769334494, 'holiday': -0.42204010084117155, 'weekday': 0.03745819439023113, 'workingday': 1.6880335477332526, 'weathersit': -0.239489670411643, 'temp': 2.7092038106611542, 'atemp': 4.69252713516861, 'hum': -4.916196250005459, 'windspeed': 1.4855252234572285, 'casual': 1.003627490697193, 'registered': 0.9589464264146543}, 'coef_norm': {'Intercept': 189.46308763450153, 'instant': 0.3960087018728751, 'dteday': 0.3828010540678439, 'season': 0.733044371029339, 'yr': 0.7360427761925474, 'mnth': -0.3042921258693701, 'hr': 1.7593787961151188, 'holiday': -0.07055045010240235, 'weekday': 0.07513257710538233, 'workingday': 0.7856625235310555, 'weathersit': -0.15311936792878328, 'temp': 0.521673777455878, 'atemp': 0.8064118000535004, 'hum': -0.9484809267342789, 'windspeed': 0.18173949538840303, 'casual': 49.48388392610694, 'registered': 145.1435284376927}}\n"
     ]
    }
   ],
   "source": [
    "# GLM\n",
    "\n",
    "mod,mod_id=get_model_by_algo(\"GLM\",best_models)\n",
    "if mod is not None:\n",
    "    try:     \n",
    "         stats_glm={}\n",
    "         stats_glm=glm_stats(mod)\n",
    "         n=run_id+'_glm_stats.json'\n",
    "         dict_to_json(stats_glm,n)\n",
    "         print(stats_glm)\n",
    "    except:\n",
    "         pass"
   ]
  },
  {
   "cell_type": "code",
   "execution_count": 91,
   "metadata": {},
   "outputs": [],
   "source": [
    "# split into training and test for showing how to predict\n",
    "train, test = df.split_frame([0.8])"
   ]
  },
  {
   "cell_type": "code",
   "execution_count": 92,
   "metadata": {},
   "outputs": [
    {
     "name": "stdout",
     "output_type": "stream",
     "text": [
      "deeplearning prediction progress: |███████████████████████████████████████| 100%\n"
     ]
    }
   ],
   "source": [
    "predictions_df=predictions_test(mod_best,test,run_id)"
   ]
  },
  {
   "cell_type": "code",
   "execution_count": 93,
   "metadata": {},
   "outputs": [
    {
     "data": {
      "text/html": [
       "<table>\n",
       "<thead>\n",
       "<tr><th style=\"text-align: right;\">   predict</th></tr>\n",
       "</thead>\n",
       "<tbody>\n",
       "<tr><td style=\"text-align: right;\"> 30.5904  </td></tr>\n",
       "<tr><td style=\"text-align: right;\"> 12.7032  </td></tr>\n",
       "<tr><td style=\"text-align: right;\">105.538   </td></tr>\n",
       "<tr><td style=\"text-align: right;\"> 33.3109  </td></tr>\n",
       "<tr><td style=\"text-align: right;\"> 38.4771  </td></tr>\n",
       "<tr><td style=\"text-align: right;\">  7.68331 </td></tr>\n",
       "<tr><td style=\"text-align: right;\"> 74.0968  </td></tr>\n",
       "<tr><td style=\"text-align: right;\"> 63.4724  </td></tr>\n",
       "<tr><td style=\"text-align: right;\">  0.844843</td></tr>\n",
       "<tr><td style=\"text-align: right;\">150.747   </td></tr>\n",
       "</tbody>\n",
       "</table>"
      ]
     },
     "metadata": {},
     "output_type": "display_data"
    },
    {
     "data": {
      "text/plain": []
     },
     "execution_count": 93,
     "metadata": {},
     "output_type": "execute_result"
    }
   ],
   "source": [
    "predictions_df.head()"
   ]
  },
  {
   "cell_type": "code",
   "execution_count": 94,
   "metadata": {},
   "outputs": [
    {
     "name": "stdout",
     "output_type": "stream",
     "text": [
      "Rows:3441\n",
      "Cols:1\n",
      "\n",
      "\n"
     ]
    },
    {
     "data": {
      "text/html": [
       "<table>\n",
       "<thead>\n",
       "<tr><th>       </th><th>predict           </th></tr>\n",
       "</thead>\n",
       "<tbody>\n",
       "<tr><td>type   </td><td>real              </td></tr>\n",
       "<tr><td>mins   </td><td>-7.545134532928017</td></tr>\n",
       "<tr><td>mean   </td><td>191.42118038606986</td></tr>\n",
       "<tr><td>maxs   </td><td>959.2821489127873 </td></tr>\n",
       "<tr><td>sigma  </td><td>182.30167758488483</td></tr>\n",
       "<tr><td>zeros  </td><td>0                 </td></tr>\n",
       "<tr><td>missing</td><td>0                 </td></tr>\n",
       "<tr><td>0      </td><td>30.590439637342598</td></tr>\n",
       "<tr><td>1      </td><td>12.703222492923288</td></tr>\n",
       "<tr><td>2      </td><td>105.53800728059727</td></tr>\n",
       "<tr><td>3      </td><td>33.310909360209536</td></tr>\n",
       "<tr><td>4      </td><td>38.47705576806919 </td></tr>\n",
       "<tr><td>5      </td><td>7.683307607655536 </td></tr>\n",
       "<tr><td>6      </td><td>74.09677421080029 </td></tr>\n",
       "<tr><td>7      </td><td>63.47242583085996 </td></tr>\n",
       "<tr><td>8      </td><td>0.8448429777406261</td></tr>\n",
       "<tr><td>9      </td><td>150.74717831578133</td></tr>\n",
       "</tbody>\n",
       "</table>"
      ]
     },
     "metadata": {},
     "output_type": "display_data"
    }
   ],
   "source": [
    "predictions_df.describe()"
   ]
  },
  {
   "cell_type": "code",
   "execution_count": 95,
   "metadata": {},
   "outputs": [],
   "source": [
    "# Update and save meta data\n",
    "\n",
    "meta_data['end_time'] = time.time()\n",
    "meta_data['execution_time'] = meta_data['end_time'] - meta_data['start_time']\n",
    "  \n",
    "n=run_id+'_meta_data.json'\n",
    "dict_to_json(meta_data,n)"
   ]
  },
  {
   "cell_type": "code",
   "execution_count": 96,
   "metadata": {},
   "outputs": [
    {
     "data": {
      "text/plain": [
       "{'start_time': 1555649277.983341,\n",
       " 'target': 'cnt',\n",
       " 'server_path': '/Users/newzysharma/Desktop/Desktop/info6105/INFO6105-FinalProject/INFO6105-FinalProject/MetaData/pSv9v/pUInc',\n",
       " 'data_path': '/Users/newzysharma/Desktop/Desktop/info6105/INFO6105-FinalProject/INFO6105-FinalProject/MetaData/hour.csv',\n",
       " 'test_path': None,\n",
       " 'max_models': 9,\n",
       " 'run_time': 1350,\n",
       " 'run_id': 'HQcSK',\n",
       " 'scale': False,\n",
       " 'classification': False,\n",
       " 'model_path': None,\n",
       " 'balance': False,\n",
       " 'balance_threshold': 0.2,\n",
       " 'project': None,\n",
       " 'end_time': 1555650753.3945138,\n",
       " 'execution_time': 1475.4111728668213,\n",
       " 'run_path': '/Users/newzysharma/Desktop/Desktop/info6105/INFO6105-FinalProject/INFO6105-FinalProject/MetaData/pSv9v/pUInc/HQcSK',\n",
       " 'nthreads': 1,\n",
       " 'min_mem_size': 1,\n",
       " 'analysis': 0,\n",
       " 'X': ['instant',\n",
       "  'season',\n",
       "  'yr',\n",
       "  'mnth',\n",
       "  'hr',\n",
       "  'holiday',\n",
       "  'weekday',\n",
       "  'workingday',\n",
       "  'weathersit',\n",
       "  'casual',\n",
       "  'registered',\n",
       "  'dteday',\n",
       "  'temp',\n",
       "  'atemp',\n",
       "  'hum',\n",
       "  'windspeed'],\n",
       " 'variables': {'instant': 'int',\n",
       "  'dteday': 'time',\n",
       "  'season': 'int',\n",
       "  'yr': 'int',\n",
       "  'mnth': 'int',\n",
       "  'hr': 'int',\n",
       "  'holiday': 'int',\n",
       "  'weekday': 'int',\n",
       "  'workingday': 'int',\n",
       "  'weathersit': 'int',\n",
       "  'temp': 'real',\n",
       "  'atemp': 'real',\n",
       "  'hum': 'real',\n",
       "  'windspeed': 'real',\n",
       "  'casual': 'int',\n",
       "  'registered': 'int',\n",
       "  'cnt': 'int'},\n",
       " 'model_execution_time_sec': 1427.1874721050262,\n",
       " 'model_execution_time': 1429.3444259166718,\n",
       " 'mod_best': 'DeepLearning_1_AutoML_20190419_004813',\n",
       " 'mod_best_algo': 'deeplearning',\n",
       " 'models': ['DeepLearning_1_AutoML_20190419_004813',\n",
       "  'XGBoost_3_AutoML_20190419_004813',\n",
       "  'GBM_grid_1_AutoML_20190419_004813_model_2',\n",
       "  'GLM_grid_1_AutoML_20190419_004813_model_1',\n",
       "  'XRT_1_AutoML_20190419_004813',\n",
       "  'DRF_1_AutoML_20190419_004813',\n",
       "  'StackedEnsemble_BestOfFamily_AutoML_20190419_004813']}"
      ]
     },
     "execution_count": 96,
     "metadata": {},
     "output_type": "execute_result"
    }
   ],
   "source": [
    "meta_data"
   ]
  },
  {
   "cell_type": "code",
   "execution_count": 97,
   "metadata": {},
   "outputs": [
    {
     "name": "stdout",
     "output_type": "stream",
     "text": [
      "Writing H2O logs to /Users/newzysharma/Desktop/Desktop/info6105/INFO6105-FinalProject/INFO6105-FinalProject/MetaData/pSv9v/pUInc/HQcSK/logs/HQcSK_autoh2o_log.zip\n"
     ]
    },
    {
     "data": {
      "text/plain": [
       "'/Users/newzysharma/Desktop/Desktop/info6105/INFO6105-FinalProject/INFO6105-FinalProject/MetaData/pSv9v/pUInc/HQcSK/logs/HQcSK_autoh2o_log.zip'"
      ]
     },
     "execution_count": 97,
     "metadata": {},
     "output_type": "execute_result"
    }
   ],
   "source": [
    "# Save logs\n",
    "h2o.download_all_logs(dirname=logs_path, filename=logfile)"
   ]
  },
  {
   "cell_type": "code",
   "execution_count": 98,
   "metadata": {},
   "outputs": [],
   "source": [
    "# Clean up\n",
    "os.chdir(server_path)"
   ]
  },
  {
   "cell_type": "code",
   "execution_count": 76,
   "metadata": {},
   "outputs": [
    {
     "name": "stdout",
     "output_type": "stream",
     "text": [
      "H2O session _sid_8dcf closed.\n"
     ]
    }
   ],
   "source": [
    "h2o.cluster().shutdown()"
   ]
  }
 ],
 "metadata": {
  "kernelspec": {
   "display_name": "Python 3",
   "language": "python",
   "name": "python3"
  },
  "language_info": {
   "codemirror_mode": {
    "name": "ipython",
    "version": 3
   },
   "file_extension": ".py",
   "mimetype": "text/x-python",
   "name": "python",
   "nbconvert_exporter": "python",
   "pygments_lexer": "ipython3",
   "version": "3.7.1"
  }
 },
 "nbformat": 4,
 "nbformat_minor": 2
}
