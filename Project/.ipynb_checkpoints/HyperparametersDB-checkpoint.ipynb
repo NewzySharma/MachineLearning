{
 "cells": [
  {
   "cell_type": "markdown",
   "metadata": {},
   "source": [
    "# ABSTRACT\n",
    "\n",
    "Hyperparameters are parameters that are specified prior to running machine learning algorithms that have a large effect on the predictive power of statistical models. Knowledge of the relative importance of a hyperparameter to an algorithm and its range of values is crucial to hyperparameter tuning and creating effective models. To either experts or non-experts, determining hyperparameters that optimize model performance can be a tedious and difficult task. Therefore, we develop a hyperparameter database that allows users to visualize and understand how to choose hyperparameters that maximize the predictive power of their models. \n",
    "\n",
    "The database is created by running millions of hyperparameter values, over thousands of public datasets and calculating the individual conditional expectation of every hyperparameter to the quality of a model.                 \n",
    "\n",
    "We analyze the **effect of hyperparameters** on algorithms such as                                                  \n",
    "Distributed Random Forest (DRF),                                                                               \n",
    "Generalized Linear Model (GLM),                                                                                \n",
    "Gradient Boosting Machine (GBM),                                                                            \n",
    "Boosting (XGBoost) and several more.                                                                          \n",
    "Consequently, the database attempts to provide a one-stop platform for data scientists to identify hyperparameters that have the most effect on their models in order to speed up the process of developing effective predictive models. Moreover, the database will also use these public datasets to build models that can predict hyperparameters without search and for visualizing and teaching concepts such as statistical power and bias/variance tradeoff. The raw data will also be publically available for the research community.\n"
   ]
  },
  {
   "cell_type": "code",
   "execution_count": 1,
   "metadata": {},
   "outputs": [],
   "source": [
    "# import h2o package and specific estimator \n",
    "import h2o\n",
    "from h2o.automl import H2OAutoML\n",
    "import random, os, sys\n",
    "from datetime import datetime\n",
    "import pandas as pd\n",
    "import logging\n",
    "import csv\n",
    "import optparse\n",
    "import time\n",
    "import json\n",
    "from distutils.util import strtobool\n",
    "import psutil\n",
    "\n",
    "import warnings\n",
    "warnings.filterwarnings('ignore')"
   ]
  },
  {
   "cell_type": "code",
   "execution_count": 2,
   "metadata": {},
   "outputs": [
    {
     "name": "stdout",
     "output_type": "stream",
     "text": [
      "Checking whether there is an H2O instance running at http://localhost:54321 ..... not found.\n",
      "Attempting to start a local H2O server...\n",
      "  Java Version: java version \"11.0.2\" 2019-01-15 LTS; Java(TM) SE Runtime Environment 18.9 (build 11.0.2+9-LTS); Java HotSpot(TM) 64-Bit Server VM 18.9 (build 11.0.2+9-LTS, mixed mode)\n",
      "  Starting server from /anaconda3/lib/python3.7/site-packages/h2o/backend/bin/h2o.jar\n",
      "  Ice root: /var/folders/8c/swkczny90t36p2798_2khxfh0000gn/T/tmpt_kdm1xk\n",
      "  JVM stdout: /var/folders/8c/swkczny90t36p2798_2khxfh0000gn/T/tmpt_kdm1xk/h2o_newzysharma_started_from_python.out\n",
      "  JVM stderr: /var/folders/8c/swkczny90t36p2798_2khxfh0000gn/T/tmpt_kdm1xk/h2o_newzysharma_started_from_python.err\n",
      "  Server is running at http://127.0.0.1:54321\n",
      "Connecting to H2O server at http://127.0.0.1:54321 ... successful.\n"
     ]
    },
    {
     "data": {
      "text/html": [
       "<div style=\"overflow:auto\"><table style=\"width:50%\"><tr><td>H2O cluster uptime:</td>\n",
       "<td>02 secs</td></tr>\n",
       "<tr><td>H2O cluster timezone:</td>\n",
       "<td>America/New_York</td></tr>\n",
       "<tr><td>H2O data parsing timezone:</td>\n",
       "<td>UTC</td></tr>\n",
       "<tr><td>H2O cluster version:</td>\n",
       "<td>3.24.0.1</td></tr>\n",
       "<tr><td>H2O cluster version age:</td>\n",
       "<td>14 days, 13 hours and 42 minutes </td></tr>\n",
       "<tr><td>H2O cluster name:</td>\n",
       "<td>H2O_from_python_newzysharma_lwlazv</td></tr>\n",
       "<tr><td>H2O cluster total nodes:</td>\n",
       "<td>1</td></tr>\n",
       "<tr><td>H2O cluster free memory:</td>\n",
       "<td>2 Gb</td></tr>\n",
       "<tr><td>H2O cluster total cores:</td>\n",
       "<td>4</td></tr>\n",
       "<tr><td>H2O cluster allowed cores:</td>\n",
       "<td>4</td></tr>\n",
       "<tr><td>H2O cluster status:</td>\n",
       "<td>accepting new members, healthy</td></tr>\n",
       "<tr><td>H2O connection url:</td>\n",
       "<td>http://127.0.0.1:54321</td></tr>\n",
       "<tr><td>H2O connection proxy:</td>\n",
       "<td>None</td></tr>\n",
       "<tr><td>H2O internal security:</td>\n",
       "<td>False</td></tr>\n",
       "<tr><td>H2O API Extensions:</td>\n",
       "<td>Amazon S3, XGBoost, Algos, AutoML, Core V3, Core V4</td></tr>\n",
       "<tr><td>Python version:</td>\n",
       "<td>3.7.1 final</td></tr></table></div>"
      ],
      "text/plain": [
       "--------------------------  ---------------------------------------------------\n",
       "H2O cluster uptime:         02 secs\n",
       "H2O cluster timezone:       America/New_York\n",
       "H2O data parsing timezone:  UTC\n",
       "H2O cluster version:        3.24.0.1\n",
       "H2O cluster version age:    14 days, 13 hours and 42 minutes\n",
       "H2O cluster name:           H2O_from_python_newzysharma_lwlazv\n",
       "H2O cluster total nodes:    1\n",
       "H2O cluster free memory:    2 Gb\n",
       "H2O cluster total cores:    4\n",
       "H2O cluster allowed cores:  4\n",
       "H2O cluster status:         accepting new members, healthy\n",
       "H2O connection url:         http://127.0.0.1:54321\n",
       "H2O connection proxy:\n",
       "H2O internal security:      False\n",
       "H2O API Extensions:         Amazon S3, XGBoost, Algos, AutoML, Core V3, Core V4\n",
       "Python version:             3.7.1 final\n",
       "--------------------------  ---------------------------------------------------"
      ]
     },
     "metadata": {},
     "output_type": "display_data"
    }
   ],
   "source": [
    "h2o.init(strict_version_check=False) # start h2o"
   ]
  },
  {
   "cell_type": "code",
   "execution_count": 3,
   "metadata": {},
   "outputs": [
    {
     "name": "stdout",
     "output_type": "stream",
     "text": [
      "Parse progress: |█████████████████████████████████████████████████████████| 100%\n"
     ]
    }
   ],
   "source": [
    "#importing data to the server\n",
    "hp = h2o.import_file(path=\"hour.csv\")"
   ]
  },
  {
   "cell_type": "code",
   "execution_count": 4,
   "metadata": {},
   "outputs": [
    {
     "data": {
      "text/html": [
       "<table>\n",
       "<thead>\n",
       "<tr><th style=\"text-align: right;\">  instant</th><th>dteday             </th><th style=\"text-align: right;\">  season</th><th style=\"text-align: right;\">  yr</th><th style=\"text-align: right;\">  mnth</th><th style=\"text-align: right;\">  hr</th><th style=\"text-align: right;\">  holiday</th><th style=\"text-align: right;\">  weekday</th><th style=\"text-align: right;\">  workingday</th><th style=\"text-align: right;\">  weathersit</th><th style=\"text-align: right;\">  temp</th><th style=\"text-align: right;\">  atemp</th><th style=\"text-align: right;\">  hum</th><th style=\"text-align: right;\">  windspeed</th><th style=\"text-align: right;\">  casual</th><th style=\"text-align: right;\">  registered</th><th style=\"text-align: right;\">  cnt</th></tr>\n",
       "</thead>\n",
       "<tbody>\n",
       "<tr><td style=\"text-align: right;\">        1</td><td>2011-01-01 00:00:00</td><td style=\"text-align: right;\">       1</td><td style=\"text-align: right;\">   0</td><td style=\"text-align: right;\">     1</td><td style=\"text-align: right;\">   0</td><td style=\"text-align: right;\">        0</td><td style=\"text-align: right;\">        6</td><td style=\"text-align: right;\">           0</td><td style=\"text-align: right;\">           1</td><td style=\"text-align: right;\">  0.24</td><td style=\"text-align: right;\"> 0.2879</td><td style=\"text-align: right;\"> 0.81</td><td style=\"text-align: right;\">     0     </td><td style=\"text-align: right;\">       3</td><td style=\"text-align: right;\">          13</td><td style=\"text-align: right;\">   16</td></tr>\n",
       "<tr><td style=\"text-align: right;\">        2</td><td>2011-01-01 00:00:00</td><td style=\"text-align: right;\">       1</td><td style=\"text-align: right;\">   0</td><td style=\"text-align: right;\">     1</td><td style=\"text-align: right;\">   1</td><td style=\"text-align: right;\">        0</td><td style=\"text-align: right;\">        6</td><td style=\"text-align: right;\">           0</td><td style=\"text-align: right;\">           1</td><td style=\"text-align: right;\">  0.22</td><td style=\"text-align: right;\"> 0.2727</td><td style=\"text-align: right;\"> 0.8 </td><td style=\"text-align: right;\">     0     </td><td style=\"text-align: right;\">       8</td><td style=\"text-align: right;\">          32</td><td style=\"text-align: right;\">   40</td></tr>\n",
       "<tr><td style=\"text-align: right;\">        3</td><td>2011-01-01 00:00:00</td><td style=\"text-align: right;\">       1</td><td style=\"text-align: right;\">   0</td><td style=\"text-align: right;\">     1</td><td style=\"text-align: right;\">   2</td><td style=\"text-align: right;\">        0</td><td style=\"text-align: right;\">        6</td><td style=\"text-align: right;\">           0</td><td style=\"text-align: right;\">           1</td><td style=\"text-align: right;\">  0.22</td><td style=\"text-align: right;\"> 0.2727</td><td style=\"text-align: right;\"> 0.8 </td><td style=\"text-align: right;\">     0     </td><td style=\"text-align: right;\">       5</td><td style=\"text-align: right;\">          27</td><td style=\"text-align: right;\">   32</td></tr>\n",
       "<tr><td style=\"text-align: right;\">        4</td><td>2011-01-01 00:00:00</td><td style=\"text-align: right;\">       1</td><td style=\"text-align: right;\">   0</td><td style=\"text-align: right;\">     1</td><td style=\"text-align: right;\">   3</td><td style=\"text-align: right;\">        0</td><td style=\"text-align: right;\">        6</td><td style=\"text-align: right;\">           0</td><td style=\"text-align: right;\">           1</td><td style=\"text-align: right;\">  0.24</td><td style=\"text-align: right;\"> 0.2879</td><td style=\"text-align: right;\"> 0.75</td><td style=\"text-align: right;\">     0     </td><td style=\"text-align: right;\">       3</td><td style=\"text-align: right;\">          10</td><td style=\"text-align: right;\">   13</td></tr>\n",
       "<tr><td style=\"text-align: right;\">        5</td><td>2011-01-01 00:00:00</td><td style=\"text-align: right;\">       1</td><td style=\"text-align: right;\">   0</td><td style=\"text-align: right;\">     1</td><td style=\"text-align: right;\">   4</td><td style=\"text-align: right;\">        0</td><td style=\"text-align: right;\">        6</td><td style=\"text-align: right;\">           0</td><td style=\"text-align: right;\">           1</td><td style=\"text-align: right;\">  0.24</td><td style=\"text-align: right;\"> 0.2879</td><td style=\"text-align: right;\"> 0.75</td><td style=\"text-align: right;\">     0     </td><td style=\"text-align: right;\">       0</td><td style=\"text-align: right;\">           1</td><td style=\"text-align: right;\">    1</td></tr>\n",
       "<tr><td style=\"text-align: right;\">        6</td><td>2011-01-01 00:00:00</td><td style=\"text-align: right;\">       1</td><td style=\"text-align: right;\">   0</td><td style=\"text-align: right;\">     1</td><td style=\"text-align: right;\">   5</td><td style=\"text-align: right;\">        0</td><td style=\"text-align: right;\">        6</td><td style=\"text-align: right;\">           0</td><td style=\"text-align: right;\">           2</td><td style=\"text-align: right;\">  0.24</td><td style=\"text-align: right;\"> 0.2576</td><td style=\"text-align: right;\"> 0.75</td><td style=\"text-align: right;\">     0.0896</td><td style=\"text-align: right;\">       0</td><td style=\"text-align: right;\">           1</td><td style=\"text-align: right;\">    1</td></tr>\n",
       "<tr><td style=\"text-align: right;\">        7</td><td>2011-01-01 00:00:00</td><td style=\"text-align: right;\">       1</td><td style=\"text-align: right;\">   0</td><td style=\"text-align: right;\">     1</td><td style=\"text-align: right;\">   6</td><td style=\"text-align: right;\">        0</td><td style=\"text-align: right;\">        6</td><td style=\"text-align: right;\">           0</td><td style=\"text-align: right;\">           1</td><td style=\"text-align: right;\">  0.22</td><td style=\"text-align: right;\"> 0.2727</td><td style=\"text-align: right;\"> 0.8 </td><td style=\"text-align: right;\">     0     </td><td style=\"text-align: right;\">       2</td><td style=\"text-align: right;\">           0</td><td style=\"text-align: right;\">    2</td></tr>\n",
       "<tr><td style=\"text-align: right;\">        8</td><td>2011-01-01 00:00:00</td><td style=\"text-align: right;\">       1</td><td style=\"text-align: right;\">   0</td><td style=\"text-align: right;\">     1</td><td style=\"text-align: right;\">   7</td><td style=\"text-align: right;\">        0</td><td style=\"text-align: right;\">        6</td><td style=\"text-align: right;\">           0</td><td style=\"text-align: right;\">           1</td><td style=\"text-align: right;\">  0.2 </td><td style=\"text-align: right;\"> 0.2576</td><td style=\"text-align: right;\"> 0.86</td><td style=\"text-align: right;\">     0     </td><td style=\"text-align: right;\">       1</td><td style=\"text-align: right;\">           2</td><td style=\"text-align: right;\">    3</td></tr>\n",
       "<tr><td style=\"text-align: right;\">        9</td><td>2011-01-01 00:00:00</td><td style=\"text-align: right;\">       1</td><td style=\"text-align: right;\">   0</td><td style=\"text-align: right;\">     1</td><td style=\"text-align: right;\">   8</td><td style=\"text-align: right;\">        0</td><td style=\"text-align: right;\">        6</td><td style=\"text-align: right;\">           0</td><td style=\"text-align: right;\">           1</td><td style=\"text-align: right;\">  0.24</td><td style=\"text-align: right;\"> 0.2879</td><td style=\"text-align: right;\"> 0.75</td><td style=\"text-align: right;\">     0     </td><td style=\"text-align: right;\">       1</td><td style=\"text-align: right;\">           7</td><td style=\"text-align: right;\">    8</td></tr>\n",
       "<tr><td style=\"text-align: right;\">       10</td><td>2011-01-01 00:00:00</td><td style=\"text-align: right;\">       1</td><td style=\"text-align: right;\">   0</td><td style=\"text-align: right;\">     1</td><td style=\"text-align: right;\">   9</td><td style=\"text-align: right;\">        0</td><td style=\"text-align: right;\">        6</td><td style=\"text-align: right;\">           0</td><td style=\"text-align: right;\">           1</td><td style=\"text-align: right;\">  0.32</td><td style=\"text-align: right;\"> 0.3485</td><td style=\"text-align: right;\"> 0.76</td><td style=\"text-align: right;\">     0     </td><td style=\"text-align: right;\">       8</td><td style=\"text-align: right;\">           6</td><td style=\"text-align: right;\">   14</td></tr>\n",
       "</tbody>\n",
       "</table>"
      ]
     },
     "metadata": {},
     "output_type": "display_data"
    },
    {
     "data": {
      "text/plain": []
     },
     "execution_count": 4,
     "metadata": {},
     "output_type": "execute_result"
    }
   ],
   "source": [
    "#Displaying the head\n",
    "hp.head()"
   ]
  },
  {
   "cell_type": "code",
   "execution_count": 14,
   "metadata": {},
   "outputs": [
    {
     "name": "stdout",
     "output_type": "stream",
     "text": [
      "Rows:17379\n",
      "Cols:17\n",
      "\n",
      "\n"
     ]
    },
    {
     "data": {
      "text/html": [
       "<table>\n",
       "<thead>\n",
       "<tr><th>       </th><th>instant          </th><th>dteday             </th><th>season            </th><th>yr                </th><th>mnth              </th><th>hr                </th><th>holiday             </th><th>weekday          </th><th>workingday        </th><th>weathersit        </th><th>temp               </th><th>atemp              </th><th>hum                </th><th>windspeed         </th><th>casual           </th><th>registered        </th><th>cnt               </th></tr>\n",
       "</thead>\n",
       "<tbody>\n",
       "<tr><td>type   </td><td>int              </td><td>time               </td><td>int               </td><td>int               </td><td>int               </td><td>int               </td><td>int                 </td><td>int              </td><td>int               </td><td>int               </td><td>real               </td><td>real               </td><td>real               </td><td>real              </td><td>int              </td><td>int               </td><td>int               </td></tr>\n",
       "<tr><td>mins   </td><td>1.0              </td><td>1293840000000.0    </td><td>1.0               </td><td>0.0               </td><td>1.0               </td><td>0.0               </td><td>0.0                 </td><td>0.0              </td><td>0.0               </td><td>1.0               </td><td>0.02               </td><td>0.0                </td><td>0.0                </td><td>0.0               </td><td>0.0              </td><td>0.0               </td><td>1.0               </td></tr>\n",
       "<tr><td>mean   </td><td>8690.0           </td><td>1325477314552.0461 </td><td>2.501639910236492 </td><td>0.5025605615973301</td><td>6.5377754761493785</td><td>11.546751826917548</td><td>0.028770355026181024</td><td>3.003682605443351</td><td>0.6827205247712756</td><td>1.425283387997008 </td><td>0.4969871684216584 </td><td>0.47577510213476026</td><td>0.6272288394038784 </td><td>0.1900976063064618</td><td>35.67621842453536</td><td>153.78686920996606</td><td>189.4630876345014 </td></tr>\n",
       "<tr><td>maxs   </td><td>17379.0          </td><td>1356912000000.0    </td><td>4.0               </td><td>1.0               </td><td>12.0              </td><td>23.0              </td><td>1.0                 </td><td>6.0              </td><td>1.0               </td><td>4.0               </td><td>1.0                </td><td>1.0                </td><td>1.0                </td><td>0.8507            </td><td>367.0            </td><td>886.0             </td><td>977.0             </td></tr>\n",
       "<tr><td>sigma  </td><td>5017.029499614288</td><td>18150225217.779854 </td><td>1.1069181394480765</td><td>0.5000078290910197</td><td>3.438775713750168 </td><td>6.914405095264493 </td><td>0.16716527638437123 </td><td>2.005771456110988</td><td>0.4654306335238829</td><td>0.6393568777542534</td><td>0.19255612124972193</td><td>0.17185021563535932</td><td>0.19292983406291514</td><td>0.1223402285727905</td><td>49.30503038705309</td><td>151.35728591258314</td><td>181.38759909186476</td></tr>\n",
       "<tr><td>zeros  </td><td>0                </td><td>0                  </td><td>0                 </td><td>8645              </td><td>0                 </td><td>726               </td><td>16879               </td><td>2502             </td><td>5514              </td><td>0                 </td><td>0                  </td><td>2                  </td><td>22                 </td><td>2180              </td><td>1581             </td><td>24                </td><td>0                 </td></tr>\n",
       "<tr><td>missing</td><td>0                </td><td>0                  </td><td>0                 </td><td>0                 </td><td>0                 </td><td>0                 </td><td>0                   </td><td>0                </td><td>0                 </td><td>0                 </td><td>0                  </td><td>0                  </td><td>0                  </td><td>0                 </td><td>0                </td><td>0                 </td><td>0                 </td></tr>\n",
       "<tr><td>0      </td><td>1.0              </td><td>2011-01-01 00:00:00</td><td>1.0               </td><td>0.0               </td><td>1.0               </td><td>0.0               </td><td>0.0                 </td><td>6.0              </td><td>0.0               </td><td>1.0               </td><td>0.24               </td><td>0.2879             </td><td>0.81               </td><td>0.0               </td><td>3.0              </td><td>13.0              </td><td>16.0              </td></tr>\n",
       "<tr><td>1      </td><td>2.0              </td><td>2011-01-01 00:00:00</td><td>1.0               </td><td>0.0               </td><td>1.0               </td><td>1.0               </td><td>0.0                 </td><td>6.0              </td><td>0.0               </td><td>1.0               </td><td>0.22               </td><td>0.2727             </td><td>0.8                </td><td>0.0               </td><td>8.0              </td><td>32.0              </td><td>40.0              </td></tr>\n",
       "<tr><td>2      </td><td>3.0              </td><td>2011-01-01 00:00:00</td><td>1.0               </td><td>0.0               </td><td>1.0               </td><td>2.0               </td><td>0.0                 </td><td>6.0              </td><td>0.0               </td><td>1.0               </td><td>0.22               </td><td>0.2727             </td><td>0.8                </td><td>0.0               </td><td>5.0              </td><td>27.0              </td><td>32.0              </td></tr>\n",
       "<tr><td>3      </td><td>4.0              </td><td>2011-01-01 00:00:00</td><td>1.0               </td><td>0.0               </td><td>1.0               </td><td>3.0               </td><td>0.0                 </td><td>6.0              </td><td>0.0               </td><td>1.0               </td><td>0.24               </td><td>0.2879             </td><td>0.75               </td><td>0.0               </td><td>3.0              </td><td>10.0              </td><td>13.0              </td></tr>\n",
       "<tr><td>4      </td><td>5.0              </td><td>2011-01-01 00:00:00</td><td>1.0               </td><td>0.0               </td><td>1.0               </td><td>4.0               </td><td>0.0                 </td><td>6.0              </td><td>0.0               </td><td>1.0               </td><td>0.24               </td><td>0.2879             </td><td>0.75               </td><td>0.0               </td><td>0.0              </td><td>1.0               </td><td>1.0               </td></tr>\n",
       "<tr><td>5      </td><td>6.0              </td><td>2011-01-01 00:00:00</td><td>1.0               </td><td>0.0               </td><td>1.0               </td><td>5.0               </td><td>0.0                 </td><td>6.0              </td><td>0.0               </td><td>2.0               </td><td>0.24               </td><td>0.2576             </td><td>0.75               </td><td>0.0896            </td><td>0.0              </td><td>1.0               </td><td>1.0               </td></tr>\n",
       "<tr><td>6      </td><td>7.0              </td><td>2011-01-01 00:00:00</td><td>1.0               </td><td>0.0               </td><td>1.0               </td><td>6.0               </td><td>0.0                 </td><td>6.0              </td><td>0.0               </td><td>1.0               </td><td>0.22               </td><td>0.2727             </td><td>0.8                </td><td>0.0               </td><td>2.0              </td><td>0.0               </td><td>2.0               </td></tr>\n",
       "<tr><td>7      </td><td>8.0              </td><td>2011-01-01 00:00:00</td><td>1.0               </td><td>0.0               </td><td>1.0               </td><td>7.0               </td><td>0.0                 </td><td>6.0              </td><td>0.0               </td><td>1.0               </td><td>0.2                </td><td>0.2576             </td><td>0.86               </td><td>0.0               </td><td>1.0              </td><td>2.0               </td><td>3.0               </td></tr>\n",
       "<tr><td>8      </td><td>9.0              </td><td>2011-01-01 00:00:00</td><td>1.0               </td><td>0.0               </td><td>1.0               </td><td>8.0               </td><td>0.0                 </td><td>6.0              </td><td>0.0               </td><td>1.0               </td><td>0.24               </td><td>0.2879             </td><td>0.75               </td><td>0.0               </td><td>1.0              </td><td>7.0               </td><td>8.0               </td></tr>\n",
       "<tr><td>9      </td><td>10.0             </td><td>2011-01-01 00:00:00</td><td>1.0               </td><td>0.0               </td><td>1.0               </td><td>9.0               </td><td>0.0                 </td><td>6.0              </td><td>0.0               </td><td>1.0               </td><td>0.32               </td><td>0.3485             </td><td>0.76               </td><td>0.0               </td><td>8.0              </td><td>6.0               </td><td>14.0              </td></tr>\n",
       "</tbody>\n",
       "</table>"
      ]
     },
     "metadata": {},
     "output_type": "display_data"
    }
   ],
   "source": [
    "hp.describe()"
   ]
  },
  {
   "cell_type": "code",
   "execution_count": 15,
   "metadata": {},
   "outputs": [],
   "source": [
    "# Functions\n",
    "\n",
    "def alphabet(n):\n",
    "  alpha='0123456789abcdefghijklmnopqrstuvwxyzABCDEFGHIJKLMNOPQRSTUVWXYZ'    \n",
    "  str=''\n",
    "  r=len(alpha)-1   \n",
    "  while len(str)<n:\n",
    "    i=random.randint(0,r)\n",
    "    str+=alpha[i]   \n",
    "  return str\n",
    "  \n",
    "  \n",
    "def set_meta_data(analysis,run_id,server,data,test,model_path,target,run_time,classification,scale,model,balance,balance_threshold,name,path,nthreads,min_mem_size):\n",
    "  m_data={}\n",
    "  m_data['start_time'] = time.time()\n",
    "  m_data['target']=target\n",
    "  m_data['server_path']=server\n",
    "  m_data['data_path']=data \n",
    "  m_data['test_path']=test\n",
    "  m_data['max_models']=model\n",
    "  m_data['run_time']=run_time\n",
    "  m_data['run_id'] =run_id\n",
    "  m_data['scale']=scale\n",
    "  m_data['classification']=classification\n",
    "  m_data['scale']=False\n",
    "  m_data['model_path']=model_path\n",
    "  m_data['balance']=balance\n",
    "  m_data['balance_threshold']=balance_threshold\n",
    "  m_data['project'] =name\n",
    "  m_data['end_time'] = time.time()\n",
    "  m_data['execution_time'] = 0.0\n",
    "  m_data['run_path'] =path\n",
    "  m_data['nthreads'] = nthreads\n",
    "  m_data['min_mem_size'] = min_mem_size\n",
    "  m_data['analysis'] = analysis\n",
    "  return m_data\n",
    "\n",
    "\n",
    "def dict_to_json(dct,n):\n",
    "  j = json.dumps(dct, indent=4)\n",
    "  f = open(n, 'w')\n",
    "  print(j, file=f)\n",
    "  f.close()\n",
    "  \n",
    "  \n",
    "def stackedensemble(mod):\n",
    "    coef_norm=None\n",
    "    try:\n",
    "      metalearner = h2o.get_model(mod.metalearner()['name'])\n",
    "      coef_norm=metalearner.coef_norm()\n",
    "    except:\n",
    "      pass        \n",
    "    return coef_norm\n",
    "\n",
    "def stackedensemble_df(df):\n",
    "    bm_algo={ 'GBM': None,'GLM': None,'DRF': None,'XRT': None,'Dee': None}\n",
    "    for index, row in df.iterrows():\n",
    "      if len(row['model_id'])>3:\n",
    "        key=row['model_id'][0:3]\n",
    "        if key in bm_algo:\n",
    "          if bm_algo[key] is None:\n",
    "                bm_algo[key]=row['model_id']\n",
    "    bm=list(bm_algo.values()) \n",
    "    bm=list(filter(None.__ne__, bm))             \n",
    "    return bm\n",
    "\n",
    "def se_stats(modl):\n",
    "    d={}\n",
    "    d['algo']=modl.algo\n",
    "    d['model_id']=modl.model_id   \n",
    "    d['auc']=modl.auc()   \n",
    "    d['roc']=modl.roc()\n",
    "    d['mse']=modl.mse()   \n",
    "    d['null_degrees_of_freedom']=modl.null_degrees_of_freedom()\n",
    "    d['null_deviance']=modl.null_deviance()\n",
    "    d['residual_degrees_of_freedom']=modl.residual_degrees_of_freedom()   \n",
    "    d['residual_deviance']=modl.residual_deviance()\n",
    "    d['rmse']=modl.rmse()\n",
    "    return d\n",
    "\n",
    "def get_model_by_algo(algo,models_dict):\n",
    "    mod=None\n",
    "    mod_id=None    \n",
    "    for m in list(models_dict.keys()):\n",
    "        if m[0:3]==algo:\n",
    "            mod_id=m\n",
    "            mod=h2o.get_model(m)      \n",
    "    return mod,mod_id     \n",
    "    \n",
    "    \n",
    "def gbm_stats(modl):\n",
    "    d={}\n",
    "    d['algo']=modl.algo\n",
    "    d['model_id']=modl.model_id   \n",
    "    d['varimp']=modl.varimp()  \n",
    "    return d\n",
    "    \n",
    "    \n",
    "def dl_stats(modl):\n",
    "    d={}\n",
    "    d['algo']=modl.algo\n",
    "    d['model_id']=modl.model_id   \n",
    "    d['varimp']=modl.varimp()  \n",
    "    return d\n",
    "    \n",
    "    \n",
    "def drf_stats(modl):\n",
    "    d={}\n",
    "    d['algo']=modl.algo\n",
    "    d['model_id']=modl.model_id   \n",
    "    d['varimp']=modl.varimp()  \n",
    "    d['roc']=modl.roc()      \n",
    "    return d\n",
    "    \n",
    "def xrt_stats(modl):\n",
    "    d={}\n",
    "    d['algo']=modl.algo\n",
    "    d['model_id']=modl.model_id   \n",
    "    d['varimp']=modl.varimp()  \n",
    "    d['roc']=modl.roc()      \n",
    "    return d\n",
    "    \n",
    "    \n",
    "def glm_stats(modl):\n",
    "    d={}\n",
    "    d['algo']=modl.algo\n",
    "    d['model_id']=modl.model_id   \n",
    "    d['coef']=modl.coef()  \n",
    "    d['coef_norm']=modl.coef_norm()      \n",
    "    return d\n",
    "    \n",
    "def model_performance_stats(perf):\n",
    "    d={}\n",
    "    try:    \n",
    "      d['mse']=perf.mse()\n",
    "    except:\n",
    "      pass      \n",
    "    try:    \n",
    "      d['rmse']=perf.rmse() \n",
    "    except:\n",
    "      pass      \n",
    "    try:    \n",
    "      d['null_degrees_of_freedom']=perf.null_degrees_of_freedom()\n",
    "    except:\n",
    "      pass      \n",
    "    try:    \n",
    "      d['residual_degrees_of_freedom']=perf.residual_degrees_of_freedom()\n",
    "    except:\n",
    "      pass      \n",
    "    try:    \n",
    "      d['residual_deviance']=perf.residual_deviance() \n",
    "    except:\n",
    "      pass      \n",
    "    try:    \n",
    "      d['null_deviance']=perf.null_deviance() \n",
    "    except:\n",
    "      pass      \n",
    "    try:    \n",
    "      d['aic']=perf.aic() \n",
    "    except:\n",
    "      pass      \n",
    "    try:\n",
    "      d['logloss']=perf.logloss() \n",
    "    except:\n",
    "      pass    \n",
    "    try:\n",
    "      d['auc']=perf.auc()\n",
    "    except:\n",
    "      pass  \n",
    "    try:\n",
    "      d['gini']=perf.gini()\n",
    "    except:\n",
    "      pass    \n",
    "    return d\n",
    "    \n",
    "def impute_missing_values(df, x, scal=False):\n",
    "    # determine column types\n",
    "    ints, reals, enums = [], [], []\n",
    "    for key, val in df.types.items():\n",
    "        if key in x:\n",
    "            if val == 'enum':\n",
    "                enums.append(key)\n",
    "            elif val == 'int':\n",
    "                ints.append(key)            \n",
    "            else: \n",
    "                reals.append(key)    \n",
    "    _ = df[reals].impute(method='mean')\n",
    "    _ = df[ints].impute(method='median')\n",
    "    if scal:\n",
    "        df[reals] = df[reals].scale()\n",
    "        df[ints] = df[ints].scale()    \n",
    "    return\n",
    "\n",
    "\n",
    "def get_independent_variables(df, targ):\n",
    "    C = [name for name in df.columns if name != targ]\n",
    "    # determine column types\n",
    "    ints, reals, enums = [], [], []\n",
    "    for key, val in df.types.items():\n",
    "        if key in C:\n",
    "            if val == 'enum':\n",
    "                enums.append(key)\n",
    "            elif val == 'int':\n",
    "                ints.append(key)            \n",
    "            else: \n",
    "                reals.append(key)    \n",
    "    x=ints+enums+reals\n",
    "    return x\n",
    "    \n",
    "def get_all_variables_csv(i):\n",
    "    ivd={}\n",
    "    try:\n",
    "      iv = pd.read_csv(i,header=None)\n",
    "    except:\n",
    "      sys.exit(1)    \n",
    "    col=iv.values.tolist()[0]\n",
    "    dt=iv.values.tolist()[1]\n",
    "    i=0\n",
    "    for c in col:\n",
    "      ivd[c.strip()]=dt[i].strip()\n",
    "      i+=1        \n",
    "    return ivd\n",
    "    \n",
    "    \n",
    "\n",
    "def check_all_variables(df,dct,y=None):     \n",
    "    targ=list(dct.keys())     \n",
    "    for key, val in df.types.items():\n",
    "        if key in targ:\n",
    "          if dct[key] not in ['real','int','enum']:                      \n",
    "            targ.remove(key)  \n",
    "    for key, val in df.types.items():\n",
    "        if key in targ:            \n",
    "          if dct[key] != val:\n",
    "            print('convert ',key,' ',dct[key],' ',val)\n",
    "            if dct[key]=='enum':\n",
    "                try:\n",
    "                  df[key] = df[key].asfactor() \n",
    "                except:\n",
    "                  targ.remove(key)                 \n",
    "            if dct[key]=='int': \n",
    "                try:                \n",
    "                  df[key] = df[key].asnumeric() \n",
    "                except:\n",
    "                  targ.remove(key)                  \n",
    "            if dct[key]=='real':\n",
    "                try:                \n",
    "                  df[key] = df[key].asnumeric()  \n",
    "                except:\n",
    "                  targ.remove(key)                  \n",
    "    if y is None:\n",
    "      y=df.columns[-1] \n",
    "    if y in targ:\n",
    "      targ.remove(y)\n",
    "    else:\n",
    "      y=targ.pop()            \n",
    "    return targ    \n",
    "    \n",
    "def predictions(mod,data,run_id):\n",
    "    test = h2o.import_file(data)\n",
    "    mod_perf=mod_best.model_performance(test)\n",
    "              \n",
    "    stats_test={}\n",
    "    stats_test=model_performance_stats(mod_perf)\n",
    "\n",
    "    n=run_id+'_test_stats.json'\n",
    "    dict_to_json(stats_test,n) \n",
    "\n",
    "    try:    \n",
    "      cf=mod_perf.confusion_matrix(metrics=[\"f1\",\"f2\",\"f0point5\",\"accuracy\",\"precision\",\"recall\",\"specificity\",\"absolute_mcc\",\"min_per_class_accuracy\",\"mean_per_class_accuracy\"])\n",
    "      cf_df=cf[0].table.as_data_frame()\n",
    "      cf_df.to_csv(run_id+'_test_confusion_matrix.csv')\n",
    "    except:\n",
    "      pass\n",
    "\n",
    "    predictions = mod_best.predict(test)\n",
    "    predictions_df=test.cbind(predictions).as_data_frame() \n",
    "    predictions_df.to_csv(run_id+'_predictions.csv')\n",
    "    return\n",
    "\n",
    "def predictions_test(mod,test,run_id):\n",
    "    mod_perf=mod_best.model_performance(test)          \n",
    "    stats_test={}\n",
    "    stats_test=model_performance_stats(mod_perf)\n",
    "    n=run_id+'_test_stats.json'\n",
    "    dict_to_json(stats_test,n) \n",
    "    try:\n",
    "      cf=mod_perf.confusion_matrix()\n",
    "#      cf=mod_perf.confusion_matrix(metrics=[\"f1\",\"f2\",\"f0point5\",\"accuracy\",\"precision\",\"recall\",\"specificity\",\"absolute_mcc\",\"min_per_class_accuracy\",\"mean_per_class_accuracy\"])\n",
    "      cf_df=cf.table.as_data_frame()\n",
    "      cf_df.to_csv(run_id+'_test_confusion_matrix.csv')\n",
    "    except:\n",
    "      pass\n",
    "    predictions = mod_best.predict(test)    \n",
    "    predictions_df=test.cbind(predictions).as_data_frame() \n",
    "    predictions_df.to_csv(run_id+'_predictions.csv')\n",
    "    return predictions\n",
    "\n",
    "def check_X(x,df):\n",
    "    for name in x:\n",
    "        if name not in df.columns:\n",
    "          x.remove(name)  \n",
    "    return x    \n",
    "    \n",
    "    \n",
    "def get_stacked_ensemble(lst):\n",
    "    se=None\n",
    "    for model in model_set:\n",
    "      if 'BestOfFamily' in model:\n",
    "        se=model\n",
    "    if se is None:     \n",
    "      for model in model_set:\n",
    "        if 'AllModels'in model:\n",
    "          se=model           \n",
    "    return se       \n",
    "    \n",
    "def get_variables_types(df):\n",
    "    d={}\n",
    "    for key, val in df.types.items():\n",
    "        d[key]=val           \n",
    "    return d    \n",
    "    \n",
    "#  End Functions"
   ]
  },
  {
   "cell_type": "code",
   "execution_count": 16,
   "metadata": {},
   "outputs": [],
   "source": [
    "all_variables=None"
   ]
  },
  {
   "cell_type": "markdown",
   "metadata": {},
   "source": [
    "# Model with 500 seconds"
   ]
  },
  {
   "cell_type": "code",
   "execution_count": 17,
   "metadata": {},
   "outputs": [],
   "source": [
    "# Assume the following are passed by the user from the web interface\n",
    "\n",
    "'''\n",
    "Need a user id and project id?\n",
    "\n",
    "'''\n",
    "target='cnt' \n",
    "data_file='hour.csv'\n",
    "run_time=500\n",
    "run_id='SOME_ID_20180617_221528' # Just some arbitrary ID\n",
    "server_path='/Users/newzysharma/Desktop/Desktop/Machine_Learning/Project/RunTime_500Secondst'\n",
    "classification=False\n",
    "scale=False\n",
    "max_models=None\n",
    "balance_y=False # balance_classes=balance_y\n",
    "balance_threshold=0.2\n",
    "project =\"HyperparameterDB_Project\"  # project_name = project"
   ]
  },
  {
   "cell_type": "code",
   "execution_count": 18,
   "metadata": {},
   "outputs": [
    {
     "name": "stdout",
     "output_type": "stream",
     "text": [
      "cnt\n",
      "['instant', 'dteday', 'season', 'yr', 'mnth', 'hr', 'holiday', 'weekday', 'workingday', 'weathersit', 'temp', 'atemp', 'hum', 'windspeed', 'casual', 'registered']\n"
     ]
    }
   ],
   "source": [
    "# assign target and inputs for logistic regression\n",
    "y = target\n",
    "X = [name for name in hp.columns if name != y]\n",
    "print(y)\n",
    "print(X)"
   ]
  },
  {
   "cell_type": "code",
   "execution_count": 19,
   "metadata": {},
   "outputs": [
    {
     "name": "stdout",
     "output_type": "stream",
     "text": [
      "['instant', 'season', 'yr', 'mnth', 'hr', 'holiday', 'weekday', 'workingday', 'weathersit', 'casual', 'registered']\n",
      "[]\n",
      "['dteday', 'temp', 'atemp', 'hum', 'windspeed']\n"
     ]
    }
   ],
   "source": [
    "# determine column types\n",
    "ints, reals, enums = [], [], []\n",
    "for key, val in hp.types.items():\n",
    "    if key in X:\n",
    "        if val == 'enum':\n",
    "            enums.append(key)\n",
    "        elif val == 'int':\n",
    "            ints.append(key)            \n",
    "        else: \n",
    "            reals.append(key)\n",
    "\n",
    "print(ints)\n",
    "print(enums)\n",
    "print(reals)"
   ]
  },
  {
   "cell_type": "code",
   "execution_count": 20,
   "metadata": {},
   "outputs": [],
   "source": [
    "# impute missing values\n",
    "_ = hp[reals].impute(method='mean')\n",
    "_ = hp[ints].impute(method='median')\n",
    "\n",
    "if scale:\n",
    "    hp[reals] = df[reals].scale()\n",
    "    hp[ints] = df[ints].scale()"
   ]
  },
  {
   "cell_type": "code",
   "execution_count": 21,
   "metadata": {},
   "outputs": [],
   "source": [
    "# # set target to factor for classification by default or if user specifies classification\n",
    "# if classification:\n",
    "#     [y] = hp[y].asfactor()"
   ]
  },
  {
   "cell_type": "code",
   "execution_count": 23,
   "metadata": {},
   "outputs": [
    {
     "data": {
      "text/plain": [
       "[]"
      ]
     },
     "execution_count": 23,
     "metadata": {},
     "output_type": "execute_result"
    }
   ],
   "source": [
    "hp[y].levels()"
   ]
  },
  {
   "cell_type": "markdown",
   "metadata": {},
   "source": [
    "\n",
    "## Cross-validate rather than take a test training split with 500 seconds"
   ]
  },
  {
   "cell_type": "code",
   "execution_count": 22,
   "metadata": {},
   "outputs": [
    {
     "name": "stdout",
     "output_type": "stream",
     "text": [
      "AutoML progress: |████████████████████████████████████████████████████████| 100%\n"
     ]
    }
   ],
   "source": [
    "# automl\n",
    "# runs for run_time seconds then builds a stacked ensemble\n",
    "\n",
    "aml = H2OAutoML(max_runtime_secs=run_time,project_name = project) # init automl, run for 500 seconds\n",
    "aml.train(x=X,  \n",
    "           y=y,\n",
    "           training_frame=hp)"
   ]
  },
  {
   "cell_type": "markdown",
   "metadata": {},
   "source": [
    "## Leaderboard"
   ]
  },
  {
   "cell_type": "code",
   "execution_count": 24,
   "metadata": {},
   "outputs": [
    {
     "data": {
      "text/html": [
       "<table>\n",
       "<thead>\n",
       "<tr><th>model_id                                           </th><th style=\"text-align: right;\">  mean_residual_deviance</th><th style=\"text-align: right;\">     rmse</th><th style=\"text-align: right;\">       mse</th><th style=\"text-align: right;\">      mae</th><th style=\"text-align: right;\">      rmsle</th></tr>\n",
       "</thead>\n",
       "<tbody>\n",
       "<tr><td>XGBoost_1_AutoML_20190415_132427                   </td><td style=\"text-align: right;\">                 27.1992</td><td style=\"text-align: right;\">  5.21528</td><td style=\"text-align: right;\">   27.1992</td><td style=\"text-align: right;\">  3.06146</td><td style=\"text-align: right;\">  0.0586275</td></tr>\n",
       "<tr><td>XGBoost_2_AutoML_20190415_132427                   </td><td style=\"text-align: right;\">                 43.9732</td><td style=\"text-align: right;\">  6.63123</td><td style=\"text-align: right;\">   43.9732</td><td style=\"text-align: right;\">  3.81446</td><td style=\"text-align: right;\">nan        </td></tr>\n",
       "<tr><td>XGBoost_3_AutoML_20190415_132427                   </td><td style=\"text-align: right;\">                139.334 </td><td style=\"text-align: right;\"> 11.804  </td><td style=\"text-align: right;\">  139.334 </td><td style=\"text-align: right;\">  7.61013</td><td style=\"text-align: right;\">  0.177492 </td></tr>\n",
       "<tr><td>StackedEnsemble_AllModels_AutoML_20190415_132427   </td><td style=\"text-align: right;\">                201.846 </td><td style=\"text-align: right;\"> 14.2073 </td><td style=\"text-align: right;\">  201.846 </td><td style=\"text-align: right;\"> 10.6435 </td><td style=\"text-align: right;\">  0.45655  </td></tr>\n",
       "<tr><td>StackedEnsemble_BestOfFamily_AutoML_20190415_132427</td><td style=\"text-align: right;\">               1169.74  </td><td style=\"text-align: right;\"> 34.2014 </td><td style=\"text-align: right;\"> 1169.74  </td><td style=\"text-align: right;\"> 26.7069 </td><td style=\"text-align: right;\">  0.767977 </td></tr>\n",
       "<tr><td>GLM_grid_1_AutoML_20190415_132427_model_1          </td><td style=\"text-align: right;\">              32892.8   </td><td style=\"text-align: right;\">181.364  </td><td style=\"text-align: right;\">32892.8   </td><td style=\"text-align: right;\">142.384  </td><td style=\"text-align: right;\">  1.57011  </td></tr>\n",
       "</tbody>\n",
       "</table>"
      ]
     },
     "metadata": {},
     "output_type": "display_data"
    },
    {
     "data": {
      "text/plain": []
     },
     "execution_count": 24,
     "metadata": {},
     "output_type": "execute_result"
    }
   ],
   "source": [
    "# view leaderboard\n",
    "lb = aml.leaderboard\n",
    "lb.head()"
   ]
  },
  {
   "cell_type": "code",
   "execution_count": 25,
   "metadata": {
    "scrolled": true
   },
   "outputs": [
    {
     "name": "stdout",
     "output_type": "stream",
     "text": [
      "Model Details\n",
      "=============\n",
      "H2OXGBoostEstimator :  XGBoost\n",
      "Model Key:  XGBoost_1_AutoML_20190415_132427\n",
      "\n",
      "\n",
      "ModelMetricsRegression: xgboost\n",
      "** Reported on train data. **\n",
      "\n",
      "MSE: 2.087148952854493\n",
      "RMSE: 1.4446968376979625\n",
      "MAE: 1.0118509132353537\n",
      "RMSLE: 0.02943030705006473\n",
      "Mean Residual Deviance: 2.087148952854493\n",
      "\n",
      "ModelMetricsRegression: xgboost\n",
      "** Reported on cross-validation data. **\n",
      "\n",
      "MSE: 27.199157192074086\n",
      "RMSE: 5.215281123014759\n",
      "MAE: 3.0614648783132856\n",
      "RMSLE: 0.05862753883448157\n",
      "Mean Residual Deviance: 27.199157192074086\n",
      "Cross-Validation Metrics Summary: \n"
     ]
    },
    {
     "data": {
      "text/html": [
       "<div style=\"overflow:auto\"><table style=\"width:50%\"><tr><td><b></b></td>\n",
       "<td><b>mean</b></td>\n",
       "<td><b>sd</b></td>\n",
       "<td><b>cv_1_valid</b></td>\n",
       "<td><b>cv_2_valid</b></td>\n",
       "<td><b>cv_3_valid</b></td>\n",
       "<td><b>cv_4_valid</b></td>\n",
       "<td><b>cv_5_valid</b></td></tr>\n",
       "<tr><td>mae</td>\n",
       "<td>3.0614386</td>\n",
       "<td>0.1627814</td>\n",
       "<td>3.1772013</td>\n",
       "<td>3.201413</td>\n",
       "<td>3.2078736</td>\n",
       "<td>3.1149802</td>\n",
       "<td>2.6057255</td></tr>\n",
       "<tr><td>mean_residual_deviance</td>\n",
       "<td>27.198753</td>\n",
       "<td>2.8062325</td>\n",
       "<td>26.371859</td>\n",
       "<td>28.038965</td>\n",
       "<td>32.00585</td>\n",
       "<td>29.405539</td>\n",
       "<td>20.171549</td></tr>\n",
       "<tr><td>mse</td>\n",
       "<td>27.198753</td>\n",
       "<td>2.8062325</td>\n",
       "<td>26.371859</td>\n",
       "<td>28.038965</td>\n",
       "<td>32.00585</td>\n",
       "<td>29.405539</td>\n",
       "<td>20.171549</td></tr>\n",
       "<tr><td>r2</td>\n",
       "<td>0.9991734</td>\n",
       "<td>0.0000852</td>\n",
       "<td>0.9991994</td>\n",
       "<td>0.9991543</td>\n",
       "<td>0.9990216</td>\n",
       "<td>0.9991080</td>\n",
       "<td>0.9993836</td></tr>\n",
       "<tr><td>residual_deviance</td>\n",
       "<td>27.198753</td>\n",
       "<td>2.8062325</td>\n",
       "<td>26.371859</td>\n",
       "<td>28.038965</td>\n",
       "<td>32.00585</td>\n",
       "<td>29.405539</td>\n",
       "<td>20.171549</td></tr>\n",
       "<tr><td>rmse</td>\n",
       "<td>5.200374</td>\n",
       "<td>0.2782639</td>\n",
       "<td>5.1353536</td>\n",
       "<td>5.295183</td>\n",
       "<td>5.6573715</td>\n",
       "<td>5.4226875</td>\n",
       "<td>4.491275</td></tr>\n",
       "<tr><td>rmsle</td>\n",
       "<td>0.0582936</td>\n",
       "<td>0.0044140</td>\n",
       "<td>0.0629386</td>\n",
       "<td>0.0622295</td>\n",
       "<td>0.0578334</td>\n",
       "<td>0.0621259</td>\n",
       "<td>0.0463408</td></tr></table></div>"
      ],
      "text/plain": [
       "                        mean       sd           cv_1_valid    cv_2_valid    cv_3_valid    cv_4_valid    cv_5_valid\n",
       "----------------------  ---------  -----------  ------------  ------------  ------------  ------------  ------------\n",
       "mae                     3.06144    0.162781     3.1772        3.20141       3.20787       3.11498       2.60573\n",
       "mean_residual_deviance  27.1988    2.80623      26.3719       28.039        32.0059       29.4055       20.1715\n",
       "mse                     27.1988    2.80623      26.3719       28.039        32.0059       29.4055       20.1715\n",
       "r2                      0.999173   8.51588e-05  0.999199      0.999154      0.999022      0.999108      0.999384\n",
       "residual_deviance       27.1988    2.80623      26.3719       28.039        32.0059       29.4055       20.1715\n",
       "rmse                    5.20037    0.278264     5.13535       5.29518       5.65737       5.42269       4.49127\n",
       "rmsle                   0.0582936  0.00441402   0.0629386     0.0622295     0.0578334     0.0621259     0.0463408"
      ]
     },
     "metadata": {},
     "output_type": "display_data"
    },
    {
     "name": "stdout",
     "output_type": "stream",
     "text": [
      "Scoring History: \n"
     ]
    },
    {
     "data": {
      "text/html": [
       "<div style=\"overflow:auto\"><table style=\"width:50%\"><tr><td><b></b></td>\n",
       "<td><b>timestamp</b></td>\n",
       "<td><b>duration</b></td>\n",
       "<td><b>number_of_trees</b></td>\n",
       "<td><b>training_rmse</b></td>\n",
       "<td><b>training_mae</b></td>\n",
       "<td><b>training_deviance</b></td></tr>\n",
       "<tr><td></td>\n",
       "<td>2019-04-15 13:30:00</td>\n",
       "<td> 5 min 32.277 sec</td>\n",
       "<td>0.0</td>\n",
       "<td>261.9286476</td>\n",
       "<td>188.9630876</td>\n",
       "<td>68606.6164192</td></tr>\n",
       "<tr><td></td>\n",
       "<td>2019-04-15 13:30:00</td>\n",
       "<td> 5 min 32.465 sec</td>\n",
       "<td>5.0</td>\n",
       "<td>203.6556984</td>\n",
       "<td>146.4966202</td>\n",
       "<td>41475.6434712</td></tr>\n",
       "<tr><td></td>\n",
       "<td>2019-04-15 13:30:00</td>\n",
       "<td> 5 min 32.636 sec</td>\n",
       "<td>10.0</td>\n",
       "<td>159.2290338</td>\n",
       "<td>113.7618108</td>\n",
       "<td>25353.8852004</td></tr>\n",
       "<tr><td></td>\n",
       "<td>2019-04-15 13:30:00</td>\n",
       "<td> 5 min 32.792 sec</td>\n",
       "<td>15.0</td>\n",
       "<td>125.0344164</td>\n",
       "<td>88.3032093</td>\n",
       "<td>15633.6052792</td></tr>\n",
       "<tr><td></td>\n",
       "<td>2019-04-15 13:30:00</td>\n",
       "<td> 5 min 32.979 sec</td>\n",
       "<td>20.0</td>\n",
       "<td>97.8721402</td>\n",
       "<td>68.5940444</td>\n",
       "<td>9578.9558319</td></tr>\n",
       "<tr><td>---</td>\n",
       "<td>---</td>\n",
       "<td>---</td>\n",
       "<td>---</td>\n",
       "<td>---</td>\n",
       "<td>---</td>\n",
       "<td>---</td></tr>\n",
       "<tr><td></td>\n",
       "<td>2019-04-15 13:30:50</td>\n",
       "<td> 6 min 22.077 sec</td>\n",
       "<td>360.0</td>\n",
       "<td>1.5076279</td>\n",
       "<td>1.0522128</td>\n",
       "<td>2.2729418</td></tr>\n",
       "<tr><td></td>\n",
       "<td>2019-04-15 13:30:51</td>\n",
       "<td> 6 min 23.381 sec</td>\n",
       "<td>365.0</td>\n",
       "<td>1.4835415</td>\n",
       "<td>1.0382363</td>\n",
       "<td>2.2008953</td></tr>\n",
       "<tr><td></td>\n",
       "<td>2019-04-15 13:30:52</td>\n",
       "<td> 6 min 24.539 sec</td>\n",
       "<td>370.0</td>\n",
       "<td>1.4653815</td>\n",
       "<td>1.0263160</td>\n",
       "<td>2.1473429</td></tr>\n",
       "<tr><td></td>\n",
       "<td>2019-04-15 13:30:53</td>\n",
       "<td> 6 min 25.921 sec</td>\n",
       "<td>375.0</td>\n",
       "<td>1.4542668</td>\n",
       "<td>1.0187528</td>\n",
       "<td>2.1148920</td></tr>\n",
       "<tr><td></td>\n",
       "<td>2019-04-15 13:30:55</td>\n",
       "<td> 6 min 27.193 sec</td>\n",
       "<td>378.0</td>\n",
       "<td>1.4446968</td>\n",
       "<td>1.0118509</td>\n",
       "<td>2.0871490</td></tr></table></div>"
      ],
      "text/plain": [
       "     timestamp            duration          number_of_trees    training_rmse       training_mae        training_deviance\n",
       "---  -------------------  ----------------  -----------------  ------------------  ------------------  -------------------\n",
       "     2019-04-15 13:30:00  5 min 32.277 sec  0.0                261.9286475726579   188.96308763450142  68606.61641924162\n",
       "     2019-04-15 13:30:00  5 min 32.465 sec  5.0                203.65569835190317  146.49662021298602  41475.64347120138\n",
       "     2019-04-15 13:30:00  5 min 32.636 sec  10.0               159.2290337860734   113.76181084885478  25353.885200446504\n",
       "     2019-04-15 13:30:00  5 min 32.792 sec  15.0               125.03441637865218  88.303209270348     15633.605279150166\n",
       "     2019-04-15 13:30:00  5 min 32.979 sec  20.0               97.87214022327801   68.59404437925676   9578.955831884992\n",
       "---  ---                  ---               ---                ---                 ---                 ---\n",
       "     2019-04-15 13:30:50  6 min 22.077 sec  360.0              1.50762786564063    1.052212768693302   2.2729417812561215\n",
       "     2019-04-15 13:30:51  6 min 23.381 sec  365.0              1.4835414770161457  1.0382363112833388  2.2008953140272474\n",
       "     2019-04-15 13:30:52  6 min 24.539 sec  370.0              1.4653814844714887  1.0263159512938478  2.147342895031864\n",
       "     2019-04-15 13:30:53  6 min 25.921 sec  375.0              1.4542668263211849  1.0187527702931491  2.114892002138291\n",
       "     2019-04-15 13:30:55  6 min 27.193 sec  378.0              1.4446968376979625  1.0118509132353537  2.087148952854493"
      ]
     },
     "metadata": {},
     "output_type": "display_data"
    },
    {
     "name": "stdout",
     "output_type": "stream",
     "text": [
      "\n",
      "See the whole table with table.as_data_frame()\n",
      "Variable Importances: \n"
     ]
    },
    {
     "data": {
      "text/html": [
       "<div style=\"overflow:auto\"><table style=\"width:50%\"><tr><td><b>variable</b></td>\n",
       "<td><b>relative_importance</b></td>\n",
       "<td><b>scaled_importance</b></td>\n",
       "<td><b>percentage</b></td></tr>\n",
       "<tr><td>registered</td>\n",
       "<td>2484344832.0000000</td>\n",
       "<td>1.0</td>\n",
       "<td>0.7122665</td></tr>\n",
       "<tr><td>casual</td>\n",
       "<td>417387168.0000000</td>\n",
       "<td>0.1680069</td>\n",
       "<td>0.1196657</td></tr>\n",
       "<tr><td>hr</td>\n",
       "<td>325013824.0000000</td>\n",
       "<td>0.1308248</td>\n",
       "<td>0.0931821</td></tr>\n",
       "<tr><td>temp</td>\n",
       "<td>59346960.0000000</td>\n",
       "<td>0.0238884</td>\n",
       "<td>0.0170149</td></tr>\n",
       "<tr><td>workingday</td>\n",
       "<td>50674532.0000000</td>\n",
       "<td>0.0203975</td>\n",
       "<td>0.0145285</td></tr>\n",
       "<tr><td>atemp</td>\n",
       "<td>48107148.0000000</td>\n",
       "<td>0.0193641</td>\n",
       "<td>0.0137924</td></tr>\n",
       "<tr><td>instant</td>\n",
       "<td>33546080.0000000</td>\n",
       "<td>0.0135030</td>\n",
       "<td>0.0096177</td></tr>\n",
       "<tr><td>dteday</td>\n",
       "<td>20156732.0000000</td>\n",
       "<td>0.0081135</td>\n",
       "<td>0.0057790</td></tr>\n",
       "<tr><td>yr</td>\n",
       "<td>18886002.0000000</td>\n",
       "<td>0.0076020</td>\n",
       "<td>0.0054147</td></tr>\n",
       "<tr><td>weekday</td>\n",
       "<td>18865150.0000000</td>\n",
       "<td>0.0075936</td>\n",
       "<td>0.0054087</td></tr>\n",
       "<tr><td>weathersit</td>\n",
       "<td>5844404.0</td>\n",
       "<td>0.0023525</td>\n",
       "<td>0.0016756</td></tr>\n",
       "<tr><td>season</td>\n",
       "<td>2612591.7500000</td>\n",
       "<td>0.0010516</td>\n",
       "<td>0.0007490</td></tr>\n",
       "<tr><td>hum</td>\n",
       "<td>1957622.8750000</td>\n",
       "<td>0.0007880</td>\n",
       "<td>0.0005613</td></tr>\n",
       "<tr><td>holiday</td>\n",
       "<td>522633.8125000</td>\n",
       "<td>0.0002104</td>\n",
       "<td>0.0001498</td></tr>\n",
       "<tr><td>mnth</td>\n",
       "<td>340318.0937500</td>\n",
       "<td>0.0001370</td>\n",
       "<td>0.0000976</td></tr>\n",
       "<tr><td>windspeed</td>\n",
       "<td>336621.7812500</td>\n",
       "<td>0.0001355</td>\n",
       "<td>0.0000965</td></tr></table></div>"
      ],
      "text/plain": [
       "variable    relative_importance    scaled_importance    percentage\n",
       "----------  ---------------------  -------------------  ------------\n",
       "registered  2.48434e+09            1                    0.712267\n",
       "casual      4.17387e+08            0.168007             0.119666\n",
       "hr          3.25014e+08            0.130825             0.0931821\n",
       "temp        5.9347e+07             0.0238884            0.0170149\n",
       "workingday  5.06745e+07            0.0203975            0.0145285\n",
       "atemp       4.81071e+07            0.0193641            0.0137924\n",
       "instant     3.35461e+07            0.013503             0.00961773\n",
       "dteday      2.01567e+07            0.0081135            0.00577897\n",
       "yr          1.8886e+07             0.00760201           0.00541465\n",
       "weekday     1.88652e+07            0.00759361           0.00540868\n",
       "weathersit  5.8444e+06             0.00235249           0.0016756\n",
       "season      2.61259e+06            0.00105162           0.000749035\n",
       "hum         1.95762e+06            0.000787984          0.000561254\n",
       "holiday     522634                 0.000210371          0.00014984\n",
       "mnth        340318                 0.000136985          9.75699e-05\n",
       "windspeed   336622                 0.000135497          9.65101e-05"
      ]
     },
     "metadata": {},
     "output_type": "display_data"
    },
    {
     "data": {
      "text/plain": []
     },
     "execution_count": 25,
     "metadata": {},
     "output_type": "execute_result"
    }
   ],
   "source": [
    "aml.leader"
   ]
  },
  {
   "cell_type": "code",
   "execution_count": 26,
   "metadata": {},
   "outputs": [
    {
     "data": {
      "text/plain": [
       "'xgboost'"
      ]
     },
     "execution_count": 26,
     "metadata": {},
     "output_type": "execute_result"
    }
   ],
   "source": [
    "aml.leader.algo"
   ]
  },
  {
   "cell_type": "markdown",
   "metadata": {},
   "source": [
    "## Ensemble Exploration"
   ]
  },
  {
   "cell_type": "code",
   "execution_count": 27,
   "metadata": {},
   "outputs": [
    {
     "data": {
      "text/html": [
       "<div>\n",
       "<style scoped>\n",
       "    .dataframe tbody tr th:only-of-type {\n",
       "        vertical-align: middle;\n",
       "    }\n",
       "\n",
       "    .dataframe tbody tr th {\n",
       "        vertical-align: top;\n",
       "    }\n",
       "\n",
       "    .dataframe thead th {\n",
       "        text-align: right;\n",
       "    }\n",
       "</style>\n",
       "<table border=\"1\" class=\"dataframe\">\n",
       "  <thead>\n",
       "    <tr style=\"text-align: right;\">\n",
       "      <th></th>\n",
       "      <th>model_id</th>\n",
       "      <th>mean_residual_deviance</th>\n",
       "      <th>rmse</th>\n",
       "      <th>mse</th>\n",
       "      <th>mae</th>\n",
       "      <th>rmsle</th>\n",
       "    </tr>\n",
       "  </thead>\n",
       "  <tbody>\n",
       "    <tr>\n",
       "      <th>0</th>\n",
       "      <td>XGBoost_1_AutoML_20190415_132427</td>\n",
       "      <td>27.199157</td>\n",
       "      <td>5.215281</td>\n",
       "      <td>27.199157</td>\n",
       "      <td>3.061465</td>\n",
       "      <td>0.058628</td>\n",
       "    </tr>\n",
       "    <tr>\n",
       "      <th>1</th>\n",
       "      <td>XGBoost_2_AutoML_20190415_132427</td>\n",
       "      <td>43.973221</td>\n",
       "      <td>6.631231</td>\n",
       "      <td>43.973221</td>\n",
       "      <td>3.814462</td>\n",
       "      <td>NaN</td>\n",
       "    </tr>\n",
       "    <tr>\n",
       "      <th>2</th>\n",
       "      <td>XGBoost_3_AutoML_20190415_132427</td>\n",
       "      <td>139.333790</td>\n",
       "      <td>11.803973</td>\n",
       "      <td>139.333790</td>\n",
       "      <td>7.610132</td>\n",
       "      <td>0.177492</td>\n",
       "    </tr>\n",
       "    <tr>\n",
       "      <th>3</th>\n",
       "      <td>StackedEnsemble_AllModels_AutoML_20190415_132427</td>\n",
       "      <td>201.846196</td>\n",
       "      <td>14.207259</td>\n",
       "      <td>201.846196</td>\n",
       "      <td>10.643510</td>\n",
       "      <td>0.456550</td>\n",
       "    </tr>\n",
       "    <tr>\n",
       "      <th>4</th>\n",
       "      <td>StackedEnsemble_BestOfFamily_AutoML_20190415_1...</td>\n",
       "      <td>1169.735475</td>\n",
       "      <td>34.201396</td>\n",
       "      <td>1169.735475</td>\n",
       "      <td>26.706882</td>\n",
       "      <td>0.767977</td>\n",
       "    </tr>\n",
       "    <tr>\n",
       "      <th>5</th>\n",
       "      <td>GLM_grid_1_AutoML_20190415_132427_model_1</td>\n",
       "      <td>32892.826829</td>\n",
       "      <td>181.363797</td>\n",
       "      <td>32892.826829</td>\n",
       "      <td>142.384496</td>\n",
       "      <td>1.570107</td>\n",
       "    </tr>\n",
       "  </tbody>\n",
       "</table>\n",
       "</div>"
      ],
      "text/plain": [
       "                                            model_id  mean_residual_deviance  \\\n",
       "0                   XGBoost_1_AutoML_20190415_132427               27.199157   \n",
       "1                   XGBoost_2_AutoML_20190415_132427               43.973221   \n",
       "2                   XGBoost_3_AutoML_20190415_132427              139.333790   \n",
       "3   StackedEnsemble_AllModels_AutoML_20190415_132427              201.846196   \n",
       "4  StackedEnsemble_BestOfFamily_AutoML_20190415_1...             1169.735475   \n",
       "5          GLM_grid_1_AutoML_20190415_132427_model_1            32892.826829   \n",
       "\n",
       "         rmse           mse         mae     rmsle  \n",
       "0    5.215281     27.199157    3.061465  0.058628  \n",
       "1    6.631231     43.973221    3.814462       NaN  \n",
       "2   11.803973    139.333790    7.610132  0.177492  \n",
       "3   14.207259    201.846196   10.643510  0.456550  \n",
       "4   34.201396   1169.735475   26.706882  0.767977  \n",
       "5  181.363797  32892.826829  142.384496  1.570107  "
      ]
     },
     "execution_count": 27,
     "metadata": {},
     "output_type": "execute_result"
    }
   ],
   "source": [
    "aml_leaderboard_df=aml.leaderboard.as_data_frame()\n",
    "aml_leaderboard_df"
   ]
  },
  {
   "cell_type": "markdown",
   "metadata": {},
   "source": [
    "## Getting Models"
   ]
  },
  {
   "cell_type": "markdown",
   "metadata": {},
   "source": [
    "### Parameters for XGBoost_1_AutoML_20190415_132427"
   ]
  },
  {
   "cell_type": "code",
   "execution_count": 37,
   "metadata": {},
   "outputs": [],
   "source": [
    "aml_leaderboard_df=aml.leaderboard.as_data_frame()\n",
    "model_set=aml_leaderboard_df['model_id']\n",
    "mod_best=h2o.get_model(model_set[0])"
   ]
  },
  {
   "cell_type": "code",
   "execution_count": 38,
   "metadata": {},
   "outputs": [
    {
     "data": {
      "text/plain": [
       "{'model_id': {'default': None,\n",
       "  'actual': {'__meta': {'schema_version': 3,\n",
       "    'schema_name': 'ModelKeyV3',\n",
       "    'schema_type': 'Key<Model>'},\n",
       "   'name': 'XGBoost_1_AutoML_20190415_132427',\n",
       "   'type': 'Key<Model>',\n",
       "   'URL': '/3/Models/XGBoost_1_AutoML_20190415_132427'}},\n",
       " 'training_frame': {'default': None,\n",
       "  'actual': {'__meta': {'schema_version': 3,\n",
       "    'schema_name': 'FrameKeyV3',\n",
       "    'schema_type': 'Key<Frame>'},\n",
       "   'name': 'automl_training_hour.hex',\n",
       "   'type': 'Key<Frame>',\n",
       "   'URL': '/3/Frames/automl_training_hour.hex'}},\n",
       " 'validation_frame': {'default': None, 'actual': None},\n",
       " 'nfolds': {'default': 0, 'actual': 5},\n",
       " 'keep_cross_validation_models': {'default': True, 'actual': False},\n",
       " 'keep_cross_validation_predictions': {'default': False, 'actual': True},\n",
       " 'keep_cross_validation_fold_assignment': {'default': False, 'actual': False},\n",
       " 'score_each_iteration': {'default': False, 'actual': False},\n",
       " 'fold_assignment': {'default': 'AUTO', 'actual': 'Modulo'},\n",
       " 'fold_column': {'default': None, 'actual': None},\n",
       " 'response_column': {'default': None,\n",
       "  'actual': {'__meta': {'schema_version': 3,\n",
       "    'schema_name': 'ColSpecifierV3',\n",
       "    'schema_type': 'VecSpecifier'},\n",
       "   'column_name': 'cnt',\n",
       "   'is_member_of_frames': None}},\n",
       " 'ignored_columns': {'default': None, 'actual': []},\n",
       " 'ignore_const_cols': {'default': True, 'actual': True},\n",
       " 'offset_column': {'default': None, 'actual': None},\n",
       " 'weights_column': {'default': None, 'actual': None},\n",
       " 'stopping_rounds': {'default': 0, 'actual': 0},\n",
       " 'stopping_metric': {'default': 'AUTO', 'actual': 'deviance'},\n",
       " 'stopping_tolerance': {'default': 0.001, 'actual': 0.007585559310450486},\n",
       " 'max_runtime_secs': {'default': 0.0, 'actual': 0.0},\n",
       " 'seed': {'default': -1, 'actual': -3224545055416665451},\n",
       " 'distribution': {'default': 'AUTO', 'actual': 'AUTO'},\n",
       " 'tweedie_power': {'default': 1.5, 'actual': 1.5},\n",
       " 'categorical_encoding': {'default': 'AUTO', 'actual': 'AUTO'},\n",
       " 'quiet_mode': {'default': True, 'actual': True},\n",
       " 'export_checkpoints_dir': {'default': None, 'actual': None},\n",
       " 'ntrees': {'default': 50, 'actual': 86},\n",
       " 'max_depth': {'default': 6, 'actual': 5},\n",
       " 'min_rows': {'default': 1.0, 'actual': 3.0},\n",
       " 'min_child_weight': {'default': 1.0, 'actual': 1.0},\n",
       " 'learn_rate': {'default': 0.3, 'actual': 0.05},\n",
       " 'eta': {'default': 0.3, 'actual': 0.3},\n",
       " 'sample_rate': {'default': 1.0, 'actual': 0.8},\n",
       " 'subsample': {'default': 1.0, 'actual': 1.0},\n",
       " 'col_sample_rate': {'default': 1.0, 'actual': 0.8},\n",
       " 'colsample_bylevel': {'default': 1.0, 'actual': 1.0},\n",
       " 'col_sample_rate_per_tree': {'default': 1.0, 'actual': 0.8},\n",
       " 'colsample_bytree': {'default': 1.0, 'actual': 1.0},\n",
       " 'max_abs_leafnode_pred': {'default': 0.0, 'actual': 0.0},\n",
       " 'max_delta_step': {'default': 0.0, 'actual': 0.0},\n",
       " 'monotone_constraints': {'default': None, 'actual': None},\n",
       " 'score_tree_interval': {'default': 0, 'actual': 5},\n",
       " 'min_split_improvement': {'default': 0.0, 'actual': 0.0},\n",
       " 'gamma': {'default': 0.0, 'actual': 0.0},\n",
       " 'nthread': {'default': -1, 'actual': -1},\n",
       " 'max_bins': {'default': 256, 'actual': 256},\n",
       " 'max_leaves': {'default': 0, 'actual': 0},\n",
       " 'min_sum_hessian_in_leaf': {'default': 100.0, 'actual': 100.0},\n",
       " 'min_data_in_leaf': {'default': 0.0, 'actual': 0.0},\n",
       " 'sample_type': {'default': 'uniform', 'actual': 'uniform'},\n",
       " 'normalize_type': {'default': 'tree', 'actual': 'tree'},\n",
       " 'rate_drop': {'default': 0.0, 'actual': 0.0},\n",
       " 'one_drop': {'default': False, 'actual': False},\n",
       " 'skip_drop': {'default': 0.0, 'actual': 0.0},\n",
       " 'tree_method': {'default': 'auto', 'actual': 'auto'},\n",
       " 'grow_policy': {'default': 'depthwise', 'actual': 'depthwise'},\n",
       " 'booster': {'default': 'gbtree', 'actual': 'gbtree'},\n",
       " 'reg_lambda': {'default': 1.0, 'actual': 1.0},\n",
       " 'reg_alpha': {'default': 0.0, 'actual': 0.0},\n",
       " 'dmatrix_type': {'default': 'auto', 'actual': 'auto'},\n",
       " 'backend': {'default': 'auto', 'actual': 'auto'},\n",
       " 'gpu_id': {'default': 0, 'actual': 0}}"
      ]
     },
     "execution_count": 38,
     "metadata": {},
     "output_type": "execute_result"
    }
   ],
   "source": [
    "mod_best.params"
   ]
  },
  {
   "cell_type": "code",
   "execution_count": 32,
   "metadata": {},
   "outputs": [],
   "source": [
    "hy_parameter = mod_best.params\n",
    "n=run_id+'_hy_parameter_XGBoost_1_AutoML_20190415_132427.json'\n",
    "dict_to_json(hy_parameter,n)"
   ]
  },
  {
   "cell_type": "code",
   "execution_count": 39,
   "metadata": {},
   "outputs": [
    {
     "name": "stdout",
     "output_type": "stream",
     "text": [
      "Model Details\n",
      "=============\n",
      "H2OXGBoostEstimator :  XGBoost\n",
      "Model Key:  XGBoost_1_AutoML_20190415_132427\n",
      "\n",
      "\n",
      "ModelMetricsRegression: xgboost\n",
      "** Reported on train data. **\n",
      "\n",
      "MSE: 2.087148952854493\n",
      "RMSE: 1.4446968376979625\n",
      "MAE: 1.0118509132353537\n",
      "RMSLE: 0.02943030705006473\n",
      "Mean Residual Deviance: 2.087148952854493\n",
      "\n",
      "ModelMetricsRegression: xgboost\n",
      "** Reported on cross-validation data. **\n",
      "\n",
      "MSE: 27.199157192074086\n",
      "RMSE: 5.215281123014759\n",
      "MAE: 3.0614648783132856\n",
      "RMSLE: 0.05862753883448157\n",
      "Mean Residual Deviance: 27.199157192074086\n",
      "Cross-Validation Metrics Summary: \n"
     ]
    },
    {
     "data": {
      "text/html": [
       "<div style=\"overflow:auto\"><table style=\"width:50%\"><tr><td><b></b></td>\n",
       "<td><b>mean</b></td>\n",
       "<td><b>sd</b></td>\n",
       "<td><b>cv_1_valid</b></td>\n",
       "<td><b>cv_2_valid</b></td>\n",
       "<td><b>cv_3_valid</b></td>\n",
       "<td><b>cv_4_valid</b></td>\n",
       "<td><b>cv_5_valid</b></td></tr>\n",
       "<tr><td>mae</td>\n",
       "<td>3.0614386</td>\n",
       "<td>0.1627814</td>\n",
       "<td>3.1772013</td>\n",
       "<td>3.201413</td>\n",
       "<td>3.2078736</td>\n",
       "<td>3.1149802</td>\n",
       "<td>2.6057255</td></tr>\n",
       "<tr><td>mean_residual_deviance</td>\n",
       "<td>27.198753</td>\n",
       "<td>2.8062325</td>\n",
       "<td>26.371859</td>\n",
       "<td>28.038965</td>\n",
       "<td>32.00585</td>\n",
       "<td>29.405539</td>\n",
       "<td>20.171549</td></tr>\n",
       "<tr><td>mse</td>\n",
       "<td>27.198753</td>\n",
       "<td>2.8062325</td>\n",
       "<td>26.371859</td>\n",
       "<td>28.038965</td>\n",
       "<td>32.00585</td>\n",
       "<td>29.405539</td>\n",
       "<td>20.171549</td></tr>\n",
       "<tr><td>r2</td>\n",
       "<td>0.9991734</td>\n",
       "<td>0.0000852</td>\n",
       "<td>0.9991994</td>\n",
       "<td>0.9991543</td>\n",
       "<td>0.9990216</td>\n",
       "<td>0.9991080</td>\n",
       "<td>0.9993836</td></tr>\n",
       "<tr><td>residual_deviance</td>\n",
       "<td>27.198753</td>\n",
       "<td>2.8062325</td>\n",
       "<td>26.371859</td>\n",
       "<td>28.038965</td>\n",
       "<td>32.00585</td>\n",
       "<td>29.405539</td>\n",
       "<td>20.171549</td></tr>\n",
       "<tr><td>rmse</td>\n",
       "<td>5.200374</td>\n",
       "<td>0.2782639</td>\n",
       "<td>5.1353536</td>\n",
       "<td>5.295183</td>\n",
       "<td>5.6573715</td>\n",
       "<td>5.4226875</td>\n",
       "<td>4.491275</td></tr>\n",
       "<tr><td>rmsle</td>\n",
       "<td>0.0582936</td>\n",
       "<td>0.0044140</td>\n",
       "<td>0.0629386</td>\n",
       "<td>0.0622295</td>\n",
       "<td>0.0578334</td>\n",
       "<td>0.0621259</td>\n",
       "<td>0.0463408</td></tr></table></div>"
      ],
      "text/plain": [
       "                        mean       sd           cv_1_valid    cv_2_valid    cv_3_valid    cv_4_valid    cv_5_valid\n",
       "----------------------  ---------  -----------  ------------  ------------  ------------  ------------  ------------\n",
       "mae                     3.06144    0.162781     3.1772        3.20141       3.20787       3.11498       2.60573\n",
       "mean_residual_deviance  27.1988    2.80623      26.3719       28.039        32.0059       29.4055       20.1715\n",
       "mse                     27.1988    2.80623      26.3719       28.039        32.0059       29.4055       20.1715\n",
       "r2                      0.999173   8.51588e-05  0.999199      0.999154      0.999022      0.999108      0.999384\n",
       "residual_deviance       27.1988    2.80623      26.3719       28.039        32.0059       29.4055       20.1715\n",
       "rmse                    5.20037    0.278264     5.13535       5.29518       5.65737       5.42269       4.49127\n",
       "rmsle                   0.0582936  0.00441402   0.0629386     0.0622295     0.0578334     0.0621259     0.0463408"
      ]
     },
     "metadata": {},
     "output_type": "display_data"
    },
    {
     "name": "stdout",
     "output_type": "stream",
     "text": [
      "Scoring History: \n"
     ]
    },
    {
     "data": {
      "text/html": [
       "<div style=\"overflow:auto\"><table style=\"width:50%\"><tr><td><b></b></td>\n",
       "<td><b>timestamp</b></td>\n",
       "<td><b>duration</b></td>\n",
       "<td><b>number_of_trees</b></td>\n",
       "<td><b>training_rmse</b></td>\n",
       "<td><b>training_mae</b></td>\n",
       "<td><b>training_deviance</b></td></tr>\n",
       "<tr><td></td>\n",
       "<td>2019-04-15 13:30:00</td>\n",
       "<td> 5 min 32.277 sec</td>\n",
       "<td>0.0</td>\n",
       "<td>261.9286476</td>\n",
       "<td>188.9630876</td>\n",
       "<td>68606.6164192</td></tr>\n",
       "<tr><td></td>\n",
       "<td>2019-04-15 13:30:00</td>\n",
       "<td> 5 min 32.465 sec</td>\n",
       "<td>5.0</td>\n",
       "<td>203.6556984</td>\n",
       "<td>146.4966202</td>\n",
       "<td>41475.6434712</td></tr>\n",
       "<tr><td></td>\n",
       "<td>2019-04-15 13:30:00</td>\n",
       "<td> 5 min 32.636 sec</td>\n",
       "<td>10.0</td>\n",
       "<td>159.2290338</td>\n",
       "<td>113.7618108</td>\n",
       "<td>25353.8852004</td></tr>\n",
       "<tr><td></td>\n",
       "<td>2019-04-15 13:30:00</td>\n",
       "<td> 5 min 32.792 sec</td>\n",
       "<td>15.0</td>\n",
       "<td>125.0344164</td>\n",
       "<td>88.3032093</td>\n",
       "<td>15633.6052792</td></tr>\n",
       "<tr><td></td>\n",
       "<td>2019-04-15 13:30:00</td>\n",
       "<td> 5 min 32.979 sec</td>\n",
       "<td>20.0</td>\n",
       "<td>97.8721402</td>\n",
       "<td>68.5940444</td>\n",
       "<td>9578.9558319</td></tr>\n",
       "<tr><td>---</td>\n",
       "<td>---</td>\n",
       "<td>---</td>\n",
       "<td>---</td>\n",
       "<td>---</td>\n",
       "<td>---</td>\n",
       "<td>---</td></tr>\n",
       "<tr><td></td>\n",
       "<td>2019-04-15 13:30:50</td>\n",
       "<td> 6 min 22.077 sec</td>\n",
       "<td>360.0</td>\n",
       "<td>1.5076279</td>\n",
       "<td>1.0522128</td>\n",
       "<td>2.2729418</td></tr>\n",
       "<tr><td></td>\n",
       "<td>2019-04-15 13:30:51</td>\n",
       "<td> 6 min 23.381 sec</td>\n",
       "<td>365.0</td>\n",
       "<td>1.4835415</td>\n",
       "<td>1.0382363</td>\n",
       "<td>2.2008953</td></tr>\n",
       "<tr><td></td>\n",
       "<td>2019-04-15 13:30:52</td>\n",
       "<td> 6 min 24.539 sec</td>\n",
       "<td>370.0</td>\n",
       "<td>1.4653815</td>\n",
       "<td>1.0263160</td>\n",
       "<td>2.1473429</td></tr>\n",
       "<tr><td></td>\n",
       "<td>2019-04-15 13:30:53</td>\n",
       "<td> 6 min 25.921 sec</td>\n",
       "<td>375.0</td>\n",
       "<td>1.4542668</td>\n",
       "<td>1.0187528</td>\n",
       "<td>2.1148920</td></tr>\n",
       "<tr><td></td>\n",
       "<td>2019-04-15 13:30:55</td>\n",
       "<td> 6 min 27.193 sec</td>\n",
       "<td>378.0</td>\n",
       "<td>1.4446968</td>\n",
       "<td>1.0118509</td>\n",
       "<td>2.0871490</td></tr></table></div>"
      ],
      "text/plain": [
       "     timestamp            duration          number_of_trees    training_rmse       training_mae        training_deviance\n",
       "---  -------------------  ----------------  -----------------  ------------------  ------------------  -------------------\n",
       "     2019-04-15 13:30:00  5 min 32.277 sec  0.0                261.9286475726579   188.96308763450142  68606.61641924162\n",
       "     2019-04-15 13:30:00  5 min 32.465 sec  5.0                203.65569835190317  146.49662021298602  41475.64347120138\n",
       "     2019-04-15 13:30:00  5 min 32.636 sec  10.0               159.2290337860734   113.76181084885478  25353.885200446504\n",
       "     2019-04-15 13:30:00  5 min 32.792 sec  15.0               125.03441637865218  88.303209270348     15633.605279150166\n",
       "     2019-04-15 13:30:00  5 min 32.979 sec  20.0               97.87214022327801   68.59404437925676   9578.955831884992\n",
       "---  ---                  ---               ---                ---                 ---                 ---\n",
       "     2019-04-15 13:30:50  6 min 22.077 sec  360.0              1.50762786564063    1.052212768693302   2.2729417812561215\n",
       "     2019-04-15 13:30:51  6 min 23.381 sec  365.0              1.4835414770161457  1.0382363112833388  2.2008953140272474\n",
       "     2019-04-15 13:30:52  6 min 24.539 sec  370.0              1.4653814844714887  1.0263159512938478  2.147342895031864\n",
       "     2019-04-15 13:30:53  6 min 25.921 sec  375.0              1.4542668263211849  1.0187527702931491  2.114892002138291\n",
       "     2019-04-15 13:30:55  6 min 27.193 sec  378.0              1.4446968376979625  1.0118509132353537  2.087148952854493"
      ]
     },
     "metadata": {},
     "output_type": "display_data"
    },
    {
     "name": "stdout",
     "output_type": "stream",
     "text": [
      "\n",
      "See the whole table with table.as_data_frame()\n",
      "Variable Importances: \n"
     ]
    },
    {
     "data": {
      "text/html": [
       "<div style=\"overflow:auto\"><table style=\"width:50%\"><tr><td><b>variable</b></td>\n",
       "<td><b>relative_importance</b></td>\n",
       "<td><b>scaled_importance</b></td>\n",
       "<td><b>percentage</b></td></tr>\n",
       "<tr><td>registered</td>\n",
       "<td>2484344832.0000000</td>\n",
       "<td>1.0</td>\n",
       "<td>0.7122665</td></tr>\n",
       "<tr><td>casual</td>\n",
       "<td>417387168.0000000</td>\n",
       "<td>0.1680069</td>\n",
       "<td>0.1196657</td></tr>\n",
       "<tr><td>hr</td>\n",
       "<td>325013824.0000000</td>\n",
       "<td>0.1308248</td>\n",
       "<td>0.0931821</td></tr>\n",
       "<tr><td>temp</td>\n",
       "<td>59346960.0000000</td>\n",
       "<td>0.0238884</td>\n",
       "<td>0.0170149</td></tr>\n",
       "<tr><td>workingday</td>\n",
       "<td>50674532.0000000</td>\n",
       "<td>0.0203975</td>\n",
       "<td>0.0145285</td></tr>\n",
       "<tr><td>atemp</td>\n",
       "<td>48107148.0000000</td>\n",
       "<td>0.0193641</td>\n",
       "<td>0.0137924</td></tr>\n",
       "<tr><td>instant</td>\n",
       "<td>33546080.0000000</td>\n",
       "<td>0.0135030</td>\n",
       "<td>0.0096177</td></tr>\n",
       "<tr><td>dteday</td>\n",
       "<td>20156732.0000000</td>\n",
       "<td>0.0081135</td>\n",
       "<td>0.0057790</td></tr>\n",
       "<tr><td>yr</td>\n",
       "<td>18886002.0000000</td>\n",
       "<td>0.0076020</td>\n",
       "<td>0.0054147</td></tr>\n",
       "<tr><td>weekday</td>\n",
       "<td>18865150.0000000</td>\n",
       "<td>0.0075936</td>\n",
       "<td>0.0054087</td></tr>\n",
       "<tr><td>weathersit</td>\n",
       "<td>5844404.0</td>\n",
       "<td>0.0023525</td>\n",
       "<td>0.0016756</td></tr>\n",
       "<tr><td>season</td>\n",
       "<td>2612591.7500000</td>\n",
       "<td>0.0010516</td>\n",
       "<td>0.0007490</td></tr>\n",
       "<tr><td>hum</td>\n",
       "<td>1957622.8750000</td>\n",
       "<td>0.0007880</td>\n",
       "<td>0.0005613</td></tr>\n",
       "<tr><td>holiday</td>\n",
       "<td>522633.8125000</td>\n",
       "<td>0.0002104</td>\n",
       "<td>0.0001498</td></tr>\n",
       "<tr><td>mnth</td>\n",
       "<td>340318.0937500</td>\n",
       "<td>0.0001370</td>\n",
       "<td>0.0000976</td></tr>\n",
       "<tr><td>windspeed</td>\n",
       "<td>336621.7812500</td>\n",
       "<td>0.0001355</td>\n",
       "<td>0.0000965</td></tr></table></div>"
      ],
      "text/plain": [
       "variable    relative_importance    scaled_importance    percentage\n",
       "----------  ---------------------  -------------------  ------------\n",
       "registered  2.48434e+09            1                    0.712267\n",
       "casual      4.17387e+08            0.168007             0.119666\n",
       "hr          3.25014e+08            0.130825             0.0931821\n",
       "temp        5.9347e+07             0.0238884            0.0170149\n",
       "workingday  5.06745e+07            0.0203975            0.0145285\n",
       "atemp       4.81071e+07            0.0193641            0.0137924\n",
       "instant     3.35461e+07            0.013503             0.00961773\n",
       "dteday      2.01567e+07            0.0081135            0.00577897\n",
       "yr          1.8886e+07             0.00760201           0.00541465\n",
       "weekday     1.88652e+07            0.00759361           0.00540868\n",
       "weathersit  5.8444e+06             0.00235249           0.0016756\n",
       "season      2.61259e+06            0.00105162           0.000749035\n",
       "hum         1.95762e+06            0.000787984          0.000561254\n",
       "holiday     522634                 0.000210371          0.00014984\n",
       "mnth        340318                 0.000136985          9.75699e-05\n",
       "windspeed   336622                 0.000135497          9.65101e-05"
      ]
     },
     "metadata": {},
     "output_type": "display_data"
    },
    {
     "name": "stdout",
     "output_type": "stream",
     "text": [
      "<bound method ModelBase.coef_norm of >\n"
     ]
    }
   ],
   "source": [
    "mods=mod_best.coef_norm\n",
    "print(mods)"
   ]
  },
  {
   "cell_type": "markdown",
   "metadata": {},
   "source": [
    "### Generating all the parameters for the models for json file in the below code"
   ]
  },
  {
   "cell_type": "code",
   "execution_count": 49,
   "metadata": {},
   "outputs": [],
   "source": [
    "aml_leaderboard_df=aml.leaderboard.as_data_frame()\n",
    "model_set=aml_leaderboard_df['model_id']\n",
    "mod_best=h2o.get_model(model_set[5])"
   ]
  },
  {
   "cell_type": "code",
   "execution_count": 50,
   "metadata": {},
   "outputs": [
    {
     "data": {
      "text/plain": [
       "{'model_id': {'default': None,\n",
       "  'actual': {'__meta': {'schema_version': 3,\n",
       "    'schema_name': 'ModelKeyV3',\n",
       "    'schema_type': 'Key<Model>'},\n",
       "   'name': 'GLM_grid_1_AutoML_20190415_132427_model_1',\n",
       "   'type': 'Key<Model>',\n",
       "   'URL': '/3/Models/GLM_grid_1_AutoML_20190415_132427_model_1'}},\n",
       " 'training_frame': {'default': None,\n",
       "  'actual': {'__meta': {'schema_version': 3,\n",
       "    'schema_name': 'FrameKeyV3',\n",
       "    'schema_type': 'Key<Frame>'},\n",
       "   'name': 'automl_training_hour.hex',\n",
       "   'type': 'Key<Frame>',\n",
       "   'URL': '/3/Frames/automl_training_hour.hex'}},\n",
       " 'validation_frame': {'default': None, 'actual': None},\n",
       " 'nfolds': {'default': 0, 'actual': 5},\n",
       " 'seed': {'default': -1, 'actual': 7300395046506625567},\n",
       " 'keep_cross_validation_models': {'default': True, 'actual': False},\n",
       " 'keep_cross_validation_predictions': {'default': False, 'actual': True},\n",
       " 'keep_cross_validation_fold_assignment': {'default': False, 'actual': False},\n",
       " 'fold_assignment': {'default': 'AUTO', 'actual': 'Modulo'},\n",
       " 'fold_column': {'default': None, 'actual': None},\n",
       " 'response_column': {'default': None,\n",
       "  'actual': {'__meta': {'schema_version': 3,\n",
       "    'schema_name': 'ColSpecifierV3',\n",
       "    'schema_type': 'VecSpecifier'},\n",
       "   'column_name': 'cnt',\n",
       "   'is_member_of_frames': None}},\n",
       " 'ignored_columns': {'default': None, 'actual': []},\n",
       " 'ignore_const_cols': {'default': True, 'actual': True},\n",
       " 'score_each_iteration': {'default': False, 'actual': False},\n",
       " 'offset_column': {'default': None, 'actual': None},\n",
       " 'weights_column': {'default': None, 'actual': None},\n",
       " 'family': {'default': 'gaussian', 'actual': 'gaussian'},\n",
       " 'tweedie_variance_power': {'default': 0.0, 'actual': 0.0},\n",
       " 'tweedie_link_power': {'default': 1.0, 'actual': 1.0},\n",
       " 'theta': {'default': 1e-10, 'actual': 1e-10},\n",
       " 'solver': {'default': 'AUTO', 'actual': 'COORDINATE_DESCENT'},\n",
       " 'alpha': {'default': None, 'actual': [0.0, 0.2, 0.4, 0.6, 0.8, 1.0]},\n",
       " 'lambda': {'default': None, 'actual': [17632.594052322154]},\n",
       " 'lambda_search': {'default': False, 'actual': True},\n",
       " 'early_stopping': {'default': True, 'actual': True},\n",
       " 'nlambdas': {'default': -1, 'actual': 30},\n",
       " 'standardize': {'default': True, 'actual': True},\n",
       " 'missing_values_handling': {'default': 'MeanImputation',\n",
       "  'actual': 'MeanImputation'},\n",
       " 'compute_p_values': {'default': False, 'actual': False},\n",
       " 'remove_collinear_columns': {'default': False, 'actual': False},\n",
       " 'intercept': {'default': True, 'actual': True},\n",
       " 'non_negative': {'default': False, 'actual': False},\n",
       " 'max_iterations': {'default': -1, 'actual': 300},\n",
       " 'objective_epsilon': {'default': -1.0, 'actual': 0.0001},\n",
       " 'beta_epsilon': {'default': 0.0001, 'actual': 0.0001},\n",
       " 'gradient_epsilon': {'default': -1.0, 'actual': 1.0000000000000002e-06},\n",
       " 'link': {'default': 'family_default', 'actual': 'identity'},\n",
       " 'prior': {'default': -1.0, 'actual': -1.0},\n",
       " 'lambda_min_ratio': {'default': -1.0, 'actual': 1.0000000000000002e-06},\n",
       " 'beta_constraints': {'default': None, 'actual': None},\n",
       " 'max_active_predictors': {'default': -1, 'actual': 5000},\n",
       " 'interactions': {'default': None, 'actual': None},\n",
       " 'interaction_pairs': {'default': None, 'actual': None},\n",
       " 'obj_reg': {'default': -1.0, 'actual': 5.754071005236205e-05},\n",
       " 'export_checkpoints_dir': {'default': None, 'actual': None},\n",
       " 'balance_classes': {'default': False, 'actual': False},\n",
       " 'class_sampling_factors': {'default': None, 'actual': None},\n",
       " 'max_after_balance_size': {'default': 5.0, 'actual': 5.0},\n",
       " 'max_confusion_matrix_size': {'default': 20, 'actual': 20},\n",
       " 'max_hit_ratio_k': {'default': 0, 'actual': 0},\n",
       " 'max_runtime_secs': {'default': 0.0, 'actual': 0.0},\n",
       " 'custom_metric_func': {'default': None, 'actual': None}}"
      ]
     },
     "execution_count": 50,
     "metadata": {},
     "output_type": "execute_result"
    }
   ],
   "source": [
    "mod_best.params"
   ]
  },
  {
   "cell_type": "code",
   "execution_count": 51,
   "metadata": {},
   "outputs": [],
   "source": [
    "hy_parameter = mod_best.params\n",
    "n=run_id+'_hy_parameter_GLM_grid_1_AutoML_20190415_132427_model_1.json'\n",
    "dict_to_json(hy_parameter,n)"
   ]
  },
  {
   "cell_type": "markdown",
   "metadata": {},
   "source": [
    "### Parameters for StackedEnsemble_AllModels_AutoML_20190408_134347"
   ]
  },
  {
   "cell_type": "code",
   "execution_count": 52,
   "metadata": {},
   "outputs": [],
   "source": [
    "aml_leaderboard_df=aml.leaderboard.as_data_frame()\n",
    "model_set=aml_leaderboard_df['model_id']\n",
    "mod_best=h2o.get_model(model_set[4])"
   ]
  },
  {
   "cell_type": "code",
   "execution_count": 53,
   "metadata": {},
   "outputs": [
    {
     "data": {
      "text/plain": [
       "{'model_id': {'default': None,\n",
       "  'actual': {'__meta': {'schema_version': 3,\n",
       "    'schema_name': 'ModelKeyV3',\n",
       "    'schema_type': 'Key<Model>'},\n",
       "   'name': 'StackedEnsemble_BestOfFamily_AutoML_20190415_132427',\n",
       "   'type': 'Key<Model>',\n",
       "   'URL': '/3/Models/StackedEnsemble_BestOfFamily_AutoML_20190415_132427'}},\n",
       " 'training_frame': {'default': None,\n",
       "  'actual': {'__meta': {'schema_version': 3,\n",
       "    'schema_name': 'FrameKeyV3',\n",
       "    'schema_type': 'Key<Frame>'},\n",
       "   'name': 'automl_training_hour.hex',\n",
       "   'type': 'Key<Frame>',\n",
       "   'URL': '/3/Frames/automl_training_hour.hex'}},\n",
       " 'response_column': {'default': None,\n",
       "  'actual': {'__meta': {'schema_version': 3,\n",
       "    'schema_name': 'ColSpecifierV3',\n",
       "    'schema_type': 'VecSpecifier'},\n",
       "   'column_name': 'cnt',\n",
       "   'is_member_of_frames': None}},\n",
       " 'validation_frame': {'default': None, 'actual': None},\n",
       " 'blending_frame': {'default': None, 'actual': None},\n",
       " 'base_models': {'default': [],\n",
       "  'actual': [{'__meta': {'schema_version': 3,\n",
       "     'schema_name': 'ModelKeyV3',\n",
       "     'schema_type': 'Key<Model>'},\n",
       "    'name': 'XGBoost_1_AutoML_20190415_132427',\n",
       "    'type': 'Key<Model>',\n",
       "    'URL': '/3/Models/XGBoost_1_AutoML_20190415_132427'},\n",
       "   {'__meta': {'schema_version': 3,\n",
       "     'schema_name': 'ModelKeyV3',\n",
       "     'schema_type': 'Key<Model>'},\n",
       "    'name': 'GLM_grid_1_AutoML_20190415_132427_model_1',\n",
       "    'type': 'Key<Model>',\n",
       "    'URL': '/3/Models/GLM_grid_1_AutoML_20190415_132427_model_1'}]},\n",
       " 'metalearner_algorithm': {'default': 'AUTO', 'actual': 'AUTO'},\n",
       " 'metalearner_nfolds': {'default': 0, 'actual': 5},\n",
       " 'metalearner_fold_assignment': {'default': None, 'actual': None},\n",
       " 'metalearner_fold_column': {'default': None, 'actual': None},\n",
       " 'metalearner_params': {'default': '', 'actual': ''},\n",
       " 'seed': {'default': -1, 'actual': -6294023909801305955},\n",
       " 'keep_levelone_frame': {'default': False, 'actual': True},\n",
       " 'export_checkpoints_dir': {'default': None, 'actual': None}}"
      ]
     },
     "execution_count": 53,
     "metadata": {},
     "output_type": "execute_result"
    }
   ],
   "source": [
    "mod_best.params"
   ]
  },
  {
   "cell_type": "markdown",
   "metadata": {},
   "source": [
    "# Model with runtime 1000 seconds"
   ]
  },
  {
   "cell_type": "code",
   "execution_count": 54,
   "metadata": {},
   "outputs": [],
   "source": [
    "# Assume the following are passed by the user from the web interface\n",
    "\n",
    "'''\n",
    "Need a user id and project id?\n",
    "\n",
    "'''\n",
    "target='cnt' \n",
    "data_file='hour.csv'\n",
    "run_time=1000\n",
    "run_id='SOME_ID_20180617_221529' # Just some arbitrary ID\n",
    "server_path='/Users/newzysharma/Desktop/Desktop/Machine_Learning/Project/RunTime_1000Seconds'\n",
    "classification=False\n",
    "scale=False\n",
    "max_models=None\n",
    "balance_y=False # balance_classes=balance_y\n",
    "balance_threshold=0.2\n",
    "project =\"HyperparameterDB_Project\"  # project_name = project"
   ]
  },
  {
   "cell_type": "code",
   "execution_count": 67,
   "metadata": {},
   "outputs": [
    {
     "data": {
      "text/plain": [
       "'/Users/newzysharma/Desktop/Desktop/Machine_Learning/Project/RunTime_1000Seconds/hour.csv'"
      ]
     },
     "execution_count": 67,
     "metadata": {},
     "output_type": "execute_result"
    }
   ],
   "source": [
    "# Use local data file or download from some type of bucket\n",
    "import os\n",
    "\n",
    "data_path=os.path.join(server_path,data_file)\n",
    "data_path"
   ]
  },
  {
   "cell_type": "code",
   "execution_count": 56,
   "metadata": {},
   "outputs": [
    {
     "name": "stdout",
     "output_type": "stream",
     "text": [
      "cnt\n",
      "['instant', 'dteday', 'season', 'yr', 'mnth', 'hr', 'holiday', 'weekday', 'workingday', 'weathersit', 'temp', 'atemp', 'hum', 'windspeed', 'casual', 'registered']\n"
     ]
    }
   ],
   "source": [
    "# assign target and inputs for logistic regression\n",
    "y = target\n",
    "X = [name for name in hp.columns if name != y]\n",
    "print(y)\n",
    "print(X)"
   ]
  },
  {
   "cell_type": "code",
   "execution_count": 57,
   "metadata": {},
   "outputs": [
    {
     "name": "stdout",
     "output_type": "stream",
     "text": [
      "['instant', 'season', 'yr', 'mnth', 'hr', 'holiday', 'weekday', 'workingday', 'weathersit', 'casual', 'registered']\n",
      "[]\n",
      "['dteday', 'temp', 'atemp', 'hum', 'windspeed']\n"
     ]
    }
   ],
   "source": [
    "# determine column types\n",
    "ints, reals, enums = [], [], []\n",
    "for key, val in hp.types.items():\n",
    "    if key in X:\n",
    "        if val == 'enum':\n",
    "            enums.append(key)\n",
    "        elif val == 'int':\n",
    "            ints.append(key)            \n",
    "        else: \n",
    "            reals.append(key)\n",
    "\n",
    "print(ints)\n",
    "print(enums)\n",
    "print(reals)"
   ]
  },
  {
   "cell_type": "code",
   "execution_count": 58,
   "metadata": {},
   "outputs": [],
   "source": [
    "# impute missing values\n",
    "_ = hp[reals].impute(method='mean')\n",
    "_ = hp[ints].impute(method='median')\n",
    "\n",
    "if scale:\n",
    "    hp[reals] = hp[reals].scale()\n",
    "    hp[ints] = hp[ints].scale()"
   ]
  },
  {
   "cell_type": "code",
   "execution_count": 59,
   "metadata": {},
   "outputs": [],
   "source": [
    "# set target to factor for classification by default or if user specifies classification\n",
    "#if classification:\n",
    "    #hp[y] = hp[y].asfactor()"
   ]
  },
  {
   "cell_type": "code",
   "execution_count": 60,
   "metadata": {},
   "outputs": [
    {
     "data": {
      "text/plain": [
       "[]"
      ]
     },
     "execution_count": 60,
     "metadata": {},
     "output_type": "execute_result"
    }
   ],
   "source": [
    "hp[y].levels()"
   ]
  },
  {
   "cell_type": "code",
   "execution_count": 61,
   "metadata": {},
   "outputs": [
    {
     "name": "stdout",
     "output_type": "stream",
     "text": [
      "1000\n"
     ]
    },
    {
     "data": {
      "text/plain": [
       "int"
      ]
     },
     "execution_count": 61,
     "metadata": {},
     "output_type": "execute_result"
    }
   ],
   "source": [
    "if classification:\n",
    "    class_percentage = y_balance=df[y].mean()[0]/(df[y].max()-df[y].min())\n",
    "    if class_percentage < balance_threshold:\n",
    "        balance_y=True\n",
    "        \n",
    "\n",
    "print(run_time)\n",
    "type(run_time)"
   ]
  },
  {
   "cell_type": "markdown",
   "metadata": {},
   "source": [
    "\n",
    "## Cross-validate rather than take a test training split with 1000 seconds"
   ]
  },
  {
   "cell_type": "code",
   "execution_count": 62,
   "metadata": {},
   "outputs": [
    {
     "name": "stdout",
     "output_type": "stream",
     "text": [
      "AutoML progress: |████████████████████████████████████████████████████████| 100%\n"
     ]
    }
   ],
   "source": [
    "# automl\n",
    "# runs for run_time seconds then builds a stacked ensemble\n",
    "\n",
    "aml = H2OAutoML(max_runtime_secs=run_time,project_name = project) # init automl, run for 1000 seconds\n",
    "aml.train(x=X,  \n",
    "           y=y,\n",
    "           training_frame=hp)"
   ]
  },
  {
   "cell_type": "markdown",
   "metadata": {},
   "source": [
    "## Leaderboard"
   ]
  },
  {
   "cell_type": "code",
   "execution_count": 63,
   "metadata": {},
   "outputs": [
    {
     "data": {
      "text/html": [
       "<table>\n",
       "<thead>\n",
       "<tr><th>model_id                                 </th><th style=\"text-align: right;\">  mean_residual_deviance</th><th style=\"text-align: right;\">   rmse</th><th style=\"text-align: right;\">    mse</th><th style=\"text-align: right;\">    mae</th><th style=\"text-align: right;\">      rmsle</th></tr>\n",
       "</thead>\n",
       "<tbody>\n",
       "<tr><td>GBM_2_AutoML_20190415_140606             </td><td style=\"text-align: right;\">                 13.6595</td><td style=\"text-align: right;\">3.69587</td><td style=\"text-align: right;\">13.6595</td><td style=\"text-align: right;\">2.23637</td><td style=\"text-align: right;\">  0.0503004</td></tr>\n",
       "<tr><td>GBM_1_AutoML_20190415_140606             </td><td style=\"text-align: right;\">                 14.7516</td><td style=\"text-align: right;\">3.84078</td><td style=\"text-align: right;\">14.7516</td><td style=\"text-align: right;\">2.46137</td><td style=\"text-align: right;\">  0.0743702</td></tr>\n",
       "<tr><td>XGBoost_3_AutoML_20190415_140606         </td><td style=\"text-align: right;\">                 20.5768</td><td style=\"text-align: right;\">4.53616</td><td style=\"text-align: right;\">20.5768</td><td style=\"text-align: right;\">2.98153</td><td style=\"text-align: right;\">nan        </td></tr>\n",
       "<tr><td>DeepLearning_1_AutoML_20190415_140606    </td><td style=\"text-align: right;\">                 22.1069</td><td style=\"text-align: right;\">4.7018 </td><td style=\"text-align: right;\">22.1069</td><td style=\"text-align: right;\">3.04543</td><td style=\"text-align: right;\">nan        </td></tr>\n",
       "<tr><td>GBM_3_AutoML_20190415_140606             </td><td style=\"text-align: right;\">                 24.4018</td><td style=\"text-align: right;\">4.93982</td><td style=\"text-align: right;\">24.4018</td><td style=\"text-align: right;\">2.99975</td><td style=\"text-align: right;\">  0.061645 </td></tr>\n",
       "<tr><td>XGBoost_1_AutoML_20190415_132427         </td><td style=\"text-align: right;\">                 27.1992</td><td style=\"text-align: right;\">5.21528</td><td style=\"text-align: right;\">27.1992</td><td style=\"text-align: right;\">3.06146</td><td style=\"text-align: right;\">  0.0586275</td></tr>\n",
       "<tr><td>XGBoost_1_AutoML_20190415_140606         </td><td style=\"text-align: right;\">                 28.1459</td><td style=\"text-align: right;\">5.30527</td><td style=\"text-align: right;\">28.1459</td><td style=\"text-align: right;\">3.03397</td><td style=\"text-align: right;\">  0.0549983</td></tr>\n",
       "<tr><td>GBM_5_AutoML_20190415_140606             </td><td style=\"text-align: right;\">                 32.2515</td><td style=\"text-align: right;\">5.67904</td><td style=\"text-align: right;\">32.2515</td><td style=\"text-align: right;\">2.52706</td><td style=\"text-align: right;\">  0.0334335</td></tr>\n",
       "<tr><td>XGBoost_2_AutoML_20190415_140606         </td><td style=\"text-align: right;\">                 35.3049</td><td style=\"text-align: right;\">5.94179</td><td style=\"text-align: right;\">35.3049</td><td style=\"text-align: right;\">3.42682</td><td style=\"text-align: right;\">  0.0772404</td></tr>\n",
       "<tr><td>GLM_grid_1_AutoML_20190415_140606_model_1</td><td style=\"text-align: right;\">                 38.387 </td><td style=\"text-align: right;\">6.19573</td><td style=\"text-align: right;\">38.387 </td><td style=\"text-align: right;\">4.45197</td><td style=\"text-align: right;\">nan        </td></tr>\n",
       "</tbody>\n",
       "</table>"
      ]
     },
     "metadata": {},
     "output_type": "display_data"
    },
    {
     "data": {
      "text/plain": []
     },
     "execution_count": 63,
     "metadata": {},
     "output_type": "execute_result"
    }
   ],
   "source": [
    "# view leaderboard\n",
    "lb = aml.leaderboard\n",
    "lb"
   ]
  },
  {
   "cell_type": "code",
   "execution_count": 64,
   "metadata": {},
   "outputs": [
    {
     "name": "stdout",
     "output_type": "stream",
     "text": [
      "Model Details\n",
      "=============\n",
      "H2OGradientBoostingEstimator :  Gradient Boosting Machine\n",
      "Model Key:  GBM_2_AutoML_20190415_140606\n",
      "\n",
      "\n",
      "ModelMetricsRegression: gbm\n",
      "** Reported on train data. **\n",
      "\n",
      "MSE: 3.556537946863229\n",
      "RMSE: 1.8858785610063096\n",
      "MAE: 1.329610430616059\n",
      "RMSLE: 0.03778323991165253\n",
      "Mean Residual Deviance: 3.556537946863229\n",
      "\n",
      "ModelMetricsRegression: gbm\n",
      "** Reported on cross-validation data. **\n",
      "\n",
      "MSE: 13.659468681676746\n",
      "RMSE: 3.6958718432430455\n",
      "MAE: 2.2363725436260253\n",
      "RMSLE: 0.05030042133333145\n",
      "Mean Residual Deviance: 13.659468681676746\n",
      "Cross-Validation Metrics Summary: \n"
     ]
    },
    {
     "data": {
      "text/html": [
       "<div style=\"overflow:auto\"><table style=\"width:50%\"><tr><td><b></b></td>\n",
       "<td><b>mean</b></td>\n",
       "<td><b>sd</b></td>\n",
       "<td><b>cv_1_valid</b></td>\n",
       "<td><b>cv_2_valid</b></td>\n",
       "<td><b>cv_3_valid</b></td>\n",
       "<td><b>cv_4_valid</b></td>\n",
       "<td><b>cv_5_valid</b></td></tr>\n",
       "<tr><td>mae</td>\n",
       "<td>2.2363746</td>\n",
       "<td>0.0267098</td>\n",
       "<td>2.2271378</td>\n",
       "<td>2.2134018</td>\n",
       "<td>2.183275</td>\n",
       "<td>2.2846265</td>\n",
       "<td>2.2734323</td></tr>\n",
       "<tr><td>mean_residual_deviance</td>\n",
       "<td>13.659458</td>\n",
       "<td>0.8520871</td>\n",
       "<td>12.272043</td>\n",
       "<td>12.453506</td>\n",
       "<td>15.115801</td>\n",
       "<td>14.974274</td>\n",
       "<td>13.4816675</td></tr>\n",
       "<tr><td>mse</td>\n",
       "<td>13.659458</td>\n",
       "<td>0.8520871</td>\n",
       "<td>12.272043</td>\n",
       "<td>12.453506</td>\n",
       "<td>15.115801</td>\n",
       "<td>14.974274</td>\n",
       "<td>13.4816675</td></tr>\n",
       "<tr><td>r2</td>\n",
       "<td>0.9995847</td>\n",
       "<td>0.0000267</td>\n",
       "<td>0.9996275</td>\n",
       "<td>0.9996244</td>\n",
       "<td>0.9995379</td>\n",
       "<td>0.9995458</td>\n",
       "<td>0.999588</td></tr>\n",
       "<tr><td>residual_deviance</td>\n",
       "<td>13.659458</td>\n",
       "<td>0.8520871</td>\n",
       "<td>12.272043</td>\n",
       "<td>12.453506</td>\n",
       "<td>15.115801</td>\n",
       "<td>14.974274</td>\n",
       "<td>13.4816675</td></tr>\n",
       "<tr><td>rmse</td>\n",
       "<td>3.6922808</td>\n",
       "<td>0.1151528</td>\n",
       "<td>3.5031476</td>\n",
       "<td>3.5289526</td>\n",
       "<td>3.8879044</td>\n",
       "<td>3.8696606</td>\n",
       "<td>3.671739</td></tr>\n",
       "<tr><td>rmsle</td>\n",
       "<td>0.0501792</td>\n",
       "<td>0.0024688</td>\n",
       "<td>0.0524656</td>\n",
       "<td>0.0519851</td>\n",
       "<td>0.0433970</td>\n",
       "<td>0.0503318</td>\n",
       "<td>0.0527167</td></tr></table></div>"
      ],
      "text/plain": [
       "                        mean       sd           cv_1_valid    cv_2_valid    cv_3_valid    cv_4_valid    cv_5_valid\n",
       "----------------------  ---------  -----------  ------------  ------------  ------------  ------------  ------------\n",
       "mae                     2.23637    0.0267098    2.22714       2.2134        2.18328       2.28463       2.27343\n",
       "mean_residual_deviance  13.6595    0.852087     12.272        12.4535       15.1158       14.9743       13.4817\n",
       "mse                     13.6595    0.852087     12.272        12.4535       15.1158       14.9743       13.4817\n",
       "r2                      0.999585   2.66818e-05  0.999628      0.999624      0.999538      0.999546      0.999588\n",
       "residual_deviance       13.6595    0.852087     12.272        12.4535       15.1158       14.9743       13.4817\n",
       "rmse                    3.69228    0.115153     3.50315       3.52895       3.8879        3.86966       3.67174\n",
       "rmsle                   0.0501792  0.0024688    0.0524656     0.0519851     0.043397      0.0503318     0.0527167"
      ]
     },
     "metadata": {},
     "output_type": "display_data"
    },
    {
     "name": "stdout",
     "output_type": "stream",
     "text": [
      "Scoring History: \n"
     ]
    },
    {
     "data": {
      "text/html": [
       "<div style=\"overflow:auto\"><table style=\"width:50%\"><tr><td><b></b></td>\n",
       "<td><b>timestamp</b></td>\n",
       "<td><b>duration</b></td>\n",
       "<td><b>number_of_trees</b></td>\n",
       "<td><b>training_rmse</b></td>\n",
       "<td><b>training_mae</b></td>\n",
       "<td><b>training_deviance</b></td></tr>\n",
       "<tr><td></td>\n",
       "<td>2019-04-15 14:21:30</td>\n",
       "<td>20.756 sec</td>\n",
       "<td>0.0</td>\n",
       "<td>181.3823804</td>\n",
       "<td>142.3998489</td>\n",
       "<td>32899.5679309</td></tr>\n",
       "<tr><td></td>\n",
       "<td>2019-04-15 14:21:30</td>\n",
       "<td>20.816 sec</td>\n",
       "<td>5.0</td>\n",
       "<td>110.2175989</td>\n",
       "<td>86.0947452</td>\n",
       "<td>12147.9191000</td></tr>\n",
       "<tr><td></td>\n",
       "<td>2019-04-15 14:21:31</td>\n",
       "<td>20.872 sec</td>\n",
       "<td>10.0</td>\n",
       "<td>66.3889144</td>\n",
       "<td>51.7557333</td>\n",
       "<td>4407.4879592</td></tr>\n",
       "<tr><td></td>\n",
       "<td>2019-04-15 14:21:31</td>\n",
       "<td>20.929 sec</td>\n",
       "<td>15.0</td>\n",
       "<td>40.2330785</td>\n",
       "<td>31.2923802</td>\n",
       "<td>1618.7006093</td></tr>\n",
       "<tr><td></td>\n",
       "<td>2019-04-15 14:21:31</td>\n",
       "<td>20.990 sec</td>\n",
       "<td>20.0</td>\n",
       "<td>24.3563616</td>\n",
       "<td>18.8857236</td>\n",
       "<td>593.2323487</td></tr>\n",
       "<tr><td>---</td>\n",
       "<td>---</td>\n",
       "<td>---</td>\n",
       "<td>---</td>\n",
       "<td>---</td>\n",
       "<td>---</td>\n",
       "<td>---</td></tr>\n",
       "<tr><td></td>\n",
       "<td>2019-04-15 14:21:34</td>\n",
       "<td>24.105 sec</td>\n",
       "<td>325.0</td>\n",
       "<td>1.9341106</td>\n",
       "<td>1.3611197</td>\n",
       "<td>3.7407840</td></tr>\n",
       "<tr><td></td>\n",
       "<td>2019-04-15 14:21:34</td>\n",
       "<td>24.153 sec</td>\n",
       "<td>330.0</td>\n",
       "<td>1.9193177</td>\n",
       "<td>1.3511207</td>\n",
       "<td>3.6837805</td></tr>\n",
       "<tr><td></td>\n",
       "<td>2019-04-15 14:21:34</td>\n",
       "<td>24.203 sec</td>\n",
       "<td>335.0</td>\n",
       "<td>1.9035137</td>\n",
       "<td>1.3407045</td>\n",
       "<td>3.6233646</td></tr>\n",
       "<tr><td></td>\n",
       "<td>2019-04-15 14:21:34</td>\n",
       "<td>24.251 sec</td>\n",
       "<td>340.0</td>\n",
       "<td>1.8899520</td>\n",
       "<td>1.3326455</td>\n",
       "<td>3.5719187</td></tr>\n",
       "<tr><td></td>\n",
       "<td>2019-04-15 14:21:34</td>\n",
       "<td>24.264 sec</td>\n",
       "<td>341.0</td>\n",
       "<td>1.8858786</td>\n",
       "<td>1.3296104</td>\n",
       "<td>3.5565379</td></tr></table></div>"
      ],
      "text/plain": [
       "     timestamp            duration    number_of_trees    training_rmse       training_mae        training_deviance\n",
       "---  -------------------  ----------  -----------------  ------------------  ------------------  -------------------\n",
       "     2019-04-15 14:21:30  20.756 sec  0.0                181.38238043116908  142.3998489274107   32899.56793087735\n",
       "     2019-04-15 14:21:30  20.816 sec  5.0                110.21759886679122  86.09474517481601   12147.919099960898\n",
       "     2019-04-15 14:21:31  20.872 sec  10.0               66.38891442973326   51.75573332207244   4407.487959158445\n",
       "     2019-04-15 14:21:31  20.929 sec  15.0               40.23307854575903   31.292380169803113  1618.7006092692152\n",
       "     2019-04-15 14:21:31  20.990 sec  20.0               24.35636156465229   18.88572358846376   593.2323486680714\n",
       "---  ---                  ---         ---                ---                 ---                 ---\n",
       "     2019-04-15 14:21:34  24.105 sec  325.0              1.9341106375542796  1.3611197208141017  3.740783958300622\n",
       "     2019-04-15 14:21:34  24.153 sec  330.0              1.9193177271714523  1.351120712495905   3.6837805378345894\n",
       "     2019-04-15 14:21:34  24.203 sec  335.0              1.9035137469198629  1.3407044683396216  3.6233645847128955\n",
       "     2019-04-15 14:21:34  24.251 sec  340.0              1.8899520485955081  1.3326455364679535  3.5719187459903576\n",
       "     2019-04-15 14:21:34  24.264 sec  341.0              1.8858785610063096  1.329610430616059   3.556537946863229"
      ]
     },
     "metadata": {},
     "output_type": "display_data"
    },
    {
     "name": "stdout",
     "output_type": "stream",
     "text": [
      "\n",
      "See the whole table with table.as_data_frame()\n",
      "Variable Importances: \n"
     ]
    },
    {
     "data": {
      "text/html": [
       "<div style=\"overflow:auto\"><table style=\"width:50%\"><tr><td><b>variable</b></td>\n",
       "<td><b>relative_importance</b></td>\n",
       "<td><b>scaled_importance</b></td>\n",
       "<td><b>percentage</b></td></tr>\n",
       "<tr><td>registered</td>\n",
       "<td>2130546048.0000000</td>\n",
       "<td>1.0</td>\n",
       "<td>0.7697801</td></tr>\n",
       "<tr><td>casual</td>\n",
       "<td>372109920.0000000</td>\n",
       "<td>0.1746547</td>\n",
       "<td>0.1344457</td></tr>\n",
       "<tr><td>hr</td>\n",
       "<td>180179040.0000000</td>\n",
       "<td>0.0845694</td>\n",
       "<td>0.0650999</td></tr>\n",
       "<tr><td>atemp</td>\n",
       "<td>28849512.0000000</td>\n",
       "<td>0.0135409</td>\n",
       "<td>0.0104235</td></tr>\n",
       "<tr><td>instant</td>\n",
       "<td>17118302.0000000</td>\n",
       "<td>0.0080347</td>\n",
       "<td>0.0061850</td></tr>\n",
       "<tr><td>workingday</td>\n",
       "<td>13428660.0000000</td>\n",
       "<td>0.0063029</td>\n",
       "<td>0.0048519</td></tr>\n",
       "<tr><td>dteday</td>\n",
       "<td>11749982.0000000</td>\n",
       "<td>0.0055150</td>\n",
       "<td>0.0042453</td></tr>\n",
       "<tr><td>weekday</td>\n",
       "<td>7328908.0</td>\n",
       "<td>0.0034399</td>\n",
       "<td>0.0026480</td></tr>\n",
       "<tr><td>season</td>\n",
       "<td>1932199.3750000</td>\n",
       "<td>0.0009069</td>\n",
       "<td>0.0006981</td></tr>\n",
       "<tr><td>weathersit</td>\n",
       "<td>1685819.1250000</td>\n",
       "<td>0.0007913</td>\n",
       "<td>0.0006091</td></tr>\n",
       "<tr><td>temp</td>\n",
       "<td>1248312.0</td>\n",
       "<td>0.0005859</td>\n",
       "<td>0.0004510</td></tr>\n",
       "<tr><td>hum</td>\n",
       "<td>1161755.2500000</td>\n",
       "<td>0.0005453</td>\n",
       "<td>0.0004197</td></tr>\n",
       "<tr><td>mnth</td>\n",
       "<td>240136.7968750</td>\n",
       "<td>0.0001127</td>\n",
       "<td>0.0000868</td></tr>\n",
       "<tr><td>windspeed</td>\n",
       "<td>70676.2656250</td>\n",
       "<td>0.0000332</td>\n",
       "<td>0.0000255</td></tr>\n",
       "<tr><td>yr</td>\n",
       "<td>56604.1523438</td>\n",
       "<td>0.0000266</td>\n",
       "<td>0.0000205</td></tr>\n",
       "<tr><td>holiday</td>\n",
       "<td>27433.5449219</td>\n",
       "<td>0.0000129</td>\n",
       "<td>0.0000099</td></tr></table></div>"
      ],
      "text/plain": [
       "variable    relative_importance    scaled_importance    percentage\n",
       "----------  ---------------------  -------------------  ------------\n",
       "registered  2.13055e+09            1                    0.76978\n",
       "casual      3.7211e+08             0.174655             0.134446\n",
       "hr          1.80179e+08            0.0845694            0.0650999\n",
       "atemp       2.88495e+07            0.0135409            0.0104235\n",
       "instant     1.71183e+07            0.0080347            0.00618495\n",
       "workingday  1.34287e+07            0.00630292           0.00485186\n",
       "dteday      1.175e+07              0.00551501           0.00424534\n",
       "weekday     7.32891e+06            0.00343992           0.00264798\n",
       "season      1.9322e+06             0.000906903          0.000698116\n",
       "weathersit  1.68582e+06            0.000791262          0.000609097\n",
       "temp        1.24831e+06            0.000585912          0.000451023\n",
       "hum         1.16176e+06            0.000545285          0.00041975\n",
       "mnth        240137                 0.000112711          8.6763e-05\n",
       "windspeed   70676.3                3.31728e-05          2.55358e-05\n",
       "yr          56604.2                2.65679e-05          2.04514e-05\n",
       "holiday     27433.5                1.28763e-05          9.91192e-06"
      ]
     },
     "metadata": {},
     "output_type": "display_data"
    },
    {
     "data": {
      "text/plain": []
     },
     "execution_count": 64,
     "metadata": {},
     "output_type": "execute_result"
    }
   ],
   "source": [
    "aml.leader"
   ]
  },
  {
   "cell_type": "code",
   "execution_count": 65,
   "metadata": {},
   "outputs": [
    {
     "data": {
      "text/plain": [
       "'gbm'"
      ]
     },
     "execution_count": 65,
     "metadata": {},
     "output_type": "execute_result"
    }
   ],
   "source": [
    "aml.leader.algo"
   ]
  },
  {
   "cell_type": "markdown",
   "metadata": {},
   "source": [
    "## Ensemble Exploration"
   ]
  },
  {
   "cell_type": "code",
   "execution_count": 66,
   "metadata": {},
   "outputs": [
    {
     "data": {
      "text/html": [
       "<div>\n",
       "<style scoped>\n",
       "    .dataframe tbody tr th:only-of-type {\n",
       "        vertical-align: middle;\n",
       "    }\n",
       "\n",
       "    .dataframe tbody tr th {\n",
       "        vertical-align: top;\n",
       "    }\n",
       "\n",
       "    .dataframe thead th {\n",
       "        text-align: right;\n",
       "    }\n",
       "</style>\n",
       "<table border=\"1\" class=\"dataframe\">\n",
       "  <thead>\n",
       "    <tr style=\"text-align: right;\">\n",
       "      <th></th>\n",
       "      <th>model_id</th>\n",
       "      <th>mean_residual_deviance</th>\n",
       "      <th>rmse</th>\n",
       "      <th>mse</th>\n",
       "      <th>mae</th>\n",
       "      <th>rmsle</th>\n",
       "    </tr>\n",
       "  </thead>\n",
       "  <tbody>\n",
       "    <tr>\n",
       "      <th>0</th>\n",
       "      <td>GBM_2_AutoML_20190415_140606</td>\n",
       "      <td>13.659469</td>\n",
       "      <td>3.695872</td>\n",
       "      <td>13.659469</td>\n",
       "      <td>2.236373</td>\n",
       "      <td>0.050300</td>\n",
       "    </tr>\n",
       "    <tr>\n",
       "      <th>1</th>\n",
       "      <td>GBM_1_AutoML_20190415_140606</td>\n",
       "      <td>14.751613</td>\n",
       "      <td>3.840783</td>\n",
       "      <td>14.751613</td>\n",
       "      <td>2.461372</td>\n",
       "      <td>0.074370</td>\n",
       "    </tr>\n",
       "    <tr>\n",
       "      <th>2</th>\n",
       "      <td>XGBoost_3_AutoML_20190415_140606</td>\n",
       "      <td>20.576779</td>\n",
       "      <td>4.536163</td>\n",
       "      <td>20.576779</td>\n",
       "      <td>2.981534</td>\n",
       "      <td>NaN</td>\n",
       "    </tr>\n",
       "    <tr>\n",
       "      <th>3</th>\n",
       "      <td>DeepLearning_1_AutoML_20190415_140606</td>\n",
       "      <td>22.106920</td>\n",
       "      <td>4.701800</td>\n",
       "      <td>22.106920</td>\n",
       "      <td>3.045435</td>\n",
       "      <td>NaN</td>\n",
       "    </tr>\n",
       "    <tr>\n",
       "      <th>4</th>\n",
       "      <td>GBM_3_AutoML_20190415_140606</td>\n",
       "      <td>24.401839</td>\n",
       "      <td>4.939822</td>\n",
       "      <td>24.401839</td>\n",
       "      <td>2.999746</td>\n",
       "      <td>0.061645</td>\n",
       "    </tr>\n",
       "    <tr>\n",
       "      <th>5</th>\n",
       "      <td>XGBoost_1_AutoML_20190415_132427</td>\n",
       "      <td>27.199157</td>\n",
       "      <td>5.215281</td>\n",
       "      <td>27.199157</td>\n",
       "      <td>3.061465</td>\n",
       "      <td>0.058628</td>\n",
       "    </tr>\n",
       "    <tr>\n",
       "      <th>6</th>\n",
       "      <td>XGBoost_1_AutoML_20190415_140606</td>\n",
       "      <td>28.145906</td>\n",
       "      <td>5.305272</td>\n",
       "      <td>28.145906</td>\n",
       "      <td>3.033973</td>\n",
       "      <td>0.054998</td>\n",
       "    </tr>\n",
       "    <tr>\n",
       "      <th>7</th>\n",
       "      <td>GBM_5_AutoML_20190415_140606</td>\n",
       "      <td>32.251546</td>\n",
       "      <td>5.679045</td>\n",
       "      <td>32.251546</td>\n",
       "      <td>2.527056</td>\n",
       "      <td>0.033433</td>\n",
       "    </tr>\n",
       "    <tr>\n",
       "      <th>8</th>\n",
       "      <td>XGBoost_2_AutoML_20190415_140606</td>\n",
       "      <td>35.304926</td>\n",
       "      <td>5.941795</td>\n",
       "      <td>35.304926</td>\n",
       "      <td>3.426821</td>\n",
       "      <td>0.077240</td>\n",
       "    </tr>\n",
       "    <tr>\n",
       "      <th>9</th>\n",
       "      <td>GLM_grid_1_AutoML_20190415_140606_model_1</td>\n",
       "      <td>38.387049</td>\n",
       "      <td>6.195728</td>\n",
       "      <td>38.387049</td>\n",
       "      <td>4.451969</td>\n",
       "      <td>NaN</td>\n",
       "    </tr>\n",
       "    <tr>\n",
       "      <th>10</th>\n",
       "      <td>XGBoost_2_AutoML_20190415_132427</td>\n",
       "      <td>43.973221</td>\n",
       "      <td>6.631231</td>\n",
       "      <td>43.973221</td>\n",
       "      <td>3.814462</td>\n",
       "      <td>NaN</td>\n",
       "    </tr>\n",
       "    <tr>\n",
       "      <th>11</th>\n",
       "      <td>DRF_1_AutoML_20190415_140606</td>\n",
       "      <td>46.040666</td>\n",
       "      <td>6.785327</td>\n",
       "      <td>46.040666</td>\n",
       "      <td>3.669118</td>\n",
       "      <td>0.077072</td>\n",
       "    </tr>\n",
       "    <tr>\n",
       "      <th>12</th>\n",
       "      <td>GBM_4_AutoML_20190415_140606</td>\n",
       "      <td>53.895230</td>\n",
       "      <td>7.341337</td>\n",
       "      <td>53.895230</td>\n",
       "      <td>4.276671</td>\n",
       "      <td>0.071256</td>\n",
       "    </tr>\n",
       "    <tr>\n",
       "      <th>13</th>\n",
       "      <td>StackedEnsemble_BestOfFamily_AutoML_20190415_1...</td>\n",
       "      <td>61.476120</td>\n",
       "      <td>7.840671</td>\n",
       "      <td>61.476120</td>\n",
       "      <td>5.587008</td>\n",
       "      <td>0.300751</td>\n",
       "    </tr>\n",
       "    <tr>\n",
       "      <th>14</th>\n",
       "      <td>XGBoost_3_AutoML_20190415_132427</td>\n",
       "      <td>139.333790</td>\n",
       "      <td>11.803973</td>\n",
       "      <td>139.333790</td>\n",
       "      <td>7.610132</td>\n",
       "      <td>0.177492</td>\n",
       "    </tr>\n",
       "    <tr>\n",
       "      <th>15</th>\n",
       "      <td>StackedEnsemble_AllModels_AutoML_20190415_132427</td>\n",
       "      <td>201.846196</td>\n",
       "      <td>14.207259</td>\n",
       "      <td>201.846196</td>\n",
       "      <td>10.643510</td>\n",
       "      <td>0.456550</td>\n",
       "    </tr>\n",
       "    <tr>\n",
       "      <th>16</th>\n",
       "      <td>XRT_1_AutoML_20190415_140606</td>\n",
       "      <td>268.784270</td>\n",
       "      <td>16.394641</td>\n",
       "      <td>268.784270</td>\n",
       "      <td>8.910786</td>\n",
       "      <td>0.149534</td>\n",
       "    </tr>\n",
       "    <tr>\n",
       "      <th>17</th>\n",
       "      <td>StackedEnsemble_BestOfFamily_AutoML_20190415_1...</td>\n",
       "      <td>1169.735475</td>\n",
       "      <td>34.201396</td>\n",
       "      <td>1169.735475</td>\n",
       "      <td>26.706882</td>\n",
       "      <td>0.767977</td>\n",
       "    </tr>\n",
       "    <tr>\n",
       "      <th>18</th>\n",
       "      <td>GLM_grid_1_AutoML_20190415_132427_model_1</td>\n",
       "      <td>32892.826829</td>\n",
       "      <td>181.363797</td>\n",
       "      <td>32892.826829</td>\n",
       "      <td>142.384496</td>\n",
       "      <td>1.570107</td>\n",
       "    </tr>\n",
       "  </tbody>\n",
       "</table>\n",
       "</div>"
      ],
      "text/plain": [
       "                                             model_id  mean_residual_deviance  \\\n",
       "0                        GBM_2_AutoML_20190415_140606               13.659469   \n",
       "1                        GBM_1_AutoML_20190415_140606               14.751613   \n",
       "2                    XGBoost_3_AutoML_20190415_140606               20.576779   \n",
       "3               DeepLearning_1_AutoML_20190415_140606               22.106920   \n",
       "4                        GBM_3_AutoML_20190415_140606               24.401839   \n",
       "5                    XGBoost_1_AutoML_20190415_132427               27.199157   \n",
       "6                    XGBoost_1_AutoML_20190415_140606               28.145906   \n",
       "7                        GBM_5_AutoML_20190415_140606               32.251546   \n",
       "8                    XGBoost_2_AutoML_20190415_140606               35.304926   \n",
       "9           GLM_grid_1_AutoML_20190415_140606_model_1               38.387049   \n",
       "10                   XGBoost_2_AutoML_20190415_132427               43.973221   \n",
       "11                       DRF_1_AutoML_20190415_140606               46.040666   \n",
       "12                       GBM_4_AutoML_20190415_140606               53.895230   \n",
       "13  StackedEnsemble_BestOfFamily_AutoML_20190415_1...               61.476120   \n",
       "14                   XGBoost_3_AutoML_20190415_132427              139.333790   \n",
       "15   StackedEnsemble_AllModels_AutoML_20190415_132427              201.846196   \n",
       "16                       XRT_1_AutoML_20190415_140606              268.784270   \n",
       "17  StackedEnsemble_BestOfFamily_AutoML_20190415_1...             1169.735475   \n",
       "18          GLM_grid_1_AutoML_20190415_132427_model_1            32892.826829   \n",
       "\n",
       "          rmse           mse         mae     rmsle  \n",
       "0     3.695872     13.659469    2.236373  0.050300  \n",
       "1     3.840783     14.751613    2.461372  0.074370  \n",
       "2     4.536163     20.576779    2.981534       NaN  \n",
       "3     4.701800     22.106920    3.045435       NaN  \n",
       "4     4.939822     24.401839    2.999746  0.061645  \n",
       "5     5.215281     27.199157    3.061465  0.058628  \n",
       "6     5.305272     28.145906    3.033973  0.054998  \n",
       "7     5.679045     32.251546    2.527056  0.033433  \n",
       "8     5.941795     35.304926    3.426821  0.077240  \n",
       "9     6.195728     38.387049    4.451969       NaN  \n",
       "10    6.631231     43.973221    3.814462       NaN  \n",
       "11    6.785327     46.040666    3.669118  0.077072  \n",
       "12    7.341337     53.895230    4.276671  0.071256  \n",
       "13    7.840671     61.476120    5.587008  0.300751  \n",
       "14   11.803973    139.333790    7.610132  0.177492  \n",
       "15   14.207259    201.846196   10.643510  0.456550  \n",
       "16   16.394641    268.784270    8.910786  0.149534  \n",
       "17   34.201396   1169.735475   26.706882  0.767977  \n",
       "18  181.363797  32892.826829  142.384496  1.570107  "
      ]
     },
     "execution_count": 66,
     "metadata": {},
     "output_type": "execute_result"
    }
   ],
   "source": [
    "aml_leaderboard_df=aml.leaderboard.as_data_frame()\n",
    "aml_leaderboard_df"
   ]
  },
  {
   "cell_type": "markdown",
   "metadata": {},
   "source": [
    "##### As per the rmse metric that \"The smaller the RMSE value, the better the model\".\n",
    "##### As per the mse metric that \"The smaller the MSE value, the better the model\".\n",
    "So, In our case GBM_2_AutoML_20190408_171007 has the smallest rmse = 3.224737 and mse = 10.398930 that is why it is our best model."
   ]
  },
  {
   "cell_type": "markdown",
   "metadata": {},
   "source": [
    "## Getting Models"
   ]
  },
  {
   "cell_type": "markdown",
   "metadata": {},
   "source": [
    "### Parameters for GBM_2_AutoML_20190408_171007"
   ]
  },
  {
   "cell_type": "code",
   "execution_count": 68,
   "metadata": {},
   "outputs": [],
   "source": [
    "aml_leaderboard_df=aml.leaderboard.as_data_frame()\n",
    "model_set=aml_leaderboard_df['model_id']\n",
    "mod_best=h2o.get_model(model_set[0])"
   ]
  },
  {
   "cell_type": "code",
   "execution_count": 69,
   "metadata": {},
   "outputs": [
    {
     "data": {
      "text/plain": [
       "{'model_id': {'default': None,\n",
       "  'actual': {'__meta': {'schema_version': 3,\n",
       "    'schema_name': 'ModelKeyV3',\n",
       "    'schema_type': 'Key<Model>'},\n",
       "   'name': 'GBM_2_AutoML_20190415_140606',\n",
       "   'type': 'Key<Model>',\n",
       "   'URL': '/3/Models/GBM_2_AutoML_20190415_140606'}},\n",
       " 'training_frame': {'default': None,\n",
       "  'actual': {'__meta': {'schema_version': 3,\n",
       "    'schema_name': 'FrameKeyV3',\n",
       "    'schema_type': 'Key<Frame>'},\n",
       "   'name': 'automl_training_hour.hex',\n",
       "   'type': 'Key<Frame>',\n",
       "   'URL': '/3/Frames/automl_training_hour.hex'}},\n",
       " 'validation_frame': {'default': None, 'actual': None},\n",
       " 'nfolds': {'default': 0, 'actual': 5},\n",
       " 'keep_cross_validation_models': {'default': True, 'actual': False},\n",
       " 'keep_cross_validation_predictions': {'default': False, 'actual': True},\n",
       " 'keep_cross_validation_fold_assignment': {'default': False, 'actual': False},\n",
       " 'score_each_iteration': {'default': False, 'actual': False},\n",
       " 'score_tree_interval': {'default': 0, 'actual': 5},\n",
       " 'fold_assignment': {'default': 'AUTO', 'actual': 'Modulo'},\n",
       " 'fold_column': {'default': None, 'actual': None},\n",
       " 'response_column': {'default': None,\n",
       "  'actual': {'__meta': {'schema_version': 3,\n",
       "    'schema_name': 'ColSpecifierV3',\n",
       "    'schema_type': 'VecSpecifier'},\n",
       "   'column_name': 'cnt',\n",
       "   'is_member_of_frames': None}},\n",
       " 'ignored_columns': {'default': None, 'actual': []},\n",
       " 'ignore_const_cols': {'default': True, 'actual': True},\n",
       " 'offset_column': {'default': None, 'actual': None},\n",
       " 'weights_column': {'default': None, 'actual': None},\n",
       " 'balance_classes': {'default': False, 'actual': False},\n",
       " 'class_sampling_factors': {'default': None, 'actual': None},\n",
       " 'max_after_balance_size': {'default': 5.0, 'actual': 5.0},\n",
       " 'max_confusion_matrix_size': {'default': 20, 'actual': 20},\n",
       " 'max_hit_ratio_k': {'default': 0, 'actual': 0},\n",
       " 'ntrees': {'default': 50, 'actual': 135},\n",
       " 'max_depth': {'default': 5, 'actual': 15},\n",
       " 'min_rows': {'default': 10.0, 'actual': 100.0},\n",
       " 'nbins': {'default': 20, 'actual': 20},\n",
       " 'nbins_top_level': {'default': 1024, 'actual': 1024},\n",
       " 'nbins_cats': {'default': 1024, 'actual': 1024},\n",
       " 'r2_stopping': {'default': 1.7976931348623157e+308,\n",
       "  'actual': 1.7976931348623157e+308},\n",
       " 'stopping_rounds': {'default': 0, 'actual': 0},\n",
       " 'stopping_metric': {'default': 'AUTO', 'actual': 'deviance'},\n",
       " 'stopping_tolerance': {'default': 0.001, 'actual': 0.007585559310450486},\n",
       " 'max_runtime_secs': {'default': 0.0, 'actual': 0.0},\n",
       " 'seed': {'default': -1, 'actual': -1958967086463687931},\n",
       " 'build_tree_one_node': {'default': False, 'actual': False},\n",
       " 'learn_rate': {'default': 0.1, 'actual': 0.1},\n",
       " 'learn_rate_annealing': {'default': 1.0, 'actual': 1.0},\n",
       " 'distribution': {'default': 'AUTO', 'actual': 'gaussian'},\n",
       " 'quantile_alpha': {'default': 0.5, 'actual': 0.5},\n",
       " 'tweedie_power': {'default': 1.5, 'actual': 1.5},\n",
       " 'huber_alpha': {'default': 0.9, 'actual': 0.9},\n",
       " 'checkpoint': {'default': None, 'actual': None},\n",
       " 'sample_rate': {'default': 1.0, 'actual': 0.8},\n",
       " 'sample_rate_per_class': {'default': None, 'actual': None},\n",
       " 'col_sample_rate': {'default': 1.0, 'actual': 0.8},\n",
       " 'col_sample_rate_change_per_level': {'default': 1.0, 'actual': 1.0},\n",
       " 'col_sample_rate_per_tree': {'default': 1.0, 'actual': 0.8},\n",
       " 'min_split_improvement': {'default': 1e-05, 'actual': 1e-05},\n",
       " 'histogram_type': {'default': 'AUTO', 'actual': 'AUTO'},\n",
       " 'max_abs_leafnode_pred': {'default': 1.7976931348623157e+308,\n",
       "  'actual': 1.7976931348623157e+308},\n",
       " 'pred_noise_bandwidth': {'default': 0.0, 'actual': 0.0},\n",
       " 'categorical_encoding': {'default': 'AUTO', 'actual': 'AUTO'},\n",
       " 'calibrate_model': {'default': False, 'actual': False},\n",
       " 'calibration_frame': {'default': None, 'actual': None},\n",
       " 'custom_metric_func': {'default': None, 'actual': None},\n",
       " 'export_checkpoints_dir': {'default': None, 'actual': None},\n",
       " 'monotone_constraints': {'default': None, 'actual': None},\n",
       " 'check_constant_response': {'default': True, 'actual': True}}"
      ]
     },
     "execution_count": 69,
     "metadata": {},
     "output_type": "execute_result"
    }
   ],
   "source": [
    "mod_best.params"
   ]
  },
  {
   "cell_type": "code",
   "execution_count": 70,
   "metadata": {},
   "outputs": [
    {
     "name": "stdout",
     "output_type": "stream",
     "text": [
      "Model Details\n",
      "=============\n",
      "H2OGradientBoostingEstimator :  Gradient Boosting Machine\n",
      "Model Key:  GBM_2_AutoML_20190415_140606\n",
      "\n",
      "\n",
      "ModelMetricsRegression: gbm\n",
      "** Reported on train data. **\n",
      "\n",
      "MSE: 3.556537946863229\n",
      "RMSE: 1.8858785610063096\n",
      "MAE: 1.329610430616059\n",
      "RMSLE: 0.03778323991165253\n",
      "Mean Residual Deviance: 3.556537946863229\n",
      "\n",
      "ModelMetricsRegression: gbm\n",
      "** Reported on cross-validation data. **\n",
      "\n",
      "MSE: 13.659468681676746\n",
      "RMSE: 3.6958718432430455\n",
      "MAE: 2.2363725436260253\n",
      "RMSLE: 0.05030042133333145\n",
      "Mean Residual Deviance: 13.659468681676746\n",
      "Cross-Validation Metrics Summary: \n"
     ]
    },
    {
     "data": {
      "text/html": [
       "<div style=\"overflow:auto\"><table style=\"width:50%\"><tr><td><b></b></td>\n",
       "<td><b>mean</b></td>\n",
       "<td><b>sd</b></td>\n",
       "<td><b>cv_1_valid</b></td>\n",
       "<td><b>cv_2_valid</b></td>\n",
       "<td><b>cv_3_valid</b></td>\n",
       "<td><b>cv_4_valid</b></td>\n",
       "<td><b>cv_5_valid</b></td></tr>\n",
       "<tr><td>mae</td>\n",
       "<td>2.2363746</td>\n",
       "<td>0.0267098</td>\n",
       "<td>2.2271378</td>\n",
       "<td>2.2134018</td>\n",
       "<td>2.183275</td>\n",
       "<td>2.2846265</td>\n",
       "<td>2.2734323</td></tr>\n",
       "<tr><td>mean_residual_deviance</td>\n",
       "<td>13.659458</td>\n",
       "<td>0.8520871</td>\n",
       "<td>12.272043</td>\n",
       "<td>12.453506</td>\n",
       "<td>15.115801</td>\n",
       "<td>14.974274</td>\n",
       "<td>13.4816675</td></tr>\n",
       "<tr><td>mse</td>\n",
       "<td>13.659458</td>\n",
       "<td>0.8520871</td>\n",
       "<td>12.272043</td>\n",
       "<td>12.453506</td>\n",
       "<td>15.115801</td>\n",
       "<td>14.974274</td>\n",
       "<td>13.4816675</td></tr>\n",
       "<tr><td>r2</td>\n",
       "<td>0.9995847</td>\n",
       "<td>0.0000267</td>\n",
       "<td>0.9996275</td>\n",
       "<td>0.9996244</td>\n",
       "<td>0.9995379</td>\n",
       "<td>0.9995458</td>\n",
       "<td>0.999588</td></tr>\n",
       "<tr><td>residual_deviance</td>\n",
       "<td>13.659458</td>\n",
       "<td>0.8520871</td>\n",
       "<td>12.272043</td>\n",
       "<td>12.453506</td>\n",
       "<td>15.115801</td>\n",
       "<td>14.974274</td>\n",
       "<td>13.4816675</td></tr>\n",
       "<tr><td>rmse</td>\n",
       "<td>3.6922808</td>\n",
       "<td>0.1151528</td>\n",
       "<td>3.5031476</td>\n",
       "<td>3.5289526</td>\n",
       "<td>3.8879044</td>\n",
       "<td>3.8696606</td>\n",
       "<td>3.671739</td></tr>\n",
       "<tr><td>rmsle</td>\n",
       "<td>0.0501792</td>\n",
       "<td>0.0024688</td>\n",
       "<td>0.0524656</td>\n",
       "<td>0.0519851</td>\n",
       "<td>0.0433970</td>\n",
       "<td>0.0503318</td>\n",
       "<td>0.0527167</td></tr></table></div>"
      ],
      "text/plain": [
       "                        mean       sd           cv_1_valid    cv_2_valid    cv_3_valid    cv_4_valid    cv_5_valid\n",
       "----------------------  ---------  -----------  ------------  ------------  ------------  ------------  ------------\n",
       "mae                     2.23637    0.0267098    2.22714       2.2134        2.18328       2.28463       2.27343\n",
       "mean_residual_deviance  13.6595    0.852087     12.272        12.4535       15.1158       14.9743       13.4817\n",
       "mse                     13.6595    0.852087     12.272        12.4535       15.1158       14.9743       13.4817\n",
       "r2                      0.999585   2.66818e-05  0.999628      0.999624      0.999538      0.999546      0.999588\n",
       "residual_deviance       13.6595    0.852087     12.272        12.4535       15.1158       14.9743       13.4817\n",
       "rmse                    3.69228    0.115153     3.50315       3.52895       3.8879        3.86966       3.67174\n",
       "rmsle                   0.0501792  0.0024688    0.0524656     0.0519851     0.043397      0.0503318     0.0527167"
      ]
     },
     "metadata": {},
     "output_type": "display_data"
    },
    {
     "name": "stdout",
     "output_type": "stream",
     "text": [
      "Scoring History: \n"
     ]
    },
    {
     "data": {
      "text/html": [
       "<div style=\"overflow:auto\"><table style=\"width:50%\"><tr><td><b></b></td>\n",
       "<td><b>timestamp</b></td>\n",
       "<td><b>duration</b></td>\n",
       "<td><b>number_of_trees</b></td>\n",
       "<td><b>training_rmse</b></td>\n",
       "<td><b>training_mae</b></td>\n",
       "<td><b>training_deviance</b></td></tr>\n",
       "<tr><td></td>\n",
       "<td>2019-04-15 14:21:30</td>\n",
       "<td>20.756 sec</td>\n",
       "<td>0.0</td>\n",
       "<td>181.3823804</td>\n",
       "<td>142.3998489</td>\n",
       "<td>32899.5679309</td></tr>\n",
       "<tr><td></td>\n",
       "<td>2019-04-15 14:21:30</td>\n",
       "<td>20.816 sec</td>\n",
       "<td>5.0</td>\n",
       "<td>110.2175989</td>\n",
       "<td>86.0947452</td>\n",
       "<td>12147.9191000</td></tr>\n",
       "<tr><td></td>\n",
       "<td>2019-04-15 14:21:31</td>\n",
       "<td>20.872 sec</td>\n",
       "<td>10.0</td>\n",
       "<td>66.3889144</td>\n",
       "<td>51.7557333</td>\n",
       "<td>4407.4879592</td></tr>\n",
       "<tr><td></td>\n",
       "<td>2019-04-15 14:21:31</td>\n",
       "<td>20.929 sec</td>\n",
       "<td>15.0</td>\n",
       "<td>40.2330785</td>\n",
       "<td>31.2923802</td>\n",
       "<td>1618.7006093</td></tr>\n",
       "<tr><td></td>\n",
       "<td>2019-04-15 14:21:31</td>\n",
       "<td>20.990 sec</td>\n",
       "<td>20.0</td>\n",
       "<td>24.3563616</td>\n",
       "<td>18.8857236</td>\n",
       "<td>593.2323487</td></tr>\n",
       "<tr><td>---</td>\n",
       "<td>---</td>\n",
       "<td>---</td>\n",
       "<td>---</td>\n",
       "<td>---</td>\n",
       "<td>---</td>\n",
       "<td>---</td></tr>\n",
       "<tr><td></td>\n",
       "<td>2019-04-15 14:21:34</td>\n",
       "<td>24.105 sec</td>\n",
       "<td>325.0</td>\n",
       "<td>1.9341106</td>\n",
       "<td>1.3611197</td>\n",
       "<td>3.7407840</td></tr>\n",
       "<tr><td></td>\n",
       "<td>2019-04-15 14:21:34</td>\n",
       "<td>24.153 sec</td>\n",
       "<td>330.0</td>\n",
       "<td>1.9193177</td>\n",
       "<td>1.3511207</td>\n",
       "<td>3.6837805</td></tr>\n",
       "<tr><td></td>\n",
       "<td>2019-04-15 14:21:34</td>\n",
       "<td>24.203 sec</td>\n",
       "<td>335.0</td>\n",
       "<td>1.9035137</td>\n",
       "<td>1.3407045</td>\n",
       "<td>3.6233646</td></tr>\n",
       "<tr><td></td>\n",
       "<td>2019-04-15 14:21:34</td>\n",
       "<td>24.251 sec</td>\n",
       "<td>340.0</td>\n",
       "<td>1.8899520</td>\n",
       "<td>1.3326455</td>\n",
       "<td>3.5719187</td></tr>\n",
       "<tr><td></td>\n",
       "<td>2019-04-15 14:21:34</td>\n",
       "<td>24.264 sec</td>\n",
       "<td>341.0</td>\n",
       "<td>1.8858786</td>\n",
       "<td>1.3296104</td>\n",
       "<td>3.5565379</td></tr></table></div>"
      ],
      "text/plain": [
       "     timestamp            duration    number_of_trees    training_rmse       training_mae        training_deviance\n",
       "---  -------------------  ----------  -----------------  ------------------  ------------------  -------------------\n",
       "     2019-04-15 14:21:30  20.756 sec  0.0                181.38238043116908  142.3998489274107   32899.56793087735\n",
       "     2019-04-15 14:21:30  20.816 sec  5.0                110.21759886679122  86.09474517481601   12147.919099960898\n",
       "     2019-04-15 14:21:31  20.872 sec  10.0               66.38891442973326   51.75573332207244   4407.487959158445\n",
       "     2019-04-15 14:21:31  20.929 sec  15.0               40.23307854575903   31.292380169803113  1618.7006092692152\n",
       "     2019-04-15 14:21:31  20.990 sec  20.0               24.35636156465229   18.88572358846376   593.2323486680714\n",
       "---  ---                  ---         ---                ---                 ---                 ---\n",
       "     2019-04-15 14:21:34  24.105 sec  325.0              1.9341106375542796  1.3611197208141017  3.740783958300622\n",
       "     2019-04-15 14:21:34  24.153 sec  330.0              1.9193177271714523  1.351120712495905   3.6837805378345894\n",
       "     2019-04-15 14:21:34  24.203 sec  335.0              1.9035137469198629  1.3407044683396216  3.6233645847128955\n",
       "     2019-04-15 14:21:34  24.251 sec  340.0              1.8899520485955081  1.3326455364679535  3.5719187459903576\n",
       "     2019-04-15 14:21:34  24.264 sec  341.0              1.8858785610063096  1.329610430616059   3.556537946863229"
      ]
     },
     "metadata": {},
     "output_type": "display_data"
    },
    {
     "name": "stdout",
     "output_type": "stream",
     "text": [
      "\n",
      "See the whole table with table.as_data_frame()\n",
      "Variable Importances: \n"
     ]
    },
    {
     "data": {
      "text/html": [
       "<div style=\"overflow:auto\"><table style=\"width:50%\"><tr><td><b>variable</b></td>\n",
       "<td><b>relative_importance</b></td>\n",
       "<td><b>scaled_importance</b></td>\n",
       "<td><b>percentage</b></td></tr>\n",
       "<tr><td>registered</td>\n",
       "<td>2130546048.0000000</td>\n",
       "<td>1.0</td>\n",
       "<td>0.7697801</td></tr>\n",
       "<tr><td>casual</td>\n",
       "<td>372109920.0000000</td>\n",
       "<td>0.1746547</td>\n",
       "<td>0.1344457</td></tr>\n",
       "<tr><td>hr</td>\n",
       "<td>180179040.0000000</td>\n",
       "<td>0.0845694</td>\n",
       "<td>0.0650999</td></tr>\n",
       "<tr><td>atemp</td>\n",
       "<td>28849512.0000000</td>\n",
       "<td>0.0135409</td>\n",
       "<td>0.0104235</td></tr>\n",
       "<tr><td>instant</td>\n",
       "<td>17118302.0000000</td>\n",
       "<td>0.0080347</td>\n",
       "<td>0.0061850</td></tr>\n",
       "<tr><td>workingday</td>\n",
       "<td>13428660.0000000</td>\n",
       "<td>0.0063029</td>\n",
       "<td>0.0048519</td></tr>\n",
       "<tr><td>dteday</td>\n",
       "<td>11749982.0000000</td>\n",
       "<td>0.0055150</td>\n",
       "<td>0.0042453</td></tr>\n",
       "<tr><td>weekday</td>\n",
       "<td>7328908.0</td>\n",
       "<td>0.0034399</td>\n",
       "<td>0.0026480</td></tr>\n",
       "<tr><td>season</td>\n",
       "<td>1932199.3750000</td>\n",
       "<td>0.0009069</td>\n",
       "<td>0.0006981</td></tr>\n",
       "<tr><td>weathersit</td>\n",
       "<td>1685819.1250000</td>\n",
       "<td>0.0007913</td>\n",
       "<td>0.0006091</td></tr>\n",
       "<tr><td>temp</td>\n",
       "<td>1248312.0</td>\n",
       "<td>0.0005859</td>\n",
       "<td>0.0004510</td></tr>\n",
       "<tr><td>hum</td>\n",
       "<td>1161755.2500000</td>\n",
       "<td>0.0005453</td>\n",
       "<td>0.0004197</td></tr>\n",
       "<tr><td>mnth</td>\n",
       "<td>240136.7968750</td>\n",
       "<td>0.0001127</td>\n",
       "<td>0.0000868</td></tr>\n",
       "<tr><td>windspeed</td>\n",
       "<td>70676.2656250</td>\n",
       "<td>0.0000332</td>\n",
       "<td>0.0000255</td></tr>\n",
       "<tr><td>yr</td>\n",
       "<td>56604.1523438</td>\n",
       "<td>0.0000266</td>\n",
       "<td>0.0000205</td></tr>\n",
       "<tr><td>holiday</td>\n",
       "<td>27433.5449219</td>\n",
       "<td>0.0000129</td>\n",
       "<td>0.0000099</td></tr></table></div>"
      ],
      "text/plain": [
       "variable    relative_importance    scaled_importance    percentage\n",
       "----------  ---------------------  -------------------  ------------\n",
       "registered  2.13055e+09            1                    0.76978\n",
       "casual      3.7211e+08             0.174655             0.134446\n",
       "hr          1.80179e+08            0.0845694            0.0650999\n",
       "atemp       2.88495e+07            0.0135409            0.0104235\n",
       "instant     1.71183e+07            0.0080347            0.00618495\n",
       "workingday  1.34287e+07            0.00630292           0.00485186\n",
       "dteday      1.175e+07              0.00551501           0.00424534\n",
       "weekday     7.32891e+06            0.00343992           0.00264798\n",
       "season      1.9322e+06             0.000906903          0.000698116\n",
       "weathersit  1.68582e+06            0.000791262          0.000609097\n",
       "temp        1.24831e+06            0.000585912          0.000451023\n",
       "hum         1.16176e+06            0.000545285          0.00041975\n",
       "mnth        240137                 0.000112711          8.6763e-05\n",
       "windspeed   70676.3                3.31728e-05          2.55358e-05\n",
       "yr          56604.2                2.65679e-05          2.04514e-05\n",
       "holiday     27433.5                1.28763e-05          9.91192e-06"
      ]
     },
     "metadata": {},
     "output_type": "display_data"
    },
    {
     "name": "stdout",
     "output_type": "stream",
     "text": [
      "<bound method ModelBase.coef_norm of >\n"
     ]
    }
   ],
   "source": [
    "mods=mod_best.coef_norm\n",
    "print(mods)"
   ]
  },
  {
   "cell_type": "code",
   "execution_count": 143,
   "metadata": {},
   "outputs": [],
   "source": [
    "hy_parameter = mod_best.params\n",
    "n=run_id+'_hy_parameter_GBM_3_AutoML_20190415_140606.json'\n",
    "dict_to_json(hy_parameter,n)"
   ]
  },
  {
   "cell_type": "markdown",
   "metadata": {},
   "source": [
    "### Generating all the parameters for the models for json file in the below code"
   ]
  },
  {
   "cell_type": "code",
   "execution_count": 134,
   "metadata": {},
   "outputs": [],
   "source": [
    "aml_leaderboard_df=aml.leaderboard.as_data_frame()\n",
    "model_set=aml_leaderboard_df['model_id']\n",
    "mod_best=h2o.get_model(model_set[18])"
   ]
  },
  {
   "cell_type": "code",
   "execution_count": 135,
   "metadata": {},
   "outputs": [
    {
     "data": {
      "text/plain": [
       "{'model_id': {'default': None,\n",
       "  'actual': {'__meta': {'schema_version': 3,\n",
       "    'schema_name': 'ModelKeyV3',\n",
       "    'schema_type': 'Key<Model>'},\n",
       "   'name': 'GLM_grid_1_AutoML_20190415_132427_model_1',\n",
       "   'type': 'Key<Model>',\n",
       "   'URL': '/3/Models/GLM_grid_1_AutoML_20190415_132427_model_1'}},\n",
       " 'training_frame': {'default': None,\n",
       "  'actual': {'__meta': {'schema_version': 3,\n",
       "    'schema_name': 'FrameKeyV3',\n",
       "    'schema_type': 'Key<Frame>'},\n",
       "   'name': 'automl_training_hour.hex',\n",
       "   'type': 'Key<Frame>',\n",
       "   'URL': '/3/Frames/automl_training_hour.hex'}},\n",
       " 'validation_frame': {'default': None, 'actual': None},\n",
       " 'nfolds': {'default': 0, 'actual': 5},\n",
       " 'seed': {'default': -1, 'actual': 7300395046506625567},\n",
       " 'keep_cross_validation_models': {'default': True, 'actual': False},\n",
       " 'keep_cross_validation_predictions': {'default': False, 'actual': True},\n",
       " 'keep_cross_validation_fold_assignment': {'default': False, 'actual': False},\n",
       " 'fold_assignment': {'default': 'AUTO', 'actual': 'Modulo'},\n",
       " 'fold_column': {'default': None, 'actual': None},\n",
       " 'response_column': {'default': None,\n",
       "  'actual': {'__meta': {'schema_version': 3,\n",
       "    'schema_name': 'ColSpecifierV3',\n",
       "    'schema_type': 'VecSpecifier'},\n",
       "   'column_name': 'cnt',\n",
       "   'is_member_of_frames': None}},\n",
       " 'ignored_columns': {'default': None, 'actual': []},\n",
       " 'ignore_const_cols': {'default': True, 'actual': True},\n",
       " 'score_each_iteration': {'default': False, 'actual': False},\n",
       " 'offset_column': {'default': None, 'actual': None},\n",
       " 'weights_column': {'default': None, 'actual': None},\n",
       " 'family': {'default': 'gaussian', 'actual': 'gaussian'},\n",
       " 'tweedie_variance_power': {'default': 0.0, 'actual': 0.0},\n",
       " 'tweedie_link_power': {'default': 1.0, 'actual': 1.0},\n",
       " 'theta': {'default': 1e-10, 'actual': 1e-10},\n",
       " 'solver': {'default': 'AUTO', 'actual': 'COORDINATE_DESCENT'},\n",
       " 'alpha': {'default': None, 'actual': [0.0, 0.2, 0.4, 0.6, 0.8, 1.0]},\n",
       " 'lambda': {'default': None, 'actual': [17632.594052322154]},\n",
       " 'lambda_search': {'default': False, 'actual': True},\n",
       " 'early_stopping': {'default': True, 'actual': True},\n",
       " 'nlambdas': {'default': -1, 'actual': 30},\n",
       " 'standardize': {'default': True, 'actual': True},\n",
       " 'missing_values_handling': {'default': 'MeanImputation',\n",
       "  'actual': 'MeanImputation'},\n",
       " 'compute_p_values': {'default': False, 'actual': False},\n",
       " 'remove_collinear_columns': {'default': False, 'actual': False},\n",
       " 'intercept': {'default': True, 'actual': True},\n",
       " 'non_negative': {'default': False, 'actual': False},\n",
       " 'max_iterations': {'default': -1, 'actual': 300},\n",
       " 'objective_epsilon': {'default': -1.0, 'actual': 0.0001},\n",
       " 'beta_epsilon': {'default': 0.0001, 'actual': 0.0001},\n",
       " 'gradient_epsilon': {'default': -1.0, 'actual': 1.0000000000000002e-06},\n",
       " 'link': {'default': 'family_default', 'actual': 'identity'},\n",
       " 'prior': {'default': -1.0, 'actual': -1.0},\n",
       " 'lambda_min_ratio': {'default': -1.0, 'actual': 1.0000000000000002e-06},\n",
       " 'beta_constraints': {'default': None, 'actual': None},\n",
       " 'max_active_predictors': {'default': -1, 'actual': 5000},\n",
       " 'interactions': {'default': None, 'actual': None},\n",
       " 'interaction_pairs': {'default': None, 'actual': None},\n",
       " 'obj_reg': {'default': -1.0, 'actual': 5.754071005236205e-05},\n",
       " 'export_checkpoints_dir': {'default': None, 'actual': None},\n",
       " 'balance_classes': {'default': False, 'actual': False},\n",
       " 'class_sampling_factors': {'default': None, 'actual': None},\n",
       " 'max_after_balance_size': {'default': 5.0, 'actual': 5.0},\n",
       " 'max_confusion_matrix_size': {'default': 20, 'actual': 20},\n",
       " 'max_hit_ratio_k': {'default': 0, 'actual': 0},\n",
       " 'max_runtime_secs': {'default': 0.0, 'actual': 0.0},\n",
       " 'custom_metric_func': {'default': None, 'actual': None}}"
      ]
     },
     "execution_count": 135,
     "metadata": {},
     "output_type": "execute_result"
    }
   ],
   "source": [
    "mod_best.params"
   ]
  },
  {
   "cell_type": "code",
   "execution_count": 142,
   "metadata": {},
   "outputs": [],
   "source": [
    "hy_parameter = mod_best.params\n",
    "n=run_id+'_hy_parameter_GLM_grid_1_AutoML_20190415_132427_model_1.json'\n",
    "dict_to_json(hy_parameter,n)"
   ]
  },
  {
   "cell_type": "markdown",
   "metadata": {},
   "source": [
    "### Parameters for XGBoost_3_AutoML_20190415_140606"
   ]
  },
  {
   "cell_type": "code",
   "execution_count": 74,
   "metadata": {},
   "outputs": [],
   "source": [
    "aml_leaderboard_df=aml.leaderboard.as_data_frame()\n",
    "model_set=aml_leaderboard_df['model_id']\n",
    "mod_best=h2o.get_model(model_set[2])"
   ]
  },
  {
   "cell_type": "code",
   "execution_count": 75,
   "metadata": {},
   "outputs": [
    {
     "data": {
      "text/plain": [
       "{'model_id': {'default': None,\n",
       "  'actual': {'__meta': {'schema_version': 3,\n",
       "    'schema_name': 'ModelKeyV3',\n",
       "    'schema_type': 'Key<Model>'},\n",
       "   'name': 'XGBoost_3_AutoML_20190415_140606',\n",
       "   'type': 'Key<Model>',\n",
       "   'URL': '/3/Models/XGBoost_3_AutoML_20190415_140606'}},\n",
       " 'training_frame': {'default': None,\n",
       "  'actual': {'__meta': {'schema_version': 3,\n",
       "    'schema_name': 'FrameKeyV3',\n",
       "    'schema_type': 'Key<Frame>'},\n",
       "   'name': 'automl_training_hour.hex',\n",
       "   'type': 'Key<Frame>',\n",
       "   'URL': '/3/Frames/automl_training_hour.hex'}},\n",
       " 'validation_frame': {'default': None, 'actual': None},\n",
       " 'nfolds': {'default': 0, 'actual': 5},\n",
       " 'keep_cross_validation_models': {'default': True, 'actual': False},\n",
       " 'keep_cross_validation_predictions': {'default': False, 'actual': True},\n",
       " 'keep_cross_validation_fold_assignment': {'default': False, 'actual': False},\n",
       " 'score_each_iteration': {'default': False, 'actual': False},\n",
       " 'fold_assignment': {'default': 'AUTO', 'actual': 'Modulo'},\n",
       " 'fold_column': {'default': None, 'actual': None},\n",
       " 'response_column': {'default': None,\n",
       "  'actual': {'__meta': {'schema_version': 3,\n",
       "    'schema_name': 'ColSpecifierV3',\n",
       "    'schema_type': 'VecSpecifier'},\n",
       "   'column_name': 'cnt',\n",
       "   'is_member_of_frames': None}},\n",
       " 'ignored_columns': {'default': None, 'actual': []},\n",
       " 'ignore_const_cols': {'default': True, 'actual': True},\n",
       " 'offset_column': {'default': None, 'actual': None},\n",
       " 'weights_column': {'default': None, 'actual': None},\n",
       " 'stopping_rounds': {'default': 0, 'actual': 0},\n",
       " 'stopping_metric': {'default': 'AUTO', 'actual': 'deviance'},\n",
       " 'stopping_tolerance': {'default': 0.001, 'actual': 0.007585559310450486},\n",
       " 'max_runtime_secs': {'default': 0.0, 'actual': 0.0},\n",
       " 'seed': {'default': -1, 'actual': -9065930403917529296},\n",
       " 'distribution': {'default': 'AUTO', 'actual': 'AUTO'},\n",
       " 'tweedie_power': {'default': 1.5, 'actual': 1.5},\n",
       " 'categorical_encoding': {'default': 'AUTO', 'actual': 'AUTO'},\n",
       " 'quiet_mode': {'default': True, 'actual': True},\n",
       " 'export_checkpoints_dir': {'default': None, 'actual': None},\n",
       " 'ntrees': {'default': 50, 'actual': 283},\n",
       " 'max_depth': {'default': 6, 'actual': 5},\n",
       " 'min_rows': {'default': 1.0, 'actual': 3.0},\n",
       " 'min_child_weight': {'default': 1.0, 'actual': 1.0},\n",
       " 'learn_rate': {'default': 0.3, 'actual': 0.05},\n",
       " 'eta': {'default': 0.3, 'actual': 0.3},\n",
       " 'sample_rate': {'default': 1.0, 'actual': 0.8},\n",
       " 'subsample': {'default': 1.0, 'actual': 1.0},\n",
       " 'col_sample_rate': {'default': 1.0, 'actual': 0.8},\n",
       " 'colsample_bylevel': {'default': 1.0, 'actual': 1.0},\n",
       " 'col_sample_rate_per_tree': {'default': 1.0, 'actual': 0.8},\n",
       " 'colsample_bytree': {'default': 1.0, 'actual': 1.0},\n",
       " 'max_abs_leafnode_pred': {'default': 0.0, 'actual': 0.0},\n",
       " 'max_delta_step': {'default': 0.0, 'actual': 0.0},\n",
       " 'monotone_constraints': {'default': None, 'actual': None},\n",
       " 'score_tree_interval': {'default': 0, 'actual': 5},\n",
       " 'min_split_improvement': {'default': 0.0, 'actual': 0.0},\n",
       " 'gamma': {'default': 0.0, 'actual': 0.0},\n",
       " 'nthread': {'default': -1, 'actual': -1},\n",
       " 'max_bins': {'default': 256, 'actual': 256},\n",
       " 'max_leaves': {'default': 0, 'actual': 0},\n",
       " 'min_sum_hessian_in_leaf': {'default': 100.0, 'actual': 100.0},\n",
       " 'min_data_in_leaf': {'default': 0.0, 'actual': 0.0},\n",
       " 'sample_type': {'default': 'uniform', 'actual': 'uniform'},\n",
       " 'normalize_type': {'default': 'tree', 'actual': 'tree'},\n",
       " 'rate_drop': {'default': 0.0, 'actual': 0.0},\n",
       " 'one_drop': {'default': False, 'actual': False},\n",
       " 'skip_drop': {'default': 0.0, 'actual': 0.0},\n",
       " 'tree_method': {'default': 'auto', 'actual': 'auto'},\n",
       " 'grow_policy': {'default': 'depthwise', 'actual': 'depthwise'},\n",
       " 'booster': {'default': 'gbtree', 'actual': 'gbtree'},\n",
       " 'reg_lambda': {'default': 1.0, 'actual': 1.0},\n",
       " 'reg_alpha': {'default': 0.0, 'actual': 0.0},\n",
       " 'dmatrix_type': {'default': 'auto', 'actual': 'auto'},\n",
       " 'backend': {'default': 'auto', 'actual': 'auto'},\n",
       " 'gpu_id': {'default': 0, 'actual': 0}}"
      ]
     },
     "execution_count": 75,
     "metadata": {},
     "output_type": "execute_result"
    }
   ],
   "source": [
    "mod_best.params"
   ]
  },
  {
   "cell_type": "markdown",
   "metadata": {},
   "source": [
    "### Parameters for GLM_grid_1_AutoML_20190415_140606_model_1"
   ]
  },
  {
   "cell_type": "code",
   "execution_count": 106,
   "metadata": {},
   "outputs": [],
   "source": [
    "aml_leaderboard_df=aml.leaderboard.as_data_frame()\n",
    "model_set=aml_leaderboard_df['model_id']\n",
    "mod_best=h2o.get_model(model_set[9])"
   ]
  },
  {
   "cell_type": "code",
   "execution_count": 107,
   "metadata": {},
   "outputs": [
    {
     "data": {
      "text/plain": [
       "{'model_id': {'default': None,\n",
       "  'actual': {'__meta': {'schema_version': 3,\n",
       "    'schema_name': 'ModelKeyV3',\n",
       "    'schema_type': 'Key<Model>'},\n",
       "   'name': 'GLM_grid_1_AutoML_20190415_140606_model_1',\n",
       "   'type': 'Key<Model>',\n",
       "   'URL': '/3/Models/GLM_grid_1_AutoML_20190415_140606_model_1'}},\n",
       " 'training_frame': {'default': None,\n",
       "  'actual': {'__meta': {'schema_version': 3,\n",
       "    'schema_name': 'FrameKeyV3',\n",
       "    'schema_type': 'Key<Frame>'},\n",
       "   'name': 'automl_training_hour.hex',\n",
       "   'type': 'Key<Frame>',\n",
       "   'URL': '/3/Frames/automl_training_hour.hex'}},\n",
       " 'validation_frame': {'default': None, 'actual': None},\n",
       " 'nfolds': {'default': 0, 'actual': 5},\n",
       " 'seed': {'default': -1, 'actual': -603731504697917636},\n",
       " 'keep_cross_validation_models': {'default': True, 'actual': False},\n",
       " 'keep_cross_validation_predictions': {'default': False, 'actual': True},\n",
       " 'keep_cross_validation_fold_assignment': {'default': False, 'actual': False},\n",
       " 'fold_assignment': {'default': 'AUTO', 'actual': 'Modulo'},\n",
       " 'fold_column': {'default': None, 'actual': None},\n",
       " 'response_column': {'default': None,\n",
       "  'actual': {'__meta': {'schema_version': 3,\n",
       "    'schema_name': 'ColSpecifierV3',\n",
       "    'schema_type': 'VecSpecifier'},\n",
       "   'column_name': 'cnt',\n",
       "   'is_member_of_frames': None}},\n",
       " 'ignored_columns': {'default': None, 'actual': []},\n",
       " 'ignore_const_cols': {'default': True, 'actual': True},\n",
       " 'score_each_iteration': {'default': False, 'actual': False},\n",
       " 'offset_column': {'default': None, 'actual': None},\n",
       " 'weights_column': {'default': None, 'actual': None},\n",
       " 'family': {'default': 'gaussian', 'actual': 'gaussian'},\n",
       " 'tweedie_variance_power': {'default': 0.0, 'actual': 0.0},\n",
       " 'tweedie_link_power': {'default': 1.0, 'actual': 1.0},\n",
       " 'theta': {'default': 1e-10, 'actual': 1e-10},\n",
       " 'solver': {'default': 'AUTO', 'actual': 'COORDINATE_DESCENT'},\n",
       " 'alpha': {'default': None, 'actual': [0.0, 0.2, 0.4, 0.6, 0.8, 1.0]},\n",
       " 'lambda': {'default': None,\n",
       "  'actual': [17632.594052322154,\n",
       "   10950.13963598844,\n",
       "   6800.222230027118,\n",
       "   4223.053213474455,\n",
       "   2622.5875920772382,\n",
       "   1628.6713262745604,\n",
       "   1011.4324863895012,\n",
       "   628.1167096273864,\n",
       "   390.07111816378944,\n",
       "   242.24077292229845,\n",
       "   150.43562400165396,\n",
       "   93.42307116905594,\n",
       "   58.01730995952483,\n",
       "   36.02973240783895,\n",
       "   22.375074237087432,\n",
       "   13.895300177312702,\n",
       "   8.629216822780007,\n",
       "   5.358889842202057,\n",
       "   3.327961381738074,\n",
       "   2.0667204000201944,\n",
       "   1.2834683825654458,\n",
       "   0.7970556099553019,\n",
       "   0.4949850374119549,\n",
       "   0.3073940942156524,\n",
       "   0.190896940345331,\n",
       "   0.11855023410971331,\n",
       "   0.07362170384734285,\n",
       "   0.045720325380123064,\n",
       "   0.028393096649851172,\n",
       "   0.017632594052322117]},\n",
       " 'lambda_search': {'default': False, 'actual': True},\n",
       " 'early_stopping': {'default': True, 'actual': True},\n",
       " 'nlambdas': {'default': -1, 'actual': 30},\n",
       " 'standardize': {'default': True, 'actual': True},\n",
       " 'missing_values_handling': {'default': 'MeanImputation',\n",
       "  'actual': 'MeanImputation'},\n",
       " 'compute_p_values': {'default': False, 'actual': False},\n",
       " 'remove_collinear_columns': {'default': False, 'actual': False},\n",
       " 'intercept': {'default': True, 'actual': True},\n",
       " 'non_negative': {'default': False, 'actual': False},\n",
       " 'max_iterations': {'default': -1, 'actual': 300},\n",
       " 'objective_epsilon': {'default': -1.0, 'actual': 0.0001},\n",
       " 'beta_epsilon': {'default': 0.0001, 'actual': 0.0001},\n",
       " 'gradient_epsilon': {'default': -1.0, 'actual': 1.0000000000000002e-06},\n",
       " 'link': {'default': 'family_default', 'actual': 'identity'},\n",
       " 'prior': {'default': -1.0, 'actual': -1.0},\n",
       " 'lambda_min_ratio': {'default': -1.0, 'actual': 1.0000000000000002e-06},\n",
       " 'beta_constraints': {'default': None, 'actual': None},\n",
       " 'max_active_predictors': {'default': -1, 'actual': 5000},\n",
       " 'interactions': {'default': None, 'actual': None},\n",
       " 'interaction_pairs': {'default': None, 'actual': None},\n",
       " 'obj_reg': {'default': -1.0, 'actual': 5.754071005236205e-05},\n",
       " 'export_checkpoints_dir': {'default': None, 'actual': None},\n",
       " 'balance_classes': {'default': False, 'actual': False},\n",
       " 'class_sampling_factors': {'default': None, 'actual': None},\n",
       " 'max_after_balance_size': {'default': 5.0, 'actual': 5.0},\n",
       " 'max_confusion_matrix_size': {'default': 20, 'actual': 20},\n",
       " 'max_hit_ratio_k': {'default': 0, 'actual': 0},\n",
       " 'max_runtime_secs': {'default': 0.0, 'actual': 0.0},\n",
       " 'custom_metric_func': {'default': None, 'actual': None}}"
      ]
     },
     "execution_count": 107,
     "metadata": {},
     "output_type": "execute_result"
    }
   ],
   "source": [
    "mod_best.params"
   ]
  },
  {
   "cell_type": "code",
   "execution_count": 108,
   "metadata": {},
   "outputs": [
    {
     "name": "stdout",
     "output_type": "stream",
     "text": [
      "Model Details\n",
      "=============\n",
      "H2OGeneralizedLinearEstimator :  Generalized Linear Modeling\n",
      "Model Key:  GLM_grid_1_AutoML_20190415_140606_model_1\n",
      "\n",
      "\n",
      "ModelMetricsRegressionGLM: glm\n",
      "** Reported on train data. **\n",
      "\n",
      "MSE: 25.15511642548862\n",
      "RMSE: 5.0154876558006425\n",
      "MAE: 3.602737737369299\n",
      "RMSLE: NaN\n",
      "R^2: 0.9992353967541963\n",
      "Mean Residual Deviance: 25.15511642548862\n",
      "Null degrees of freedom: 17378\n",
      "Residual degrees of freedom: 17362\n",
      "Null deviance: 571761591.0707175\n",
      "Residual deviance: 437170.76835856674\n",
      "AIC: 105403.80608283386\n",
      "\n",
      "ModelMetricsRegressionGLM: glm\n",
      "** Reported on cross-validation data. **\n",
      "\n",
      "MSE: 38.38704879033597\n",
      "RMSE: 6.195728269568959\n",
      "MAE: 4.451968584725416\n",
      "RMSLE: NaN\n",
      "R^2: 0.9988332050782252\n",
      "Mean Residual Deviance: 38.38704879033597\n",
      "Null degrees of freedom: 17378\n",
      "Residual degrees of freedom: 17362\n",
      "Null deviance: 571764090.6387259\n",
      "Residual deviance: 667128.5209272488\n",
      "AIC: 112749.19370455193\n",
      "Cross-Validation Metrics Summary: \n"
     ]
    },
    {
     "data": {
      "text/html": [
       "<div style=\"overflow:auto\"><table style=\"width:50%\"><tr><td><b></b></td>\n",
       "<td><b>mean</b></td>\n",
       "<td><b>sd</b></td>\n",
       "<td><b>cv_1_valid</b></td>\n",
       "<td><b>cv_2_valid</b></td>\n",
       "<td><b>cv_3_valid</b></td>\n",
       "<td><b>cv_4_valid</b></td>\n",
       "<td><b>cv_5_valid</b></td></tr>\n",
       "<tr><td>mae</td>\n",
       "<td>2.8273187</td>\n",
       "<td>0.0070480</td>\n",
       "<td>2.8260736</td>\n",
       "<td>2.8456686</td>\n",
       "<td>2.817578</td>\n",
       "<td>2.8193662</td>\n",
       "<td>2.8279073</td></tr>\n",
       "<tr><td>mean_residual_deviance</td>\n",
       "<td>15.501235</td>\n",
       "<td>0.1066854</td>\n",
       "<td>15.406105</td>\n",
       "<td>15.799695</td>\n",
       "<td>15.466382</td>\n",
       "<td>15.428888</td>\n",
       "<td>15.405107</td></tr>\n",
       "<tr><td>mse</td>\n",
       "<td>15.501235</td>\n",
       "<td>0.1066854</td>\n",
       "<td>15.406105</td>\n",
       "<td>15.799695</td>\n",
       "<td>15.466382</td>\n",
       "<td>15.428888</td>\n",
       "<td>15.405107</td></tr>\n",
       "<tr><td>null_deviance</td>\n",
       "<td>114352816.0000000</td>\n",
       "<td>410599.9</td>\n",
       "<td>114509824.0000000</td>\n",
       "<td>115243728.0000000</td>\n",
       "<td>113717400.0000000</td>\n",
       "<td>114581728.0000000</td>\n",
       "<td>113711416.0000000</td></tr>\n",
       "<tr><td>r2</td>\n",
       "<td>0.9995288</td>\n",
       "<td>0.0000023</td>\n",
       "<td>0.9995323</td>\n",
       "<td>0.9995235</td>\n",
       "<td>0.9995272</td>\n",
       "<td>0.9995319</td>\n",
       "<td>0.9995292</td></tr>\n",
       "<tr><td>residual_deviance</td>\n",
       "<td>53879.215</td>\n",
       "<td>372.24945</td>\n",
       "<td>53551.62</td>\n",
       "<td>54919.742</td>\n",
       "<td>53761.145</td>\n",
       "<td>53630.816</td>\n",
       "<td>53532.742</td></tr>\n",
       "<tr><td>rmse</td>\n",
       "<td>3.9371145</td>\n",
       "<td>0.0135021</td>\n",
       "<td>3.9250612</td>\n",
       "<td>3.974883</td>\n",
       "<td>3.932732</td>\n",
       "<td>3.9279623</td>\n",
       "<td>3.924934</td></tr>\n",
       "<tr><td>rmsle</td>\n",
       "<td>0.1495049</td>\n",
       "<td>0.0040444</td>\n",
       "<td>NaN</td>\n",
       "<td>0.148233</td>\n",
       "<td>0.1553323</td>\n",
       "<td>0.1421189</td>\n",
       "<td>0.1523354</td></tr></table></div>"
      ],
      "text/plain": [
       "                        mean         sd           cv_1_valid    cv_2_valid    cv_3_valid    cv_4_valid    cv_5_valid\n",
       "----------------------  -----------  -----------  ------------  ------------  ------------  ------------  ------------\n",
       "mae                     2.82732      0.00704798   2.82607       2.84567       2.81758       2.81937       2.82791\n",
       "mean_residual_deviance  15.5012      0.106685     15.4061       15.7997       15.4664       15.4289       15.4051\n",
       "mse                     15.5012      0.106685     15.4061       15.7997       15.4664       15.4289       15.4051\n",
       "null_deviance           1.14353e+08  410600       1.1451e+08    1.15244e+08   1.13717e+08   1.14582e+08   1.13711e+08\n",
       "r2                      0.999529     2.31563e-06  0.999532      0.999523      0.999527      0.999532      0.999529\n",
       "residual_deviance       53879.2      372.249      53551.6       54919.7       53761.1       53630.8       53532.7\n",
       "rmse                    3.93711      0.0135021    3.92506       3.97488       3.93273       3.92796       3.92493\n",
       "rmsle                   0.149505     0.00404436   nan           0.148233      0.155332      0.142119      0.152335"
      ]
     },
     "metadata": {},
     "output_type": "display_data"
    },
    {
     "name": "stdout",
     "output_type": "stream",
     "text": [
      "Scoring History: \n"
     ]
    },
    {
     "data": {
      "text/html": [
       "<div style=\"overflow:auto\"><table style=\"width:50%\"><tr><td><b></b></td>\n",
       "<td><b>timestamp</b></td>\n",
       "<td><b>duration</b></td>\n",
       "<td><b>iteration</b></td>\n",
       "<td><b>lambda</b></td>\n",
       "<td><b>predictors</b></td>\n",
       "<td><b>deviance_train</b></td>\n",
       "<td><b>deviance_test</b></td>\n",
       "<td><b>deviance_xval</b></td>\n",
       "<td><b>deviance_se</b></td></tr>\n",
       "<tr><td></td>\n",
       "<td>2019-04-15 14:20:16</td>\n",
       "<td> 0.000 sec</td>\n",
       "<td>1</td>\n",
       "<td>.18E5</td>\n",
       "<td>17</td>\n",
       "<td>32890.9616792</td>\n",
       "<td>nan</td>\n",
       "<td>32892.8166471</td>\n",
       "<td>82.4897460</td></tr>\n",
       "<tr><td></td>\n",
       "<td>2019-04-15 14:20:16</td>\n",
       "<td> 0.001 sec</td>\n",
       "<td>2</td>\n",
       "<td>.11E5</td>\n",
       "<td>17</td>\n",
       "<td>32885.7121156</td>\n",
       "<td>nan</td>\n",
       "<td>32888.6166412</td>\n",
       "<td>82.4825423</td></tr>\n",
       "<tr><td></td>\n",
       "<td>2019-04-15 14:20:16</td>\n",
       "<td> 0.002 sec</td>\n",
       "<td>3</td>\n",
       "<td>.68E4</td>\n",
       "<td>17</td>\n",
       "<td>32877.2616361</td>\n",
       "<td>nan</td>\n",
       "<td>32881.8552553</td>\n",
       "<td>82.4709448</td></tr>\n",
       "<tr><td></td>\n",
       "<td>2019-04-15 14:20:16</td>\n",
       "<td> 0.003 sec</td>\n",
       "<td>4</td>\n",
       "<td>.42E4</td>\n",
       "<td>17</td>\n",
       "<td>32863.6624234</td>\n",
       "<td>nan</td>\n",
       "<td>32870.9729489</td>\n",
       "<td>82.4522767</td></tr>\n",
       "<tr><td></td>\n",
       "<td>2019-04-15 14:20:16</td>\n",
       "<td> 0.004 sec</td>\n",
       "<td>5</td>\n",
       "<td>.26E4</td>\n",
       "<td>17</td>\n",
       "<td>32841.7882238</td>\n",
       "<td>nan</td>\n",
       "<td>32853.4633060</td>\n",
       "<td>82.4222343</td></tr>\n",
       "<tr><td>---</td>\n",
       "<td>---</td>\n",
       "<td>---</td>\n",
       "<td>---</td>\n",
       "<td>---</td>\n",
       "<td>---</td>\n",
       "<td>---</td>\n",
       "<td>---</td>\n",
       "<td>---</td>\n",
       "<td>---</td></tr>\n",
       "<tr><td></td>\n",
       "<td>2019-04-15 14:20:16</td>\n",
       "<td> 0.024 sec</td>\n",
       "<td>26</td>\n",
       "<td>.12E0</td>\n",
       "<td>17</td>\n",
       "<td>332.2504354</td>\n",
       "<td>nan</td>\n",
       "<td>479.2088487</td>\n",
       "<td>2.0408234</td></tr>\n",
       "<tr><td></td>\n",
       "<td>2019-04-15 14:20:16</td>\n",
       "<td> 0.025 sec</td>\n",
       "<td>27</td>\n",
       "<td>.74E-1</td>\n",
       "<td>17</td>\n",
       "<td>146.1121778</td>\n",
       "<td>nan</td>\n",
       "<td>216.1018687</td>\n",
       "<td>0.9647239</td></tr>\n",
       "<tr><td></td>\n",
       "<td>2019-04-15 14:20:16</td>\n",
       "<td> 0.026 sec</td>\n",
       "<td>28</td>\n",
       "<td>.46E-1</td>\n",
       "<td>17</td>\n",
       "<td>61.5532114</td>\n",
       "<td>nan</td>\n",
       "<td>92.7311168</td>\n",
       "<td>0.4300903</td></tr>\n",
       "<tr><td></td>\n",
       "<td>2019-04-15 14:20:16</td>\n",
       "<td> 0.027 sec</td>\n",
       "<td>29</td>\n",
       "<td>.28E-1</td>\n",
       "<td>17</td>\n",
       "<td>25.1551164</td>\n",
       "<td>nan</td>\n",
       "<td>38.3870357</td>\n",
       "<td>0.1831766</td></tr>\n",
       "<tr><td></td>\n",
       "<td>2019-04-15 14:20:16</td>\n",
       "<td> 0.028 sec</td>\n",
       "<td>30</td>\n",
       "<td>.18E-1</td>\n",
       "<td>17</td>\n",
       "<td>10.0706022</td>\n",
       "<td>nan</td>\n",
       "<td>0.0</td>\n",
       "<td>0.0</td></tr></table></div>"
      ],
      "text/plain": [
       "     timestamp            duration    iteration    lambda    predictors    deviance_train      deviance_test    deviance_xval       deviance_se\n",
       "---  -------------------  ----------  -----------  --------  ------------  ------------------  ---------------  ------------------  -------------------\n",
       "     2019-04-15 14:20:16  0.000 sec   1            .18E5     17            32890.96167921702   nan              32892.81664712237   82.48974597615184\n",
       "     2019-04-15 14:20:16  0.001 sec   2            .11E5     17            32885.712115635186  nan              32888.61664122092   82.482542294919\n",
       "     2019-04-15 14:20:16  0.002 sec   3            .68E4     17            32877.26163614443   nan              32881.85525531      82.4709447695857\n",
       "     2019-04-15 14:20:16  0.003 sec   4            .42E4     17            32863.66242342314   nan              32870.97294893018   82.45227670083689\n",
       "     2019-04-15 14:20:16  0.004 sec   5            .26E4     17            32841.78822379624   nan              32853.463306006925  82.4222343195411\n",
       "---  ---                  ---         ---          ---       ---           ---                 ---              ---                 ---\n",
       "     2019-04-15 14:20:16  0.024 sec   26           .12E0     17            332.2504354494132   nan              479.20884867360064  2.040823420843642\n",
       "     2019-04-15 14:20:16  0.025 sec   27           .74E-1    17            146.1121778486513   nan              216.10186874420205  0.964723879703603\n",
       "     2019-04-15 14:20:16  0.026 sec   28           .46E-1    17            61.55321144438962   nan              92.73111683714052   0.43009033576177474\n",
       "     2019-04-15 14:20:16  0.027 sec   29           .28E-1    17            25.155116425469277  nan              38.38703570635214   0.18317657787830785\n",
       "     2019-04-15 14:20:16  0.028 sec   30           .18E-1    17            10.070602185378121  nan              0.0                 0.0"
      ]
     },
     "metadata": {},
     "output_type": "display_data"
    },
    {
     "name": "stdout",
     "output_type": "stream",
     "text": [
      "\n",
      "See the whole table with table.as_data_frame()\n",
      "<bound method ModelBase.coef_norm of >\n"
     ]
    }
   ],
   "source": [
    "mods=mod_best.coef_norm\n",
    "print(mods)"
   ]
  },
  {
   "cell_type": "code",
   "execution_count": 109,
   "metadata": {},
   "outputs": [
    {
     "data": {
      "image/png": "[encoded data removed]",
      "text/plain": [
       "<Figure size 1008x720 with 1 Axes>"
      ]
     },
     "metadata": {
      "needs_background": "light"
     },
     "output_type": "display_data"
    }
   ],
   "source": [
    "%matplotlib inline\n",
    "mod_best.std_coef_plot()"
   ]
  },
  {
   "cell_type": "markdown",
   "metadata": {},
   "source": [
    "### Parameters for GLM_grid_1_AutoML_20190415_132427_model_1"
   ]
  },
  {
   "cell_type": "code",
   "execution_count": 137,
   "metadata": {},
   "outputs": [],
   "source": [
    "aml_leaderboard_df=aml.leaderboard.as_data_frame()\n",
    "model_set=aml_leaderboard_df['model_id']\n",
    "mod_best=h2o.get_model(model_set[18])"
   ]
  },
  {
   "cell_type": "code",
   "execution_count": 138,
   "metadata": {},
   "outputs": [
    {
     "name": "stdout",
     "output_type": "stream",
     "text": [
      "Model Details\n",
      "=============\n",
      "H2OGeneralizedLinearEstimator :  Generalized Linear Modeling\n",
      "Model Key:  GLM_grid_1_AutoML_20190415_132427_model_1\n",
      "\n",
      "\n",
      "ModelMetricsRegressionGLM: glm\n",
      "** Reported on train data. **\n",
      "\n",
      "MSE: 32890.96167921702\n",
      "RMSE: 181.3586548230247\n",
      "MAE: 142.3800242241666\n",
      "RMSLE: 1.5700860361101514\n",
      "R^2: 0.00026159163179351186\n",
      "Mean Residual Deviance: 32890.96167921702\n",
      "Null degrees of freedom: 17378\n",
      "Residual degrees of freedom: 17362\n",
      "Null deviance: 571761591.0707175\n",
      "Residual deviance: 571612023.0231125\n",
      "AIC: 230113.63081783845\n",
      "\n",
      "ModelMetricsRegressionGLM: glm\n",
      "** Reported on cross-validation data. **\n",
      "\n",
      "MSE: 32892.82682912518\n",
      "RMSE: 181.36379690865866\n",
      "MAE: 142.38449615276323\n",
      "RMSLE: 1.5701068000017233\n",
      "R^2: 0.00020489940069556845\n",
      "Mean Residual Deviance: 32892.82682912518\n",
      "Null degrees of freedom: 17378\n",
      "Residual degrees of freedom: 17362\n",
      "Null deviance: 571764090.6387259\n",
      "Residual deviance: 571644437.4633665\n",
      "AIC: 230114.61630198272\n",
      "Cross-Validation Metrics Summary: \n"
     ]
    },
    {
     "data": {
      "text/html": [
       "<div style=\"overflow:auto\"><table style=\"width:50%\"><tr><td><b></b></td>\n",
       "<td><b>mean</b></td>\n",
       "<td><b>sd</b></td>\n",
       "<td><b>cv_1_valid</b></td>\n",
       "<td><b>cv_2_valid</b></td>\n",
       "<td><b>cv_3_valid</b></td>\n",
       "<td><b>cv_4_valid</b></td>\n",
       "<td><b>cv_5_valid</b></td></tr>\n",
       "<tr><td>mae</td>\n",
       "<td>142.38449</td>\n",
       "<td>0.1543257</td>\n",
       "<td>142.7459</td>\n",
       "<td>142.47983</td>\n",
       "<td>142.09343</td>\n",
       "<td>142.29822</td>\n",
       "<td>142.30508</td></tr>\n",
       "<tr><td>mean_residual_deviance</td>\n",
       "<td>32892.816</td>\n",
       "<td>116.65812</td>\n",
       "<td>32936.094</td>\n",
       "<td>33147.207</td>\n",
       "<td>32708.15</td>\n",
       "<td>32956.766</td>\n",
       "<td>32715.863</td></tr>\n",
       "<tr><td>mse</td>\n",
       "<td>32892.816</td>\n",
       "<td>116.65812</td>\n",
       "<td>32936.094</td>\n",
       "<td>33147.207</td>\n",
       "<td>32708.15</td>\n",
       "<td>32956.766</td>\n",
       "<td>32715.863</td></tr>\n",
       "<tr><td>null_deviance</td>\n",
       "<td>114352816.0000000</td>\n",
       "<td>410599.9</td>\n",
       "<td>114509824.0000000</td>\n",
       "<td>115243728.0000000</td>\n",
       "<td>113717400.0000000</td>\n",
       "<td>114581728.0000000</td>\n",
       "<td>113711416.0000000</td></tr>\n",
       "<tr><td>r2</td>\n",
       "<td>0.0001971</td>\n",
       "<td>0.0000041</td>\n",
       "<td>0.0001988</td>\n",
       "<td>0.0002076</td>\n",
       "<td>0.0001915</td>\n",
       "<td>0.0001944</td>\n",
       "<td>0.0001932</td></tr>\n",
       "<tr><td>residual_deviance</td>\n",
       "<td>114328888.0000000</td>\n",
       "<td>410540.44</td>\n",
       "<td>114485864.0000000</td>\n",
       "<td>115219696.0000000</td>\n",
       "<td>113693536.0000000</td>\n",
       "<td>114557720.0000000</td>\n",
       "<td>113687624.0000000</td></tr>\n",
       "<tr><td>rmse</td>\n",
       "<td>181.3632</td>\n",
       "<td>0.3215263</td>\n",
       "<td>181.48305</td>\n",
       "<td>182.06375</td>\n",
       "<td>180.85394</td>\n",
       "<td>181.53998</td>\n",
       "<td>180.87527</td></tr>\n",
       "<tr><td>rmsle</td>\n",
       "<td>1.5700986</td>\n",
       "<td>0.0035148</td>\n",
       "<td>1.5735896</td>\n",
       "<td>1.5781107</td>\n",
       "<td>1.5662733</td>\n",
       "<td>1.5674957</td>\n",
       "<td>1.565024</td></tr></table></div>"
      ],
      "text/plain": [
       "                        mean         sd           cv_1_valid    cv_2_valid    cv_3_valid    cv_4_valid    cv_5_valid\n",
       "----------------------  -----------  -----------  ------------  ------------  ------------  ------------  ------------\n",
       "mae                     142.384      0.154326     142.746       142.48        142.093       142.298       142.305\n",
       "mean_residual_deviance  32892.8      116.658      32936.1       33147.2       32708.2       32956.8       32715.9\n",
       "mse                     32892.8      116.658      32936.1       33147.2       32708.2       32956.8       32715.9\n",
       "null_deviance           1.14353e+08  410600       1.1451e+08    1.15244e+08   1.13717e+08   1.14582e+08   1.13711e+08\n",
       "r2                      0.000197102  4.09308e-06  0.00019877    0.000207629   0.00019147    0.000194407   0.000193237\n",
       "residual_deviance       1.14329e+08  410540       1.14486e+08   1.1522e+08    1.13694e+08   1.14558e+08   1.13688e+08\n",
       "rmse                    181.363      0.321526     181.483       182.064       180.854       181.54        180.875\n",
       "rmsle                   1.5701       0.00351481   1.57359       1.57811       1.56627       1.5675        1.56502"
      ]
     },
     "metadata": {},
     "output_type": "display_data"
    },
    {
     "name": "stdout",
     "output_type": "stream",
     "text": [
      "Scoring History: \n"
     ]
    },
    {
     "data": {
      "text/html": [
       "<div style=\"overflow:auto\"><table style=\"width:50%\"><tr><td><b></b></td>\n",
       "<td><b>timestamp</b></td>\n",
       "<td><b>duration</b></td>\n",
       "<td><b>iteration</b></td>\n",
       "<td><b>lambda</b></td>\n",
       "<td><b>predictors</b></td>\n",
       "<td><b>deviance_train</b></td>\n",
       "<td><b>deviance_test</b></td>\n",
       "<td><b>deviance_xval</b></td>\n",
       "<td><b>deviance_se</b></td></tr>\n",
       "<tr><td></td>\n",
       "<td>2019-04-15 13:32:47</td>\n",
       "<td> 0.000 sec</td>\n",
       "<td>1</td>\n",
       "<td>.18E5</td>\n",
       "<td>17</td>\n",
       "<td>32890.9616792</td>\n",
       "<td>nan</td>\n",
       "<td>0.0</td>\n",
       "<td>0.0</td></tr></table></div>"
      ],
      "text/plain": [
       "    timestamp            duration    iteration    lambda    predictors    deviance_train    deviance_test    deviance_xval    deviance_se\n",
       "--  -------------------  ----------  -----------  --------  ------------  ----------------  ---------------  ---------------  -------------\n",
       "    2019-04-15 13:32:47  0.000 sec   1            18000     17            32891             nan              0                0"
      ]
     },
     "metadata": {},
     "output_type": "display_data"
    },
    {
     "name": "stdout",
     "output_type": "stream",
     "text": [
      "<bound method ModelBase.coef_norm of >\n"
     ]
    }
   ],
   "source": [
    "mods=mod_best.coef_norm\n",
    "print(mods)"
   ]
  },
  {
   "cell_type": "code",
   "execution_count": 139,
   "metadata": {},
   "outputs": [
    {
     "data": {
      "image/png": "[encoded data removed]",
      "text/plain": [
       "<Figure size 1008x720 with 1 Axes>"
      ]
     },
     "metadata": {
      "needs_background": "light"
     },
     "output_type": "display_data"
    }
   ],
   "source": [
    "%matplotlib inline\n",
    "mod_best.std_coef_plot()"
   ]
  },
  {
   "cell_type": "markdown",
   "metadata": {},
   "source": [
    "## Model with runtime 1350 seconds"
   ]
  },
  {
   "cell_type": "code",
   "execution_count": 144,
   "metadata": {},
   "outputs": [],
   "source": [
    "# Assume the following are passed by the user from the web interface\n",
    "\n",
    "'''\n",
    "Need a user id and project id?\n",
    "\n",
    "'''\n",
    "target='cnt' \n",
    "data_file='hour.csv'\n",
    "run_time=1350\n",
    "run_id='SOME_ID_20180617_221530' # Just some arbitrary ID\n",
    "server_path='/Users/newzysharma/Desktop/Desktop/Machine_Learning/Project/RunTime_1350Seconds'\n",
    "classification=False\n",
    "scale=False\n",
    "max_models=None\n",
    "balance_y=False # balance_classes=balance_y\n",
    "balance_threshold=0.2\n",
    "project =\"HyperparameterDB_Project\"  # project_name = project"
   ]
  },
  {
   "cell_type": "code",
   "execution_count": 145,
   "metadata": {},
   "outputs": [
    {
     "data": {
      "text/plain": [
       "'/Users/newzysharma/Desktop/Desktop/Machine_Learning/Project/RunTime_1350Seconds/hour.csv'"
      ]
     },
     "execution_count": 145,
     "metadata": {},
     "output_type": "execute_result"
    }
   ],
   "source": [
    "# Use local data file or download from some type of bucket\n",
    "import os\n",
    "\n",
    "data_path=os.path.join(server_path,data_file)\n",
    "data_path"
   ]
  },
  {
   "cell_type": "code",
   "execution_count": 146,
   "metadata": {},
   "outputs": [
    {
     "name": "stdout",
     "output_type": "stream",
     "text": [
      "cnt\n",
      "['instant', 'dteday', 'season', 'yr', 'mnth', 'hr', 'holiday', 'weekday', 'workingday', 'weathersit', 'temp', 'atemp', 'hum', 'windspeed', 'casual', 'registered']\n"
     ]
    }
   ],
   "source": [
    "# assign target and inputs for logistic regression\n",
    "y = target\n",
    "X = [name for name in hp.columns if name != y]\n",
    "print(y)\n",
    "print(X)"
   ]
  },
  {
   "cell_type": "code",
   "execution_count": 147,
   "metadata": {},
   "outputs": [
    {
     "name": "stdout",
     "output_type": "stream",
     "text": [
      "['instant', 'season', 'yr', 'mnth', 'hr', 'holiday', 'weekday', 'workingday', 'weathersit', 'casual', 'registered']\n",
      "[]\n",
      "['dteday', 'temp', 'atemp', 'hum', 'windspeed']\n"
     ]
    }
   ],
   "source": [
    "# determine column types\n",
    "ints, reals, enums = [], [], []\n",
    "for key, val in hp.types.items():\n",
    "    if key in X:\n",
    "        if val == 'enum':\n",
    "            enums.append(key)\n",
    "        elif val == 'int':\n",
    "            ints.append(key)            \n",
    "        else: \n",
    "            reals.append(key)\n",
    "\n",
    "print(ints)\n",
    "print(enums)\n",
    "print(reals)"
   ]
  },
  {
   "cell_type": "code",
   "execution_count": 148,
   "metadata": {},
   "outputs": [],
   "source": [
    "# impute missing values\n",
    "_ = hp[reals].impute(method='mean')\n",
    "_ = hp[ints].impute(method='median')\n",
    "\n",
    "if scale:\n",
    "    hp[reals] = hp[reals].scale()\n",
    "    hp[ints] = hp[ints].scale()"
   ]
  },
  {
   "cell_type": "code",
   "execution_count": 149,
   "metadata": {},
   "outputs": [
    {
     "name": "stdout",
     "output_type": "stream",
     "text": [
      "1350\n"
     ]
    },
    {
     "data": {
      "text/plain": [
       "int"
      ]
     },
     "execution_count": 149,
     "metadata": {},
     "output_type": "execute_result"
    }
   ],
   "source": [
    "if classification:\n",
    "    class_percentage = y_balance=df[y].mean()[0]/(df[y].max()-df[y].min())\n",
    "    if class_percentage < balance_threshold:\n",
    "        balance_y=True\n",
    "        \n",
    "\n",
    "print(run_time)\n",
    "type(run_time)"
   ]
  },
  {
   "cell_type": "markdown",
   "metadata": {},
   "source": [
    "## Cross-validate rather than take a test training split with 1350 seconds"
   ]
  },
  {
   "cell_type": "code",
   "execution_count": 150,
   "metadata": {},
   "outputs": [
    {
     "name": "stdout",
     "output_type": "stream",
     "text": [
      "AutoML progress: |████████████████████████████████████████████████████████| 100%\n"
     ]
    }
   ],
   "source": [
    "# automl\n",
    "# runs for run_time seconds then builds a stacked ensemble\n",
    "\n",
    "aml = H2OAutoML(max_runtime_secs=run_time,project_name = project) # init automl, run for 1350 seconds\n",
    "aml.train(x=X,  \n",
    "           y=y,\n",
    "           training_frame=hp)"
   ]
  },
  {
   "cell_type": "markdown",
   "metadata": {},
   "source": [
    "## Leaderboard"
   ]
  },
  {
   "cell_type": "code",
   "execution_count": 151,
   "metadata": {},
   "outputs": [
    {
     "data": {
      "text/html": [
       "<table>\n",
       "<thead>\n",
       "<tr><th>model_id                             </th><th style=\"text-align: right;\">  mean_residual_deviance</th><th style=\"text-align: right;\">   rmse</th><th style=\"text-align: right;\">    mse</th><th style=\"text-align: right;\">    mae</th><th style=\"text-align: right;\">      rmsle</th></tr>\n",
       "</thead>\n",
       "<tbody>\n",
       "<tr><td>GBM_2_AutoML_20190415_140606         </td><td style=\"text-align: right;\">                 13.6595</td><td style=\"text-align: right;\">3.69587</td><td style=\"text-align: right;\">13.6595</td><td style=\"text-align: right;\">2.23637</td><td style=\"text-align: right;\">  0.0503004</td></tr>\n",
       "<tr><td>GBM_1_AutoML_20190415_140606         </td><td style=\"text-align: right;\">                 14.7516</td><td style=\"text-align: right;\">3.84078</td><td style=\"text-align: right;\">14.7516</td><td style=\"text-align: right;\">2.46137</td><td style=\"text-align: right;\">  0.0743702</td></tr>\n",
       "<tr><td>XGBoost_1_AutoML_20190415_153045     </td><td style=\"text-align: right;\">                 18.5945</td><td style=\"text-align: right;\">4.31213</td><td style=\"text-align: right;\">18.5945</td><td style=\"text-align: right;\">2.57595</td><td style=\"text-align: right;\">  0.0558159</td></tr>\n",
       "<tr><td>XGBoost_3_AutoML_20190415_140606     </td><td style=\"text-align: right;\">                 20.5768</td><td style=\"text-align: right;\">4.53616</td><td style=\"text-align: right;\">20.5768</td><td style=\"text-align: right;\">2.98153</td><td style=\"text-align: right;\">nan        </td></tr>\n",
       "<tr><td>DeepLearning_1_AutoML_20190415_140606</td><td style=\"text-align: right;\">                 22.1069</td><td style=\"text-align: right;\">4.7018 </td><td style=\"text-align: right;\">22.1069</td><td style=\"text-align: right;\">3.04543</td><td style=\"text-align: right;\">nan        </td></tr>\n",
       "<tr><td>XGBoost_2_AutoML_20190415_153045     </td><td style=\"text-align: right;\">                 23.1827</td><td style=\"text-align: right;\">4.81484</td><td style=\"text-align: right;\">23.1827</td><td style=\"text-align: right;\">2.80095</td><td style=\"text-align: right;\">  0.0558925</td></tr>\n",
       "<tr><td>GBM_3_AutoML_20190415_140606         </td><td style=\"text-align: right;\">                 24.4018</td><td style=\"text-align: right;\">4.93982</td><td style=\"text-align: right;\">24.4018</td><td style=\"text-align: right;\">2.99975</td><td style=\"text-align: right;\">  0.061645 </td></tr>\n",
       "<tr><td>XGBoost_1_AutoML_20190415_132427     </td><td style=\"text-align: right;\">                 27.1992</td><td style=\"text-align: right;\">5.21528</td><td style=\"text-align: right;\">27.1992</td><td style=\"text-align: right;\">3.06146</td><td style=\"text-align: right;\">  0.0586275</td></tr>\n",
       "<tr><td>XGBoost_3_AutoML_20190415_153045     </td><td style=\"text-align: right;\">                 27.6819</td><td style=\"text-align: right;\">5.26136</td><td style=\"text-align: right;\">27.6819</td><td style=\"text-align: right;\">3.46304</td><td style=\"text-align: right;\">nan        </td></tr>\n",
       "<tr><td>XGBoost_1_AutoML_20190415_140606     </td><td style=\"text-align: right;\">                 28.1459</td><td style=\"text-align: right;\">5.30527</td><td style=\"text-align: right;\">28.1459</td><td style=\"text-align: right;\">3.03397</td><td style=\"text-align: right;\">  0.0549983</td></tr>\n",
       "</tbody>\n",
       "</table>"
      ]
     },
     "metadata": {},
     "output_type": "display_data"
    },
    {
     "data": {
      "text/plain": []
     },
     "execution_count": 151,
     "metadata": {},
     "output_type": "execute_result"
    }
   ],
   "source": [
    "# view leaderboard\n",
    "lb = aml.leaderboard\n",
    "lb"
   ]
  },
  {
   "cell_type": "code",
   "execution_count": 152,
   "metadata": {},
   "outputs": [
    {
     "name": "stdout",
     "output_type": "stream",
     "text": [
      "Model Details\n",
      "=============\n",
      "H2OGradientBoostingEstimator :  Gradient Boosting Machine\n",
      "Model Key:  GBM_2_AutoML_20190415_140606\n",
      "\n",
      "\n",
      "ModelMetricsRegression: gbm\n",
      "** Reported on train data. **\n",
      "\n",
      "MSE: 3.556537946863229\n",
      "RMSE: 1.8858785610063096\n",
      "MAE: 1.329610430616059\n",
      "RMSLE: 0.03778323991165253\n",
      "Mean Residual Deviance: 3.556537946863229\n",
      "\n",
      "ModelMetricsRegression: gbm\n",
      "** Reported on cross-validation data. **\n",
      "\n",
      "MSE: 13.659468681676746\n",
      "RMSE: 3.6958718432430455\n",
      "MAE: 2.2363725436260253\n",
      "RMSLE: 0.05030042133333145\n",
      "Mean Residual Deviance: 13.659468681676746\n",
      "Cross-Validation Metrics Summary: \n"
     ]
    },
    {
     "data": {
      "text/html": [
       "<div style=\"overflow:auto\"><table style=\"width:50%\"><tr><td><b></b></td>\n",
       "<td><b>mean</b></td>\n",
       "<td><b>sd</b></td>\n",
       "<td><b>cv_1_valid</b></td>\n",
       "<td><b>cv_2_valid</b></td>\n",
       "<td><b>cv_3_valid</b></td>\n",
       "<td><b>cv_4_valid</b></td>\n",
       "<td><b>cv_5_valid</b></td></tr>\n",
       "<tr><td>mae</td>\n",
       "<td>2.2363746</td>\n",
       "<td>0.0267098</td>\n",
       "<td>2.2271378</td>\n",
       "<td>2.2134018</td>\n",
       "<td>2.183275</td>\n",
       "<td>2.2846265</td>\n",
       "<td>2.2734323</td></tr>\n",
       "<tr><td>mean_residual_deviance</td>\n",
       "<td>13.659458</td>\n",
       "<td>0.8520871</td>\n",
       "<td>12.272043</td>\n",
       "<td>12.453506</td>\n",
       "<td>15.115801</td>\n",
       "<td>14.974274</td>\n",
       "<td>13.4816675</td></tr>\n",
       "<tr><td>mse</td>\n",
       "<td>13.659458</td>\n",
       "<td>0.8520871</td>\n",
       "<td>12.272043</td>\n",
       "<td>12.453506</td>\n",
       "<td>15.115801</td>\n",
       "<td>14.974274</td>\n",
       "<td>13.4816675</td></tr>\n",
       "<tr><td>r2</td>\n",
       "<td>0.9995847</td>\n",
       "<td>0.0000267</td>\n",
       "<td>0.9996275</td>\n",
       "<td>0.9996244</td>\n",
       "<td>0.9995379</td>\n",
       "<td>0.9995458</td>\n",
       "<td>0.999588</td></tr>\n",
       "<tr><td>residual_deviance</td>\n",
       "<td>13.659458</td>\n",
       "<td>0.8520871</td>\n",
       "<td>12.272043</td>\n",
       "<td>12.453506</td>\n",
       "<td>15.115801</td>\n",
       "<td>14.974274</td>\n",
       "<td>13.4816675</td></tr>\n",
       "<tr><td>rmse</td>\n",
       "<td>3.6922808</td>\n",
       "<td>0.1151528</td>\n",
       "<td>3.5031476</td>\n",
       "<td>3.5289526</td>\n",
       "<td>3.8879044</td>\n",
       "<td>3.8696606</td>\n",
       "<td>3.671739</td></tr>\n",
       "<tr><td>rmsle</td>\n",
       "<td>0.0501792</td>\n",
       "<td>0.0024688</td>\n",
       "<td>0.0524656</td>\n",
       "<td>0.0519851</td>\n",
       "<td>0.0433970</td>\n",
       "<td>0.0503318</td>\n",
       "<td>0.0527167</td></tr></table></div>"
      ],
      "text/plain": [
       "                        mean       sd           cv_1_valid    cv_2_valid    cv_3_valid    cv_4_valid    cv_5_valid\n",
       "----------------------  ---------  -----------  ------------  ------------  ------------  ------------  ------------\n",
       "mae                     2.23637    0.0267098    2.22714       2.2134        2.18328       2.28463       2.27343\n",
       "mean_residual_deviance  13.6595    0.852087     12.272        12.4535       15.1158       14.9743       13.4817\n",
       "mse                     13.6595    0.852087     12.272        12.4535       15.1158       14.9743       13.4817\n",
       "r2                      0.999585   2.66818e-05  0.999628      0.999624      0.999538      0.999546      0.999588\n",
       "residual_deviance       13.6595    0.852087     12.272        12.4535       15.1158       14.9743       13.4817\n",
       "rmse                    3.69228    0.115153     3.50315       3.52895       3.8879        3.86966       3.67174\n",
       "rmsle                   0.0501792  0.0024688    0.0524656     0.0519851     0.043397      0.0503318     0.0527167"
      ]
     },
     "metadata": {},
     "output_type": "display_data"
    },
    {
     "name": "stdout",
     "output_type": "stream",
     "text": [
      "Scoring History: \n"
     ]
    },
    {
     "data": {
      "text/html": [
       "<div style=\"overflow:auto\"><table style=\"width:50%\"><tr><td><b></b></td>\n",
       "<td><b>timestamp</b></td>\n",
       "<td><b>duration</b></td>\n",
       "<td><b>number_of_trees</b></td>\n",
       "<td><b>training_rmse</b></td>\n",
       "<td><b>training_mae</b></td>\n",
       "<td><b>training_deviance</b></td></tr>\n",
       "<tr><td></td>\n",
       "<td>2019-04-15 14:21:30</td>\n",
       "<td>20.756 sec</td>\n",
       "<td>0.0</td>\n",
       "<td>181.3823804</td>\n",
       "<td>142.3998489</td>\n",
       "<td>32899.5679309</td></tr>\n",
       "<tr><td></td>\n",
       "<td>2019-04-15 14:21:30</td>\n",
       "<td>20.816 sec</td>\n",
       "<td>5.0</td>\n",
       "<td>110.2175989</td>\n",
       "<td>86.0947452</td>\n",
       "<td>12147.9191000</td></tr>\n",
       "<tr><td></td>\n",
       "<td>2019-04-15 14:21:31</td>\n",
       "<td>20.872 sec</td>\n",
       "<td>10.0</td>\n",
       "<td>66.3889144</td>\n",
       "<td>51.7557333</td>\n",
       "<td>4407.4879592</td></tr>\n",
       "<tr><td></td>\n",
       "<td>2019-04-15 14:21:31</td>\n",
       "<td>20.929 sec</td>\n",
       "<td>15.0</td>\n",
       "<td>40.2330785</td>\n",
       "<td>31.2923802</td>\n",
       "<td>1618.7006093</td></tr>\n",
       "<tr><td></td>\n",
       "<td>2019-04-15 14:21:31</td>\n",
       "<td>20.990 sec</td>\n",
       "<td>20.0</td>\n",
       "<td>24.3563616</td>\n",
       "<td>18.8857236</td>\n",
       "<td>593.2323487</td></tr>\n",
       "<tr><td>---</td>\n",
       "<td>---</td>\n",
       "<td>---</td>\n",
       "<td>---</td>\n",
       "<td>---</td>\n",
       "<td>---</td>\n",
       "<td>---</td></tr>\n",
       "<tr><td></td>\n",
       "<td>2019-04-15 14:21:34</td>\n",
       "<td>24.105 sec</td>\n",
       "<td>325.0</td>\n",
       "<td>1.9341106</td>\n",
       "<td>1.3611197</td>\n",
       "<td>3.7407840</td></tr>\n",
       "<tr><td></td>\n",
       "<td>2019-04-15 14:21:34</td>\n",
       "<td>24.153 sec</td>\n",
       "<td>330.0</td>\n",
       "<td>1.9193177</td>\n",
       "<td>1.3511207</td>\n",
       "<td>3.6837805</td></tr>\n",
       "<tr><td></td>\n",
       "<td>2019-04-15 14:21:34</td>\n",
       "<td>24.203 sec</td>\n",
       "<td>335.0</td>\n",
       "<td>1.9035137</td>\n",
       "<td>1.3407045</td>\n",
       "<td>3.6233646</td></tr>\n",
       "<tr><td></td>\n",
       "<td>2019-04-15 14:21:34</td>\n",
       "<td>24.251 sec</td>\n",
       "<td>340.0</td>\n",
       "<td>1.8899520</td>\n",
       "<td>1.3326455</td>\n",
       "<td>3.5719187</td></tr>\n",
       "<tr><td></td>\n",
       "<td>2019-04-15 14:21:34</td>\n",
       "<td>24.264 sec</td>\n",
       "<td>341.0</td>\n",
       "<td>1.8858786</td>\n",
       "<td>1.3296104</td>\n",
       "<td>3.5565379</td></tr></table></div>"
      ],
      "text/plain": [
       "     timestamp            duration    number_of_trees    training_rmse       training_mae        training_deviance\n",
       "---  -------------------  ----------  -----------------  ------------------  ------------------  -------------------\n",
       "     2019-04-15 14:21:30  20.756 sec  0.0                181.38238043116908  142.3998489274107   32899.56793087735\n",
       "     2019-04-15 14:21:30  20.816 sec  5.0                110.21759886679122  86.09474517481601   12147.919099960898\n",
       "     2019-04-15 14:21:31  20.872 sec  10.0               66.38891442973326   51.75573332207244   4407.487959158445\n",
       "     2019-04-15 14:21:31  20.929 sec  15.0               40.23307854575903   31.292380169803113  1618.7006092692152\n",
       "     2019-04-15 14:21:31  20.990 sec  20.0               24.35636156465229   18.88572358846376   593.2323486680714\n",
       "---  ---                  ---         ---                ---                 ---                 ---\n",
       "     2019-04-15 14:21:34  24.105 sec  325.0              1.9341106375542796  1.3611197208141017  3.740783958300622\n",
       "     2019-04-15 14:21:34  24.153 sec  330.0              1.9193177271714523  1.351120712495905   3.6837805378345894\n",
       "     2019-04-15 14:21:34  24.203 sec  335.0              1.9035137469198629  1.3407044683396216  3.6233645847128955\n",
       "     2019-04-15 14:21:34  24.251 sec  340.0              1.8899520485955081  1.3326455364679535  3.5719187459903576\n",
       "     2019-04-15 14:21:34  24.264 sec  341.0              1.8858785610063096  1.329610430616059   3.556537946863229"
      ]
     },
     "metadata": {},
     "output_type": "display_data"
    },
    {
     "name": "stdout",
     "output_type": "stream",
     "text": [
      "\n",
      "See the whole table with table.as_data_frame()\n",
      "Variable Importances: \n"
     ]
    },
    {
     "data": {
      "text/html": [
       "<div style=\"overflow:auto\"><table style=\"width:50%\"><tr><td><b>variable</b></td>\n",
       "<td><b>relative_importance</b></td>\n",
       "<td><b>scaled_importance</b></td>\n",
       "<td><b>percentage</b></td></tr>\n",
       "<tr><td>registered</td>\n",
       "<td>2130546048.0000000</td>\n",
       "<td>1.0</td>\n",
       "<td>0.7697801</td></tr>\n",
       "<tr><td>casual</td>\n",
       "<td>372109920.0000000</td>\n",
       "<td>0.1746547</td>\n",
       "<td>0.1344457</td></tr>\n",
       "<tr><td>hr</td>\n",
       "<td>180179040.0000000</td>\n",
       "<td>0.0845694</td>\n",
       "<td>0.0650999</td></tr>\n",
       "<tr><td>atemp</td>\n",
       "<td>28849512.0000000</td>\n",
       "<td>0.0135409</td>\n",
       "<td>0.0104235</td></tr>\n",
       "<tr><td>instant</td>\n",
       "<td>17118302.0000000</td>\n",
       "<td>0.0080347</td>\n",
       "<td>0.0061850</td></tr>\n",
       "<tr><td>workingday</td>\n",
       "<td>13428660.0000000</td>\n",
       "<td>0.0063029</td>\n",
       "<td>0.0048519</td></tr>\n",
       "<tr><td>dteday</td>\n",
       "<td>11749982.0000000</td>\n",
       "<td>0.0055150</td>\n",
       "<td>0.0042453</td></tr>\n",
       "<tr><td>weekday</td>\n",
       "<td>7328908.0</td>\n",
       "<td>0.0034399</td>\n",
       "<td>0.0026480</td></tr>\n",
       "<tr><td>season</td>\n",
       "<td>1932199.3750000</td>\n",
       "<td>0.0009069</td>\n",
       "<td>0.0006981</td></tr>\n",
       "<tr><td>weathersit</td>\n",
       "<td>1685819.1250000</td>\n",
       "<td>0.0007913</td>\n",
       "<td>0.0006091</td></tr>\n",
       "<tr><td>temp</td>\n",
       "<td>1248312.0</td>\n",
       "<td>0.0005859</td>\n",
       "<td>0.0004510</td></tr>\n",
       "<tr><td>hum</td>\n",
       "<td>1161755.2500000</td>\n",
       "<td>0.0005453</td>\n",
       "<td>0.0004197</td></tr>\n",
       "<tr><td>mnth</td>\n",
       "<td>240136.7968750</td>\n",
       "<td>0.0001127</td>\n",
       "<td>0.0000868</td></tr>\n",
       "<tr><td>windspeed</td>\n",
       "<td>70676.2656250</td>\n",
       "<td>0.0000332</td>\n",
       "<td>0.0000255</td></tr>\n",
       "<tr><td>yr</td>\n",
       "<td>56604.1523438</td>\n",
       "<td>0.0000266</td>\n",
       "<td>0.0000205</td></tr>\n",
       "<tr><td>holiday</td>\n",
       "<td>27433.5449219</td>\n",
       "<td>0.0000129</td>\n",
       "<td>0.0000099</td></tr></table></div>"
      ],
      "text/plain": [
       "variable    relative_importance    scaled_importance    percentage\n",
       "----------  ---------------------  -------------------  ------------\n",
       "registered  2.13055e+09            1                    0.76978\n",
       "casual      3.7211e+08             0.174655             0.134446\n",
       "hr          1.80179e+08            0.0845694            0.0650999\n",
       "atemp       2.88495e+07            0.0135409            0.0104235\n",
       "instant     1.71183e+07            0.0080347            0.00618495\n",
       "workingday  1.34287e+07            0.00630292           0.00485186\n",
       "dteday      1.175e+07              0.00551501           0.00424534\n",
       "weekday     7.32891e+06            0.00343992           0.00264798\n",
       "season      1.9322e+06             0.000906903          0.000698116\n",
       "weathersit  1.68582e+06            0.000791262          0.000609097\n",
       "temp        1.24831e+06            0.000585912          0.000451023\n",
       "hum         1.16176e+06            0.000545285          0.00041975\n",
       "mnth        240137                 0.000112711          8.6763e-05\n",
       "windspeed   70676.3                3.31728e-05          2.55358e-05\n",
       "yr          56604.2                2.65679e-05          2.04514e-05\n",
       "holiday     27433.5                1.28763e-05          9.91192e-06"
      ]
     },
     "metadata": {},
     "output_type": "display_data"
    },
    {
     "data": {
      "text/plain": []
     },
     "execution_count": 152,
     "metadata": {},
     "output_type": "execute_result"
    }
   ],
   "source": [
    "aml.leader"
   ]
  },
  {
   "cell_type": "code",
   "execution_count": 153,
   "metadata": {},
   "outputs": [
    {
     "data": {
      "text/plain": [
       "'gbm'"
      ]
     },
     "execution_count": 153,
     "metadata": {},
     "output_type": "execute_result"
    }
   ],
   "source": [
    "aml.leader.algo"
   ]
  },
  {
   "cell_type": "markdown",
   "metadata": {},
   "source": [
    "## Ensemble Exploration"
   ]
  },
  {
   "cell_type": "code",
   "execution_count": 154,
   "metadata": {},
   "outputs": [
    {
     "data": {
      "text/html": [
       "<div>\n",
       "<style scoped>\n",
       "    .dataframe tbody tr th:only-of-type {\n",
       "        vertical-align: middle;\n",
       "    }\n",
       "\n",
       "    .dataframe tbody tr th {\n",
       "        vertical-align: top;\n",
       "    }\n",
       "\n",
       "    .dataframe thead th {\n",
       "        text-align: right;\n",
       "    }\n",
       "</style>\n",
       "<table border=\"1\" class=\"dataframe\">\n",
       "  <thead>\n",
       "    <tr style=\"text-align: right;\">\n",
       "      <th></th>\n",
       "      <th>model_id</th>\n",
       "      <th>mean_residual_deviance</th>\n",
       "      <th>rmse</th>\n",
       "      <th>mse</th>\n",
       "      <th>mae</th>\n",
       "      <th>rmsle</th>\n",
       "    </tr>\n",
       "  </thead>\n",
       "  <tbody>\n",
       "    <tr>\n",
       "      <th>0</th>\n",
       "      <td>GBM_2_AutoML_20190415_140606</td>\n",
       "      <td>13.659469</td>\n",
       "      <td>3.695872</td>\n",
       "      <td>13.659469</td>\n",
       "      <td>2.236373</td>\n",
       "      <td>0.050300</td>\n",
       "    </tr>\n",
       "    <tr>\n",
       "      <th>1</th>\n",
       "      <td>GBM_1_AutoML_20190415_140606</td>\n",
       "      <td>14.751613</td>\n",
       "      <td>3.840783</td>\n",
       "      <td>14.751613</td>\n",
       "      <td>2.461372</td>\n",
       "      <td>0.074370</td>\n",
       "    </tr>\n",
       "    <tr>\n",
       "      <th>2</th>\n",
       "      <td>XGBoost_1_AutoML_20190415_153045</td>\n",
       "      <td>18.594499</td>\n",
       "      <td>4.312134</td>\n",
       "      <td>18.594499</td>\n",
       "      <td>2.575953</td>\n",
       "      <td>0.055816</td>\n",
       "    </tr>\n",
       "    <tr>\n",
       "      <th>3</th>\n",
       "      <td>XGBoost_3_AutoML_20190415_140606</td>\n",
       "      <td>20.576779</td>\n",
       "      <td>4.536163</td>\n",
       "      <td>20.576779</td>\n",
       "      <td>2.981534</td>\n",
       "      <td>NaN</td>\n",
       "    </tr>\n",
       "    <tr>\n",
       "      <th>4</th>\n",
       "      <td>DeepLearning_1_AutoML_20190415_140606</td>\n",
       "      <td>22.106920</td>\n",
       "      <td>4.701800</td>\n",
       "      <td>22.106920</td>\n",
       "      <td>3.045435</td>\n",
       "      <td>NaN</td>\n",
       "    </tr>\n",
       "    <tr>\n",
       "      <th>5</th>\n",
       "      <td>XGBoost_2_AutoML_20190415_153045</td>\n",
       "      <td>23.182681</td>\n",
       "      <td>4.814840</td>\n",
       "      <td>23.182681</td>\n",
       "      <td>2.800951</td>\n",
       "      <td>0.055892</td>\n",
       "    </tr>\n",
       "    <tr>\n",
       "      <th>6</th>\n",
       "      <td>GBM_3_AutoML_20190415_140606</td>\n",
       "      <td>24.401839</td>\n",
       "      <td>4.939822</td>\n",
       "      <td>24.401839</td>\n",
       "      <td>2.999746</td>\n",
       "      <td>0.061645</td>\n",
       "    </tr>\n",
       "    <tr>\n",
       "      <th>7</th>\n",
       "      <td>XGBoost_1_AutoML_20190415_132427</td>\n",
       "      <td>27.199157</td>\n",
       "      <td>5.215281</td>\n",
       "      <td>27.199157</td>\n",
       "      <td>3.061465</td>\n",
       "      <td>0.058628</td>\n",
       "    </tr>\n",
       "    <tr>\n",
       "      <th>8</th>\n",
       "      <td>XGBoost_3_AutoML_20190415_153045</td>\n",
       "      <td>27.681903</td>\n",
       "      <td>5.261359</td>\n",
       "      <td>27.681903</td>\n",
       "      <td>3.463045</td>\n",
       "      <td>NaN</td>\n",
       "    </tr>\n",
       "    <tr>\n",
       "      <th>9</th>\n",
       "      <td>XGBoost_1_AutoML_20190415_140606</td>\n",
       "      <td>28.145906</td>\n",
       "      <td>5.305272</td>\n",
       "      <td>28.145906</td>\n",
       "      <td>3.033973</td>\n",
       "      <td>0.054998</td>\n",
       "    </tr>\n",
       "    <tr>\n",
       "      <th>10</th>\n",
       "      <td>GBM_5_AutoML_20190415_140606</td>\n",
       "      <td>32.251546</td>\n",
       "      <td>5.679045</td>\n",
       "      <td>32.251546</td>\n",
       "      <td>2.527056</td>\n",
       "      <td>0.033433</td>\n",
       "    </tr>\n",
       "    <tr>\n",
       "      <th>11</th>\n",
       "      <td>XGBoost_2_AutoML_20190415_140606</td>\n",
       "      <td>35.304926</td>\n",
       "      <td>5.941795</td>\n",
       "      <td>35.304926</td>\n",
       "      <td>3.426821</td>\n",
       "      <td>0.077240</td>\n",
       "    </tr>\n",
       "    <tr>\n",
       "      <th>12</th>\n",
       "      <td>GLM_grid_1_AutoML_20190415_140606_model_1</td>\n",
       "      <td>38.387049</td>\n",
       "      <td>6.195728</td>\n",
       "      <td>38.387049</td>\n",
       "      <td>4.451969</td>\n",
       "      <td>NaN</td>\n",
       "    </tr>\n",
       "    <tr>\n",
       "      <th>13</th>\n",
       "      <td>GLM_grid_1_AutoML_20190415_153045_model_1</td>\n",
       "      <td>38.387049</td>\n",
       "      <td>6.195728</td>\n",
       "      <td>38.387049</td>\n",
       "      <td>4.451969</td>\n",
       "      <td>NaN</td>\n",
       "    </tr>\n",
       "    <tr>\n",
       "      <th>14</th>\n",
       "      <td>XGBoost_2_AutoML_20190415_132427</td>\n",
       "      <td>43.973221</td>\n",
       "      <td>6.631231</td>\n",
       "      <td>43.973221</td>\n",
       "      <td>3.814462</td>\n",
       "      <td>NaN</td>\n",
       "    </tr>\n",
       "    <tr>\n",
       "      <th>15</th>\n",
       "      <td>DRF_1_AutoML_20190415_140606</td>\n",
       "      <td>46.040666</td>\n",
       "      <td>6.785327</td>\n",
       "      <td>46.040666</td>\n",
       "      <td>3.669118</td>\n",
       "      <td>0.077072</td>\n",
       "    </tr>\n",
       "    <tr>\n",
       "      <th>16</th>\n",
       "      <td>GBM_4_AutoML_20190415_140606</td>\n",
       "      <td>53.895230</td>\n",
       "      <td>7.341337</td>\n",
       "      <td>53.895230</td>\n",
       "      <td>4.276671</td>\n",
       "      <td>0.071256</td>\n",
       "    </tr>\n",
       "    <tr>\n",
       "      <th>17</th>\n",
       "      <td>StackedEnsemble_BestOfFamily_AutoML_20190415_1...</td>\n",
       "      <td>61.476120</td>\n",
       "      <td>7.840671</td>\n",
       "      <td>61.476120</td>\n",
       "      <td>5.587008</td>\n",
       "      <td>0.300751</td>\n",
       "    </tr>\n",
       "    <tr>\n",
       "      <th>18</th>\n",
       "      <td>XGBoost_3_AutoML_20190415_132427</td>\n",
       "      <td>139.333790</td>\n",
       "      <td>11.803973</td>\n",
       "      <td>139.333790</td>\n",
       "      <td>7.610132</td>\n",
       "      <td>0.177492</td>\n",
       "    </tr>\n",
       "    <tr>\n",
       "      <th>19</th>\n",
       "      <td>StackedEnsemble_AllModels_AutoML_20190415_132427</td>\n",
       "      <td>201.846196</td>\n",
       "      <td>14.207259</td>\n",
       "      <td>201.846196</td>\n",
       "      <td>10.643510</td>\n",
       "      <td>0.456550</td>\n",
       "    </tr>\n",
       "    <tr>\n",
       "      <th>20</th>\n",
       "      <td>XRT_1_AutoML_20190415_140606</td>\n",
       "      <td>268.784270</td>\n",
       "      <td>16.394641</td>\n",
       "      <td>268.784270</td>\n",
       "      <td>8.910786</td>\n",
       "      <td>0.149534</td>\n",
       "    </tr>\n",
       "    <tr>\n",
       "      <th>21</th>\n",
       "      <td>StackedEnsemble_BestOfFamily_AutoML_20190415_1...</td>\n",
       "      <td>1169.735475</td>\n",
       "      <td>34.201396</td>\n",
       "      <td>1169.735475</td>\n",
       "      <td>26.706882</td>\n",
       "      <td>0.767977</td>\n",
       "    </tr>\n",
       "    <tr>\n",
       "      <th>22</th>\n",
       "      <td>GLM_grid_1_AutoML_20190415_132427_model_1</td>\n",
       "      <td>32892.826829</td>\n",
       "      <td>181.363797</td>\n",
       "      <td>32892.826829</td>\n",
       "      <td>142.384496</td>\n",
       "      <td>1.570107</td>\n",
       "    </tr>\n",
       "  </tbody>\n",
       "</table>\n",
       "</div>"
      ],
      "text/plain": [
       "                                             model_id  mean_residual_deviance  \\\n",
       "0                        GBM_2_AutoML_20190415_140606               13.659469   \n",
       "1                        GBM_1_AutoML_20190415_140606               14.751613   \n",
       "2                    XGBoost_1_AutoML_20190415_153045               18.594499   \n",
       "3                    XGBoost_3_AutoML_20190415_140606               20.576779   \n",
       "4               DeepLearning_1_AutoML_20190415_140606               22.106920   \n",
       "5                    XGBoost_2_AutoML_20190415_153045               23.182681   \n",
       "6                        GBM_3_AutoML_20190415_140606               24.401839   \n",
       "7                    XGBoost_1_AutoML_20190415_132427               27.199157   \n",
       "8                    XGBoost_3_AutoML_20190415_153045               27.681903   \n",
       "9                    XGBoost_1_AutoML_20190415_140606               28.145906   \n",
       "10                       GBM_5_AutoML_20190415_140606               32.251546   \n",
       "11                   XGBoost_2_AutoML_20190415_140606               35.304926   \n",
       "12          GLM_grid_1_AutoML_20190415_140606_model_1               38.387049   \n",
       "13          GLM_grid_1_AutoML_20190415_153045_model_1               38.387049   \n",
       "14                   XGBoost_2_AutoML_20190415_132427               43.973221   \n",
       "15                       DRF_1_AutoML_20190415_140606               46.040666   \n",
       "16                       GBM_4_AutoML_20190415_140606               53.895230   \n",
       "17  StackedEnsemble_BestOfFamily_AutoML_20190415_1...               61.476120   \n",
       "18                   XGBoost_3_AutoML_20190415_132427              139.333790   \n",
       "19   StackedEnsemble_AllModels_AutoML_20190415_132427              201.846196   \n",
       "20                       XRT_1_AutoML_20190415_140606              268.784270   \n",
       "21  StackedEnsemble_BestOfFamily_AutoML_20190415_1...             1169.735475   \n",
       "22          GLM_grid_1_AutoML_20190415_132427_model_1            32892.826829   \n",
       "\n",
       "          rmse           mse         mae     rmsle  \n",
       "0     3.695872     13.659469    2.236373  0.050300  \n",
       "1     3.840783     14.751613    2.461372  0.074370  \n",
       "2     4.312134     18.594499    2.575953  0.055816  \n",
       "3     4.536163     20.576779    2.981534       NaN  \n",
       "4     4.701800     22.106920    3.045435       NaN  \n",
       "5     4.814840     23.182681    2.800951  0.055892  \n",
       "6     4.939822     24.401839    2.999746  0.061645  \n",
       "7     5.215281     27.199157    3.061465  0.058628  \n",
       "8     5.261359     27.681903    3.463045       NaN  \n",
       "9     5.305272     28.145906    3.033973  0.054998  \n",
       "10    5.679045     32.251546    2.527056  0.033433  \n",
       "11    5.941795     35.304926    3.426821  0.077240  \n",
       "12    6.195728     38.387049    4.451969       NaN  \n",
       "13    6.195728     38.387049    4.451969       NaN  \n",
       "14    6.631231     43.973221    3.814462       NaN  \n",
       "15    6.785327     46.040666    3.669118  0.077072  \n",
       "16    7.341337     53.895230    4.276671  0.071256  \n",
       "17    7.840671     61.476120    5.587008  0.300751  \n",
       "18   11.803973    139.333790    7.610132  0.177492  \n",
       "19   14.207259    201.846196   10.643510  0.456550  \n",
       "20   16.394641    268.784270    8.910786  0.149534  \n",
       "21   34.201396   1169.735475   26.706882  0.767977  \n",
       "22  181.363797  32892.826829  142.384496  1.570107  "
      ]
     },
     "execution_count": 154,
     "metadata": {},
     "output_type": "execute_result"
    }
   ],
   "source": [
    "aml_leaderboard_df=aml.leaderboard.as_data_frame()\n",
    "aml_leaderboard_df"
   ]
  },
  {
   "cell_type": "markdown",
   "metadata": {},
   "source": [
    "## Getting models"
   ]
  },
  {
   "cell_type": "markdown",
   "metadata": {},
   "source": [
    "### Parameters for GBM_2_AutoML_20190408_171007"
   ]
  },
  {
   "cell_type": "code",
   "execution_count": 155,
   "metadata": {},
   "outputs": [],
   "source": [
    "aml_leaderboard_df=aml.leaderboard.as_data_frame()\n",
    "model_set=aml_leaderboard_df['model_id']\n",
    "mod_best=h2o.get_model(model_set[0])"
   ]
  },
  {
   "cell_type": "code",
   "execution_count": 156,
   "metadata": {},
   "outputs": [
    {
     "data": {
      "text/plain": [
       "{'model_id': {'default': None,\n",
       "  'actual': {'__meta': {'schema_version': 3,\n",
       "    'schema_name': 'ModelKeyV3',\n",
       "    'schema_type': 'Key<Model>'},\n",
       "   'name': 'GBM_2_AutoML_20190415_140606',\n",
       "   'type': 'Key<Model>',\n",
       "   'URL': '/3/Models/GBM_2_AutoML_20190415_140606'}},\n",
       " 'training_frame': {'default': None,\n",
       "  'actual': {'__meta': {'schema_version': 3,\n",
       "    'schema_name': 'FrameKeyV3',\n",
       "    'schema_type': 'Key<Frame>'},\n",
       "   'name': 'automl_training_hour.hex',\n",
       "   'type': 'Key<Frame>',\n",
       "   'URL': '/3/Frames/automl_training_hour.hex'}},\n",
       " 'validation_frame': {'default': None, 'actual': None},\n",
       " 'nfolds': {'default': 0, 'actual': 5},\n",
       " 'keep_cross_validation_models': {'default': True, 'actual': False},\n",
       " 'keep_cross_validation_predictions': {'default': False, 'actual': True},\n",
       " 'keep_cross_validation_fold_assignment': {'default': False, 'actual': False},\n",
       " 'score_each_iteration': {'default': False, 'actual': False},\n",
       " 'score_tree_interval': {'default': 0, 'actual': 5},\n",
       " 'fold_assignment': {'default': 'AUTO', 'actual': 'Modulo'},\n",
       " 'fold_column': {'default': None, 'actual': None},\n",
       " 'response_column': {'default': None,\n",
       "  'actual': {'__meta': {'schema_version': 3,\n",
       "    'schema_name': 'ColSpecifierV3',\n",
       "    'schema_type': 'VecSpecifier'},\n",
       "   'column_name': 'cnt',\n",
       "   'is_member_of_frames': None}},\n",
       " 'ignored_columns': {'default': None, 'actual': []},\n",
       " 'ignore_const_cols': {'default': True, 'actual': True},\n",
       " 'offset_column': {'default': None, 'actual': None},\n",
       " 'weights_column': {'default': None, 'actual': None},\n",
       " 'balance_classes': {'default': False, 'actual': False},\n",
       " 'class_sampling_factors': {'default': None, 'actual': None},\n",
       " 'max_after_balance_size': {'default': 5.0, 'actual': 5.0},\n",
       " 'max_confusion_matrix_size': {'default': 20, 'actual': 20},\n",
       " 'max_hit_ratio_k': {'default': 0, 'actual': 0},\n",
       " 'ntrees': {'default': 50, 'actual': 135},\n",
       " 'max_depth': {'default': 5, 'actual': 15},\n",
       " 'min_rows': {'default': 10.0, 'actual': 100.0},\n",
       " 'nbins': {'default': 20, 'actual': 20},\n",
       " 'nbins_top_level': {'default': 1024, 'actual': 1024},\n",
       " 'nbins_cats': {'default': 1024, 'actual': 1024},\n",
       " 'r2_stopping': {'default': 1.7976931348623157e+308,\n",
       "  'actual': 1.7976931348623157e+308},\n",
       " 'stopping_rounds': {'default': 0, 'actual': 0},\n",
       " 'stopping_metric': {'default': 'AUTO', 'actual': 'deviance'},\n",
       " 'stopping_tolerance': {'default': 0.001, 'actual': 0.007585559310450486},\n",
       " 'max_runtime_secs': {'default': 0.0, 'actual': 0.0},\n",
       " 'seed': {'default': -1, 'actual': -1958967086463687931},\n",
       " 'build_tree_one_node': {'default': False, 'actual': False},\n",
       " 'learn_rate': {'default': 0.1, 'actual': 0.1},\n",
       " 'learn_rate_annealing': {'default': 1.0, 'actual': 1.0},\n",
       " 'distribution': {'default': 'AUTO', 'actual': 'gaussian'},\n",
       " 'quantile_alpha': {'default': 0.5, 'actual': 0.5},\n",
       " 'tweedie_power': {'default': 1.5, 'actual': 1.5},\n",
       " 'huber_alpha': {'default': 0.9, 'actual': 0.9},\n",
       " 'checkpoint': {'default': None, 'actual': None},\n",
       " 'sample_rate': {'default': 1.0, 'actual': 0.8},\n",
       " 'sample_rate_per_class': {'default': None, 'actual': None},\n",
       " 'col_sample_rate': {'default': 1.0, 'actual': 0.8},\n",
       " 'col_sample_rate_change_per_level': {'default': 1.0, 'actual': 1.0},\n",
       " 'col_sample_rate_per_tree': {'default': 1.0, 'actual': 0.8},\n",
       " 'min_split_improvement': {'default': 1e-05, 'actual': 1e-05},\n",
       " 'histogram_type': {'default': 'AUTO', 'actual': 'AUTO'},\n",
       " 'max_abs_leafnode_pred': {'default': 1.7976931348623157e+308,\n",
       "  'actual': 1.7976931348623157e+308},\n",
       " 'pred_noise_bandwidth': {'default': 0.0, 'actual': 0.0},\n",
       " 'categorical_encoding': {'default': 'AUTO', 'actual': 'AUTO'},\n",
       " 'calibrate_model': {'default': False, 'actual': False},\n",
       " 'calibration_frame': {'default': None, 'actual': None},\n",
       " 'custom_metric_func': {'default': None, 'actual': None},\n",
       " 'export_checkpoints_dir': {'default': None, 'actual': None},\n",
       " 'monotone_constraints': {'default': None, 'actual': None},\n",
       " 'check_constant_response': {'default': True, 'actual': True}}"
      ]
     },
     "execution_count": 156,
     "metadata": {},
     "output_type": "execute_result"
    }
   ],
   "source": [
    "mod_best.params"
   ]
  },
  {
   "cell_type": "code",
   "execution_count": 157,
   "metadata": {},
   "outputs": [],
   "source": [
    "hy_parameter = mod_best.params\n",
    "n=run_id+'_GBM_2_AutoML_20190415_140606.json'\n",
    "dict_to_json(hy_parameter,n)"
   ]
  },
  {
   "cell_type": "markdown",
   "metadata": {},
   "source": [
    "### Generating all the parameters for the models for json file in the below code"
   ]
  },
  {
   "cell_type": "code",
   "execution_count": 158,
   "metadata": {},
   "outputs": [],
   "source": [
    "aml_leaderboard_df=aml.leaderboard.as_data_frame()\n",
    "model_set=aml_leaderboard_df['model_id']\n",
    "mod_best=h2o.get_model(model_set[1])"
   ]
  },
  {
   "cell_type": "markdown",
   "metadata": {},
   "source": []
  },
  {
   "cell_type": "code",
   "execution_count": null,
   "metadata": {},
   "outputs": [],
   "source": []
  },
  {
   "cell_type": "code",
   "execution_count": null,
   "metadata": {},
   "outputs": [],
   "source": []
  },
  {
   "cell_type": "markdown",
   "metadata": {},
   "source": [
    "### Parameters for XGBoost_1_AutoML_20190408_171007"
   ]
  },
  {
   "cell_type": "code",
   "execution_count": null,
   "metadata": {},
   "outputs": [],
   "source": [
    "aml_leaderboard_df=aml.leaderboard.as_data_frame()\n",
    "model_set=aml_leaderboard_df['model_id']\n",
    "mod_best=h2o.get_model(model_set[3])"
   ]
  },
  {
   "cell_type": "code",
   "execution_count": null,
   "metadata": {},
   "outputs": [],
   "source": [
    "mod_best.params"
   ]
  },
  {
   "cell_type": "markdown",
   "metadata": {},
   "source": [
    "### Parameters for DRF_1_AutoML_20190408_171007"
   ]
  },
  {
   "cell_type": "code",
   "execution_count": null,
   "metadata": {},
   "outputs": [],
   "source": [
    "aml_leaderboard_df=aml.leaderboard.as_data_frame()\n",
    "model_set=aml_leaderboard_df['model_id']\n",
    "mod_best=h2o.get_model(model_set[20])"
   ]
  },
  {
   "cell_type": "code",
   "execution_count": null,
   "metadata": {},
   "outputs": [],
   "source": [
    "mod_best.params"
   ]
  },
  {
   "cell_type": "markdown",
   "metadata": {},
   "source": [
    "## Model with runtime 1500 seconds"
   ]
  },
  {
   "cell_type": "code",
   "execution_count": null,
   "metadata": {},
   "outputs": [],
   "source": [
    "# Assume the following are passed by the user from the web interface\n",
    "\n",
    "'''\n",
    "Need a user id and project id?\n",
    "\n",
    "'''\n",
    "target='cnt' \n",
    "data_file='hour.csv'\n",
    "run_time=1500\n",
    "run_id='SOME_ID_20180617_221531' # Just some arbitrary ID\n",
    "server_path='Users/newzysharma/Desktop/Desktop/Machine_Learning/Project'\n",
    "classification=False\n",
    "scale=False\n",
    "max_models=None\n",
    "balance_y=False # balance_classes=balance_y\n",
    "balance_threshold=0.2\n",
    "project =\"HyperparameterDB_Project\"  # project_name = project"
   ]
  },
  {
   "cell_type": "code",
   "execution_count": null,
   "metadata": {},
   "outputs": [],
   "source": [
    "# Use local data file or download from some type of bucket\n",
    "import os\n",
    "\n",
    "data_path=os.path.join(server_path,data_file)\n",
    "data_path"
   ]
  },
  {
   "cell_type": "code",
   "execution_count": null,
   "metadata": {},
   "outputs": [],
   "source": [
    "# assign target and inputs for logistic regression\n",
    "y = target\n",
    "X = [name for name in hp.columns if name != y]\n",
    "print(y)\n",
    "print(X)"
   ]
  },
  {
   "cell_type": "code",
   "execution_count": null,
   "metadata": {},
   "outputs": [],
   "source": [
    "# impute missing values\n",
    "_ = hp[reals].impute(method='mean')\n",
    "_ = hp[ints].impute(method='median')\n",
    "\n",
    "if scale:\n",
    "    hp[reals] = hp[reals].scale()\n",
    "    hp[ints] = hp[ints].scale()"
   ]
  },
  {
   "cell_type": "code",
   "execution_count": null,
   "metadata": {},
   "outputs": [],
   "source": [
    "if classification:\n",
    "    class_percentage = y_balance=df[y].mean()[0]/(df[y].max()-df[y].min())\n",
    "    if class_percentage < balance_threshold:\n",
    "        balance_y=True\n",
    "        \n",
    "\n",
    "print(run_time)\n",
    "type(run_time)"
   ]
  },
  {
   "cell_type": "markdown",
   "metadata": {},
   "source": [
    "## Cross-validate rather than take a test training split with 1500 seconds"
   ]
  },
  {
   "cell_type": "code",
   "execution_count": null,
   "metadata": {},
   "outputs": [],
   "source": [
    "# automl\n",
    "# runs for run_time seconds then builds a stacked ensemble\n",
    "\n",
    "aml = H2OAutoML(max_runtime_secs=run_time,project_name = project) # init automl, run for 1500 seconds\n",
    "aml.train(x=X,  \n",
    "           y=y,\n",
    "           training_frame=hp)"
   ]
  },
  {
   "cell_type": "markdown",
   "metadata": {},
   "source": [
    "## Leaderboard"
   ]
  },
  {
   "cell_type": "code",
   "execution_count": null,
   "metadata": {},
   "outputs": [],
   "source": [
    "# view leaderboard\n",
    "lb = aml.leaderboard\n",
    "lb"
   ]
  },
  {
   "cell_type": "code",
   "execution_count": null,
   "metadata": {},
   "outputs": [],
   "source": [
    "aml.leader"
   ]
  },
  {
   "cell_type": "code",
   "execution_count": null,
   "metadata": {},
   "outputs": [],
   "source": [
    "aml.leader.algo"
   ]
  },
  {
   "cell_type": "markdown",
   "metadata": {},
   "source": [
    "## Ensemble Exploration"
   ]
  },
  {
   "cell_type": "code",
   "execution_count": null,
   "metadata": {},
   "outputs": [],
   "source": [
    "aml_leaderboard_df=aml.leaderboard.as_data_frame()\n",
    "aml_leaderboard_df"
   ]
  },
  {
   "cell_type": "markdown",
   "metadata": {},
   "source": [
    "## Getting Models"
   ]
  },
  {
   "cell_type": "markdown",
   "metadata": {},
   "source": [
    "### Parameters for GBM_2_AutoML_20190408_171007"
   ]
  },
  {
   "cell_type": "code",
   "execution_count": null,
   "metadata": {},
   "outputs": [],
   "source": [
    "aml_leaderboard_df=aml.leaderboard.as_data_frame()\n",
    "model_set=aml_leaderboard_df['model_id']\n",
    "mod_best=h2o.get_model(model_set[0])"
   ]
  },
  {
   "cell_type": "code",
   "execution_count": null,
   "metadata": {},
   "outputs": [],
   "source": [
    "mod_best.params"
   ]
  },
  {
   "cell_type": "markdown",
   "metadata": {},
   "source": [
    "### Parameters for XGBoost_1_AutoML_20190408_171007\t"
   ]
  },
  {
   "cell_type": "code",
   "execution_count": null,
   "metadata": {},
   "outputs": [],
   "source": [
    "aml_leaderboard_df=aml.leaderboard.as_data_frame()\n",
    "model_set=aml_leaderboard_df['model_id']\n",
    "mod_best=h2o.get_model(model_set[5])"
   ]
  },
  {
   "cell_type": "code",
   "execution_count": null,
   "metadata": {},
   "outputs": [],
   "source": [
    "mod_best.params"
   ]
  },
  {
   "cell_type": "markdown",
   "metadata": {},
   "source": [
    "### Parameters for DRF_1_AutoML_20190408_171007"
   ]
  },
  {
   "cell_type": "code",
   "execution_count": null,
   "metadata": {},
   "outputs": [],
   "source": [
    "aml_leaderboard_df=aml.leaderboard.as_data_frame()\n",
    "model_set=aml_leaderboard_df['model_id']\n",
    "mod_best=h2o.get_model(model_set[29])"
   ]
  },
  {
   "cell_type": "code",
   "execution_count": null,
   "metadata": {},
   "outputs": [],
   "source": [
    "mod_best.params"
   ]
  },
  {
   "cell_type": "markdown",
   "metadata": {},
   "source": [
    "## Model with runtime 1850 seconds"
   ]
  },
  {
   "cell_type": "code",
   "execution_count": null,
   "metadata": {},
   "outputs": [],
   "source": [
    "# Assume the following are passed by the user from the web interface\n",
    "\n",
    "'''\n",
    "Need a user id and project id?\n",
    "\n",
    "'''\n",
    "target='cnt' \n",
    "data_file='hour.csv'\n",
    "run_time=1850\n",
    "run_id='SOME_ID_20180617_221531' # Just some arbitrary ID\n",
    "server_path='Users/newzysharma/Desktop/Desktop/Machine_Learning/Project'\n",
    "classification=False\n",
    "scale=False\n",
    "max_models=None\n",
    "balance_y=False # balance_classes=balance_y\n",
    "balance_threshold=0.2\n",
    "project =\"HyperparameterDB_Project\"  # project_name = project"
   ]
  },
  {
   "cell_type": "code",
   "execution_count": null,
   "metadata": {},
   "outputs": [],
   "source": [
    "# Use local data file or download from some type of bucket\n",
    "import os\n",
    "\n",
    "data_path=os.path.join(server_path,data_file)\n",
    "data_path"
   ]
  },
  {
   "cell_type": "code",
   "execution_count": null,
   "metadata": {},
   "outputs": [],
   "source": [
    "# assign target and inputs for logistic regression\n",
    "y = target\n",
    "X = [name for name in hp.columns if name != y]\n",
    "print(y)\n",
    "print(X)"
   ]
  },
  {
   "cell_type": "code",
   "execution_count": null,
   "metadata": {},
   "outputs": [],
   "source": [
    "# impute missing values\n",
    "_ = hp[reals].impute(method='mean')\n",
    "_ = hp[ints].impute(method='median')\n",
    "\n",
    "if scale:\n",
    "    hp[reals] = hp[reals].scale()\n",
    "    hp[ints] = hp[ints].scale()"
   ]
  },
  {
   "cell_type": "code",
   "execution_count": null,
   "metadata": {},
   "outputs": [],
   "source": [
    "if classification:\n",
    "    class_percentage = y_balance=df[y].mean()[0]/(df[y].max()-df[y].min())\n",
    "    if class_percentage < balance_threshold:\n",
    "        balance_y=True\n",
    "        \n",
    "\n",
    "print(run_time)\n",
    "type(run_time)"
   ]
  },
  {
   "cell_type": "markdown",
   "metadata": {},
   "source": [
    "## Cross-validate rather than take a test training split with 1850 seconds"
   ]
  },
  {
   "cell_type": "code",
   "execution_count": null,
   "metadata": {},
   "outputs": [],
   "source": [
    "# automl\n",
    "# runs for run_time seconds then builds a stacked ensemble\n",
    "\n",
    "aml = H2OAutoML(max_runtime_secs=run_time,project_name = project) # init automl, run for 1850 seconds\n",
    "aml.train(x=X,  \n",
    "           y=y,\n",
    "           training_frame=hp)"
   ]
  },
  {
   "cell_type": "markdown",
   "metadata": {},
   "source": [
    "## Leaderboard"
   ]
  },
  {
   "cell_type": "code",
   "execution_count": null,
   "metadata": {},
   "outputs": [],
   "source": [
    "# view leaderboard\n",
    "lb = aml.leaderboard\n",
    "lb"
   ]
  },
  {
   "cell_type": "code",
   "execution_count": null,
   "metadata": {},
   "outputs": [],
   "source": [
    "aml.leader"
   ]
  },
  {
   "cell_type": "code",
   "execution_count": null,
   "metadata": {},
   "outputs": [],
   "source": [
    "aml.leader.algo"
   ]
  },
  {
   "cell_type": "markdown",
   "metadata": {},
   "source": [
    "## Ensemble Exploration"
   ]
  },
  {
   "cell_type": "code",
   "execution_count": null,
   "metadata": {},
   "outputs": [],
   "source": [
    "aml_leaderboard_df=aml.leaderboard.as_data_frame()\n",
    "aml_leaderboard_df"
   ]
  },
  {
   "cell_type": "markdown",
   "metadata": {},
   "source": [
    "## Getting Models"
   ]
  },
  {
   "cell_type": "markdown",
   "metadata": {},
   "source": [
    "### Parameters for GBM_2_AutoML_20190408_171007"
   ]
  },
  {
   "cell_type": "code",
   "execution_count": null,
   "metadata": {},
   "outputs": [],
   "source": [
    "aml_leaderboard_df=aml.leaderboard.as_data_frame()\n",
    "model_set=aml_leaderboard_df['model_id']\n",
    "mod_best=h2o.get_model(model_set[0])"
   ]
  },
  {
   "cell_type": "code",
   "execution_count": null,
   "metadata": {},
   "outputs": [],
   "source": [
    "mod_best.params"
   ]
  },
  {
   "cell_type": "markdown",
   "metadata": {},
   "source": [
    "### Parameters for XGBoost_1_AutoML_20190408_190707"
   ]
  },
  {
   "cell_type": "code",
   "execution_count": null,
   "metadata": {},
   "outputs": [],
   "source": [
    "aml_leaderboard_df=aml.leaderboard.as_data_frame()\n",
    "model_set=aml_leaderboard_df['model_id']\n",
    "mod_best=h2o.get_model(model_set[17])"
   ]
  },
  {
   "cell_type": "code",
   "execution_count": null,
   "metadata": {},
   "outputs": [],
   "source": [
    "mod_best.params"
   ]
  },
  {
   "cell_type": "markdown",
   "metadata": {},
   "source": [
    "### Parameters for StackedEnsemble_AllModels_AutoML_20190408_171007"
   ]
  },
  {
   "cell_type": "code",
   "execution_count": null,
   "metadata": {},
   "outputs": [],
   "source": [
    "aml_leaderboard_df=aml.leaderboard.as_data_frame()\n",
    "model_set=aml_leaderboard_df['model_id']\n",
    "mod_best=h2o.get_model(model_set[20])"
   ]
  },
  {
   "cell_type": "code",
   "execution_count": null,
   "metadata": {},
   "outputs": [],
   "source": [
    "mod_best.params"
   ]
  },
  {
   "cell_type": "code",
   "execution_count": null,
   "metadata": {},
   "outputs": [],
   "source": []
  },
  {
   "cell_type": "code",
   "execution_count": null,
   "metadata": {},
   "outputs": [],
   "source": []
  },
  {
   "cell_type": "markdown",
   "metadata": {},
   "source": [
    "# CONCLUSION\n",
    "\n",
    "<table style=\"width:50%\">\n",
    "  <tr>\n",
    "      <th>Runtime of model in Number of Seconds<br></th>\n",
    "    <th>Models Generated</th> \n",
    "  </tr>\n",
    "    \n",
    "   <tr>\n",
    "    <td>500</td>\n",
    "    <td>7</td> \n",
    "  </tr>\n",
    "    \n",
    "  <tr>\n",
    "    <td>1000</td>\n",
    "    <td>13</td> \n",
    "  </tr>\n",
    "  \n",
    "  <tr>\n",
    "    <td>1350</td>\n",
    "    <td>33</td> \n",
    "  </tr>\n",
    "  \n",
    "   <tr>\n",
    "    <td>1500</td>\n",
    "    <td>56</td> \n",
    "  </tr>\n",
    "  \n",
    "   <tr>\n",
    "    <td>1850</td>\n",
    "    <td>84<td> \n",
    "  </tr>\n",
    "    \n",
    "</table>"
   ]
  },
  {
   "cell_type": "markdown",
   "metadata": {},
   "source": [
    "# CONTRIBUTION"
   ]
  },
  {
   "cell_type": "markdown",
   "metadata": {},
   "source": [
    "# CITATIONS\n",
    "\n",
    "https://github.com/nikbearbrown/CSYE_7245/blob/master/H2O/H2O_automl_model.ipynb"
   ]
  },
  {
   "cell_type": "markdown",
   "metadata": {},
   "source": [
    "# LICENSE\n",
    "\n",
    "\n",
    "Copyright 2019 Newzy Sharma \n",
    "\n",
    "Permission is hereby granted, free of charge, to any person obtaining a copy of this software and associated \n",
    "documentation files (the \"Software\"), to deal in the Software without restriction, including without limitation the \n",
    "rights to use, copy, modify, merge, publish, distribute, sublicense, and/or sell copies of the Software, and to permit\n",
    "persons to whom the Software is furnished to do so, subject to the following conditions:\n",
    "\n",
    "The above copyright notice and this permission notice shall be included in all copies or substantial portions of the \n",
    "Software.\n",
    "\n",
    "THE SOFTWARE IS PROVIDED \"AS IS\", WITHOUT WARRANTY OF ANY KIND, EXPRESS OR IMPLIED, INCLUDING BUT NOT LIMITED TO THE \n",
    "WARRANTIES OF MERCHANTABILITY, FITNESS FOR A PARTICULAR PURPOSE AND NONINFRINGEMENT. IN NO EVENT SHALL THE AUTHORS OR \n",
    "COPYRIGHT HOLDERS BE LIABLE FOR ANY CLAIM, DAMAGES OR OTHER LIABILITY, WHETHER IN AN ACTION OF CONTRACT, TORT OR \n",
    "OTHERWISE, ARISING FROM, OUT OF OR IN CONNECTION WITH THE SOFTWARE OR THE USE OR OTHER DEALINGS IN THE SOFTWARE."
   ]
  },
  {
   "cell_type": "code",
   "execution_count": null,
   "metadata": {},
   "outputs": [],
   "source": []
  }
 ],
 "metadata": {
  "kernelspec": {
   "display_name": "Python 3",
   "language": "python",
   "name": "python3"
  },
  "language_info": {
   "codemirror_mode": {
    "name": "ipython",
    "version": 3
   },
   "file_extension": ".py",
   "mimetype": "text/x-python",
   "name": "python",
   "nbconvert_exporter": "python",
   "pygments_lexer": "ipython3",
   "version": "3.7.1"
  }
 },
 "nbformat": 4,
 "nbformat_minor": 2
}
